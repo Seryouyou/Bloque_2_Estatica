{
 "cells": [
  {
   "cell_type": "code",
   "execution_count": 1,
   "id": "ad6bf290",
   "metadata": {},
   "outputs": [
    {
     "data": {
      "text/html": [
       "\n",
       "</style>\n",
       "<script>\n",
       "code_show=true; \n",
       "function code_toggle() {\n",
       " if (code_show){\n",
       " $('div.input').hide();\n",
       " } else {\n",
       " $('div.input').show();\n",
       " }\n",
       " code_show = !code_show\n",
       "} \n",
       "$( document ).ready(code_toggle);\n",
       "</script>\n",
       "<a href=\"javascript:code_toggle()\">Mostrar/ocultar celdas de código</a>."
      ],
      "text/plain": [
       "<IPython.core.display.HTML object>"
      ]
     },
     "execution_count": 1,
     "metadata": {},
     "output_type": "execute_result"
    }
   ],
   "source": [
    "from IPython.display import HTML\n",
    "HTML('''\n",
    "</style>\n",
    "<script>\n",
    "code_show=true; \n",
    "function code_toggle() {\n",
    " if (code_show){\n",
    " $('div.input').hide();\n",
    " } else {\n",
    " $('div.input').show();\n",
    " }\n",
    " code_show = !code_show\n",
    "} \n",
    "$( document ).ready(code_toggle);\n",
    "</script>\n",
    "<a href=\"javascript:code_toggle()\">Mostrar/ocultar celdas de código</a>.''')"
   ]
  },
  {
   "cell_type": "markdown",
   "id": "a9f2f8de",
   "metadata": {},
   "source": [
    "<div class=\"texto\" id=\"enunciado\">\n",
    "<p>2.65. Se quiere extraer del fondo del mar un cañón de un bergantín inglés hundido por una fragata española en el siglo XVII. El cañón está a una profundidad de $H=60\\ m$, tiene una masa de $m_{_{cañón}}=650\\ kg$, y un volumen de $\\forall_{_{cañón}}=0,13\\ m^{^3}$. Para ello se sujeta a un globo que se llena de aire comprimido que procede de una botella de buceo. Se supone que el globo se encuentra a la misma profundidad que el cañón.</p>\n",
    "</div>\n"
   ]
  },
  {
   "cell_type": "markdown",
   "id": "45d88a1e",
   "metadata": {},
   "source": [
    "<div class=\"texto\">\n",
    "    <ol class=\"enunciado\">    \n",
    "        <li> Calcular el volumen mínimo de aire (1) necesario en el globo para poder extraer el cañón.</li>\n",
    "        <li> Si la presión del aire dentro del globo es la misma que la del agua a la profundidad donde está el cañón, calcular la masa de aire necesaria en el globo para ocupar el volumen mínimo necesario $( T = 30\\ ºC )$.</li>\n",
    "        <li> Si el globo se llena con aire que procede de una botella de buceo de $20\\ l$ de capacidad con una presión absoluta inicial de $200\\ bar$, calcular la presión absoluta final de la botella, después del llenado del globo $(bar)$.</li>\n",
    "     </ol>\n",
    "</div> "
   ]
  },
  {
   "cell_type": "markdown",
   "id": "ad512730",
   "metadata": {},
   "source": [
    "<div class=\"texto\">\n",
    "<p><strong>DATOS:</strong></p>\n",
    "<p>Densidad del agua de mar $= 1025\\ \\frac{kg}{m^{^3}}$ ; Temperatura del aire $=30\\ ºC$ (proceso isotérmico) ; Presión atmosférica $=1\\ bar$ ; $R_{_{aire}}=287 \\frac{N\\cdot m}{kg\\cdot K}$</p>\n",
    "</div> "
   ]
  },
  {
   "cell_type": "markdown",
   "id": "139fa23a",
   "metadata": {},
   "source": [
    "<div class=\"antesDe\">\n",
    "<ul>\n",
    "    <li><strong>CONCEPTOS PREVIOS</strong></li>\n",
    "    <ul>\n",
    "        <li>CONSECUENCIAS DE LA ECUACIÓN FUNDAMENTAL DE LA HIDROSTÁTICA.</li>\n",
    "        <ul>\n",
    "            <li><i>Las superficies de presión constante (superficies isobáricas) son <strong>horizontales.</strong></i></li>\n",
    "            <li><i><strong>La variación de presión en el interior de un líquido en reposo depende de la diferencia de cota</strong>. Al trabajar con líquidos <strong>suele ser conveniente tomar</strong> el origen de coordenadas en <strong>la superficie libre</strong> (nivel de referencia) y <strong>medir las distancias desde la superficie libre hacia abajo</strong>.</i></li>\n",
    "            <li>ESCALAS DE PRESIÓN. PRESIÓN ABSOLUTA Y PRESIÓN MANOMÉTRICA.</li>\n",
    "        <ul> \n",
    "            <li><p class=\"formulas\">$P_{_{abs}}= P_{_{atm}}+ P_{_{man}}$<p/></li>\n",
    "            <li><i>La diferencia entre las dos escalas es el origen que se toma como referencia para medir la presión. Para la <strong>presión absoluta</strong> el origen es el <strong>VACÍO</strong>. Para la <strong>presión manométrica</strong> el origen es <strong>la presión de la atmósfera local</strong>.</i></li>\n",
    "            <li><i><strong>NO SE PUEDEN MEZCLAR AMBAS ESCALAS</strong></i></li>\n",
    "         </ul>\n",
    "        </ul>              \n",
    "            <li>FENÓMENO DE LA SUBPRESIÓN.</li>\n",
    "        <ul>\n",
    "        <li><i><p>Si un cuerpo es más denso que el líquido, éste se apoya sobre el fondo. <strong>Si el cuerpo se apoya sobre el fondo por varios puntos</strong>, sin extensión geométrica quedando interpuesta entre ambos una lámina líquida. Entonces <strong>sí es aplicable el Principio de Arquímedes</strong>.</p></i></li>\n",
    "    </ul>\n",
    "        <li>PRINCIPIO DE ARQUÍMEDES.</li>\n",
    "        <ul> \n",
    "            <li><i><strong>“Todo cuerpo cerrado, parcial o totalmente sumergido en un líquido experimenta un empuje ascensional igual al peso del volumen del líquido que desaloja”</strong>. El centro de acción de este empuje ascensional se encuentra en el centro de gravedad del volumen desalojado. $E=\\gamma \\cdot\\forall$, siendo $\\forall$ el volumen del sólido.</i></li>\n",
    "    </ul>     \n",
    "</ul>\n",
    "  <ul>\n",
    "    <li><strong>FALLO TÍPICO $\\rightarrow$ NO CONSIDERAR LA PRESIÓN ATMOSFÉRICA.</strong></li>\n",
    "    <ul><li>Cuando se trabaja con la ley de gases ideales, las medidas de presión son siempre <strong>absolutas</strong>.</li></ul>\n",
    "      </ul>\n",
    "<div>\n"
   ]
  },
  {
   "cell_type": "markdown",
   "id": "bc58a982",
   "metadata": {},
   "source": [
    "<h2>a. Calcular el volumen mínimo de aire $(l)$ necesario en el globo para poder extraer el cañón.</h2>"
   ]
  },
  {
   "cell_type": "markdown",
   "id": "2e5a2981",
   "metadata": {},
   "source": [
    "<div class=\"texto\"><p>Primero expongamos los datos gráficamente.</p> </div>\n",
    "<div class=\"split\">\n",
    "    <div class=\"izq\"><img src=\"../MEDIA/2.65.png\"></div>\n",
    "    <div class=\"dcha\">\n",
    "        <div class=\"formulas\">\n",
    "        $$ \n",
    "        H=60\\ m\n",
    "        $$\n",
    "        </div>\n",
    "        <div class=\"formulas\">\n",
    "        $$ \n",
    "        \\forall_{_{cañón}}=0.13m^{^3}\n",
    "        $$\n",
    "        </div>\n",
    "        <div class=\"formulas\">\n",
    "        $$ \n",
    "        m_{_{cañón}}=650\\ kg\n",
    "        $$\n",
    "        </div>\n",
    "        <div class=\"formulas\">\n",
    "        $$ \n",
    "        \\rho_{_1}=1025\\ \\frac{kg}{m^{^3}}\n",
    "        $$\n",
    "        </div>\n",
    "        <div class=\"formulas\">\n",
    "        $$ \n",
    "        T_{_{aire}}=30\\ ºC\n",
    "        $$\n",
    "        </div>\n",
    "        <div class=\"formulas\">\n",
    "        $$ \n",
    "        P_{_{atm}}=1\\ bar\n",
    "        $$\n",
    "        </div>\n",
    "        <div class=\"formulas\">\n",
    "        $$ \n",
    "        R_{_{aire}}=287 \\frac{N\\cdot m}{kg\\cdot K}\n",
    "        $$\n",
    "        </div>\n",
    "        <div class=\"formulas\">\n",
    "        $$ \n",
    "        \\forall_{_{globo}}=?\n",
    "        $$\n",
    "        </div> \n",
    "    </div>\n",
    "</div>"
   ]
  },
  {
   "cell_type": "markdown",
   "id": "6e5b24c0",
   "metadata": {},
   "source": [
    "<div class=\"texto\"><p>Ahora observemos a que fuerzas está sometido el cañón en condiciones iniciales.</p> </div>\n",
    "<div class=\"split\">\n",
    "    <div class=\"izq\"><img src=\"../MEDIA/2.65.1.png\"style=\"width:90%;\"></div>\n",
    "    <div class=\"dcha\">\n",
    "        <div class=\"texto\"><p>Donde:</p> </div>\n",
    "        <div class=\"formulas\">\n",
    "        $$ \n",
    "        W=m_{_{cañón}}\\cdot g\n",
    "        $$\n",
    "        </div>\n",
    "        <div class=\"texto\"><p>Por el principio de Arquímedes sabemos que el cañón estará sometido a un empuje ascensional igual al peso del volumen del líquido que desaloja. En este caso:</p> </div>\n",
    "        <div class=\"formulas\">\n",
    "        $$ \n",
    "        F_{_{flotación}}=\\forall_{_{cañón}}\\cdot \\gamma_{_{1}}=\\forall_{_{cañón}}\\cdot \\rho_{_{1}}\\cdot g\n",
    "        $$\n",
    "        </div>\n",
    "    </div>\n",
    "</div>"
   ]
  },
  {
   "cell_type": "markdown",
   "id": "88f28bd4",
   "metadata": {},
   "source": [
    "<div class=\"texto\"><p>Estudiemos el valor numérico de este balance para conocer si en condiciones iniciales la fuerza de flotación es suficiente para extraer el cañón.</p>\n",
    "</div>"
   ]
  },
  {
   "cell_type": "markdown",
   "id": "c6f10c6a",
   "metadata": {},
   "source": [
    "<div class=\"formulas\">\n",
    "$$\n",
    "\\sum_{0}^{\\infty}F=0 \n",
    "$$\n",
    "</div>\n",
    "<div class=\"formulas\">\n",
    "$$ \n",
    "F_{_{flotación}}-W=0\n",
    "$$\n",
    "</div>\n",
    "<div class=\"formulas\">\n",
    "$$ \n",
    "\\forall_{_{cañón}}\\cdot \\rho_{_{1}}\\cdot g-m_{_{cañón}}\\cdot g=0\n",
    "$$\n",
    "</div>\n",
    "<div class=\"texto\"><p>Comprobamos unidades.</p>\n",
    "</div>\n",
    "<div class=\"formulas\">\n",
    "$$ \n",
    "\\forall_{_{cañón}}\\ \\left(m^{^3}\\right)\\cdot \\rho_{_{1}}\\ \\left(\\frac{kg}{m^{^3}}\\right)\\cdot g\\ \\left(\\frac{m}{s^{^2}}\\right)=m_{_{cañón}}\\ \\left(kg\\right)\\cdot g\\ \\left(\\frac{m}{s^{^2}}\\right)\n",
    "$$\n",
    "</div>\n",
    "<div class=\"formulas\">\n",
    "$$ \n",
    "\\left(\\forall_{_{cañón}}\\cdot \\rho_{_{1}}\\cdot g\\right)\\ \\left(\\frac{kg\\cdot m}{s^{^2}} =N\\right)=\\left(m_{_{cañón}}\\cdot g\\right)\\ \\left(\\frac{kg\\cdot m}{s^{^2}} =N\\right)\n",
    "$$\n",
    "</div>"
   ]
  },
  {
   "cell_type": "markdown",
   "id": "8056f039",
   "metadata": {},
   "source": [
    "<div class=\"texto\"><p>Introducimos datos:</p>\n",
    "</div>"
   ]
  },
  {
   "cell_type": "code",
   "execution_count": 47,
   "id": "36f36728",
   "metadata": {},
   "outputs": [
    {
     "data": {
      "text/html": [
       "\n",
       "<style>\n",
       "    .widget-label { width: 30ex !important;text-align:left !important; }    \n",
       "</style>"
      ],
      "text/plain": [
       "<IPython.core.display.HTML object>"
      ]
     },
     "metadata": {},
     "output_type": "display_data"
    },
    {
     "data": {
      "application/vnd.jupyter.widget-view+json": {
       "model_id": "0ee41648540e415fb2f7597852958b34",
       "version_major": 2,
       "version_minor": 0
      },
      "text/plain": [
       "interactive(children=(Text(value='0.13', description='V_cañón'), Text(value='650', description='masa_cañón'), …"
      ]
     },
     "metadata": {},
     "output_type": "display_data"
    }
   ],
   "source": [
    "from __future__ import print_function\n",
    "from termcolor import colored\n",
    "from ipywidgets import interact, interactive, fixed, interact_manual\n",
    "from IPython.display import HTML, display\n",
    "import ipywidgets as widgets\n",
    "import math\n",
    "\n",
    "\n",
    "def f(V_cañón, masa_cañón, rho_1):\n",
    "    try:\n",
    "        fV_cañón=float(V_cañón)\n",
    "        fmasa_cañón=float(masa_cañón)\n",
    "        frho_1=float(rho_1)\n",
    "        F_flotacion=fV_cañón*frho_1*9.8\n",
    "        peso=fmasa_cañón*9.8\n",
    "        \n",
    "    except:\n",
    "        print(colored(\"Define un valor válido para las variables\",\"red\"))\n",
    "    else:\n",
    "        print(\"Pulsa calcular para actualizar los campos de texto\")\n",
    "        return [F_flotacion,peso]\n",
    "\n",
    "display(HTML('''\n",
    "<style>\n",
    "    .widget-label { width: 30ex !important;text-align:left !important; }    \n",
    "</style>'''))\n",
    "\n",
    "f2_65 = interactive(f,V_cañón=\"0.13\",masa_cañón=\"650\",rho_1=\"1025\")\n",
    "display(f2_65)\n",
    "\n",
    "\n",
    "\n",
    "f2_65.children[0].description = '$V_{_{cañon}}$ ($m^{^3}$)'\n",
    "f2_65.children[1].description = '$m_{_{cañon}}$ (kg)'\n",
    "f2_65.children[2].description = '$𝜌_{_1}$($kg/m^{^3}$)'\n",
    "\n",
    "\n",
    "\n",
    "\n",
    "\n"
   ]
  },
  {
   "cell_type": "code",
   "execution_count": 3,
   "id": "8f71af45",
   "metadata": {},
   "outputs": [
    {
     "data": {
      "text/html": [
       "\n",
       "<button onclick=\"ejecutar(13,27)\">Actualizar campos de texto</button>\n",
       "<button onclick=\"ejecutar(11,12)\">Abrir/reiniciar cuadro de variables</button>\n",
       "<script>function ejecutar(desde, hasta){\n",
       "    for(i = desde; i < hasta; i++)\n",
       "Jupyter.notebook.execute_cells([i])\n",
       "}</script>"
      ],
      "text/plain": [
       "<IPython.core.display.HTML object>"
      ]
     },
     "execution_count": 3,
     "metadata": {},
     "output_type": "execute_result"
    }
   ],
   "source": [
    "from IPython.display import HTML\n",
    "HTML('''\n",
    "<button onclick=\"ejecutar(13,27)\">Actualizar campos de texto</button>\n",
    "<button onclick=\"ejecutar(11,12)\">Abrir/reiniciar cuadro de variables</button>\n",
    "<script>function ejecutar(desde, hasta){\n",
    "    for(i = desde; i < hasta; i++)\n",
    "Jupyter.notebook.execute_cells([i])\n",
    "}</script>''')"
   ]
  },
  {
   "cell_type": "code",
   "execution_count": 48,
   "id": "c8ad712b",
   "metadata": {},
   "outputs": [],
   "source": [
    "from IPython.display import Markdown as md\n",
    "try:\n",
    "    V_cañón=float(f2_65.children[0].value)\n",
    "    masa_cañón=float(f2_65.children[1].value)\n",
    "    rho_1=float(f2_65.children[2].value)\n",
    "    F_flotacion=float(f2_65.result[0])\n",
    "    peso=float(f2_65.result[1])\n",
    "except:\n",
    "    print(colored(\"Los valores introducidos no son validos\",\"red\"))\n",
    "else:\n",
    "    if (F_flotacion>=peso):\n",
    "        igual=\"\\geq\"\n",
    "        texto1=\"Las\\ fuerzas\\ de\\ flotación\\ son\\ suficientes\\ para\\ extraer\\ el\\ cañón.\"\n",
    "        texto2=\"\"\n",
    "        F_flotacion_globo=0\n",
    "        V_globo_m3=0\n",
    "        V_globo_l=0\n",
    "    else:\n",
    "        igual=\"<\"\n",
    "        texto1=\"Las\\ fuerzas\\ de\\ flotación\\ no\\ son\\ suficientes\\ para\\ extraer\\ el\\ cañón.\"\n",
    "        texto2=\"Tendremos\\ que\\ hallar\\ el\\ volumen\\ de\\ aire\\ necesario\\ que\\ incremente\\ la\\ fuerza\\ de\\ flotación\\ de\\ modo\\ que\\ esta\\ igualdad\\ sea\\ cierta.\"\n",
    "        F_flotacion_globo=peso-F_flotacion\n",
    "        V_globo_m3=F_flotacion_globo/(rho_1*9.8)\n",
    "        V_globo_l= V_globo_m3*1000"
   ]
  },
  {
   "cell_type": "markdown",
   "id": "82658115",
   "metadata": {},
   "source": [
    "<div class=\"texto\">\n",
    "    <p>Introducimos los datos:</p>\n",
    "</div>"
   ]
  },
  {
   "cell_type": "markdown",
   "id": "5042cc69",
   "metadata": {},
   "source": [
    "<div class=\"formulas\">\n",
    "$$ \n",
    "\\forall_{_{cañón}}\\cdot \\rho_{_{1}}\\cdot g=m_{_{cañón}}\\cdot g\n",
    "$$\n",
    "</div>"
   ]
  },
  {
   "cell_type": "code",
   "execution_count": 49,
   "id": "9544c136",
   "metadata": {},
   "outputs": [
    {
     "data": {
      "text/markdown": [
       "$$    F_{_{flotación}}=0.130\\cdot 1025.000\\cdot 9.8=1305.850\\ N$$  $$W=650.000\\cdot 9.8=6370.000\\ N$$  "
      ],
      "text/plain": [
       "<IPython.core.display.Markdown object>"
      ]
     },
     "execution_count": 49,
     "metadata": {},
     "output_type": "execute_result"
    }
   ],
   "source": [
    "from IPython.display import Markdown as md\n",
    "md('$$    F_{_{flotación}}=%.3f\\cdot %.3f\\cdot 9.8=%.3f\\ N$$  $$W=%.3f\\cdot 9.8=%.3f\\ N$$  '%\n",
    "   (V_cañón, rho_1, F_flotacion, masa_cañón, peso, ))"
   ]
  },
  {
   "cell_type": "code",
   "execution_count": 50,
   "id": "a4aaac14",
   "metadata": {},
   "outputs": [
    {
     "data": {
      "text/markdown": [
       "$$ F_{_{flotación}}< W$$  $$Las\\ fuerzas\\ de\\ flotación\\ no\\ son\\ suficientes\\ para\\ extraer\\ el\\ cañón.$$  $$Fuerza\\ necesaria\\ a\\ aportar=5064.15 N$$"
      ],
      "text/plain": [
       "<IPython.core.display.Markdown object>"
      ]
     },
     "execution_count": 50,
     "metadata": {},
     "output_type": "execute_result"
    }
   ],
   "source": [
    "from IPython.display import Markdown as md\n",
    "md('$$ F_{_{flotación}}%s W$$  $$%s$$  $$Fuerza\\ necesaria\\ a\\ aportar=%.2f N$$'%\n",
    "   (igual,texto1,F_flotacion_globo))"
   ]
  },
  {
   "cell_type": "code",
   "execution_count": 51,
   "id": "c113b866",
   "metadata": {},
   "outputs": [
    {
     "data": {
      "text/markdown": [
       "$$Tendremos\\ que\\ hallar\\ el\\ volumen\\ de\\ aire\\ necesario\\ que\\ incremente\\ la\\ fuerza\\ de\\ flotación\\ de\\ modo\\ que\\ esta\\ igualdad\\ sea\\ cierta.$$"
      ],
      "text/plain": [
       "<IPython.core.display.Markdown object>"
      ]
     },
     "execution_count": 51,
     "metadata": {},
     "output_type": "execute_result"
    }
   ],
   "source": [
    "from IPython.display import Markdown as md\n",
    "md('$$%s$$'%\n",
    "   (texto2))"
   ]
  },
  {
   "cell_type": "markdown",
   "id": "dc26b163",
   "metadata": {},
   "source": [
    "<div class=\"texto\">\n",
    "    <p>Ahora: <p>\n",
    "</div>\n",
    "<div class=\"formulas\">\n",
    "$$ \n",
    "F_{_{flotación}}-W=0\n",
    "$$\n",
    "</div>\n",
    "<div class=\"texto\">\n",
    "    <p>Donde: <p>\n",
    "</div>\n",
    "<div class=\"formulas\">\n",
    "$$ \n",
    "F_{_{flotación}}=\\left(\\forall_{_{cañón}}+\\forall_{_{globo}}\\right)\\cdot \\rho_{_{1}}\\cdot g\n",
    "$$\n",
    "</div>\n",
    "<div class=\"texto\">\n",
    "    <p>Luego: <p>\n",
    "</div>\n",
    "<div class=\"formulas\">\n",
    "$$ \n",
    "\\left(\\forall_{_{cañón}}+\\forall_{_{globo}}\\right)\\cdot \\rho_{_{1}}\\cdot g=m_{_{cañón}}\\cdot g\n",
    "$$\n",
    "</div>\n",
    "<div class=\"formulas\">\n",
    "$$ \n",
    "\\forall_{_{cañón}}+\\forall_{_{globo}} =\\frac{m_{_{cañón}}}{\\rho_{_{1}}}\n",
    "$$\n",
    "</div>\n",
    "<div class=\"formulas\">\n",
    "$$ \n",
    "\\forall_{_{globo}} =\\frac{m_{_{cañón}}}{\\rho_{_{1}}}-\\forall_{_{cañón}}\n",
    "$$\n",
    "</div>"
   ]
  },
  {
   "cell_type": "code",
   "execution_count": 52,
   "id": "9d7fd4f7",
   "metadata": {},
   "outputs": [
    {
     "data": {
      "text/markdown": [
       "$$ V_{_{globo}} =(650.0/1025.0)-0.1= 0.50415\\ m^{^3}$$  $$0.50415m^{^3}\\cdot 10^{^{3}}(l/m^{^3})=504.15\\ l  $$"
      ],
      "text/plain": [
       "<IPython.core.display.Markdown object>"
      ]
     },
     "execution_count": 52,
     "metadata": {},
     "output_type": "execute_result"
    }
   ],
   "source": [
    "from IPython.display import Markdown as md\n",
    "md('$$ V_{_{globo}} =(%.1f/%.1f)-%.1f= %.5f\\ m^{^3}$$  $$%.5fm^{^3}\\cdot 10^{^{3}}(l/m^{^3})=%.2f\\ l  $$'%\n",
    "   (masa_cañón, rho_1, V_cañón, V_globo_m3, V_globo_m3, V_globo_l))"
   ]
  },
  {
   "cell_type": "code",
   "execution_count": 53,
   "id": "3b88f570",
   "metadata": {},
   "outputs": [
    {
     "data": {
      "text/html": [
       "\n",
       "<a href=\"javascript:code_toggle()\">Mostrar/ocultar celdas de código</a>."
      ],
      "text/plain": [
       "<IPython.core.display.HTML object>"
      ]
     },
     "execution_count": 53,
     "metadata": {},
     "output_type": "execute_result"
    }
   ],
   "source": [
    "from IPython.display import HTML\n",
    "HTML('''\n",
    "<a href=\"javascript:code_toggle()\">Mostrar/ocultar celdas de código</a>.''')"
   ]
  },
  {
   "cell_type": "markdown",
   "id": "3db95d7a",
   "metadata": {},
   "source": [
    "<h2>b. Si la presión del aire dentro del globo es la misma que la del agua a la profundidad donde está el cañón, calcular la masa de aire necesaria en el globo para ocupar el volumen mínimo necesario $( T = 30\\ ºC )$.</h2>"
   ]
  },
  {
   "cell_type": "markdown",
   "id": "e4ce5fb9",
   "metadata": {},
   "source": [
    "<div class=\"formulas\">\n",
    "$$\n",
    "P\\left(Pa=\\frac{N}{m^{^2}}\\right)\\ =\\rho\\ \\left(\\frac{kg}{m^{^3}}\\right)\\cdot R\\ \\left(\\frac{N\\cdot m}{kg\\cdot K}\\right)\\cdot T\\ \\left(K\\right)\n",
    "$$\n",
    "</div>"
   ]
  },
  {
   "cell_type": "markdown",
   "id": "66382d0d",
   "metadata": {},
   "source": [
    "<div class=\"texto\"><p>Para la ecuación de los gases ideales necesitamos presiones absolutas.</p> </div>\n",
    "<div class=\"split\">\n",
    "    <div class=\"izq\"><img src=\"../MEDIA/2.65.1.png\"style=\"width:90%;\"></div>\n",
    "    <div class=\"dcha\"><img src=\"../MEDIA/2.65.3.png\"style=\"width:90%;\"></div>\n",
    "</div>"
   ]
  },
  {
   "cell_type": "markdown",
   "id": "b92eb1e2",
   "metadata": {},
   "source": [
    "<div class=\"texto\">\n",
    "    <p>Luego: <p>\n",
    "</div>\n",
    "<div class=\"formulas\">\n",
    "$$ \n",
    "P_{_H}^{^{abs}}=P_{_H}+P_{_{atm}}\n",
    "$$\n",
    "</div>\n",
    "<div class=\"texto\">\n",
    "    <p>Siendo: <p>\n",
    "</div>\n",
    "<div class=\"formulas\">\n",
    "$$ \n",
    "\\rho=\\frac{m}{\\forall}\n",
    "$$\n",
    "</div>\n",
    "<div class=\"texto\">\n",
    "    <p>Nos queda: <p>\n",
    "</div>\n",
    "<div class=\"formulas\">\n",
    "$$\n",
    "(P_{_H}+P_{_{atm}})=\\frac{m_{_{aire}}}{\\forall_{_{aire}}}\\cdot R_{_{aire}}\\cdot T\n",
    "$$\n",
    "</div>\n",
    "<div class=\"texto\">\n",
    "    <p>Despejamos la masa: <p>\n",
    "</div>\n",
    "<div class=\"formulas\">\n",
    "$$\n",
    "m_{_{aire}}=\\frac{(P_{_H}+P_{_{atm}})\\cdot \\forall_{_{aire}}}{R_{_{aire}}\\cdot T}\n",
    "$$\n",
    "</div>\n",
    "<div class=\"texto\">\n",
    "    <p>Realizamos el cambio de variables.<p>\n",
    "</div>\n",
    "<div class=\"formulas\">\n",
    "$$\n",
    "m_{_{aire}}\\ (kg)=\\frac{(P_{_H}\\ (mcl)+P_{_{atm}}\\ (bar))\\cdot \\forall_{_{aire}}\\ (m^{^3})}{R_{_{aire}}\\ \\left(\\frac{N\\cdot m}{kg\\cdot K}\\right)\\cdot T\\ (ºC)}\n",
    "$$\n",
    "</div>"
   ]
  },
  {
   "cell_type": "markdown",
   "id": "eb0f8e3e",
   "metadata": {},
   "source": [
    "<div class=\"formulas\">\n",
    "$$\n",
    "m_{_{aire}}\\ (kg)=\\frac{\\left[\\left(P_{_H}\\ \\cdot\\frac{\\rho{_{_1}}}{\\rho_{_{agua}}}\\right)(mca)+P_{_{atm}}\\ (bar)\\cdot\\frac{10^{^5}\\ Pa}{1\\ bar}\\right]\\cdot \\forall_{_{aire}}\\ (m^{^3})}{R_{_{aire}}\\ \\left(\\frac{N\\cdot m}{kg\\cdot K}\\right)\\cdot (T+273)\\ (K)}\n",
    "$$\n",
    "</div>"
   ]
  },
  {
   "cell_type": "markdown",
   "id": "d97a5c2d",
   "metadata": {},
   "source": [
    "<div class=\"formulas\">\n",
    "$$\n",
    "m_{_{aire}}\\ (kg)=\\frac{\\left[\\left(P_{_H}\\ \\cdot\\frac{\\rho_{_{1}}}{\\rho_{_{agua}}}\\right)(mca)\\cdot\\gamma_{_{agua}}\\frac{Pa}{mca}\\cdot +P_{_{atm}}\\cdot10^{^5}\\ (Pa)\\right]\\cdot \\forall_{_{aire}}\\ (m^{^3})}{\\left[R_{_{aire}}\\cdot (T+273)\\right] \\ \\left(\\frac{N\\cdot m}{kg }\\right)}\n",
    "$$\n",
    "</div>"
   ]
  },
  {
   "cell_type": "markdown",
   "id": "3a744cb2",
   "metadata": {},
   "source": [
    "<div class=\"formulas\">\n",
    "$$\n",
    "m_{_{aire}}\\ (kg)=\\frac{\\left(P_{_H}\\ \\cdot\\frac{\\rho_{_{1}}}{\\rho_{_{agua}}}\\cdot\\gamma_{_{agua}}+P_{_{atm}}\\cdot10^{^5}\\right)\\ \\left(Pa=\\frac{N}{m^{^2}}\\right)\\cdot \\forall_{_{aire}}\\ (m^{^3})}{\\left[R_{_{aire}}\\cdot (T+273)\\right] \\ \\left(\\frac{N\\cdot m}{kg }\\right)}\n",
    "$$\n",
    "</div>"
   ]
  },
  {
   "cell_type": "markdown",
   "id": "2c911da7",
   "metadata": {},
   "source": [
    "<div class=\"formulas\">\n",
    "$$\n",
    "m_{_{aire}}\\ (kg)=\\frac{\\left(P_{_H}\\ \\cdot\\frac{\\rho_{_{1}}}{\\rho_{_{agua}}}\\cdot\\gamma_{_{agua}} +P_{_{atm}}\\cdot10^{^5}\\right)\\cdot \\forall_{_{aire}}}\n",
    "{R_{_{aire}}\\cdot (T+273)}\\ \\left(\\frac{N\\cdot m}{\\frac{N\\cdot m}{kg} }=kg\\  \\checkmark \\right)\n",
    "$$\n",
    "</div>"
   ]
  },
  {
   "cell_type": "code",
   "execution_count": 61,
   "id": "ff3662e4",
   "metadata": {},
   "outputs": [
    {
     "data": {
      "application/vnd.jupyter.widget-view+json": {
       "model_id": "bcbb6738a7584ab4a68ed8f2a5151688",
       "version_major": 2,
       "version_minor": 0
      },
      "text/plain": [
       "interactive(children=(Text(value='60', description='P_H'), Text(value='1', description='P_atm'), Text(value='2…"
      ]
     },
     "metadata": {},
     "output_type": "display_data"
    }
   ],
   "source": [
    "from __future__ import print_function\n",
    "from termcolor import colored\n",
    "from ipywidgets import interact, interactive, fixed, interact_manual\n",
    "from IPython.display import HTML, display\n",
    "import ipywidgets as widgets\n",
    "import math\n",
    "\n",
    "def f(P_H,P_atm,R_aire,T_aire):\n",
    "    try:\n",
    "        fP_H=float(P_H)\n",
    "        fP_atm=float(P_atm)\n",
    "        fR_aire=float(R_aire)\n",
    "        fT_aire=float(T_aire)       \n",
    "    except:\n",
    "        print(colored(\"Define un valor válido para las variables\",\"red\"))\n",
    "    else:\n",
    "        print(\"Pulsa calcular para actualizar los campos de texto\")\n",
    "        return (fP_H, fP_atm, fR_aire, fT_aire)\n",
    "\n",
    "\n",
    "f2_65b = interactive(f,P_H=\"60\",P_atm=\"1\",R_aire=\"287\",T_aire=\"30\")\n",
    "display(f2_65b)\n",
    "\n",
    "f2_65b.children[0].description = '$P_{_{H}}$ (mcl)'\n",
    "f2_65b.children[1].description = '$P_{_{atm}}$ (bar)'\n",
    "f2_65b.children[2].description = '$R_{_{Aire}}$ $((N\\cdot m)/(kg\\cdot K))$'\n",
    "f2_65b.children[3].description = '$T_{_{Aire}}$(ºC)'\n"
   ]
  },
  {
   "cell_type": "code",
   "execution_count": 11,
   "id": "2d7f610f",
   "metadata": {},
   "outputs": [
    {
     "data": {
      "text/html": [
       "\n",
       "<button onclick=\"ejecutar(32,35)\">Actualizar campos de texto</button>\n",
       "<button onclick=\"ejecutar(30,31)\">Abrir/reiniciar cuadro de variables</button>\n",
       "<script>function ejecutar(desde, hasta){\n",
       "    for(i = desde; i < hasta; i++)\n",
       "Jupyter.notebook.execute_cells([i])\n",
       "}</script>"
      ],
      "text/plain": [
       "<IPython.core.display.HTML object>"
      ]
     },
     "execution_count": 11,
     "metadata": {},
     "output_type": "execute_result"
    }
   ],
   "source": [
    "from IPython.display import HTML\n",
    "HTML('''\n",
    "<button onclick=\"ejecutar(32,35)\">Actualizar campos de texto</button>\n",
    "<button onclick=\"ejecutar(30,31)\">Abrir/reiniciar cuadro de variables</button>\n",
    "<script>function ejecutar(desde, hasta){\n",
    "    for(i = desde; i < hasta; i++)\n",
    "Jupyter.notebook.execute_cells([i])\n",
    "}</script>''')"
   ]
  },
  {
   "cell_type": "code",
   "execution_count": 62,
   "id": "c3277ff5",
   "metadata": {},
   "outputs": [],
   "source": [
    "from IPython.display import Markdown as md\n",
    "try:\n",
    "    P_H=float(f2_65b.result[0])\n",
    "    P_atm=float(f2_65b.result[1])\n",
    "    R_aire=float(f2_65b.result[2])\n",
    "    T_aire=float(f2_65b.result[3])\n",
    "    m_aire=((P_H*rho_1*9800/1000+P_atm*pow(10,5))*V_globo_m3)/(R_aire*(T_aire+273))\n",
    "except:\n",
    "    print(colored(\"Los valores introducidos no son validos\",\"red\"))\n",
    "\n"
   ]
  },
  {
   "cell_type": "markdown",
   "id": "e84f5ff1",
   "metadata": {},
   "source": [
    "<div class=\"texto\">\n",
    "    <p>Introducimos los datos:</p>\n",
    "</div>\n",
    "<div class=\"formulas\">\n",
    "$$\n",
    "m_{_{aire}}=\\frac{\\left(\\frac{P_{_H}\\cdot\\rho_{_{1}}\\cdot\\gamma_{_{agua}}}{\\rho_{_{agua}}} +P_{_{atm}}\\cdot10^{^5}\\right)\\cdot \\forall_{_{aire}}}{R_{_{aire}}\\cdot (T+273)}\n",
    "$$\n",
    "</div>"
   ]
  },
  {
   "cell_type": "code",
   "execution_count": 63,
   "id": "30ec95c2",
   "metadata": {},
   "outputs": [
    {
     "data": {
      "text/markdown": [
       "$$m_{_{aire}}=[(60.00\\cdot 1025.00 \\cdot 9800/1000 +1.0\\cdot 10^{^5})\\cdot 0.50]/[287.00\\cdot (30.00+273)]=4.074\\ kg$$"
      ],
      "text/plain": [
       "<IPython.core.display.Markdown object>"
      ]
     },
     "execution_count": 63,
     "metadata": {},
     "output_type": "execute_result"
    }
   ],
   "source": [
    "from IPython.display import Markdown as md\n",
    "md('$$m_{_{aire}}=[(%.2f\\cdot %.2f \\cdot 9800/1000 +%.1f\\cdot 10^{^5})\\cdot %.2f]/[%.2f\\cdot (%.2f+273)]=%.3f\\ kg$$'%\n",
    "   (P_H,rho_1,P_atm,V_globo_m3,R_aire,T_aire,m_aire))"
   ]
  },
  {
   "cell_type": "code",
   "execution_count": 14,
   "id": "98e02c49",
   "metadata": {},
   "outputs": [
    {
     "data": {
      "text/html": [
       "\n",
       "<a href=\"javascript:code_toggle()\">Mostrar/ocultar celdas de código</a>."
      ],
      "text/plain": [
       "<IPython.core.display.HTML object>"
      ]
     },
     "execution_count": 14,
     "metadata": {},
     "output_type": "execute_result"
    }
   ],
   "source": [
    "from IPython.display import HTML\n",
    "HTML('''\n",
    "<a href=\"javascript:code_toggle()\">Mostrar/ocultar celdas de código</a>.''')"
   ]
  },
  {
   "cell_type": "markdown",
   "id": "204ce493",
   "metadata": {},
   "source": [
    "<h2>c. Si el globo se llena con aire que procede de una botella de buceo de $20\\ l$ de capacidad con una presión absoluta inicial de $200\\ bar$, calcular la presión absoluta final de la botella, después del llenado del globo $(bar)$.</h2>"
   ]
  },
  {
   "cell_type": "markdown",
   "id": "08c68b74",
   "metadata": {},
   "source": [
    "<div class=\"antesDe\">\n",
    "    <ul>\n",
    "        <li><strong>FALLO TÍPICO $\\rightarrow$ Calcular la masa de aire a partir del volumen de la botella.</strong></li>\n",
    "        <ul>\n",
    "            <li>Un gas se adapta al espacio que lo contiene, por lo tanto, indiferentemente de la masa del gas ocupara el mismo volumen</li>\n",
    "        </ul>\n",
    "    </ul>\n",
    "<div>\n"
   ]
  },
  {
   "cell_type": "markdown",
   "id": "08c831f9",
   "metadata": {},
   "source": [
    "<div class=\"texto\"><p>Analicemos las situaciones inicial/final del conjunto botella-globo.</p> </div>"
   ]
  },
  {
   "cell_type": "markdown",
   "id": "8f6ae966",
   "metadata": {},
   "source": [
    "<div class=\"split\">\n",
    "    <div class=\"izq\"><img src=\"../MEDIA/2.65.5.png\"style=\"width:90%;\"></div>\n",
    "    <div class=\"dcha\"><img src=\"../MEDIA/2.65.6.png\"style=\"width:90%;\"></div>\n",
    "</div>"
   ]
  },
  {
   "cell_type": "markdown",
   "id": "353eb5fd",
   "metadata": {},
   "source": [
    "<div class=\"texto\"><p>Ambos comparten la misma masa de aire, por lo que podemos afirmar que</p> </div>\n",
    "<div class=\"formulas\">\n",
    "$$\n",
    "m_{_{1}}^{^{botella}}+m_{_{1}}^{^{globo}}=m_{_{2}}^{^{botella}}+m_{_{2}}^{^{globo}}\n",
    "$$\n",
    "</div>\n",
    "<div class=\"texto\"><p>Siendo $m_{_{1}}^{^{globo}}=0$</p> </div>\n",
    "<div class=\"formulas\">\n",
    "$$\n",
    "m_{_{1}}^{^{botella}}=m_{_{2}}^{^{botella}}+m_{_{2}}^{^{globo}}=m_{_{aire}}^{^{total}}\n",
    "$$\n",
    "</div>\n",
    "<div class=\"texto\"><p>La variable $m_{_{1}}^{^{botella}}$ se puede calcular por la ley de gases ideales, al ser el resto de variables conocidas.</p> </div>\n",
    "<div class=\"formulas\">\n",
    "$$\n",
    "P_{_{1}}=\\rho\\cdot R_{_{aire}}\\cdot T=\\frac{m_{_{aire}}^{^{total}}}{\\forall_{_{1}}^{^{botella}}}\\cdot R_{_{aire}}\\cdot T\n",
    "$$\n",
    "</div>\n",
    "<div class=\"texto\"><p>Despejamos la masa:</p> </div>\n",
    "<div class=\"formulas\">\n",
    "$$\n",
    "m_{_{aire}}^{^{total}}=\\frac{P_{_{1}}\\cdot \\forall_{_{1}}^{^{botella}}}{R_{_{aire}}\\cdot T}\n",
    "$$\n",
    "</div>\n",
    "<div class=\"texto\"><p>Comprobamos unidades:</p> </div>\n",
    "<div class=\"formulas\">\n",
    "$$\n",
    "m_{_{aire}}^{^{total}}\\ (kg)=\\frac{P_{_{1}}\\ (bar)\\cdot\\forall_{_{1}}^{^{botella}}\\ (l)}{R_{_{aire}}\\ \\left(\\frac{N\\cdot m}{kg\\cdot K}\\right)\\cdot T\\ (ºC)}\n",
    "$$\n",
    "</div>"
   ]
  },
  {
   "cell_type": "markdown",
   "id": "546289f5",
   "metadata": {},
   "source": [
    "<div class=\"formulas\">\n",
    "$$\n",
    "m_{_{aire}}^{^{total}}\\ (kg)=\\frac{P_{_{1}}\\ (bar)\\cdot\\frac{10^{^5}\\ Pa}{1\\ bar}\\cdot \\forall_{_{1}}^{^{botella}}\\ (l)\\cdot\\frac{10^{^{-3}}\\ m^{^{3}}}{1\\ l}}{R_{_{aire}}\\ \\left(\\frac{N\\cdot m}{kg\\cdot K}\\right)\\cdot (T+273)\\ (K)}\n",
    "$$\n",
    "</div>"
   ]
  },
  {
   "cell_type": "markdown",
   "id": "352f3efa",
   "metadata": {},
   "source": [
    "<div class=\"formulas\">\n",
    "$$\n",
    "m_{_{aire}}^{^{total}}\\ (kg)=\\frac{P_{_{1}}\\cdot10^{^5}\\cdot \\forall_{_{1}}^{^{botella}}\\cdot 10^{^{-3}}}{R_{_{aire}}\\cdot (T+273)}\\ \\left(\\frac{\\left(Pa=\\frac{N}{m^{^2}}\\right)\\cdot m^{^3}}{\\frac{N\\cdot m}{kg} }=\\ kg\\ \\checkmark \\right)\n",
    "$$\n",
    "</div>"
   ]
  },
  {
   "cell_type": "code",
   "execution_count": 75,
   "id": "8027cd6b",
   "metadata": {},
   "outputs": [
    {
     "data": {
      "application/vnd.jupyter.widget-view+json": {
       "model_id": "c1c95d6772d946ee86379afb635ab016",
       "version_major": 2,
       "version_minor": 0
      },
      "text/plain": [
       "interactive(children=(Text(value='200', description='P_1'), Text(value='20', description='V_botella'), Output(…"
      ]
     },
     "metadata": {},
     "output_type": "display_data"
    }
   ],
   "source": [
    "from __future__ import print_function\n",
    "from ipywidgets import interact, interactive, fixed, interact_manual\n",
    "import math\n",
    "import ipywidgets as widgets\n",
    "\n",
    "def f(P_1,V_botella):\n",
    "    try:\n",
    "        fP_1=float(P_1)\n",
    "        fV_botella=float(V_botella)        \n",
    "    except:\n",
    "        print(colored(\"Define un valor válido para las variables\",\"red\"))\n",
    "    else:\n",
    "        print(\"Pulsa calcular para actualizar los campos de texto\")\n",
    "        return (fP_1,fV_botella)\n",
    "\n",
    "\n",
    "f2_65c = interactive(f,P_1=\"200\",V_botella=\"20\")\n",
    "display(f2_65c)\n",
    "\n",
    "f2_65c.children[0].description = '$P_{_{1}}$ (bar)'\n",
    "f2_65c.children[1].description = '$V_{_{botella}}$ (l)'"
   ]
  },
  {
   "cell_type": "code",
   "execution_count": 16,
   "id": "ff1dce7f",
   "metadata": {},
   "outputs": [
    {
     "data": {
      "text/html": [
       "\n",
       "<button onclick=\"ejecutar(45,55)\">Actualizar campos de texto</button>\n",
       "<button onclick=\"ejecutar(43,44)\">Abrir/reiniciar cuadro de variables</button>\n",
       "<script>function ejecutar(desde, hasta){\n",
       "    for(i = desde; i < hasta; i++)\n",
       "Jupyter.notebook.execute_cells([i])\n",
       "}</script>"
      ],
      "text/plain": [
       "<IPython.core.display.HTML object>"
      ]
     },
     "execution_count": 16,
     "metadata": {},
     "output_type": "execute_result"
    }
   ],
   "source": [
    "from IPython.display import HTML\n",
    "HTML('''\n",
    "<button onclick=\"ejecutar(45,55)\">Actualizar campos de texto</button>\n",
    "<button onclick=\"ejecutar(43,44)\">Abrir/reiniciar cuadro de variables</button>\n",
    "<script>function ejecutar(desde, hasta){\n",
    "    for(i = desde; i < hasta; i++)\n",
    "Jupyter.notebook.execute_cells([i])\n",
    "}</script>''')"
   ]
  },
  {
   "cell_type": "code",
   "execution_count": 76,
   "id": "01f37b71",
   "metadata": {},
   "outputs": [],
   "source": [
    "from IPython.display import Markdown as md\n",
    "try:\n",
    "    P_1=float(f2_65c.children[0].value)\n",
    "    V_botella=float(f2_65c.children[1].value)\n",
    "    P_1=f2_65c.result[0]\n",
    "    V_botella=f2_65c.result[1]\n",
    "\n",
    "    m_total_aire=(P_1*pow(10,5)*V_botella*pow(10,-3))/(R_aire*(T_aire+273))\n",
    "    P_2_Pa=(m_total_aire-m_aire)*R_aire*(T_aire+273)/(V_botella*pow(10,-3))\n",
    "    P_2_bar=P_2_Pa*pow(10,-5)\n",
    "except:\n",
    "    print(colored(\"Los valores introducidos no son validos\",\"red\"))\n",
    "else:\n",
    "    exp=0\n",
    "    P_2_Pa_Exp=P_2_Pa\n",
    "    \n",
    "    if (P_2_Pa_Exp>100):\n",
    "        caracter1=\"\\cdot 10^{\"\n",
    "        caracter2=\"}\"\n",
    "        while(P_2_Pa_Exp>100):          \n",
    "                exp+=1\n",
    "                P_2_Pa_Exp=P_2_Pa_Exp/10\n",
    "\n",
    "    else: \n",
    "        caracter1=\"\"\n",
    "        caracter2=\"\"\n"
   ]
  },
  {
   "cell_type": "markdown",
   "id": "5b593870",
   "metadata": {},
   "source": [
    "<div class=\"texto\">\n",
    "    <p>Introducimos los datos:</p>\n",
    "</div>\n",
    "<div class=\"formulas\">\n",
    "$$\n",
    "m_{_{aire}}^{^{total}}=\\frac{P_{_{1}}\\cdot10^{^5}\\cdot \\forall_{_{1}}^{^{botella}}\\cdot 10^{^{-3}}}{R_{_{aire}}\\cdot (T+273)}\n",
    "$$\n",
    "</div>"
   ]
  },
  {
   "cell_type": "code",
   "execution_count": 77,
   "id": "44f4b706",
   "metadata": {},
   "outputs": [
    {
     "data": {
      "text/markdown": [
       "$$m_{_{aire}}^{^{total}}=(200.0\\cdot 10^{^5}\\cdot 20.00\\cdot 10^{^{-3}})/[287.00\\cdot (30.00+273)]=4.600\\ kg$$"
      ],
      "text/plain": [
       "<IPython.core.display.Markdown object>"
      ]
     },
     "execution_count": 77,
     "metadata": {},
     "output_type": "execute_result"
    }
   ],
   "source": [
    "from IPython.display import Markdown as md\n",
    "md('$$m_{_{aire}}^{^{total}}=(%.1f\\cdot 10^{^5}\\cdot %.2f\\cdot 10^{^{-3}})/[%.2f\\cdot (%.2f+273)]=%.3f\\ kg$$'%\n",
    "   (P_1,V_botella,R_aire,T_aire,m_total_aire))"
   ]
  },
  {
   "cell_type": "markdown",
   "id": "5ea97a29",
   "metadata": {},
   "source": [
    "<div class=\"texto\"><p>Por lo antes expuesto, podemos afirmar que:</p> </div>\n",
    "<div class=\"formulas\">\n",
    "$$\n",
    "m_{_{2}}^{^{botella}}=m_{_{aire}}^{^{total}}-m_{_{2}}^{^{globo}}\n",
    "$$\n",
    "</div>"
   ]
  },
  {
   "cell_type": "markdown",
   "id": "7265308a",
   "metadata": {},
   "source": [
    "<div class=\"texto\"><p>Por la ley de gases ideales:</p> </div>\n",
    "<div class=\"formulas\">\n",
    "$$\n",
    "P_{_{2}}=\\rho\\cdot R_{_{aire}}\\cdot T=\\frac{m_{_{2}}^{^{botella}}}{\\forall_{_{2}}^{^{botella}}}\\cdot R_{_{aire}}\\cdot T=\\frac{m_{_{aire}}^{^{total}}-m_{_{2}}^{^{globo}}}{\\forall_{_{2}}^{^{botella}}}\\cdot R_{_{aire}}\\cdot T\n",
    "$$\n",
    "</div>"
   ]
  },
  {
   "cell_type": "markdown",
   "id": "6152f53a",
   "metadata": {},
   "source": [
    "<div class=\"texto\"><p>Comprobamos unidades:</p> </div>\n",
    "<div class=\"formulas\">\n",
    "$$\n",
    "P_{_{2}}\\left(Pa\\ =\\frac{N}{m^{^2}}\\right)=\\frac{\\left(m_{_{aire}}^{^{total}}-m_{_{2}}^{^{globo}}\\right)\\ \\left(kg\\right)}{\\forall_{_{2}}^{^{botella}}\\ (l)}\\cdot R_{_{aire}}\\ \\left(\\frac{N\\cdot m}{kg\\cdot K}\\right)\\cdot T\\ (ºC)\n",
    "$$\n",
    "</div>"
   ]
  },
  {
   "cell_type": "markdown",
   "id": "9609eadd",
   "metadata": {},
   "source": [
    "<div class=\"formulas\">\n",
    "$$\n",
    "P_{_{2}}\\left(\\frac{N}{m^{^2}}\\right)=\\frac{m_{_{aire}}^{^{total}}-m_{_{2}}^{^{globo}}}{\\forall_{_{2}}^{^{botella}}\\ (l)\\cdot\\frac{10^{^{-3}}\\ m^{^3}}{1\\ l}}\\cdot R_{_{aire}}\\ \\left(\\frac{N\\cdot m}{K}\\right)\\cdot (T+273)\\ (K)\n",
    "$$\n",
    "</div>"
   ]
  },
  {
   "cell_type": "markdown",
   "id": "9e584a2e",
   "metadata": {},
   "source": [
    "<div class=\"formulas\">\n",
    "$$\n",
    "P_{_{2}}\\left(\\frac{N}{m^{^2}}\\right)=\\left(\\frac{m_{_{aire}}^{^{total}}-m_{_{2}}^{^{globo}}}{\\forall_{_{2}}^{^{botella}}\\cdot 10^{^{-3}}}\\cdot R_{_{aire}}\\cdot (T+273)\\right)\\ \\left(\\frac{N\\cdot m}{m^{^3}}=\\frac{N}{m^{^2}}\\ \\checkmark\\right)\n",
    "$$\n",
    "</div>"
   ]
  },
  {
   "cell_type": "markdown",
   "id": "24a75e21",
   "metadata": {},
   "source": [
    "<div class=\"texto\">\n",
    "    <p>Introducimos los datos:</p>\n",
    "</div>\n",
    "<div class=\"formulas\">\n",
    "$$\n",
    "P_{_{2}}=\\frac{m_{_{aire}}^{^{total}}-m_{_{2}}^{^{globo}}}{\\forall_{_{2}}^{^{botella}}\\cdot 10^{^{-3}}}\\cdot R_{_{aire}}\\cdot (T+273)\n",
    "$$\n",
    "</div>"
   ]
  },
  {
   "cell_type": "code",
   "execution_count": 78,
   "id": "128ab156",
   "metadata": {
    "scrolled": true
   },
   "outputs": [
    {
     "data": {
      "text/markdown": [
       "$$P_2=(4.600-4.074)/(287.000\\cdot 10^{^{-3}})\\cdot 30.000\\cdot(20.000+273)=22.868\\cdot 10^{5}\\ Pa$$  $$22.868\\cdot 10^{5}\\ Pa\\cdot10^{^{-5}}(bar/Pa)=22.868\\ bar$$"
      ],
      "text/plain": [
       "<IPython.core.display.Markdown object>"
      ]
     },
     "execution_count": 78,
     "metadata": {},
     "output_type": "execute_result"
    }
   ],
   "source": [
    "from IPython.display import Markdown as md\n",
    "md('$$P_2=(%.3f-%.3f)/(%.3f\\cdot 10^{^{-3}})\\cdot %.3f\\cdot(%.3f+273)=%.3f%s%s%s\\ Pa$$  $$%.3f%s%s%s\\ Pa\\cdot10^{^{-5}}(bar/Pa)=%.3f\\ bar$$'%\n",
    "   (m_total_aire,m_aire,R_aire,T_aire,V_botella,P_2_Pa_Exp,caracter1,exp,caracter2,P_2_Pa_Exp,caracter1,exp,caracter2,P_2_bar))"
   ]
  },
  {
   "cell_type": "code",
   "execution_count": 20,
   "id": "80a7b472",
   "metadata": {},
   "outputs": [
    {
     "data": {
      "text/html": [
       "\n",
       "<a href=\"javascript:code_toggle()\">Mostrar/ocultar celdas de código</a>."
      ],
      "text/plain": [
       "<IPython.core.display.HTML object>"
      ]
     },
     "execution_count": 20,
     "metadata": {},
     "output_type": "execute_result"
    }
   ],
   "source": [
    "from IPython.display import HTML\n",
    "HTML('''\n",
    "<a href=\"javascript:code_toggle()\">Mostrar/ocultar celdas de código</a>.''')"
   ]
  },
  {
   "cell_type": "markdown",
   "id": "761440c7",
   "metadata": {},
   "source": [
    "[Volver al enunciado.](#enunciado)"
   ]
  },
  {
   "cell_type": "code",
   "execution_count": 21,
   "id": "4e0ec24a",
   "metadata": {},
   "outputs": [
    {
     "data": {
      "text/html": [
       "\n",
       "<script>\n",
       "window.location=\"2.65.ipynb#enunciado\";\n",
       "</script>"
      ],
      "text/plain": [
       "<IPython.core.display.HTML object>"
      ]
     },
     "execution_count": 21,
     "metadata": {},
     "output_type": "execute_result"
    }
   ],
   "source": [
    "from IPython.display import HTML\n",
    "HTML('''\n",
    "<script>\n",
    "window.location=\"2.65.ipynb#enunciado\";\n",
    "</script>''')\n",
    "\n",
    "\n"
   ]
  }
 ],
 "metadata": {
  "kernelspec": {
   "display_name": "Python 3",
   "language": "python",
   "name": "python3"
  },
  "language_info": {
   "codemirror_mode": {
    "name": "ipython",
    "version": 3
   },
   "file_extension": ".py",
   "mimetype": "text/x-python",
   "name": "python",
   "nbconvert_exporter": "python",
   "pygments_lexer": "ipython3",
   "version": "3.8.8"
  },
  "widgets": {
   "application/vnd.jupyter.widget-state+json": {
    "state": {
     "00bf8a776476411089bf3db0edc02e1d": {
      "model_module": "@jupyter-widgets/output",
      "model_module_version": "1.0.0",
      "model_name": "OutputModel",
      "state": {
       "layout": "IPY_MODEL_3e49d9e904c54ef09affd63494c95f11"
      }
     },
     "015cee175d9141baa8a47486347b8128": {
      "model_module": "@jupyter-widgets/output",
      "model_module_version": "1.0.0",
      "model_name": "OutputModel",
      "state": {
       "layout": "IPY_MODEL_098e8428dff94cba8765d93636931d57"
      }
     },
     "01f525c52fe544be9455e29609496b50": {
      "model_module": "@jupyter-widgets/controls",
      "model_module_version": "1.5.0",
      "model_name": "TextModel",
      "state": {
       "description": "P_1",
       "layout": "IPY_MODEL_7dfef7243fc3439083a6b189efe12660",
       "style": "IPY_MODEL_719cc032ab2144f2b504df32d9e9a654",
       "value": "200"
      }
     },
     "021eaef1048b4c3b9341bddde3342ce6": {
      "model_module": "@jupyter-widgets/controls",
      "model_module_version": "1.5.0",
      "model_name": "TextModel",
      "state": {
       "description": "P_1",
       "layout": "IPY_MODEL_d3ccee78a9604df0ae4991ca1a786a77",
       "style": "IPY_MODEL_cdca767b11cb42f4b66a0adc67a6f435",
       "value": "200"
      }
     },
     "0237325e80674eaea155fc2447e2af24": {
      "model_module": "@jupyter-widgets/controls",
      "model_module_version": "1.5.0",
      "model_name": "VBoxModel",
      "state": {
       "_dom_classes": [
        "widget-interact"
       ],
       "children": [
        "IPY_MODEL_3021aae4709041259da73b1997db1111",
        "IPY_MODEL_599c7b1bd56c43038fc5886b9ef07db3",
        "IPY_MODEL_2fb18fc496304d158fa7c5bcb43bc68b",
        "IPY_MODEL_29c425c0d6844886887388ad8eb89064",
        "IPY_MODEL_90981f2a3d9b4ffb84770116bd1ac4f7"
       ],
       "layout": "IPY_MODEL_a8d55fe2fab44cf289d973f7daf00b41"
      }
     },
     "0396915164d343e592862540374b7981": {
      "model_module": "@jupyter-widgets/controls",
      "model_module_version": "1.5.0",
      "model_name": "DescriptionStyleModel",
      "state": {
       "description_width": ""
      }
     },
     "03caa2404c404bd986156afb1fb180e1": {
      "model_module": "@jupyter-widgets/output",
      "model_module_version": "1.0.0",
      "model_name": "OutputModel",
      "state": {
       "layout": "IPY_MODEL_a9c8585b487f446eb69f2b77e71138a9"
      }
     },
     "04d0f4a45d6145b195a845bc3ba5eeb2": {
      "model_module": "@jupyter-widgets/controls",
      "model_module_version": "1.5.0",
      "model_name": "TextModel",
      "state": {
       "description": "R_aire",
       "layout": "IPY_MODEL_5509573bc00148ae913a1bc02d7b0623",
       "style": "IPY_MODEL_17e770ad2c81430f81a323af34f32c7d",
       "value": "287"
      }
     },
     "04dd8d8b9597416093e2d02d7199675b": {
      "model_module": "@jupyter-widgets/controls",
      "model_module_version": "1.5.0",
      "model_name": "TextModel",
      "state": {
       "description": "V_botella",
       "layout": "IPY_MODEL_61791165e82d4562b921841ab055b0de",
       "style": "IPY_MODEL_d9fa61a247f54de1bf3e217463a6198e",
       "value": "20"
      }
     },
     "061bb1a370f04614a3078981141555a7": {
      "model_module": "@jupyter-widgets/controls",
      "model_module_version": "1.5.0",
      "model_name": "DescriptionStyleModel",
      "state": {
       "description_width": ""
      }
     },
     "066ada7c6130432dad5819934cbc0b12": {
      "model_module": "@jupyter-widgets/controls",
      "model_module_version": "1.5.0",
      "model_name": "TextModel",
      "state": {
       "description": "rho_1",
       "layout": "IPY_MODEL_27c7b763ff8b4730ae2b8bcb602fd6c1",
       "style": "IPY_MODEL_73e6d7ad22944753b4fecd7b2ca8cc34",
       "value": "1025"
      }
     },
     "078e3598cc794619b74bfecda274ad4a": {
      "model_module": "@jupyter-widgets/base",
      "model_module_version": "1.2.0",
      "model_name": "LayoutModel",
      "state": {}
     },
     "0793f26d1e5d485d99849634d88d08c5": {
      "model_module": "@jupyter-widgets/controls",
      "model_module_version": "1.5.0",
      "model_name": "VBoxModel",
      "state": {
       "_dom_classes": [
        "widget-interact"
       ],
       "children": [
        "IPY_MODEL_39be5c0141d045abb786ccc1b9f88363",
        "IPY_MODEL_6042d757a2fb4cbebaefa4964cba134f",
        "IPY_MODEL_4ef94cad08af444d8e0a5f0d7f1554d7"
       ],
       "layout": "IPY_MODEL_190b5c83f5a04af1b00be59920d2b462"
      }
     },
     "089f4168f9c94453be2dfa684c1fc9a5": {
      "model_module": "@jupyter-widgets/controls",
      "model_module_version": "1.5.0",
      "model_name": "DescriptionStyleModel",
      "state": {
       "description_width": ""
      }
     },
     "098e8428dff94cba8765d93636931d57": {
      "model_module": "@jupyter-widgets/base",
      "model_module_version": "1.2.0",
      "model_name": "LayoutModel",
      "state": {}
     },
     "0a5cd85e1e5c409c8b768dc12f01c587": {
      "model_module": "@jupyter-widgets/controls",
      "model_module_version": "1.5.0",
      "model_name": "TextModel",
      "state": {
       "description": "V_botella",
       "layout": "IPY_MODEL_41aea9fa64d44133ad6f586e1786fdc8",
       "style": "IPY_MODEL_6776afeb0dcd41b18a1aa8d60b341af5",
       "value": "20"
      }
     },
     "0c782d7958544cfbb2e8517e94496dc3": {
      "model_module": "@jupyter-widgets/controls",
      "model_module_version": "1.5.0",
      "model_name": "TextModel",
      "state": {
       "description": "P_1",
       "layout": "IPY_MODEL_d9f8a9f4deb9428db3ebf4b6726b8b8b",
       "style": "IPY_MODEL_904ec6fe705444c1b06770086dba682a",
       "value": "200"
      }
     },
     "0cd143c2ca514a429a06fcbe68432dbd": {
      "model_module": "@jupyter-widgets/output",
      "model_module_version": "1.0.0",
      "model_name": "OutputModel",
      "state": {
       "layout": "IPY_MODEL_4c869f9ae86d4c62b3afcedb73361612"
      }
     },
     "0da8f08ae670456a98f821a1e5c26323": {
      "model_module": "@jupyter-widgets/controls",
      "model_module_version": "1.5.0",
      "model_name": "DescriptionStyleModel",
      "state": {
       "description_width": ""
      }
     },
     "0e4b5fd8fc2a44f7b807d4a1b1829de3": {
      "model_module": "@jupyter-widgets/controls",
      "model_module_version": "1.5.0",
      "model_name": "DescriptionStyleModel",
      "state": {
       "description_width": ""
      }
     },
     "10b4b4a31ae048cd8012c1594167e985": {
      "model_module": "@jupyter-widgets/controls",
      "model_module_version": "1.5.0",
      "model_name": "DescriptionStyleModel",
      "state": {
       "description_width": ""
      }
     },
     "11661ecd5a6a4149ab15d3aa11728efb": {
      "model_module": "@jupyter-widgets/base",
      "model_module_version": "1.2.0",
      "model_name": "LayoutModel",
      "state": {}
     },
     "139b230e24c94c39a4b152b7ce3e9988": {
      "model_module": "@jupyter-widgets/controls",
      "model_module_version": "1.5.0",
      "model_name": "DescriptionStyleModel",
      "state": {
       "description_width": ""
      }
     },
     "14fffcf100f64235ad1b8886aaea222e": {
      "model_module": "@jupyter-widgets/base",
      "model_module_version": "1.2.0",
      "model_name": "LayoutModel",
      "state": {}
     },
     "15b36c15474548298766cdf3165a82fc": {
      "model_module": "@jupyter-widgets/base",
      "model_module_version": "1.2.0",
      "model_name": "LayoutModel",
      "state": {}
     },
     "160a6aec12154a6fbc6d8563efa3c7f1": {
      "model_module": "@jupyter-widgets/output",
      "model_module_version": "1.0.0",
      "model_name": "OutputModel",
      "state": {
       "layout": "IPY_MODEL_526c92ea11074d73a906775d76c5a1f8"
      }
     },
     "16c222b5738344d38ad9a45d8322e572": {
      "model_module": "@jupyter-widgets/controls",
      "model_module_version": "1.5.0",
      "model_name": "TextModel",
      "state": {
       "description": "P_1",
       "layout": "IPY_MODEL_8f3e6e18e2284c20932c3dfddb983e8e",
       "style": "IPY_MODEL_6d565f42777e48a19edcd642518ee639",
       "value": "200"
      }
     },
     "1794a7a30c6d455ba9dcbe9e62087eb3": {
      "model_module": "@jupyter-widgets/base",
      "model_module_version": "1.2.0",
      "model_name": "LayoutModel",
      "state": {}
     },
     "17e770ad2c81430f81a323af34f32c7d": {
      "model_module": "@jupyter-widgets/controls",
      "model_module_version": "1.5.0",
      "model_name": "DescriptionStyleModel",
      "state": {
       "description_width": ""
      }
     },
     "187483ded6834bdfad210d725c4dbb15": {
      "model_module": "@jupyter-widgets/base",
      "model_module_version": "1.2.0",
      "model_name": "LayoutModel",
      "state": {}
     },
     "187e393f762f465e90d42dd74c647eb2": {
      "model_module": "@jupyter-widgets/base",
      "model_module_version": "1.2.0",
      "model_name": "LayoutModel",
      "state": {}
     },
     "190b5c83f5a04af1b00be59920d2b462": {
      "model_module": "@jupyter-widgets/base",
      "model_module_version": "1.2.0",
      "model_name": "LayoutModel",
      "state": {}
     },
     "1b7cbaec85be45198a99a38a4496f23b": {
      "model_module": "@jupyter-widgets/controls",
      "model_module_version": "1.5.0",
      "model_name": "DescriptionStyleModel",
      "state": {
       "description_width": ""
      }
     },
     "1c264750be7f49d09dddbaa6426e4a4e": {
      "model_module": "@jupyter-widgets/controls",
      "model_module_version": "1.5.0",
      "model_name": "DescriptionStyleModel",
      "state": {
       "description_width": ""
      }
     },
     "1c5f492bdbcf4b84b606978d5d365542": {
      "model_module": "@jupyter-widgets/controls",
      "model_module_version": "1.5.0",
      "model_name": "TextModel",
      "state": {
       "description": "$P_{_{atm}}$ (bar)",
       "layout": "IPY_MODEL_cd8ceaef650944df8e8ca23bf3430691",
       "style": "IPY_MODEL_33dbe3d84f0c40c3ae14b47515c7f386",
       "value": "1"
      }
     },
     "1c9578584ee84174bd12381b65fb6b99": {
      "model_module": "@jupyter-widgets/base",
      "model_module_version": "1.2.0",
      "model_name": "LayoutModel",
      "state": {}
     },
     "1e524c22d7664b3d86d599e623976479": {
      "model_module": "@jupyter-widgets/base",
      "model_module_version": "1.2.0",
      "model_name": "LayoutModel",
      "state": {}
     },
     "1e769a42c69c4a488d49840a77d4234e": {
      "model_module": "@jupyter-widgets/base",
      "model_module_version": "1.2.0",
      "model_name": "LayoutModel",
      "state": {}
     },
     "1ecf5c1ac9ca4cb786e911cb55cd8460": {
      "model_module": "@jupyter-widgets/controls",
      "model_module_version": "1.5.0",
      "model_name": "DescriptionStyleModel",
      "state": {
       "description_width": ""
      }
     },
     "1f622d72f2984a27a28000b2e5f78a2e": {
      "model_module": "@jupyter-widgets/output",
      "model_module_version": "1.0.0",
      "model_name": "OutputModel",
      "state": {
       "layout": "IPY_MODEL_4760d1723da04984a60df4dedec39fd9",
       "outputs": [
        {
         "ename": "TypeError",
         "evalue": "can't multiply sequence by non-int of type 'float'",
         "output_type": "error",
         "traceback": [
          "\u001b[1;31m---------------------------------------------------------------------------\u001b[0m",
          "\u001b[1;31mTypeError\u001b[0m                                 Traceback (most recent call last)",
          "\u001b[1;32m~\\anaconda3\\lib\\site-packages\\ipywidgets\\widgets\\interaction.py\u001b[0m in \u001b[0;36mupdate\u001b[1;34m(self, *args)\u001b[0m\n\u001b[0;32m    254\u001b[0m                     \u001b[0mvalue\u001b[0m \u001b[1;33m=\u001b[0m \u001b[0mwidget\u001b[0m\u001b[1;33m.\u001b[0m\u001b[0mget_interact_value\u001b[0m\u001b[1;33m(\u001b[0m\u001b[1;33m)\u001b[0m\u001b[1;33m\u001b[0m\u001b[1;33m\u001b[0m\u001b[0m\n\u001b[0;32m    255\u001b[0m                     \u001b[0mself\u001b[0m\u001b[1;33m.\u001b[0m\u001b[0mkwargs\u001b[0m\u001b[1;33m[\u001b[0m\u001b[0mwidget\u001b[0m\u001b[1;33m.\u001b[0m\u001b[0m_kwarg\u001b[0m\u001b[1;33m]\u001b[0m \u001b[1;33m=\u001b[0m \u001b[0mvalue\u001b[0m\u001b[1;33m\u001b[0m\u001b[1;33m\u001b[0m\u001b[0m\n\u001b[1;32m--> 256\u001b[1;33m                 \u001b[0mself\u001b[0m\u001b[1;33m.\u001b[0m\u001b[0mresult\u001b[0m \u001b[1;33m=\u001b[0m \u001b[0mself\u001b[0m\u001b[1;33m.\u001b[0m\u001b[0mf\u001b[0m\u001b[1;33m(\u001b[0m\u001b[1;33m**\u001b[0m\u001b[0mself\u001b[0m\u001b[1;33m.\u001b[0m\u001b[0mkwargs\u001b[0m\u001b[1;33m)\u001b[0m\u001b[1;33m\u001b[0m\u001b[1;33m\u001b[0m\u001b[0m\n\u001b[0m\u001b[0;32m    257\u001b[0m                 \u001b[0mshow_inline_matplotlib_plots\u001b[0m\u001b[1;33m(\u001b[0m\u001b[1;33m)\u001b[0m\u001b[1;33m\u001b[0m\u001b[1;33m\u001b[0m\u001b[0m\n\u001b[0;32m    258\u001b[0m                 \u001b[1;32mif\u001b[0m \u001b[0mself\u001b[0m\u001b[1;33m.\u001b[0m\u001b[0mauto_display\u001b[0m \u001b[1;32mand\u001b[0m \u001b[0mself\u001b[0m\u001b[1;33m.\u001b[0m\u001b[0mresult\u001b[0m \u001b[1;32mis\u001b[0m \u001b[1;32mnot\u001b[0m \u001b[1;32mNone\u001b[0m\u001b[1;33m:\u001b[0m\u001b[1;33m\u001b[0m\u001b[1;33m\u001b[0m\u001b[0m\n",
          "\u001b[1;32m<ipython-input-12-5a82f7621d31>\u001b[0m in \u001b[0;36mf\u001b[1;34m(P_1, V_botella, R_aire, T_aire)\u001b[0m\n\u001b[0;32m     10\u001b[0m     \u001b[0mfT_aire\u001b[0m\u001b[1;33m=\u001b[0m\u001b[0mfloat\u001b[0m\u001b[1;33m(\u001b[0m\u001b[0mT_aire\u001b[0m\u001b[1;33m)\u001b[0m\u001b[1;33m\u001b[0m\u001b[1;33m\u001b[0m\u001b[0m\n\u001b[0;32m     11\u001b[0m \u001b[1;33m\u001b[0m\u001b[0m\n\u001b[1;32m---> 12\u001b[1;33m     \u001b[0mm_total_aire\u001b[0m\u001b[1;33m=\u001b[0m\u001b[1;33m(\u001b[0m\u001b[0mfP_1\u001b[0m\u001b[1;33m*\u001b[0m\u001b[0mpow\u001b[0m\u001b[1;33m(\u001b[0m\u001b[1;36m10\u001b[0m\u001b[1;33m,\u001b[0m\u001b[1;36m5\u001b[0m\u001b[1;33m)\u001b[0m\u001b[1;33m*\u001b[0m\u001b[0mV_botella\u001b[0m\u001b[1;33m)\u001b[0m\u001b[1;33m/\u001b[0m\u001b[1;33m(\u001b[0m\u001b[0mfR_aire\u001b[0m\u001b[1;33m*\u001b[0m\u001b[1;33m(\u001b[0m\u001b[0mfT_aire\u001b[0m\u001b[1;33m+\u001b[0m\u001b[1;36m273\u001b[0m\u001b[1;33m)\u001b[0m\u001b[1;33m)\u001b[0m\u001b[1;33m\u001b[0m\u001b[1;33m\u001b[0m\u001b[0m\n\u001b[0m\u001b[0;32m     13\u001b[0m     \u001b[1;32mreturn\u001b[0m \u001b[0mm_total_aire\u001b[0m\u001b[1;33m\u001b[0m\u001b[1;33m\u001b[0m\u001b[0m\n\u001b[0;32m     14\u001b[0m \u001b[1;33m\u001b[0m\u001b[0m\n",
          "\u001b[1;31mTypeError\u001b[0m: can't multiply sequence by non-int of type 'float'"
         ]
        }
       ]
      }
     },
     "207b795e694b4c92a3925387743a481b": {
      "model_module": "@jupyter-widgets/controls",
      "model_module_version": "1.5.0",
      "model_name": "DescriptionStyleModel",
      "state": {
       "description_width": ""
      }
     },
     "2220c4123bd6481493a6b6f33edf84cf": {
      "model_module": "@jupyter-widgets/controls",
      "model_module_version": "1.5.0",
      "model_name": "DescriptionStyleModel",
      "state": {
       "description_width": ""
      }
     },
     "24318a66964f41bbb6f05ed74f22e8e8": {
      "model_module": "@jupyter-widgets/controls",
      "model_module_version": "1.5.0",
      "model_name": "TextModel",
      "state": {
       "description": "P_1",
       "layout": "IPY_MODEL_7b5edfb295b549cda514923463b712c8",
       "style": "IPY_MODEL_9060c7aedf0b4350b00f8b6e678cb076",
       "value": "200"
      }
     },
     "2436799b13c6450d857db48f41ae9513": {
      "model_module": "@jupyter-widgets/controls",
      "model_module_version": "1.5.0",
      "model_name": "DescriptionStyleModel",
      "state": {
       "description_width": ""
      }
     },
     "247210707395425089f8d975ded6cb78": {
      "model_module": "@jupyter-widgets/controls",
      "model_module_version": "1.5.0",
      "model_name": "TextModel",
      "state": {
       "description": "V_botella",
       "layout": "IPY_MODEL_14fffcf100f64235ad1b8886aaea222e",
       "style": "IPY_MODEL_2220c4123bd6481493a6b6f33edf84cf",
       "value": "20"
      }
     },
     "2526bc3e5e19476d826f9aa227e376a7": {
      "model_module": "@jupyter-widgets/base",
      "model_module_version": "1.2.0",
      "model_name": "LayoutModel",
      "state": {}
     },
     "2759f3068b9f4c829b394fdc0dd135a0": {
      "model_module": "@jupyter-widgets/controls",
      "model_module_version": "1.5.0",
      "model_name": "DescriptionStyleModel",
      "state": {
       "description_width": ""
      }
     },
     "27c7b763ff8b4730ae2b8bcb602fd6c1": {
      "model_module": "@jupyter-widgets/base",
      "model_module_version": "1.2.0",
      "model_name": "LayoutModel",
      "state": {}
     },
     "27cf2e35aacc46879ae640e92eabb52a": {
      "model_module": "@jupyter-widgets/base",
      "model_module_version": "1.2.0",
      "model_name": "LayoutModel",
      "state": {}
     },
     "2820aa9cdaaf4b8992392d999c2ec916": {
      "model_module": "@jupyter-widgets/base",
      "model_module_version": "1.2.0",
      "model_name": "LayoutModel",
      "state": {}
     },
     "29c425c0d6844886887388ad8eb89064": {
      "model_module": "@jupyter-widgets/controls",
      "model_module_version": "1.5.0",
      "model_name": "TextModel",
      "state": {
       "description": "T_aire",
       "layout": "IPY_MODEL_34af43a901a844c78eef910f0b2380c4",
       "style": "IPY_MODEL_7ac213f0e7e14c98a926b5ac5e26d653",
       "value": "30"
      }
     },
     "2b559a8b0f174295ac852c22651b0588": {
      "model_module": "@jupyter-widgets/base",
      "model_module_version": "1.2.0",
      "model_name": "LayoutModel",
      "state": {}
     },
     "2c0fb75294cf4f3689bd961ca5ea4fcd": {
      "model_module": "@jupyter-widgets/controls",
      "model_module_version": "1.5.0",
      "model_name": "TextModel",
      "state": {
       "description": "V_botella",
       "layout": "IPY_MODEL_f1db5ecc02f44d559be44f4db8453ca4",
       "style": "IPY_MODEL_1b7cbaec85be45198a99a38a4496f23b",
       "value": "20"
      }
     },
     "2c5701ada8374c3c82b985f45391b8ec": {
      "model_module": "@jupyter-widgets/controls",
      "model_module_version": "1.5.0",
      "model_name": "TextModel",
      "state": {
       "description": "V_botella",
       "layout": "IPY_MODEL_eb49a6ef79e64c789b359f0885f4978e",
       "style": "IPY_MODEL_f2e054376982460cbf4ee95f0191ae5e",
       "value": "20"
      }
     },
     "2c62e252ed90416f9ced12707691f53d": {
      "model_module": "@jupyter-widgets/base",
      "model_module_version": "1.2.0",
      "model_name": "LayoutModel",
      "state": {}
     },
     "2cd26231d6b5426e8e7bf47f33eb0041": {
      "model_module": "@jupyter-widgets/output",
      "model_module_version": "1.0.0",
      "model_name": "OutputModel",
      "state": {
       "layout": "IPY_MODEL_8b6548085bf54d0ea99ddb469eb5f0d3"
      }
     },
     "2d5e11a42b864c2cacd212072e673cae": {
      "model_module": "@jupyter-widgets/controls",
      "model_module_version": "1.5.0",
      "model_name": "DescriptionStyleModel",
      "state": {
       "description_width": ""
      }
     },
     "2fb18fc496304d158fa7c5bcb43bc68b": {
      "model_module": "@jupyter-widgets/controls",
      "model_module_version": "1.5.0",
      "model_name": "TextModel",
      "state": {
       "description": "R_aire",
       "layout": "IPY_MODEL_8f28765cfd28412a95614a5ec7c1df7f",
       "style": "IPY_MODEL_5048353224f64beabc025bbe03253273",
       "value": "287"
      }
     },
     "3021aae4709041259da73b1997db1111": {
      "model_module": "@jupyter-widgets/controls",
      "model_module_version": "1.5.0",
      "model_name": "TextModel",
      "state": {
       "description": "P_H",
       "layout": "IPY_MODEL_1e769a42c69c4a488d49840a77d4234e",
       "style": "IPY_MODEL_4fab35ceb4964583abd17bb6e143d456",
       "value": "60"
      }
     },
     "30a7b1948356402e986ceaeb903e9131": {
      "model_module": "@jupyter-widgets/controls",
      "model_module_version": "1.5.0",
      "model_name": "TextModel",
      "state": {
       "description": "P_1",
       "layout": "IPY_MODEL_60a7aa4c5d3243639e2136d9a1eb2c85",
       "style": "IPY_MODEL_2759f3068b9f4c829b394fdc0dd135a0",
       "value": "200"
      }
     },
     "317ed88e2c9c44ffb20786dcda8b88a4": {
      "model_module": "@jupyter-widgets/controls",
      "model_module_version": "1.5.0",
      "model_name": "VBoxModel",
      "state": {
       "_dom_classes": [
        "widget-interact"
       ],
       "children": [
        "IPY_MODEL_c5acbf7303f44547b62d46cf3da3f3ce",
        "IPY_MODEL_dd642afb10c6416da41962e4f1b0eab4",
        "IPY_MODEL_63b84c878357491b86421fd27524c11a"
       ],
       "layout": "IPY_MODEL_95b2724ed9dd49d19144c2be515f163f"
      }
     },
     "318374bfe5884ee79738d78cf0a94daf": {
      "model_module": "@jupyter-widgets/controls",
      "model_module_version": "1.5.0",
      "model_name": "TextModel",
      "state": {
       "description": "P_1",
       "layout": "IPY_MODEL_4a331f4d32ef45dcbf4d5f21fb7ef229",
       "style": "IPY_MODEL_7d07eb25837b46a7a8839cb4fbb3ee2c",
       "value": "200"
      }
     },
     "31cfc3df23f349e38f86ee2cb28938d8": {
      "model_module": "@jupyter-widgets/controls",
      "model_module_version": "1.5.0",
      "model_name": "TextModel",
      "state": {
       "description": "V_botella",
       "layout": "IPY_MODEL_a5bd2fae944f416a81e4336905567d62",
       "style": "IPY_MODEL_9028f52e61ee4d089914c765e20ed315",
       "value": "20"
      }
     },
     "33dbe3d84f0c40c3ae14b47515c7f386": {
      "model_module": "@jupyter-widgets/controls",
      "model_module_version": "1.5.0",
      "model_name": "DescriptionStyleModel",
      "state": {
       "description_width": ""
      }
     },
     "33dc2df52bac49aba7e5f2196b1f44a4": {
      "model_module": "@jupyter-widgets/controls",
      "model_module_version": "1.5.0",
      "model_name": "DescriptionStyleModel",
      "state": {
       "description_width": ""
      }
     },
     "34af43a901a844c78eef910f0b2380c4": {
      "model_module": "@jupyter-widgets/base",
      "model_module_version": "1.2.0",
      "model_name": "LayoutModel",
      "state": {}
     },
     "35c38b256cee4b1e9b327e87ae5f99a7": {
      "model_module": "@jupyter-widgets/controls",
      "model_module_version": "1.5.0",
      "model_name": "TextModel",
      "state": {
       "description": "V_botella",
       "layout": "IPY_MODEL_c6a67e6dd13146159330c76d4f7e6f1e",
       "style": "IPY_MODEL_139b230e24c94c39a4b152b7ce3e9988",
       "value": "2312"
      }
     },
     "365f0ef70d6b43ccb0634417bbc2c7d1": {
      "model_module": "@jupyter-widgets/controls",
      "model_module_version": "1.5.0",
      "model_name": "TextModel",
      "state": {
       "description": "T_aire",
       "layout": "IPY_MODEL_a81dfe944cfd4bc2b39d5d13b91dbe9d",
       "style": "IPY_MODEL_73eca73e18284b448cf36957db5a8e97",
       "value": "30"
      }
     },
     "36db52c798034b6a94adf5569c12c903": {
      "model_module": "@jupyter-widgets/base",
      "model_module_version": "1.2.0",
      "model_name": "LayoutModel",
      "state": {}
     },
     "373905981c7d450286456f2d7123c2a4": {
      "model_module": "@jupyter-widgets/controls",
      "model_module_version": "1.5.0",
      "model_name": "TextModel",
      "state": {
       "description": "V_botella",
       "layout": "IPY_MODEL_e495d94d604d4fcda492b2cb3b2a638f",
       "style": "IPY_MODEL_2436799b13c6450d857db48f41ae9513",
       "value": "20"
      }
     },
     "377241fd14434d488391ce34d18d82bf": {
      "model_module": "@jupyter-widgets/base",
      "model_module_version": "1.2.0",
      "model_name": "LayoutModel",
      "state": {}
     },
     "38c1889cea03400397feaae20c24a90e": {
      "model_module": "@jupyter-widgets/controls",
      "model_module_version": "1.5.0",
      "model_name": "TextModel",
      "state": {
       "description": "V_botella",
       "layout": "IPY_MODEL_3fc29125212b4d929c7f4fbc0df905a2",
       "style": "IPY_MODEL_1c264750be7f49d09dddbaa6426e4a4e",
       "value": "20"
      }
     },
     "39be5c0141d045abb786ccc1b9f88363": {
      "model_module": "@jupyter-widgets/controls",
      "model_module_version": "1.5.0",
      "model_name": "TextModel",
      "state": {
       "description": "P_1",
       "layout": "IPY_MODEL_bc9c874b05324976966ec0dece417840",
       "style": "IPY_MODEL_912f91c44fba4465b625e218aa813a8f",
       "value": "200"
      }
     },
     "3ad01413e6e94add9acad214d4e4d52c": {
      "model_module": "@jupyter-widgets/base",
      "model_module_version": "1.2.0",
      "model_name": "LayoutModel",
      "state": {}
     },
     "3c0bf985a4ca48049bad2a6c0430405a": {
      "model_module": "@jupyter-widgets/base",
      "model_module_version": "1.2.0",
      "model_name": "LayoutModel",
      "state": {}
     },
     "3d5937d2b6224e5f92b0ba4ddd1ef704": {
      "model_module": "@jupyter-widgets/controls",
      "model_module_version": "1.5.0",
      "model_name": "DescriptionStyleModel",
      "state": {
       "description_width": ""
      }
     },
     "3dc7210b4e404a12bac961fd347ba9dc": {
      "model_module": "@jupyter-widgets/base",
      "model_module_version": "1.2.0",
      "model_name": "LayoutModel",
      "state": {}
     },
     "3dcaa4dc93e447a09b250945bf851818": {
      "model_module": "@jupyter-widgets/base",
      "model_module_version": "1.2.0",
      "model_name": "LayoutModel",
      "state": {}
     },
     "3e49d9e904c54ef09affd63494c95f11": {
      "model_module": "@jupyter-widgets/base",
      "model_module_version": "1.2.0",
      "model_name": "LayoutModel",
      "state": {}
     },
     "3ef070b4bd1d4975843e350c48bb4c45": {
      "model_module": "@jupyter-widgets/controls",
      "model_module_version": "1.5.0",
      "model_name": "VBoxModel",
      "state": {
       "_dom_classes": [
        "widget-interact"
       ],
       "children": [
        "IPY_MODEL_a8e641cee0d44796a389b5a1f69ba0e1",
        "IPY_MODEL_9564b7c3351349e8b92855bd4535f968",
        "IPY_MODEL_9b09030bbff04649a1d7a35e6c6d3c2f",
        "IPY_MODEL_dfa9b4dbeb4743ec926522afea2a87c2",
        "IPY_MODEL_b11f295ddee44ff4901654030d2be817"
       ],
       "layout": "IPY_MODEL_4df23aa8e7de4cf191dbc9f43d6b3208"
      }
     },
     "3f0545f6c11a46b98b1f257df5c98b52": {
      "model_module": "@jupyter-widgets/base",
      "model_module_version": "1.2.0",
      "model_name": "LayoutModel",
      "state": {}
     },
     "3f7aac01d36d42babcab23aa812a08c6": {
      "model_module": "@jupyter-widgets/controls",
      "model_module_version": "1.5.0",
      "model_name": "DescriptionStyleModel",
      "state": {
       "description_width": ""
      }
     },
     "3fc29125212b4d929c7f4fbc0df905a2": {
      "model_module": "@jupyter-widgets/base",
      "model_module_version": "1.2.0",
      "model_name": "LayoutModel",
      "state": {}
     },
     "412d6e7e214a42cd929a3c2c8c1428e9": {
      "model_module": "@jupyter-widgets/controls",
      "model_module_version": "1.5.0",
      "model_name": "VBoxModel",
      "state": {
       "_dom_classes": [
        "widget-interact"
       ],
       "children": [
        "IPY_MODEL_736d65d02c82435dbc08053b21953598",
        "IPY_MODEL_4478b7fee7694964938f7a35b5918688",
        "IPY_MODEL_44073a25c322455988959d54acd67a00"
       ],
       "layout": "IPY_MODEL_809171c68766415b9fe2b8043cdcf3b3"
      }
     },
     "41aea9fa64d44133ad6f586e1786fdc8": {
      "model_module": "@jupyter-widgets/base",
      "model_module_version": "1.2.0",
      "model_name": "LayoutModel",
      "state": {}
     },
     "41f897fefeac4695afd009ace1ee3942": {
      "model_module": "@jupyter-widgets/controls",
      "model_module_version": "1.5.0",
      "model_name": "TextModel",
      "state": {
       "description": "$m_{_{cañon}}$ (kg)",
       "layout": "IPY_MODEL_fe882e9b100141d29fd3491bf701dfa1",
       "style": "IPY_MODEL_99db42ab3e0a49f89564765bb59b777d",
       "value": "650"
      }
     },
     "423f56566bbc4237ad85cca513717525": {
      "model_module": "@jupyter-widgets/controls",
      "model_module_version": "1.5.0",
      "model_name": "VBoxModel",
      "state": {
       "_dom_classes": [
        "widget-interact"
       ],
       "children": [
        "IPY_MODEL_78280c828cb64d4a9c56d08389761e79",
        "IPY_MODEL_cfefc190e87d45fc87f24e7ba228ab01",
        "IPY_MODEL_96490d292f9242b9bf9a4924cef508ec"
       ],
       "layout": "IPY_MODEL_3f0545f6c11a46b98b1f257df5c98b52"
      }
     },
     "44073a25c322455988959d54acd67a00": {
      "model_module": "@jupyter-widgets/output",
      "model_module_version": "1.0.0",
      "model_name": "OutputModel",
      "state": {
       "layout": "IPY_MODEL_2c62e252ed90416f9ced12707691f53d"
      }
     },
     "4478b7fee7694964938f7a35b5918688": {
      "model_module": "@jupyter-widgets/controls",
      "model_module_version": "1.5.0",
      "model_name": "TextModel",
      "state": {
       "description": "V_botella",
       "layout": "IPY_MODEL_7667d4aef6014bfe8c65bd9e0e0240bd",
       "style": "IPY_MODEL_bc2f75b0971d40b587506d722dfb6d67",
       "value": "20"
      }
     },
     "44d46ed2901447a482e42a1850471209": {
      "model_module": "@jupyter-widgets/base",
      "model_module_version": "1.2.0",
      "model_name": "LayoutModel",
      "state": {}
     },
     "4760d1723da04984a60df4dedec39fd9": {
      "model_module": "@jupyter-widgets/base",
      "model_module_version": "1.2.0",
      "model_name": "LayoutModel",
      "state": {}
     },
     "4a331f4d32ef45dcbf4d5f21fb7ef229": {
      "model_module": "@jupyter-widgets/base",
      "model_module_version": "1.2.0",
      "model_name": "LayoutModel",
      "state": {}
     },
     "4a901276d1a241ec89ed3b05a25422a5": {
      "model_module": "@jupyter-widgets/controls",
      "model_module_version": "1.5.0",
      "model_name": "TextModel",
      "state": {
       "description": "V_botella",
       "layout": "IPY_MODEL_b24b3811135f4bf49ce6c948007bb390",
       "style": "IPY_MODEL_a02ca6a165ff4b758a6a2218aa8c78f4",
       "value": "20"
      }
     },
     "4b9e2e43f04945e597fbf9c7abc0b720": {
      "model_module": "@jupyter-widgets/controls",
      "model_module_version": "1.5.0",
      "model_name": "DescriptionStyleModel",
      "state": {
       "description_width": ""
      }
     },
     "4c869f9ae86d4c62b3afcedb73361612": {
      "model_module": "@jupyter-widgets/base",
      "model_module_version": "1.2.0",
      "model_name": "LayoutModel",
      "state": {}
     },
     "4df23aa8e7de4cf191dbc9f43d6b3208": {
      "model_module": "@jupyter-widgets/base",
      "model_module_version": "1.2.0",
      "model_name": "LayoutModel",
      "state": {}
     },
     "4eaca11e0ad94bec8a1e220690e2ed5c": {
      "model_module": "@jupyter-widgets/controls",
      "model_module_version": "1.5.0",
      "model_name": "TextModel",
      "state": {
       "description": "P_1",
       "layout": "IPY_MODEL_73b0fbe14f1446d197bf2adcbce39dde",
       "style": "IPY_MODEL_92d25456434742539675bd23430c39cd",
       "value": "200"
      }
     },
     "4ef94cad08af444d8e0a5f0d7f1554d7": {
      "model_module": "@jupyter-widgets/output",
      "model_module_version": "1.0.0",
      "model_name": "OutputModel",
      "state": {
       "layout": "IPY_MODEL_b40665ac21b74e1891d660840c46c68b"
      }
     },
     "4f4f64ec56b9466fb51f5f9c73b5ef7a": {
      "model_module": "@jupyter-widgets/controls",
      "model_module_version": "1.5.0",
      "model_name": "TextModel",
      "state": {
       "description": "P_1",
       "layout": "IPY_MODEL_dfe43252a8ce48309475173213b813a2",
       "style": "IPY_MODEL_d4aca45514914e5fa84e069e6453d54c",
       "value": "200"
      }
     },
     "4f65f0abe947490e99678e994b9690a8": {
      "model_module": "@jupyter-widgets/base",
      "model_module_version": "1.2.0",
      "model_name": "LayoutModel",
      "state": {}
     },
     "4fab35ceb4964583abd17bb6e143d456": {
      "model_module": "@jupyter-widgets/controls",
      "model_module_version": "1.5.0",
      "model_name": "DescriptionStyleModel",
      "state": {
       "description_width": ""
      }
     },
     "501a295fb4aa4e7cbcc126055b67f8ad": {
      "model_module": "@jupyter-widgets/output",
      "model_module_version": "1.0.0",
      "model_name": "OutputModel",
      "state": {
       "layout": "IPY_MODEL_9f72cef53ba140eba68e48b311521bad",
       "outputs": [
        {
         "name": "stdout",
         "output_type": "stream",
         "text": "Pulsa calcular para actualizar los campos de texto\n"
        }
       ]
      }
     },
     "503a0653454747e585a7badfd5daa66a": {
      "model_module": "@jupyter-widgets/controls",
      "model_module_version": "1.5.0",
      "model_name": "VBoxModel",
      "state": {
       "_dom_classes": [
        "widget-interact"
       ],
       "children": [
        "IPY_MODEL_c999f9da2b2a4d9ea72f3b08bf3ec5b9",
        "IPY_MODEL_59e6aa3b310549d7bd80000d9f43a267",
        "IPY_MODEL_7ba4641d56bf410e97d343214fcdf100"
       ],
       "layout": "IPY_MODEL_ab2ee9a47e364afb844c43be40a19a27"
      }
     },
     "5048353224f64beabc025bbe03253273": {
      "model_module": "@jupyter-widgets/controls",
      "model_module_version": "1.5.0",
      "model_name": "DescriptionStyleModel",
      "state": {
       "description_width": ""
      }
     },
     "526c92ea11074d73a906775d76c5a1f8": {
      "model_module": "@jupyter-widgets/base",
      "model_module_version": "1.2.0",
      "model_name": "LayoutModel",
      "state": {}
     },
     "534719ec2e73402cab31c4629ce9bded": {
      "model_module": "@jupyter-widgets/controls",
      "model_module_version": "1.5.0",
      "model_name": "TextModel",
      "state": {
       "description": "$R_{_{Aire}}$ $((N\\cdot m)/(kg\\cdot K))$",
       "layout": "IPY_MODEL_6985029da5604a3c8741c299f5c4d3ab",
       "style": "IPY_MODEL_5d15a6d3a9584c9ead16493b7947d799",
       "value": "287"
      }
     },
     "5509573bc00148ae913a1bc02d7b0623": {
      "model_module": "@jupyter-widgets/base",
      "model_module_version": "1.2.0",
      "model_name": "LayoutModel",
      "state": {}
     },
     "550b5448796b4bc5b9af082f4cf03558": {
      "model_module": "@jupyter-widgets/controls",
      "model_module_version": "1.5.0",
      "model_name": "DescriptionStyleModel",
      "state": {
       "description_width": ""
      }
     },
     "551ac65106e4405090a621908fa82c1c": {
      "model_module": "@jupyter-widgets/base",
      "model_module_version": "1.2.0",
      "model_name": "LayoutModel",
      "state": {}
     },
     "58017468d0554eb388fd8f2f68659855": {
      "model_module": "@jupyter-widgets/controls",
      "model_module_version": "1.5.0",
      "model_name": "DescriptionStyleModel",
      "state": {
       "description_width": ""
      }
     },
     "582974c186da4c389fbd7635500495fe": {
      "model_module": "@jupyter-widgets/base",
      "model_module_version": "1.2.0",
      "model_name": "LayoutModel",
      "state": {}
     },
     "599c7b1bd56c43038fc5886b9ef07db3": {
      "model_module": "@jupyter-widgets/controls",
      "model_module_version": "1.5.0",
      "model_name": "TextModel",
      "state": {
       "description": "P_atm",
       "layout": "IPY_MODEL_930804f4ca2d4c738ee3f1efd9ad13da",
       "style": "IPY_MODEL_3d5937d2b6224e5f92b0ba4ddd1ef704",
       "value": "1"
      }
     },
     "59e6aa3b310549d7bd80000d9f43a267": {
      "model_module": "@jupyter-widgets/controls",
      "model_module_version": "1.5.0",
      "model_name": "TextModel",
      "state": {
       "description": "V_botella",
       "layout": "IPY_MODEL_2820aa9cdaaf4b8992392d999c2ec916",
       "style": "IPY_MODEL_d5db2305077e4a389e2eeeb6988902e1",
       "value": "20"
      }
     },
     "5b36c420d6914434bf5fe6c4cc8989e1": {
      "model_module": "@jupyter-widgets/base",
      "model_module_version": "1.2.0",
      "model_name": "LayoutModel",
      "state": {}
     },
     "5cf5249cc0fd4d1b9ae42712c25adf16": {
      "model_module": "@jupyter-widgets/controls",
      "model_module_version": "1.5.0",
      "model_name": "VBoxModel",
      "state": {
       "_dom_classes": [
        "widget-interact"
       ],
       "children": [
        "IPY_MODEL_fb4a1eab13f248b98d8cbc1bc02318c6",
        "IPY_MODEL_d42671961741486db67c1365b6483da7",
        "IPY_MODEL_6797f43663f44dc08e414c190fd13525"
       ],
       "layout": "IPY_MODEL_be91838d230c4a6ca30a1c7150263127"
      }
     },
     "5d15a6d3a9584c9ead16493b7947d799": {
      "model_module": "@jupyter-widgets/controls",
      "model_module_version": "1.5.0",
      "model_name": "DescriptionStyleModel",
      "state": {
       "description_width": ""
      }
     },
     "5dee2dbf73304a7bbcc62f36375ba146": {
      "model_module": "@jupyter-widgets/controls",
      "model_module_version": "1.5.0",
      "model_name": "DescriptionStyleModel",
      "state": {
       "description_width": ""
      }
     },
     "5f6c2dd2bb4b4ec98539401b2eae39b5": {
      "model_module": "@jupyter-widgets/controls",
      "model_module_version": "1.5.0",
      "model_name": "DescriptionStyleModel",
      "state": {
       "description_width": ""
      }
     },
     "5f761d1f7d1a48d385caf9f09c076ce4": {
      "model_module": "@jupyter-widgets/controls",
      "model_module_version": "1.5.0",
      "model_name": "VBoxModel",
      "state": {
       "_dom_classes": [
        "widget-interact"
       ],
       "children": [
        "IPY_MODEL_01f525c52fe544be9455e29609496b50",
        "IPY_MODEL_4a901276d1a241ec89ed3b05a25422a5",
        "IPY_MODEL_ebb511ef3df142e1bc67668d9d20a414"
       ],
       "layout": "IPY_MODEL_c4afecf4118947a3aa48720d9df7c374"
      }
     },
     "5f79a5ad784047d78c520813819a13b1": {
      "model_module": "@jupyter-widgets/controls",
      "model_module_version": "1.5.0",
      "model_name": "DescriptionStyleModel",
      "state": {
       "description_width": ""
      }
     },
     "6042d757a2fb4cbebaefa4964cba134f": {
      "model_module": "@jupyter-widgets/controls",
      "model_module_version": "1.5.0",
      "model_name": "TextModel",
      "state": {
       "description": "V_botella",
       "layout": "IPY_MODEL_a7178d3ff38a4749b44545ef9010032c",
       "style": "IPY_MODEL_550b5448796b4bc5b9af082f4cf03558",
       "value": "20"
      }
     },
     "60a7aa4c5d3243639e2136d9a1eb2c85": {
      "model_module": "@jupyter-widgets/base",
      "model_module_version": "1.2.0",
      "model_name": "LayoutModel",
      "state": {}
     },
     "60f7f8c772db48b0b075a6a3931c46dc": {
      "model_module": "@jupyter-widgets/output",
      "model_module_version": "1.0.0",
      "model_name": "OutputModel",
      "state": {
       "layout": "IPY_MODEL_11661ecd5a6a4149ab15d3aa11728efb"
      }
     },
     "61791165e82d4562b921841ab055b0de": {
      "model_module": "@jupyter-widgets/base",
      "model_module_version": "1.2.0",
      "model_name": "LayoutModel",
      "state": {}
     },
     "639ad815d7d945cdbffb0d224e5b44b2": {
      "model_module": "@jupyter-widgets/controls",
      "model_module_version": "1.5.0",
      "model_name": "TextModel",
      "state": {
       "description": "masa_cañón",
       "layout": "IPY_MODEL_9feef2e21c5048ce93069ea365307263",
       "style": "IPY_MODEL_207b795e694b4c92a3925387743a481b",
       "value": "650"
      }
     },
     "63b84c878357491b86421fd27524c11a": {
      "model_module": "@jupyter-widgets/output",
      "model_module_version": "1.0.0",
      "model_name": "OutputModel",
      "state": {
       "layout": "IPY_MODEL_551ac65106e4405090a621908fa82c1c"
      }
     },
     "658acc3b68ec498199c3947a8dce956f": {
      "model_module": "@jupyter-widgets/controls",
      "model_module_version": "1.5.0",
      "model_name": "DescriptionStyleModel",
      "state": {
       "description_width": ""
      }
     },
     "67090cf774094a66a724b13c6fdb5bea": {
      "model_module": "@jupyter-widgets/controls",
      "model_module_version": "1.5.0",
      "model_name": "VBoxModel",
      "state": {
       "_dom_classes": [
        "widget-interact"
       ],
       "children": [
        "IPY_MODEL_fb3ded019bc24e4aa5b5cdc1883aff99",
        "IPY_MODEL_04dd8d8b9597416093e2d02d7199675b",
        "IPY_MODEL_6e369e35ff7441cbb87c3723d99949b1"
       ],
       "layout": "IPY_MODEL_078e3598cc794619b74bfecda274ad4a"
      }
     },
     "6776afeb0dcd41b18a1aa8d60b341af5": {
      "model_module": "@jupyter-widgets/controls",
      "model_module_version": "1.5.0",
      "model_name": "DescriptionStyleModel",
      "state": {
       "description_width": ""
      }
     },
     "6797f43663f44dc08e414c190fd13525": {
      "model_module": "@jupyter-widgets/output",
      "model_module_version": "1.0.0",
      "model_name": "OutputModel",
      "state": {
       "layout": "IPY_MODEL_938d0567a1444b5dbfef56ebab2ff6b1",
       "outputs": [
        {
         "name": "stdout",
         "output_type": "stream",
         "text": "Pulsa calcular para actualizar los campos de texto\n"
        }
       ]
      }
     },
     "67f78946554842e3925accb2ac14ed85": {
      "model_module": "@jupyter-widgets/base",
      "model_module_version": "1.2.0",
      "model_name": "LayoutModel",
      "state": {}
     },
     "683c9fa5c5d947e0af50b15f592f97f5": {
      "model_module": "@jupyter-widgets/base",
      "model_module_version": "1.2.0",
      "model_name": "LayoutModel",
      "state": {}
     },
     "68d81f03699b428a85af3ee03b45bc62": {
      "model_module": "@jupyter-widgets/controls",
      "model_module_version": "1.5.0",
      "model_name": "VBoxModel",
      "state": {
       "_dom_classes": [
        "widget-interact"
       ],
       "children": [
        "IPY_MODEL_0c782d7958544cfbb2e8517e94496dc3",
        "IPY_MODEL_788e66be988b4d39a4a51d30786b1dc4",
        "IPY_MODEL_60f7f8c772db48b0b075a6a3931c46dc"
       ],
       "layout": "IPY_MODEL_a74a3aa1078e4f9a967f47cb0a72ce5a"
      }
     },
     "68dff8639f5e40b1a707f5ff128afb18": {
      "model_module": "@jupyter-widgets/controls",
      "model_module_version": "1.5.0",
      "model_name": "TextModel",
      "state": {
       "description": "P_1",
       "layout": "IPY_MODEL_fb5c865b14cd473595bc688d50fbd577",
       "style": "IPY_MODEL_6a511a43fbfe43a7b0b824411709d973",
       "value": "200"
      }
     },
     "6985029da5604a3c8741c299f5c4d3ab": {
      "model_module": "@jupyter-widgets/base",
      "model_module_version": "1.2.0",
      "model_name": "LayoutModel",
      "state": {}
     },
     "69da32f935a841bf829c23cc904b1974": {
      "model_module": "@jupyter-widgets/controls",
      "model_module_version": "1.5.0",
      "model_name": "DescriptionStyleModel",
      "state": {
       "description_width": ""
      }
     },
     "6a511a43fbfe43a7b0b824411709d973": {
      "model_module": "@jupyter-widgets/controls",
      "model_module_version": "1.5.0",
      "model_name": "DescriptionStyleModel",
      "state": {
       "description_width": ""
      }
     },
     "6b0c4298a2464ed19ec4a78b9b56c4d1": {
      "model_module": "@jupyter-widgets/controls",
      "model_module_version": "1.5.0",
      "model_name": "DescriptionStyleModel",
      "state": {
       "description_width": ""
      }
     },
     "6c14bfdcdd2e46d69dc858ee86e5aacc": {
      "model_module": "@jupyter-widgets/base",
      "model_module_version": "1.2.0",
      "model_name": "LayoutModel",
      "state": {}
     },
     "6d13183bb19b4101a9e5f70d9324347a": {
      "model_module": "@jupyter-widgets/base",
      "model_module_version": "1.2.0",
      "model_name": "LayoutModel",
      "state": {}
     },
     "6d565f42777e48a19edcd642518ee639": {
      "model_module": "@jupyter-widgets/controls",
      "model_module_version": "1.5.0",
      "model_name": "DescriptionStyleModel",
      "state": {
       "description_width": ""
      }
     },
     "6e369e35ff7441cbb87c3723d99949b1": {
      "model_module": "@jupyter-widgets/output",
      "model_module_version": "1.0.0",
      "model_name": "OutputModel",
      "state": {
       "layout": "IPY_MODEL_d65a082714c444fda71cbdb446885bd2"
      }
     },
     "6e7779fae7e94276a52ee14e772d6dda": {
      "model_module": "@jupyter-widgets/controls",
      "model_module_version": "1.5.0",
      "model_name": "TextModel",
      "state": {
       "description": "$P_{_{H}}$ (mcl)",
       "layout": "IPY_MODEL_bdf80339ba14431d87653da76e71390c",
       "style": "IPY_MODEL_3f7aac01d36d42babcab23aa812a08c6",
       "value": "60"
      }
     },
     "709293f160ea4c539a170e0c798be464": {
      "model_module": "@jupyter-widgets/base",
      "model_module_version": "1.2.0",
      "model_name": "LayoutModel",
      "state": {}
     },
     "719cc032ab2144f2b504df32d9e9a654": {
      "model_module": "@jupyter-widgets/controls",
      "model_module_version": "1.5.0",
      "model_name": "DescriptionStyleModel",
      "state": {
       "description_width": ""
      }
     },
     "72a07be2457940f6bb2115b89562a0fa": {
      "model_module": "@jupyter-widgets/base",
      "model_module_version": "1.2.0",
      "model_name": "LayoutModel",
      "state": {}
     },
     "736d65d02c82435dbc08053b21953598": {
      "model_module": "@jupyter-widgets/controls",
      "model_module_version": "1.5.0",
      "model_name": "TextModel",
      "state": {
       "description": "P_1",
       "layout": "IPY_MODEL_3ad01413e6e94add9acad214d4e4d52c",
       "style": "IPY_MODEL_0396915164d343e592862540374b7981",
       "value": "200"
      }
     },
     "73b0fbe14f1446d197bf2adcbce39dde": {
      "model_module": "@jupyter-widgets/base",
      "model_module_version": "1.2.0",
      "model_name": "LayoutModel",
      "state": {}
     },
     "73e6d7ad22944753b4fecd7b2ca8cc34": {
      "model_module": "@jupyter-widgets/controls",
      "model_module_version": "1.5.0",
      "model_name": "DescriptionStyleModel",
      "state": {
       "description_width": ""
      }
     },
     "73eca73e18284b448cf36957db5a8e97": {
      "model_module": "@jupyter-widgets/controls",
      "model_module_version": "1.5.0",
      "model_name": "DescriptionStyleModel",
      "state": {
       "description_width": ""
      }
     },
     "7667d4aef6014bfe8c65bd9e0e0240bd": {
      "model_module": "@jupyter-widgets/base",
      "model_module_version": "1.2.0",
      "model_name": "LayoutModel",
      "state": {}
     },
     "77211f8226434326b9670ea3db711f54": {
      "model_module": "@jupyter-widgets/base",
      "model_module_version": "1.2.0",
      "model_name": "LayoutModel",
      "state": {}
     },
     "78280c828cb64d4a9c56d08389761e79": {
      "model_module": "@jupyter-widgets/controls",
      "model_module_version": "1.5.0",
      "model_name": "TextModel",
      "state": {
       "description": "P_1",
       "layout": "IPY_MODEL_582974c186da4c389fbd7635500495fe",
       "style": "IPY_MODEL_0da8f08ae670456a98f821a1e5c26323",
       "value": "200"
      }
     },
     "782caa1004ac40d8bd4bfb8d0402cddb": {
      "model_module": "@jupyter-widgets/controls",
      "model_module_version": "1.5.0",
      "model_name": "VBoxModel",
      "state": {
       "_dom_classes": [
        "widget-interact"
       ],
       "children": [
        "IPY_MODEL_e86c495c20534683a18906390eb44e20",
        "IPY_MODEL_b4dc0241362f4e59a108f1573431eeb2",
        "IPY_MODEL_b84c97a614594422ad20b050a2011d9c"
       ],
       "layout": "IPY_MODEL_cdd12d09314d454986a1d0e49b14d78e"
      }
     },
     "788e66be988b4d39a4a51d30786b1dc4": {
      "model_module": "@jupyter-widgets/controls",
      "model_module_version": "1.5.0",
      "model_name": "TextModel",
      "state": {
       "description": "V_botella",
       "layout": "IPY_MODEL_36db52c798034b6a94adf5569c12c903",
       "style": "IPY_MODEL_5f6c2dd2bb4b4ec98539401b2eae39b5",
       "value": "20"
      }
     },
     "799d13b126c34179a68fb71fb24ce5e7": {
      "model_module": "@jupyter-widgets/controls",
      "model_module_version": "1.5.0",
      "model_name": "TextModel",
      "state": {
       "description": "$T_{_{Aire}}$(ºC)",
       "layout": "IPY_MODEL_683c9fa5c5d947e0af50b15f592f97f5",
       "style": "IPY_MODEL_d26f66dbfa2a45099ecaa919714c01a6",
       "value": "30"
      }
     },
     "7ac213f0e7e14c98a926b5ac5e26d653": {
      "model_module": "@jupyter-widgets/controls",
      "model_module_version": "1.5.0",
      "model_name": "DescriptionStyleModel",
      "state": {
       "description_width": ""
      }
     },
     "7b5edfb295b549cda514923463b712c8": {
      "model_module": "@jupyter-widgets/base",
      "model_module_version": "1.2.0",
      "model_name": "LayoutModel",
      "state": {}
     },
     "7b8f88ac846e45d29cbecb586b3da6ac": {
      "model_module": "@jupyter-widgets/base",
      "model_module_version": "1.2.0",
      "model_name": "LayoutModel",
      "state": {}
     },
     "7ba4641d56bf410e97d343214fcdf100": {
      "model_module": "@jupyter-widgets/output",
      "model_module_version": "1.0.0",
      "model_name": "OutputModel",
      "state": {
       "layout": "IPY_MODEL_da94af99b87b4c00829016b6bd7e91dc"
      }
     },
     "7bc39861ddcf4c6f9dab9d5aea27810e": {
      "model_module": "@jupyter-widgets/controls",
      "model_module_version": "1.5.0",
      "model_name": "VBoxModel",
      "state": {
       "_dom_classes": [
        "widget-interact"
       ],
       "children": [
        "IPY_MODEL_4eaca11e0ad94bec8a1e220690e2ed5c",
        "IPY_MODEL_b26b613b92c04a168d28d478f3453547",
        "IPY_MODEL_015cee175d9141baa8a47486347b8128"
       ],
       "layout": "IPY_MODEL_ffbbd40c36a0405db5cfe3146599fc86"
      }
     },
     "7c7311b06a504b799fe85fa550da3f80": {
      "model_module": "@jupyter-widgets/controls",
      "model_module_version": "1.5.0",
      "model_name": "TextModel",
      "state": {
       "description": "$𝜌_{_1}$($kg/m^{^3}$)",
       "layout": "IPY_MODEL_2526bc3e5e19476d826f9aa227e376a7",
       "style": "IPY_MODEL_1ecf5c1ac9ca4cb786e911cb55cd8460",
       "value": "1025"
      }
     },
     "7d07eb25837b46a7a8839cb4fbb3ee2c": {
      "model_module": "@jupyter-widgets/controls",
      "model_module_version": "1.5.0",
      "model_name": "DescriptionStyleModel",
      "state": {
       "description_width": ""
      }
     },
     "7d2da9f3888f433387597e9e3176557c": {
      "model_module": "@jupyter-widgets/controls",
      "model_module_version": "1.5.0",
      "model_name": "DescriptionStyleModel",
      "state": {
       "description_width": ""
      }
     },
     "7dfef7243fc3439083a6b189efe12660": {
      "model_module": "@jupyter-widgets/base",
      "model_module_version": "1.2.0",
      "model_name": "LayoutModel",
      "state": {}
     },
     "7e100ddbf5e348d782e6f8787b86b21e": {
      "model_module": "@jupyter-widgets/output",
      "model_module_version": "1.0.0",
      "model_name": "OutputModel",
      "state": {
       "layout": "IPY_MODEL_f1dcf93104f0487c9775edc8ea78ef64"
      }
     },
     "805c1ce6ddf244aa960f0b28441cceeb": {
      "model_module": "@jupyter-widgets/base",
      "model_module_version": "1.2.0",
      "model_name": "LayoutModel",
      "state": {}
     },
     "809171c68766415b9fe2b8043cdcf3b3": {
      "model_module": "@jupyter-widgets/base",
      "model_module_version": "1.2.0",
      "model_name": "LayoutModel",
      "state": {}
     },
     "8481bea4a1b94424bb8e93251d757766": {
      "model_module": "@jupyter-widgets/controls",
      "model_module_version": "1.5.0",
      "model_name": "DescriptionStyleModel",
      "state": {
       "description_width": ""
      }
     },
     "84a9dbc778ab4d3aaea6d415cc2afc77": {
      "model_module": "@jupyter-widgets/controls",
      "model_module_version": "1.5.0",
      "model_name": "VBoxModel",
      "state": {
       "_dom_classes": [
        "widget-interact"
       ],
       "children": [
        "IPY_MODEL_24318a66964f41bbb6f05ed74f22e8e8",
        "IPY_MODEL_31cfc3df23f349e38f86ee2cb28938d8",
        "IPY_MODEL_2cd26231d6b5426e8e7bf47f33eb0041"
       ],
       "layout": "IPY_MODEL_3c0bf985a4ca48049bad2a6c0430405a"
      }
     },
     "855494233ead45cf89447d8a4ab7224d": {
      "model_module": "@jupyter-widgets/controls",
      "model_module_version": "1.5.0",
      "model_name": "VBoxModel",
      "state": {
       "_dom_classes": [
        "widget-interact"
       ],
       "children": [
        "IPY_MODEL_4f4f64ec56b9466fb51f5f9c73b5ef7a",
        "IPY_MODEL_0a5cd85e1e5c409c8b768dc12f01c587",
        "IPY_MODEL_a95b1ed246a84b048b930fe199f851ec"
       ],
       "layout": "IPY_MODEL_e151ce87c12f4f1da0b8f2a805ee6d1d"
      }
     },
     "857f71cec81b4e6a827c3b60baf31e50": {
      "model_module": "@jupyter-widgets/controls",
      "model_module_version": "1.5.0",
      "model_name": "VBoxModel",
      "state": {
       "_dom_classes": [
        "widget-interact"
       ],
       "children": [
        "IPY_MODEL_16c222b5738344d38ad9a45d8322e572",
        "IPY_MODEL_38c1889cea03400397feaae20c24a90e",
        "IPY_MODEL_00bf8a776476411089bf3db0edc02e1d"
       ],
       "layout": "IPY_MODEL_8953b891d2664e789df06d1fce5caad4"
      }
     },
     "88138be4611e4fcabef8faee4cce1839": {
      "model_module": "@jupyter-widgets/base",
      "model_module_version": "1.2.0",
      "model_name": "LayoutModel",
      "state": {}
     },
     "8953b891d2664e789df06d1fce5caad4": {
      "model_module": "@jupyter-widgets/base",
      "model_module_version": "1.2.0",
      "model_name": "LayoutModel",
      "state": {}
     },
     "895b4a54222f4c2385b0a5f98665e204": {
      "model_module": "@jupyter-widgets/controls",
      "model_module_version": "1.5.0",
      "model_name": "VBoxModel",
      "state": {
       "_dom_classes": [
        "widget-interact"
       ],
       "children": [
        "IPY_MODEL_e90b149a564d4facbf8dc39c1508ca77",
        "IPY_MODEL_ac4d8a893db947749b6beef894a44dc2",
        "IPY_MODEL_04d0f4a45d6145b195a845bc3ba5eeb2",
        "IPY_MODEL_365f0ef70d6b43ccb0634417bbc2c7d1",
        "IPY_MODEL_1f622d72f2984a27a28000b2e5f78a2e"
       ],
       "layout": "IPY_MODEL_5b36c420d6914434bf5fe6c4cc8989e1"
      }
     },
     "896de44cec674284ad648be3e4c7e93e": {
      "model_module": "@jupyter-widgets/base",
      "model_module_version": "1.2.0",
      "model_name": "LayoutModel",
      "state": {}
     },
     "8a9dd8ce90184b10bc97c1557bf476ad": {
      "model_module": "@jupyter-widgets/controls",
      "model_module_version": "1.5.0",
      "model_name": "VBoxModel",
      "state": {
       "_dom_classes": [
        "widget-interact"
       ],
       "children": [
        "IPY_MODEL_bbc4d5093cd04f60a03571def17056e4",
        "IPY_MODEL_41f897fefeac4695afd009ace1ee3942",
        "IPY_MODEL_7c7311b06a504b799fe85fa550da3f80",
        "IPY_MODEL_501a295fb4aa4e7cbcc126055b67f8ad"
       ],
       "layout": "IPY_MODEL_a02568f590a74672bd778572afe62c79"
      }
     },
     "8b6548085bf54d0ea99ddb469eb5f0d3": {
      "model_module": "@jupyter-widgets/base",
      "model_module_version": "1.2.0",
      "model_name": "LayoutModel",
      "state": {}
     },
     "8cafec1726b04bb0b001cf0a640f2dc1": {
      "model_module": "@jupyter-widgets/controls",
      "model_module_version": "1.5.0",
      "model_name": "DescriptionStyleModel",
      "state": {
       "description_width": ""
      }
     },
     "8e67ca9a40a84951a177d9d84e6c5eed": {
      "model_module": "@jupyter-widgets/controls",
      "model_module_version": "1.5.0",
      "model_name": "TextModel",
      "state": {
       "description": "V_cañón",
       "layout": "IPY_MODEL_72a07be2457940f6bb2115b89562a0fa",
       "style": "IPY_MODEL_ef36e040a7fb4294a68931c15ab41192",
       "value": "0.13"
      }
     },
     "8f28765cfd28412a95614a5ec7c1df7f": {
      "model_module": "@jupyter-widgets/base",
      "model_module_version": "1.2.0",
      "model_name": "LayoutModel",
      "state": {}
     },
     "8f3e6e18e2284c20932c3dfddb983e8e": {
      "model_module": "@jupyter-widgets/base",
      "model_module_version": "1.2.0",
      "model_name": "LayoutModel",
      "state": {}
     },
     "9028f52e61ee4d089914c765e20ed315": {
      "model_module": "@jupyter-widgets/controls",
      "model_module_version": "1.5.0",
      "model_name": "DescriptionStyleModel",
      "state": {
       "description_width": ""
      }
     },
     "904ec6fe705444c1b06770086dba682a": {
      "model_module": "@jupyter-widgets/controls",
      "model_module_version": "1.5.0",
      "model_name": "DescriptionStyleModel",
      "state": {
       "description_width": ""
      }
     },
     "9060c7aedf0b4350b00f8b6e678cb076": {
      "model_module": "@jupyter-widgets/controls",
      "model_module_version": "1.5.0",
      "model_name": "DescriptionStyleModel",
      "state": {
       "description_width": ""
      }
     },
     "90981f2a3d9b4ffb84770116bd1ac4f7": {
      "model_module": "@jupyter-widgets/output",
      "model_module_version": "1.0.0",
      "model_name": "OutputModel",
      "state": {
       "layout": "IPY_MODEL_2b559a8b0f174295ac852c22651b0588"
      }
     },
     "912f91c44fba4465b625e218aa813a8f": {
      "model_module": "@jupyter-widgets/controls",
      "model_module_version": "1.5.0",
      "model_name": "DescriptionStyleModel",
      "state": {
       "description_width": ""
      }
     },
     "92d25456434742539675bd23430c39cd": {
      "model_module": "@jupyter-widgets/controls",
      "model_module_version": "1.5.0",
      "model_name": "DescriptionStyleModel",
      "state": {
       "description_width": ""
      }
     },
     "930804f4ca2d4c738ee3f1efd9ad13da": {
      "model_module": "@jupyter-widgets/base",
      "model_module_version": "1.2.0",
      "model_name": "LayoutModel",
      "state": {}
     },
     "938d0567a1444b5dbfef56ebab2ff6b1": {
      "model_module": "@jupyter-widgets/base",
      "model_module_version": "1.2.0",
      "model_name": "LayoutModel",
      "state": {}
     },
     "9564b7c3351349e8b92855bd4535f968": {
      "model_module": "@jupyter-widgets/controls",
      "model_module_version": "1.5.0",
      "model_name": "TextModel",
      "state": {
       "description": "V_botella",
       "layout": "IPY_MODEL_f69af38fb8274a7d8c0e3a66bedee4e4",
       "style": "IPY_MODEL_b93373524b5f475395acbacc27f34698",
       "value": "20"
      }
     },
     "95b2724ed9dd49d19144c2be515f163f": {
      "model_module": "@jupyter-widgets/base",
      "model_module_version": "1.2.0",
      "model_name": "LayoutModel",
      "state": {}
     },
     "96490d292f9242b9bf9a4924cef508ec": {
      "model_module": "@jupyter-widgets/output",
      "model_module_version": "1.0.0",
      "model_name": "OutputModel",
      "state": {
       "layout": "IPY_MODEL_c55146f7bac0476d8f84328afc917aac"
      }
     },
     "99db42ab3e0a49f89564765bb59b777d": {
      "model_module": "@jupyter-widgets/controls",
      "model_module_version": "1.5.0",
      "model_name": "DescriptionStyleModel",
      "state": {
       "description_width": ""
      }
     },
     "9b004a427c9542858f84329fed73b19f": {
      "model_module": "@jupyter-widgets/base",
      "model_module_version": "1.2.0",
      "model_name": "LayoutModel",
      "state": {}
     },
     "9b09030bbff04649a1d7a35e6c6d3c2f": {
      "model_module": "@jupyter-widgets/controls",
      "model_module_version": "1.5.0",
      "model_name": "TextModel",
      "state": {
       "description": "R_aire",
       "layout": "IPY_MODEL_f51fb07599cb45db847adf7dc5b8b5d8",
       "style": "IPY_MODEL_69da32f935a841bf829c23cc904b1974",
       "value": "287"
      }
     },
     "9f52f5f825ca45019fe57dbe7890f65e": {
      "model_module": "@jupyter-widgets/output",
      "model_module_version": "1.0.0",
      "model_name": "OutputModel",
      "state": {
       "layout": "IPY_MODEL_15b36c15474548298766cdf3165a82fc"
      }
     },
     "9f72cef53ba140eba68e48b311521bad": {
      "model_module": "@jupyter-widgets/base",
      "model_module_version": "1.2.0",
      "model_name": "LayoutModel",
      "state": {}
     },
     "9fce117ce8574d90b1bc6abb9d33ef32": {
      "model_module": "@jupyter-widgets/base",
      "model_module_version": "1.2.0",
      "model_name": "LayoutModel",
      "state": {}
     },
     "9fddbed4c6dc4d76ae495aedf2efebc1": {
      "model_module": "@jupyter-widgets/base",
      "model_module_version": "1.2.0",
      "model_name": "LayoutModel",
      "state": {}
     },
     "9feef2e21c5048ce93069ea365307263": {
      "model_module": "@jupyter-widgets/base",
      "model_module_version": "1.2.0",
      "model_name": "LayoutModel",
      "state": {}
     },
     "a02568f590a74672bd778572afe62c79": {
      "model_module": "@jupyter-widgets/base",
      "model_module_version": "1.2.0",
      "model_name": "LayoutModel",
      "state": {}
     },
     "a02ca6a165ff4b758a6a2218aa8c78f4": {
      "model_module": "@jupyter-widgets/controls",
      "model_module_version": "1.5.0",
      "model_name": "DescriptionStyleModel",
      "state": {
       "description_width": ""
      }
     },
     "a5bd2fae944f416a81e4336905567d62": {
      "model_module": "@jupyter-widgets/base",
      "model_module_version": "1.2.0",
      "model_name": "LayoutModel",
      "state": {}
     },
     "a7178d3ff38a4749b44545ef9010032c": {
      "model_module": "@jupyter-widgets/base",
      "model_module_version": "1.2.0",
      "model_name": "LayoutModel",
      "state": {}
     },
     "a74a3aa1078e4f9a967f47cb0a72ce5a": {
      "model_module": "@jupyter-widgets/base",
      "model_module_version": "1.2.0",
      "model_name": "LayoutModel",
      "state": {}
     },
     "a81dfe944cfd4bc2b39d5d13b91dbe9d": {
      "model_module": "@jupyter-widgets/base",
      "model_module_version": "1.2.0",
      "model_name": "LayoutModel",
      "state": {}
     },
     "a8d55fe2fab44cf289d973f7daf00b41": {
      "model_module": "@jupyter-widgets/base",
      "model_module_version": "1.2.0",
      "model_name": "LayoutModel",
      "state": {}
     },
     "a8e641cee0d44796a389b5a1f69ba0e1": {
      "model_module": "@jupyter-widgets/controls",
      "model_module_version": "1.5.0",
      "model_name": "TextModel",
      "state": {
       "description": "P_1",
       "layout": "IPY_MODEL_e499f46085bf4ef9b86dc06b7f1b3e2d",
       "style": "IPY_MODEL_8cafec1726b04bb0b001cf0a640f2dc1",
       "value": "200"
      }
     },
     "a95b1ed246a84b048b930fe199f851ec": {
      "model_module": "@jupyter-widgets/output",
      "model_module_version": "1.0.0",
      "model_name": "OutputModel",
      "state": {
       "layout": "IPY_MODEL_1794a7a30c6d455ba9dcbe9e62087eb3"
      }
     },
     "a9c8585b487f446eb69f2b77e71138a9": {
      "model_module": "@jupyter-widgets/base",
      "model_module_version": "1.2.0",
      "model_name": "LayoutModel",
      "state": {}
     },
     "ab2ee9a47e364afb844c43be40a19a27": {
      "model_module": "@jupyter-widgets/base",
      "model_module_version": "1.2.0",
      "model_name": "LayoutModel",
      "state": {}
     },
     "ac4d8a893db947749b6beef894a44dc2": {
      "model_module": "@jupyter-widgets/controls",
      "model_module_version": "1.5.0",
      "model_name": "TextModel",
      "state": {
       "description": "V_botella",
       "layout": "IPY_MODEL_1e524c22d7664b3d86d599e623976479",
       "style": "IPY_MODEL_6b0c4298a2464ed19ec4a78b9b56c4d1",
       "value": "20"
      }
     },
     "acba42737ff8488782fab54fe06b4214": {
      "model_module": "@jupyter-widgets/controls",
      "model_module_version": "1.5.0",
      "model_name": "DescriptionStyleModel",
      "state": {
       "description_width": ""
      }
     },
     "b0dae720986e4fbeaa99724c7a7183f8": {
      "model_module": "@jupyter-widgets/base",
      "model_module_version": "1.2.0",
      "model_name": "LayoutModel",
      "state": {}
     },
     "b11f295ddee44ff4901654030d2be817": {
      "model_module": "@jupyter-widgets/output",
      "model_module_version": "1.0.0",
      "model_name": "OutputModel",
      "state": {
       "layout": "IPY_MODEL_3dcaa4dc93e447a09b250945bf851818"
      }
     },
     "b14f08f369c94ec384deee7fc2dbee4d": {
      "model_module": "@jupyter-widgets/controls",
      "model_module_version": "1.5.0",
      "model_name": "TextModel",
      "state": {
       "description": "V_botella",
       "layout": "IPY_MODEL_7b8f88ac846e45d29cbecb586b3da6ac",
       "style": "IPY_MODEL_ebebc1b18d4442e6b0cdb73f71bec062",
       "value": "20"
      }
     },
     "b1666c5a0b4f45e5be610b8dbd7b70c5": {
      "model_module": "@jupyter-widgets/output",
      "model_module_version": "1.0.0",
      "model_name": "OutputModel",
      "state": {
       "layout": "IPY_MODEL_377241fd14434d488391ce34d18d82bf"
      }
     },
     "b24b3811135f4bf49ce6c948007bb390": {
      "model_module": "@jupyter-widgets/base",
      "model_module_version": "1.2.0",
      "model_name": "LayoutModel",
      "state": {}
     },
     "b26b613b92c04a168d28d478f3453547": {
      "model_module": "@jupyter-widgets/controls",
      "model_module_version": "1.5.0",
      "model_name": "TextModel",
      "state": {
       "description": "V_botella",
       "layout": "IPY_MODEL_27cf2e35aacc46879ae640e92eabb52a",
       "style": "IPY_MODEL_5f79a5ad784047d78c520813819a13b1",
       "value": "20"
      }
     },
     "b40665ac21b74e1891d660840c46c68b": {
      "model_module": "@jupyter-widgets/base",
      "model_module_version": "1.2.0",
      "model_name": "LayoutModel",
      "state": {}
     },
     "b4dc0241362f4e59a108f1573431eeb2": {
      "model_module": "@jupyter-widgets/controls",
      "model_module_version": "1.5.0",
      "model_name": "TextModel",
      "state": {
       "description": "V_botella",
       "layout": "IPY_MODEL_896de44cec674284ad648be3e4c7e93e",
       "style": "IPY_MODEL_061bb1a370f04614a3078981141555a7",
       "value": "20"
      }
     },
     "b7b303f025b34f979abcd34ee1ae9d84": {
      "model_module": "@jupyter-widgets/base",
      "model_module_version": "1.2.0",
      "model_name": "LayoutModel",
      "state": {}
     },
     "b84c97a614594422ad20b050a2011d9c": {
      "model_module": "@jupyter-widgets/output",
      "model_module_version": "1.0.0",
      "model_name": "OutputModel",
      "state": {
       "layout": "IPY_MODEL_709293f160ea4c539a170e0c798be464"
      }
     },
     "b93373524b5f475395acbacc27f34698": {
      "model_module": "@jupyter-widgets/controls",
      "model_module_version": "1.5.0",
      "model_name": "DescriptionStyleModel",
      "state": {
       "description_width": ""
      }
     },
     "ba53135a39e44bc4b1e338eb568c6b6a": {
      "model_module": "@jupyter-widgets/controls",
      "model_module_version": "1.5.0",
      "model_name": "VBoxModel",
      "state": {
       "_dom_classes": [
        "widget-interact"
       ],
       "children": [
        "IPY_MODEL_30a7b1948356402e986ceaeb903e9131",
        "IPY_MODEL_2c5701ada8374c3c82b985f45391b8ec",
        "IPY_MODEL_bed81eabecdb4bc5a3792c26a5c4c988"
       ],
       "layout": "IPY_MODEL_6d13183bb19b4101a9e5f70d9324347a"
      }
     },
     "bbc4d5093cd04f60a03571def17056e4": {
      "model_module": "@jupyter-widgets/controls",
      "model_module_version": "1.5.0",
      "model_name": "TextModel",
      "state": {
       "description": "$V_{_{cañon}}$ ($m^{^3}$)",
       "layout": "IPY_MODEL_44d46ed2901447a482e42a1850471209",
       "style": "IPY_MODEL_4b9e2e43f04945e597fbf9c7abc0b720",
       "value": "0.13"
      }
     },
     "bc2f75b0971d40b587506d722dfb6d67": {
      "model_module": "@jupyter-widgets/controls",
      "model_module_version": "1.5.0",
      "model_name": "DescriptionStyleModel",
      "state": {
       "description_width": ""
      }
     },
     "bc9c874b05324976966ec0dece417840": {
      "model_module": "@jupyter-widgets/base",
      "model_module_version": "1.2.0",
      "model_name": "LayoutModel",
      "state": {}
     },
     "bdf80339ba14431d87653da76e71390c": {
      "model_module": "@jupyter-widgets/base",
      "model_module_version": "1.2.0",
      "model_name": "LayoutModel",
      "state": {}
     },
     "be91838d230c4a6ca30a1c7150263127": {
      "model_module": "@jupyter-widgets/base",
      "model_module_version": "1.2.0",
      "model_name": "LayoutModel",
      "state": {}
     },
     "bebc496596d24d76b4659fcbca9d5e37": {
      "model_module": "@jupyter-widgets/controls",
      "model_module_version": "1.5.0",
      "model_name": "DescriptionStyleModel",
      "state": {
       "description_width": ""
      }
     },
     "bed81eabecdb4bc5a3792c26a5c4c988": {
      "model_module": "@jupyter-widgets/output",
      "model_module_version": "1.0.0",
      "model_name": "OutputModel",
      "state": {
       "layout": "IPY_MODEL_9b004a427c9542858f84329fed73b19f"
      }
     },
     "c107f96a631b4ff5bfbad4ea912c9cf0": {
      "model_module": "@jupyter-widgets/controls",
      "model_module_version": "1.5.0",
      "model_name": "VBoxModel",
      "state": {
       "_dom_classes": [
        "widget-interact"
       ],
       "children": [
        "IPY_MODEL_6e7779fae7e94276a52ee14e772d6dda",
        "IPY_MODEL_1c5f492bdbcf4b84b606978d5d365542",
        "IPY_MODEL_534719ec2e73402cab31c4629ce9bded",
        "IPY_MODEL_799d13b126c34179a68fb71fb24ce5e7",
        "IPY_MODEL_d5e04ddd78e74f428898164931152911"
       ],
       "layout": "IPY_MODEL_9fce117ce8574d90b1bc6abb9d33ef32"
      }
     },
     "c16d811eef3f4c04ba3a53282892fb25": {
      "model_module": "@jupyter-widgets/controls",
      "model_module_version": "1.5.0",
      "model_name": "VBoxModel",
      "state": {
       "_dom_classes": [
        "widget-interact"
       ],
       "children": [
        "IPY_MODEL_e032a42eb7f94542b61858eb29df4bbd",
        "IPY_MODEL_b14f08f369c94ec384deee7fc2dbee4d",
        "IPY_MODEL_b1666c5a0b4f45e5be610b8dbd7b70c5"
       ],
       "layout": "IPY_MODEL_dc1a451c572b49479cc6de774724b289"
      }
     },
     "c3ac0e61f5b0469495df7189143b43a3": {
      "model_module": "@jupyter-widgets/controls",
      "model_module_version": "1.5.0",
      "model_name": "TextModel",
      "state": {
       "description": "P_1",
       "layout": "IPY_MODEL_da27040ef1a04dff94fbd6259d144511",
       "style": "IPY_MODEL_5dee2dbf73304a7bbcc62f36375ba146",
       "value": "200"
      }
     },
     "c48f11305ca94d97946c406474cee8cd": {
      "model_module": "@jupyter-widgets/controls",
      "model_module_version": "1.5.0",
      "model_name": "VBoxModel",
      "state": {
       "_dom_classes": [
        "widget-interact"
       ],
       "children": [
        "IPY_MODEL_c3ac0e61f5b0469495df7189143b43a3",
        "IPY_MODEL_373905981c7d450286456f2d7123c2a4",
        "IPY_MODEL_03caa2404c404bd986156afb1fb180e1"
       ],
       "layout": "IPY_MODEL_f9490869bff44b94bd3dfaebff2f4b18"
      }
     },
     "c4afecf4118947a3aa48720d9df7c374": {
      "model_module": "@jupyter-widgets/base",
      "model_module_version": "1.2.0",
      "model_name": "LayoutModel",
      "state": {}
     },
     "c55146f7bac0476d8f84328afc917aac": {
      "model_module": "@jupyter-widgets/base",
      "model_module_version": "1.2.0",
      "model_name": "LayoutModel",
      "state": {}
     },
     "c5acbf7303f44547b62d46cf3da3f3ce": {
      "model_module": "@jupyter-widgets/controls",
      "model_module_version": "1.5.0",
      "model_name": "TextModel",
      "state": {
       "description": "P_1",
       "layout": "IPY_MODEL_d4ca7e37384f4dd4b5928ea33364ac4a",
       "style": "IPY_MODEL_33dc2df52bac49aba7e5f2196b1f44a4",
       "value": "200"
      }
     },
     "c67133738d5745dda53149e61e3f90f1": {
      "model_module": "@jupyter-widgets/controls",
      "model_module_version": "1.5.0",
      "model_name": "VBoxModel",
      "state": {
       "_dom_classes": [
        "widget-interact"
       ],
       "children": [
        "IPY_MODEL_8e67ca9a40a84951a177d9d84e6c5eed",
        "IPY_MODEL_639ad815d7d945cdbffb0d224e5b44b2",
        "IPY_MODEL_066ada7c6130432dad5819934cbc0b12",
        "IPY_MODEL_160a6aec12154a6fbc6d8563efa3c7f1"
       ],
       "layout": "IPY_MODEL_187e393f762f465e90d42dd74c647eb2"
      }
     },
     "c6a67e6dd13146159330c76d4f7e6f1e": {
      "model_module": "@jupyter-widgets/base",
      "model_module_version": "1.2.0",
      "model_name": "LayoutModel",
      "state": {}
     },
     "c999f9da2b2a4d9ea72f3b08bf3ec5b9": {
      "model_module": "@jupyter-widgets/controls",
      "model_module_version": "1.5.0",
      "model_name": "TextModel",
      "state": {
       "description": "P_1",
       "layout": "IPY_MODEL_f2a444fe6b744442bfddba69f133ea80",
       "style": "IPY_MODEL_10b4b4a31ae048cd8012c1594167e985",
       "value": "200"
      }
     },
     "cd8ceaef650944df8e8ca23bf3430691": {
      "model_module": "@jupyter-widgets/base",
      "model_module_version": "1.2.0",
      "model_name": "LayoutModel",
      "state": {}
     },
     "cdca767b11cb42f4b66a0adc67a6f435": {
      "model_module": "@jupyter-widgets/controls",
      "model_module_version": "1.5.0",
      "model_name": "DescriptionStyleModel",
      "state": {
       "description_width": ""
      }
     },
     "cdd12d09314d454986a1d0e49b14d78e": {
      "model_module": "@jupyter-widgets/base",
      "model_module_version": "1.2.0",
      "model_name": "LayoutModel",
      "state": {}
     },
     "cf098581cfb445b99aabdbe0d4f55232": {
      "model_module": "@jupyter-widgets/controls",
      "model_module_version": "1.5.0",
      "model_name": "VBoxModel",
      "state": {
       "_dom_classes": [
        "widget-interact"
       ],
       "children": [
        "IPY_MODEL_021eaef1048b4c3b9341bddde3342ce6",
        "IPY_MODEL_2c0fb75294cf4f3689bd961ca5ea4fcd",
        "IPY_MODEL_9f52f5f825ca45019fe57dbe7890f65e"
       ],
       "layout": "IPY_MODEL_e798b683b382494882ef2a67ef58d8ac"
      }
     },
     "cfefc190e87d45fc87f24e7ba228ab01": {
      "model_module": "@jupyter-widgets/controls",
      "model_module_version": "1.5.0",
      "model_name": "TextModel",
      "state": {
       "description": "V_botella",
       "layout": "IPY_MODEL_77211f8226434326b9670ea3db711f54",
       "style": "IPY_MODEL_0e4b5fd8fc2a44f7b807d4a1b1829de3",
       "value": "20"
      }
     },
     "d26f66dbfa2a45099ecaa919714c01a6": {
      "model_module": "@jupyter-widgets/controls",
      "model_module_version": "1.5.0",
      "model_name": "DescriptionStyleModel",
      "state": {
       "description_width": ""
      }
     },
     "d3ccee78a9604df0ae4991ca1a786a77": {
      "model_module": "@jupyter-widgets/base",
      "model_module_version": "1.2.0",
      "model_name": "LayoutModel",
      "state": {}
     },
     "d42671961741486db67c1365b6483da7": {
      "model_module": "@jupyter-widgets/controls",
      "model_module_version": "1.5.0",
      "model_name": "TextModel",
      "state": {
       "description": "$V_{_{botella}}$ (l)",
       "layout": "IPY_MODEL_f16a842acd0b41dd89c625007fefba98",
       "style": "IPY_MODEL_089f4168f9c94453be2dfa684c1fc9a5",
       "value": "20"
      }
     },
     "d4aca45514914e5fa84e069e6453d54c": {
      "model_module": "@jupyter-widgets/controls",
      "model_module_version": "1.5.0",
      "model_name": "DescriptionStyleModel",
      "state": {
       "description_width": ""
      }
     },
     "d4ca7e37384f4dd4b5928ea33364ac4a": {
      "model_module": "@jupyter-widgets/base",
      "model_module_version": "1.2.0",
      "model_name": "LayoutModel",
      "state": {}
     },
     "d5db2305077e4a389e2eeeb6988902e1": {
      "model_module": "@jupyter-widgets/controls",
      "model_module_version": "1.5.0",
      "model_name": "DescriptionStyleModel",
      "state": {
       "description_width": ""
      }
     },
     "d5e04ddd78e74f428898164931152911": {
      "model_module": "@jupyter-widgets/output",
      "model_module_version": "1.0.0",
      "model_name": "OutputModel",
      "state": {
       "layout": "IPY_MODEL_88138be4611e4fcabef8faee4cce1839",
       "outputs": [
        {
         "name": "stdout",
         "output_type": "stream",
         "text": "Pulsa calcular para actualizar los campos de texto\n"
        }
       ]
      }
     },
     "d65a082714c444fda71cbdb446885bd2": {
      "model_module": "@jupyter-widgets/base",
      "model_module_version": "1.2.0",
      "model_name": "LayoutModel",
      "state": {}
     },
     "d9f8a9f4deb9428db3ebf4b6726b8b8b": {
      "model_module": "@jupyter-widgets/base",
      "model_module_version": "1.2.0",
      "model_name": "LayoutModel",
      "state": {}
     },
     "d9fa61a247f54de1bf3e217463a6198e": {
      "model_module": "@jupyter-widgets/controls",
      "model_module_version": "1.5.0",
      "model_name": "DescriptionStyleModel",
      "state": {
       "description_width": ""
      }
     },
     "da27040ef1a04dff94fbd6259d144511": {
      "model_module": "@jupyter-widgets/base",
      "model_module_version": "1.2.0",
      "model_name": "LayoutModel",
      "state": {}
     },
     "da94af99b87b4c00829016b6bd7e91dc": {
      "model_module": "@jupyter-widgets/base",
      "model_module_version": "1.2.0",
      "model_name": "LayoutModel",
      "state": {}
     },
     "dc1a451c572b49479cc6de774724b289": {
      "model_module": "@jupyter-widgets/base",
      "model_module_version": "1.2.0",
      "model_name": "LayoutModel",
      "state": {}
     },
     "dd642afb10c6416da41962e4f1b0eab4": {
      "model_module": "@jupyter-widgets/controls",
      "model_module_version": "1.5.0",
      "model_name": "TextModel",
      "state": {
       "description": "V_botella",
       "layout": "IPY_MODEL_805c1ce6ddf244aa960f0b28441cceeb",
       "style": "IPY_MODEL_acba42737ff8488782fab54fe06b4214",
       "value": "20"
      }
     },
     "dfa9b4dbeb4743ec926522afea2a87c2": {
      "model_module": "@jupyter-widgets/controls",
      "model_module_version": "1.5.0",
      "model_name": "TextModel",
      "state": {
       "description": "T_aire",
       "layout": "IPY_MODEL_67f78946554842e3925accb2ac14ed85",
       "style": "IPY_MODEL_bebc496596d24d76b4659fcbca9d5e37",
       "value": "30"
      }
     },
     "dfe43252a8ce48309475173213b813a2": {
      "model_module": "@jupyter-widgets/base",
      "model_module_version": "1.2.0",
      "model_name": "LayoutModel",
      "state": {}
     },
     "e032a42eb7f94542b61858eb29df4bbd": {
      "model_module": "@jupyter-widgets/controls",
      "model_module_version": "1.5.0",
      "model_name": "TextModel",
      "state": {
       "description": "P_1",
       "layout": "IPY_MODEL_1c9578584ee84174bd12381b65fb6b99",
       "style": "IPY_MODEL_58017468d0554eb388fd8f2f68659855",
       "value": "200"
      }
     },
     "e151ce87c12f4f1da0b8f2a805ee6d1d": {
      "model_module": "@jupyter-widgets/base",
      "model_module_version": "1.2.0",
      "model_name": "LayoutModel",
      "state": {}
     },
     "e495d94d604d4fcda492b2cb3b2a638f": {
      "model_module": "@jupyter-widgets/base",
      "model_module_version": "1.2.0",
      "model_name": "LayoutModel",
      "state": {}
     },
     "e499f46085bf4ef9b86dc06b7f1b3e2d": {
      "model_module": "@jupyter-widgets/base",
      "model_module_version": "1.2.0",
      "model_name": "LayoutModel",
      "state": {}
     },
     "e798b683b382494882ef2a67ef58d8ac": {
      "model_module": "@jupyter-widgets/base",
      "model_module_version": "1.2.0",
      "model_name": "LayoutModel",
      "state": {}
     },
     "e86c495c20534683a18906390eb44e20": {
      "model_module": "@jupyter-widgets/controls",
      "model_module_version": "1.5.0",
      "model_name": "TextModel",
      "state": {
       "description": "P_1",
       "layout": "IPY_MODEL_9fddbed4c6dc4d76ae495aedf2efebc1",
       "style": "IPY_MODEL_8481bea4a1b94424bb8e93251d757766",
       "value": "200"
      }
     },
     "e90b149a564d4facbf8dc39c1508ca77": {
      "model_module": "@jupyter-widgets/controls",
      "model_module_version": "1.5.0",
      "model_name": "TextModel",
      "state": {
       "description": "P_1",
       "layout": "IPY_MODEL_4f65f0abe947490e99678e994b9690a8",
       "style": "IPY_MODEL_658acc3b68ec498199c3947a8dce956f",
       "value": "200"
      }
     },
     "eb49a6ef79e64c789b359f0885f4978e": {
      "model_module": "@jupyter-widgets/base",
      "model_module_version": "1.2.0",
      "model_name": "LayoutModel",
      "state": {}
     },
     "ebb511ef3df142e1bc67668d9d20a414": {
      "model_module": "@jupyter-widgets/output",
      "model_module_version": "1.0.0",
      "model_name": "OutputModel",
      "state": {
       "layout": "IPY_MODEL_b7b303f025b34f979abcd34ee1ae9d84"
      }
     },
     "ebebc1b18d4442e6b0cdb73f71bec062": {
      "model_module": "@jupyter-widgets/controls",
      "model_module_version": "1.5.0",
      "model_name": "DescriptionStyleModel",
      "state": {
       "description_width": ""
      }
     },
     "ef36e040a7fb4294a68931c15ab41192": {
      "model_module": "@jupyter-widgets/controls",
      "model_module_version": "1.5.0",
      "model_name": "DescriptionStyleModel",
      "state": {
       "description_width": ""
      }
     },
     "ef41d57104d544809d159b8a2445d71e": {
      "model_module": "@jupyter-widgets/controls",
      "model_module_version": "1.5.0",
      "model_name": "VBoxModel",
      "state": {
       "_dom_classes": [
        "widget-interact"
       ],
       "children": [
        "IPY_MODEL_318374bfe5884ee79738d78cf0a94daf",
        "IPY_MODEL_35c38b256cee4b1e9b327e87ae5f99a7",
        "IPY_MODEL_7e100ddbf5e348d782e6f8787b86b21e"
       ],
       "layout": "IPY_MODEL_6c14bfdcdd2e46d69dc858ee86e5aacc"
      }
     },
     "f16a842acd0b41dd89c625007fefba98": {
      "model_module": "@jupyter-widgets/base",
      "model_module_version": "1.2.0",
      "model_name": "LayoutModel",
      "state": {}
     },
     "f1be94ee9b7c4053ac0d71baaa1f6be9": {
      "model_module": "@jupyter-widgets/controls",
      "model_module_version": "1.5.0",
      "model_name": "VBoxModel",
      "state": {
       "_dom_classes": [
        "widget-interact"
       ],
       "children": [
        "IPY_MODEL_68dff8639f5e40b1a707f5ff128afb18",
        "IPY_MODEL_247210707395425089f8d975ded6cb78",
        "IPY_MODEL_0cd143c2ca514a429a06fcbe68432dbd"
       ],
       "layout": "IPY_MODEL_3dc7210b4e404a12bac961fd347ba9dc"
      }
     },
     "f1db5ecc02f44d559be44f4db8453ca4": {
      "model_module": "@jupyter-widgets/base",
      "model_module_version": "1.2.0",
      "model_name": "LayoutModel",
      "state": {}
     },
     "f1dcf93104f0487c9775edc8ea78ef64": {
      "model_module": "@jupyter-widgets/base",
      "model_module_version": "1.2.0",
      "model_name": "LayoutModel",
      "state": {}
     },
     "f2a444fe6b744442bfddba69f133ea80": {
      "model_module": "@jupyter-widgets/base",
      "model_module_version": "1.2.0",
      "model_name": "LayoutModel",
      "state": {}
     },
     "f2e054376982460cbf4ee95f0191ae5e": {
      "model_module": "@jupyter-widgets/controls",
      "model_module_version": "1.5.0",
      "model_name": "DescriptionStyleModel",
      "state": {
       "description_width": ""
      }
     },
     "f51fb07599cb45db847adf7dc5b8b5d8": {
      "model_module": "@jupyter-widgets/base",
      "model_module_version": "1.2.0",
      "model_name": "LayoutModel",
      "state": {}
     },
     "f69af38fb8274a7d8c0e3a66bedee4e4": {
      "model_module": "@jupyter-widgets/base",
      "model_module_version": "1.2.0",
      "model_name": "LayoutModel",
      "state": {}
     },
     "f9490869bff44b94bd3dfaebff2f4b18": {
      "model_module": "@jupyter-widgets/base",
      "model_module_version": "1.2.0",
      "model_name": "LayoutModel",
      "state": {}
     },
     "fb3ded019bc24e4aa5b5cdc1883aff99": {
      "model_module": "@jupyter-widgets/controls",
      "model_module_version": "1.5.0",
      "model_name": "TextModel",
      "state": {
       "description": "P_1",
       "layout": "IPY_MODEL_b0dae720986e4fbeaa99724c7a7183f8",
       "style": "IPY_MODEL_2d5e11a42b864c2cacd212072e673cae",
       "value": "200"
      }
     },
     "fb4a1eab13f248b98d8cbc1bc02318c6": {
      "model_module": "@jupyter-widgets/controls",
      "model_module_version": "1.5.0",
      "model_name": "TextModel",
      "state": {
       "description": "$P_{_{1}}$ (bar)",
       "layout": "IPY_MODEL_187483ded6834bdfad210d725c4dbb15",
       "style": "IPY_MODEL_7d2da9f3888f433387597e9e3176557c",
       "value": "200"
      }
     },
     "fb5c865b14cd473595bc688d50fbd577": {
      "model_module": "@jupyter-widgets/base",
      "model_module_version": "1.2.0",
      "model_name": "LayoutModel",
      "state": {}
     },
     "fe882e9b100141d29fd3491bf701dfa1": {
      "model_module": "@jupyter-widgets/base",
      "model_module_version": "1.2.0",
      "model_name": "LayoutModel",
      "state": {}
     },
     "ffbbd40c36a0405db5cfe3146599fc86": {
      "model_module": "@jupyter-widgets/base",
      "model_module_version": "1.2.0",
      "model_name": "LayoutModel",
      "state": {}
     }
    },
    "version_major": 2,
    "version_minor": 0
   }
  }
 },
 "nbformat": 4,
 "nbformat_minor": 5
}
