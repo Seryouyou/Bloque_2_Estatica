{
 "cells": [
  {
   "cell_type": "code",
   "execution_count": 1,
   "id": "65a1fd7c",
   "metadata": {
    "scrolled": true
   },
   "outputs": [
    {
     "data": {
      "text/html": [
       "\n",
       "<script>\n",
       "code_show=true; \n",
       "function code_toggle() {\n",
       " if (code_show){\n",
       " $('div.input').hide();\n",
       " } else {\n",
       " $('div.input').show();\n",
       " }\n",
       " code_show = !code_show\n",
       "} \n",
       "$( document ).ready(code_toggle);\n",
       "</script>\n",
       "<a href=\"javascript:code_toggle()\">Mostrar/ocultar celdas de código</a>."
      ],
      "text/plain": [
       "<IPython.core.display.HTML object>"
      ]
     },
     "execution_count": 1,
     "metadata": {},
     "output_type": "execute_result"
    }
   ],
   "source": [
    "from IPython.display import HTML\n",
    "HTML('''\n",
    "<script>\n",
    "code_show=true; \n",
    "function code_toggle() {\n",
    " if (code_show){\n",
    " $('div.input').hide();\n",
    " } else {\n",
    " $('div.input').show();\n",
    " }\n",
    " code_show = !code_show\n",
    "} \n",
    "$( document ).ready(code_toggle);\n",
    "</script>\n",
    "<a href=\"javascript:code_toggle()\">Mostrar/ocultar celdas de código</a>.''')"
   ]
  },
  {
   "cell_type": "markdown",
   "id": "b4e3f827",
   "metadata": {},
   "source": [
    "<div class=\"texto\" id=\"enunciado\">\n",
    "<p>03/07/2018 3. Un depósito sumergido en agua de mar $(s_{_1}=1,05)$ hasta la profundidad $H$, y\n",
    "anclado en el fondo, se usa para proporcionar carburante $(s_{_2}=0,85)$ a submarinos, evitando\n",
    "que deban emerger y así ser detectados. Debido a las necesidades de acoplamiento con los\n",
    "submarinos, el depósito tiene forma de medio cilindro, tal y como muestra la figura, siendo $R$\n",
    "su radio y $L$ su longitud. El carburante se encuentra presurizado siendo la presión en el\n",
    "punto más elevado del depósito de $P_{_A}$ $(Pa)$.</p>\n",
    "</div>\n"
   ]
  },
  {
   "cell_type": "markdown",
   "id": "d0735cc1",
   "metadata": {},
   "source": [
    "<div class=\"texto\">\n",
    "<p>Se pide:</p>\n",
    "</div>\n"
   ]
  },
  {
   "cell_type": "markdown",
   "id": "344b0871",
   "metadata": {},
   "source": [
    "<div class=\"texto\">\n",
    "    <ol class=\"enunciado\">    \n",
    "        <li> Deducir la expresión de la componente horizontal de la fuerza hidrostática que ejerce el agua en cada lateral del depósito y la resultante de éstas en función de $H$, $R$ y $L$.</li>\n",
    "        <li> Deducir la expresión de la componente vertical de la fuerza hidrostática que ejerce el agua sobre el depósito en función de $H$, $R$ y $L$. </li>\n",
    "        <li> Valor de las componentes horizontal y vertical de la fuerza hidrostática realizada\n",
    "por el fluido de la izquierda (s1) sobre la compuerta (ABCD)</li>\n",
    "        <li> Deducir la expresión de la componente vertical de la fuerza hidrostática que ejerce el carburante sobre el depósito en función de $P_{_A}$, $H$, $R$ y $L$. </li>\n",
    "        <li>Considerando la expresión $e=\\frac{P\\cdot R}{2\\cdot \\sigma}$ para el cálculo del grosor de las paredes del depósito en este caso, deducir el espesor que deberán tener las paredes del depósito con los siguientes datos:   </li>\n",
    "     </ol>\n",
    "</div>\n",
    " "
   ]
  },
  {
   "cell_type": "markdown",
   "id": "ed149b44",
   "metadata": {},
   "source": [
    "<div class=\"texto\">\n",
    "<p>$Datos$: $H=200\\ m$, $P_{_A}=25\\ bar$, $\\sigma=5\\cdot 10^{^7}\\ \\frac{N}{m^{2}}$, $R=2\\ m.$</p>\n",
    "</div>"
   ]
  },
  {
   "cell_type": "markdown",
   "id": "d6a9efae",
   "metadata": {
    "scrolled": false
   },
   "source": [
    "<div>\n",
    "    <div><img src=\"../MEDIA/03J18.jpg\" style=\"width:50%\"></div>\n",
    "</div>\n"
   ]
  },
  {
   "cell_type": "markdown",
   "id": "3913461e",
   "metadata": {},
   "source": [
    "<div class=\"antesDe\">\n",
    "<ul>\n",
    "    <li><strong>CONCEPTOS PREVIOS</strong></li>\n",
    "    <ul>\n",
    "        <li>CONSECUENCIAS DE LA ECUACIÓN FUNDAMENTAL DE LA HIDROSTÁTICA.</li>\n",
    "        <ul>\n",
    "            <li><i>Las superficies de presión constante (superficies isobáricas) son <strong>horizontales.</strong></i></li>\n",
    "            <li><i><strong>La variación de presión en el interior de un líquido en reposo depende de la diferencia de cota</strong>. Al trabajar con líquidos <strong>suele ser conveniente tomar</strong> el origen de coordenadas en <strong>la superficie libre</strong> (nivel de referencia) y <strong>medir las distancias desde la superficie libre hacia abajo</strong>.</i></li>\n",
    "        </ul>\n",
    "        <li>FUERZAS SOBRE SUPERFICIES PLANAS.</li>\n",
    "        <ul> \n",
    "            <li><i><p><strong>Superficie plana vertical</strong>: La fuerza de presión sobre una superficie plana vertical<strong> es igual a la fuerza de presión ejercida sobre esa superficie.</strong></p>\n",
    "                <p>El módulo de la resultante $(F_{_H})$ <strong>se puede calcular mediante el prisma de presiones, construido sobre la superficie plana. También</strong> se puede calcular <strong>mediante la siguiente expresión: $F_{_H} = P_{_G}\\cdot A$, siendo $P_{_G}$ la presión en el centroide de la superficie </strong>$A$.</p>\n",
    "                </i></li>\n",
    "            <li><i><strong>Superficie plana horizontal</strong>: el módulo de la fuerza de presión sobre una superficie plana horizontal <strong>es igual al peso del volumen de líquido</strong> $\\forall$ (real o imaginario) <strong>comprendido entre la superficie plana y la superficie horizontal de presión cero del líquido</strong>.</i>$F_{_V}=\\gamma \\cdot\\forall$</li>         </ul> \n",
    "        <li>FUERZAS SOBRE SUPERFICIES CURVAS.</li>\n",
    "        <ul> \n",
    "            <li><i><p><strong>Componente horizontal</strong>: la componente horizontal de la fuerza de presión sobre una superficie curva <strong>es igual a la fuerza de presión ejercida sobre la proyección vertical</strong> de la superficie curva.</p>\n",
    "                <p>El módulo de la resultante de la componente horizontal <strong>$(F_{_H})$ se puede calcular mediante el prisma de presiones, construido sobre la superficie vertical proyectada </strong>$(A^{^\\prime})$. <strong>También</strong> se puede calcular <strong>mediante la siguiente expresión: $F_{_H} = P_{_G}\\cdot A^{^\\prime}$, siendo $P_{_G}$ la presión en el centroide de la superficie proyectada $A^{^\\prime}$</strong></p>\n",
    "                </i></li>\n",
    "            <li><i><strong>Componente vertical</strong>: el módulo de la componente vertical de la fuerza de presión sobre una superficie curva <strong>es igual al peso del volumen de líquido</strong> $\\forall$ (real o imaginario) <strong>comprendido entre la superficie curva y la superficie horizontal de presión cero del líquido</strong>. </i>$F_{_V}=\\gamma \\cdot\\forall$</li>\n",
    "         </ul>\n",
    "        <li>FENÓMENO DE LA SUBPRESIÓN.</li>\n",
    "        <ul> \n",
    "            <li><i><p>Si un cuerpo es más denso que el líquido, éste se apoya sobre el fondo. <strong>Si el cuerpo se apoya sobre el fondo por varios puntos</strong>, sin extensión geométrica quedando interpuesta entre ambos una lámina líquida. Entonces <strong>sí es aplicable el Principio de Arquímedes</strong>.</p></i></li>\n",
    "    </ul>\n",
    "        <li>PRINCIPIO DE ARQUÍMEDES.</li>\n",
    "        <ul> \n",
    "            <li><i><strong>“Todo cuerpo cerrado, parcial o totalmente sumergido en un líquido experimenta un empuje ascensional igual al peso del volumen del líquido que desaloja”</strong>. El centro de acción de este empuje ascensional se encuentra en el centro de gravedad del volumen desalojado. $E=\\gamma \\cdot\\forall$, siendo $\\forall$ el volumen del sólido.</i></li>\n",
    "    </ul>\n",
    "        <li>FUERZAS SOBRE CUERPOS CERRADOS.</li>\n",
    "        <ul> \n",
    "            <li><i><strong>Componente horizontal resultante</strong>: <strong> La componente horizontal</strong> de la fuerza <strong>es nula</strong>, ya que las fuerzas horizontales se van anulando dos a dos.</i></li>\n",
    "    </ul>\n",
    "        <li>FÓRMULA DE BARLOW.</li>\n",
    "        <ul> \n",
    "            <li><i>Un tubo semicircular que contiene un fluido en su interior a una presión $P$ está en tensión alrededor de su periferia, es decir, está  sometido a tracción. Para calcular el espesor necesario para el depósito usaremos la fórmula de Barlow adaptada a tubos semicirculares que nos provee el enunciado: </i>$\\ e=\\frac{P\\cdot R}{2\\cdot \\sigma}$</li>\n",
    "    </ul>\n",
    "        <li><strong>FALLO TÍPICO $\\rightarrow$ NO CONSIDERAR LA PRESIÓN EXTERNA PARA EL CÁLCULO DEL ESPESOR MÍNIMO.</strong></li>\n",
    "    <ul><li>En este caso, el depósito se encuentra sometido tanto a esfuerzos de tracción como de compresión. Por ello, para calcular el espesor mínimo, se han de tener en cuenta ambas fuerzas para calcular el caso más desfavorable. </li></ul>\n",
    "    </ul>\n",
    "</ul>\n",
    "<div>\n",
    "\n"
   ]
  },
  {
   "cell_type": "markdown",
   "id": "6e69aa01",
   "metadata": {},
   "source": [
    "<h2>a. Deducir la expresión de la componente horizontal de la fuerza hidrostática que ejerce el agua en cada lateral del depósito y la resultante de éstas en función de $H$, $R$ y $L$.</h2>"
   ]
  },
  {
   "cell_type": "markdown",
   "id": "4bb066a3",
   "metadata": {},
   "source": [
    "\n",
    "<div class=\"texto\"><p>Se exponen los datos del ejercicio:</p> </div>\n",
    "<div class=\"split\">\n",
    "    <div class=\"izq\"><img src=\"../MEDIA/03J18a.png\" style=\"width:90%\"></div>\n",
    "    <div class=\"dcha\">\n",
    "        <ul>\n",
    "            <p>Sabemos que:</p>\n",
    "            <li>La componente horizontal de la fuerza de presión sobre una superficie curva es igual a la fuerza de presión ejercida sobre la proyección vertical de la superficie curva.</li>\n",
    "<p>Para calcular esta componente:</p>\n",
    "            <li>El módulo de la resultante de la componente horizontal $(F_{_H})$<strong> se puede calcular mediante el prisma de presiones, construido sobre la superficie vertical proyectada</strong>$(A^{^\\prime})$</li>\n",
    "<p>Para calcular las presiones del prisma de presiones, según la hidrostática:</p>\n",
    "            <li><strong>La variación de presión en el interior de un líquido en reposo depende de la diferencia de cota</strong>.</li>\n",
    "        </ul></div>\n",
    "</div>"
   ]
  },
  {
   "cell_type": "markdown",
   "id": "317cf555",
   "metadata": {},
   "source": [
    "<div class=\"texto\"><p>Se procede a construir los prismas de presiones, para ello primero se dibuja la proyección vertical de la superficie curva $(A^{^\\prime})$.</p> \n",
    "\n",
    "</div>\n",
    "<div class=\"split\">\n",
    "    <div class=\"izq\"><img src=\"../MEDIA/03J18a1.png\" style=\"width:90%\"></div>\n",
    "    <div class=\"dcha\">\n",
    "        <div class=\"texto\"><p>Como la fuerza resultante del fluido sobre el cuerpo cerrado es nula podemos decir que:</p>\n",
    "        </div>\n",
    "        <div class=\"formulas\">\n",
    "        $$ \n",
    "        F_{_{H_{_1}}}+F_{_{H_{_2}}}=0\\rightarrow F_{_{H_{_1}}}=-F_{_{H_{_2}}}\n",
    "        $$\n",
    "        </div>\n",
    "        <div class=\"texto\"><p>Es decir, ambas fuerzas tendrán mismo modulo. Con calcular una de ellas basta. </p>\n",
    "        </div>\n",
    "        <div class=\"texto\"><p>Sabiendo que la base del prisma es la superficie $(A^{^\\prime})$ y la altura del prisma en cada punto es la presión P del fluido en ese punto $(P=h\\cdot\\gamma)$, siendo: </p>\n",
    "        </div>\n",
    "        <div class=\"formulas\">\n",
    "        $$ \n",
    "       \\gamma=cte\\rightarrow P=h\\cdot cte \\rightarrow \n",
    "        $$\n",
    "        </div>\n",
    "        <div class=\"texto\"><p>Calculando la presión en los puntos superior e inferior del prisma será suficiente para representarlo.</p>\n",
    "        </div>\n",
    "</div>\n",
    "</div>\n",
    "\n",
    "\n",
    "<div class=\"formulas\">\n",
    "$$ \n",
    "P_{_{H_1}}= H\\cdot\\gamma_{_1}\n",
    "$$\n",
    "</div>\n",
    "<div class=\"formulas\">\n",
    "$$ \n",
    "P_{_{{H-R}_1}}= (H-R)\\cdot\\gamma_{_1}\n",
    "$$\n",
    "</div>\n",
    "<div class=\"formulas\">\n",
    "$$\n",
    "Siendo:\\ H>(H-R)\\rightarrow P_{_{H_1}}>P_{_{{H-R}_1}}\n",
    "$$\n",
    "</div>\n",
    "<div class=\"texto\"><p>Los podemos representar del siguiente modo:</p>\n",
    "</div\n"
   ]
  },
  {
   "cell_type": "markdown",
   "id": "db288ab7",
   "metadata": {},
   "source": [
    "<div>\n",
    "    <div><img src=\"../MEDIA/03J18a2.png\" style=\"width:50%\"></div>\n",
    "</div>\n"
   ]
  },
  {
   "cell_type": "markdown",
   "id": "c6dfb546",
   "metadata": {},
   "source": [
    "<div class=\"texto\"><p>Sabiendo que la formula del área de un trapecio es:</p></div>\n",
    "<div class=\"split\">\n",
    "    <div class=\"izq\"><img src=\"../MEDIA/03J18a3.png\" style=\"width:50%\">\n",
    "    </div>\n",
    "    <div class=\"dcha\">\n",
    "        <div class=\"formulas\">\n",
    "            $$ \n",
    "            A_{_{Trapecio}}=\\frac{a+c}{2}\\cdot h\n",
    "            $$\n",
    "        </div>        \n",
    "    </div>\n",
    "</div>\n",
    "\n",
    "<div class=\"texto\"><p>Se puede definir lo siguiente:</p></div>\n",
    "<div class=\"formulas\">\n",
    "$$ \n",
    "|F_{_{H_{_1}}}|=|F_{_{H_{_2}}}|=\\forall_{_{Prisma\\ de\\ Presiones}}\n",
    "$$\n",
    "</div>\n",
    "<div class=\"texto\"><p>Donde:</p></div>\n",
    "<div class=\"formulas\">\n",
    "$$ \n",
    "\\forall_{_{Prisma\\ de\\ Presiones}}=A_{_{Trapecio}}\\cdot L=\\left(\\frac{H\\cdot\\gamma_{_1}+(H-R)\\cdot\\gamma_{_1}}{2}\\cdot R\\right)\\cdot L\n",
    "$$\n",
    "</div>\n",
    "<div class=\"formulas\">\n",
    "$$ \n",
    "\\forall_{_{Prisma\\ de\\ Presiones}}=\\left(\\frac{H\\cdot\\gamma_{_1}+(H-R)\\cdot\\gamma_{_1}}{2}\\cdot R\\right)\\cdot L\n",
    "$$\n",
    "</div>\n",
    "\n",
    "<div class=\"formulas\">\n",
    "$$ \n",
    "\\forall_{_{Prisma\\ de\\ Presiones}}=\\left(\\frac{2H\\cdot\\gamma_{_1}-R\\cdot\\gamma_{_1}}{2}\\right)\\cdot R\\cdot L\n",
    "=\\left(H-\\frac{R}{2}\\right)\\cdot R\\cdot L\\cdot\\gamma_{_1}\\ (N)\n",
    "$$\n",
    "</div>\n",
    "<div class=\"texto\"><p>Luego:</p></div>\n",
    "<div class=\"formulas\">\n",
    "$$ \n",
    "\\left|F_{_{H_{_1}}}\\right|=\\left|F_{_{H_{_2}}}\\right|=\\left(H-\\frac{R}{2}\\right)\\cdot R\\cdot L\\cdot\\gamma_{_1}\\ (N)\n",
    "$$\n",
    "</div>\n"
   ]
  },
  {
   "cell_type": "markdown",
   "id": "8c157e4f",
   "metadata": {},
   "source": [
    "<div class=\"texto\"><p>La resultante horizontal de la fuerza hidrostática que ejerce el agua es nula tal y como se ha comentado, ya que las componentes tienen mismo modulo y sentido contrario</p></div>"
   ]
  },
  {
   "cell_type": "code",
   "execution_count": 2,
   "id": "d931031c",
   "metadata": {},
   "outputs": [
    {
     "data": {
      "text/html": [
       "\n",
       "<a href=\"javascript:code_toggle()\">Mostrar/ocultar celdas de código</a>."
      ],
      "text/plain": [
       "<IPython.core.display.HTML object>"
      ]
     },
     "execution_count": 2,
     "metadata": {},
     "output_type": "execute_result"
    }
   ],
   "source": [
    "from IPython.display import HTML\n",
    "HTML('''\n",
    "<a href=\"javascript:code_toggle()\">Mostrar/ocultar celdas de código</a>.''')"
   ]
  },
  {
   "cell_type": "markdown",
   "id": "1ae63a9f",
   "metadata": {},
   "source": [
    "<h2>b. Deducir la expresión de la componente vertical de la fuerza hidrostática que ejerce el agua sobre el depósito en función de $H$, $R$ y $L$.</h2>"
   ]
  },
  {
   "cell_type": "markdown",
   "id": "530eed4b",
   "metadata": {},
   "source": [
    "\n",
    "<div class=\"texto\"><p>La componente vertical de la fuerza hidrostática del agua se divide en dos fuerzas:</p> \n",
    "<ul>\n",
    "    <li>Una fuerza vertical sobre la superficie plana horizontal.</li>\n",
    "    <ul>\n",
    "        <li>$dF=P\\cdot dA\\rightarrow  F=\\int P\\cdot dA=P\\cdot\\int  dA= P\\cdot A\\rightarrow$ Dicho de otro modo, el módulo de la fuerza vertical sobre la superficie horizontal, es igual a la presión ejercida en la superficie por el área de esta superficie. Siendo la presión igual a la columna de líquido que se encuentra sobre la superficie en estudio, podemos definir que esta fuerza será igual al volumen de líquido que se encuentra entre la superficie plana del depósito y la superficie horizontal de presión cero del líquido.</li>\n",
    "    </ul>        \n",
    "    <li>Una fuerza sobre la superficie curva.</li>\n",
    "     <ul>\n",
    "        <li>Por definición, el módulo de la componente vertical de la fuerza de presión sobre una superficie curva es igual al peso del volumen de líquido $\\forall$ (real o imaginario) comprendido entre la superficie curva y la superficie horizontal de presión cero del fluido.</li>\n",
    "    </ul>\n",
    "</ul>\n",
    "</div>\n",
    "\n",
    "<div class=\"texto\"><p>Expongamos esto de un modo grafico:</p>\n",
    "</div>\n",
    "<div class=\"split\">\n",
    "    <div class=\"izq\">\n",
    "        <img src=\"../MEDIA/03J18b.png\" style=\"width:90%\">\n",
    "    </div>\n",
    "</div>"
   ]
  },
  {
   "cell_type": "markdown",
   "id": "c4b85719",
   "metadata": {},
   "source": [
    "\n",
    "<div class=\"texto\"><p>La componente vertical de la fuerza hidrostática del agua se divide en dos fuerzas:</p> </div>\n",
    "\n",
    "<div class=\"texto\">Fuerza vertical sobre la superficie plana horizontal.</div>\n",
    "<div><img src=\"../MEDIA/03J18b1.png\" style=\"width:50%\"></div>\n"
   ]
  },
  {
   "cell_type": "markdown",
   "id": "a3898096",
   "metadata": {},
   "source": [
    "\n",
    "<div class=\"texto\">Fuerza vertical sobre la superficie curva.</div>\n",
    "<div><img src=\"../MEDIA/03J18b2.png\" style=\"width:50%\"></div>\n"
   ]
  },
  {
   "cell_type": "markdown",
   "id": "dd3a7a3f",
   "metadata": {},
   "source": [
    "<div class=\"texto\"><p>Si sumamos estas componentes:</p> </div>\n",
    "\n",
    "<div><img src=\"../MEDIA/03J18b3.png\" style=\"width:90%\"></div>"
   ]
  },
  {
   "cell_type": "markdown",
   "id": "6371f0dc",
   "metadata": {},
   "source": [
    "<div class=\"texto\"><p>Si dibujamos el volumen resultante, observamos que es un semicilindro de radio $R$ y longitud $L$:</p> </div>\n",
    "\n",
    "<div><img src=\"../MEDIA/03J18b4.png\" style=\"width:50%\"></div>"
   ]
  },
  {
   "cell_type": "markdown",
   "id": "a5c18b0a",
   "metadata": {},
   "source": [
    "<div class=\"texto\"><p>Por tanto, siendo la formula del volumen de un cilindro</p> </div>\n",
    "<div class=\"formulas\">\n",
    "    $$ \n",
    "    V_{_{cilindro}}=\\pi\\cdot R{^{^2}}\\cdot L\n",
    "    $$\n",
    "</div> \n",
    "\n",
    "<div class=\"texto\"><p>La componente vertical de la fuerza hidrostática del agua es:</p> </div>\n",
    "<div class=\"formulas\">\n",
    "    $$ \n",
    "    F_{_{V_{1}}}=\\frac{V_{_{cilindro}}}{2}\\cdot\\gamma_{_1}=\\frac{\\pi\\cdot R{^{^2}}}{2}\\cdot L\\cdot\\gamma_{_1} (N)\n",
    "    $$\n",
    "</div> \n",
    "\n"
   ]
  },
  {
   "cell_type": "markdown",
   "id": "4b599abe",
   "metadata": {},
   "source": [
    "<div class=\"antesDe texto\">\n",
    "    <div class=\"texto\">\n",
    "        <strong>Analizando el resultado</strong>\n",
    "        <p>Este resultado en realidad, es consecuencia de el <strong> Principio de Arquímedes</strong>, por el cual <i>“Todo cuerpo cerrado, parcial o totalmente sumergido en un líquido experimenta un empuje ascensional igual al peso del volumen del líquido que desaloja”</i>. El centro de acción de este empuje ascensional se encuentra en el centro de gravedad del volumen desalojado. $E=\\gamma \\cdot\\forall$, siendo $\\forall$ el volumen del sólido.</p>\n",
    "    </div>\n",
    "</div>\n",
    "   "
   ]
  },
  {
   "cell_type": "code",
   "execution_count": 3,
   "id": "edf2cb5b",
   "metadata": {},
   "outputs": [
    {
     "data": {
      "text/html": [
       "\n",
       "<a href=\"javascript:code_toggle()\">Mostrar/ocultar celdas de código</a>."
      ],
      "text/plain": [
       "<IPython.core.display.HTML object>"
      ]
     },
     "execution_count": 3,
     "metadata": {},
     "output_type": "execute_result"
    }
   ],
   "source": [
    "from IPython.display import HTML\n",
    "HTML('''\n",
    "<a href=\"javascript:code_toggle()\">Mostrar/ocultar celdas de código</a>.''')"
   ]
  },
  {
   "cell_type": "markdown",
   "id": "f887b650",
   "metadata": {},
   "source": [
    "<h2>c. Deducir la expresión de la componente horizontal de la fuerza hidrostática que ejerce el carburante en cada lateral del depósito y la resultante de éstas en función de $P_{_A}$, $H$, $R$ y $L$.</h2>"
   ]
  },
  {
   "cell_type": "markdown",
   "id": "10b7146d",
   "metadata": {},
   "source": [
    "\n",
    "<div class=\"texto\"><p>Se exponen los datos del ejercicio:</p> </div>\n",
    "<div class=\"split\">\n",
    "    <div class=\"izq\"><img src=\"../MEDIA/03J18c.png\" style=\"width:90%\"></div>\n",
    "    <div class=\"dcha\">\n",
    "        <ul>\n",
    "            <p>Sabemos que:</p>\n",
    "            <li>La componente horizontal de la fuerza de presión sobre una superficie curva es igual a la fuerza de presión ejercida sobre la proyección vertical de la superficie curva.</li>\n",
    "<p>Para calcular esta componente:</p>\n",
    "            <li>El módulo de la resultante de la componente horizontal $(F_{_H})$<strong> se puede calcular mediante el prisma de presiones, construido sobre la superficie vertical proyectada</strong> $(A^{^\\prime})$ </li>\n",
    "<p>Para calcular las presiones del prisma de presiones, según la hidrostática:</p>\n",
    "            <li><strong>La variación de presión en el interior de un líquido en reposo depende de la diferencia de cota</strong>.</li>\n",
    "        </ul></div>\n",
    "</div>"
   ]
  },
  {
   "cell_type": "markdown",
   "id": "514c4db3",
   "metadata": {},
   "source": [
    "<div class=\"texto\"><p>Se procede a construir los prismas de presiones, para ello primero se dibujan las proyecciones verticales de las superficies curvas $(A^{^\\prime})$ y $(A^{^\\prime\\prime})$.</p> \n",
    "\n",
    "</div>\n",
    "<div class=\"split\">\n",
    "    <div class=\"izq\"><img src=\"../MEDIA/03J18c1.png\" style=\"width:90%\"></div>\n",
    "    <div class=\"dcha\">\n",
    "        <div class=\"texto\"><p>Como la fuerza resultante del fluido sobre el cuerpo cerrado es nula podemos decir que:</p>\n",
    "        </div>\n",
    "        <div class=\"formulas\">\n",
    "        $$ \n",
    "        F_{_{H_{_1}}}+F_{_{H_{_2}}}=0\\rightarrow F_{_{H_{_1}}}=-F_{_{H_{_2}}}\n",
    "        $$\n",
    "        </div>\n",
    "        <div class=\"texto\"><p>Es decir, ambas fuerzas tendrán mismo modulo. Con calcular una de ellas basta. </p>\n",
    "        </div>\n",
    "        <div class=\"texto\"><p>Sabiendo que la presión en el punto superior del depósito es $P_{_A}$ calculamos la presión en el punto inferior con la variación de presión hidrostática </p>\n",
    "        </div>\n",
    "        <div class=\"formulas\">\n",
    "        $$ \n",
    "        P_{_{inf}}=P_{_A}+R\\cdot\\gamma_{_0}\n",
    "        $$\n",
    "        </div>\n",
    "        <div class=\"texto\"><p>Siendo la variación de presión constante, con la presión en los puntos superior e inferior del prisma será suficiente para representarlo.</p>\n",
    "        </div>\n",
    "</div>\n",
    "</div>\n",
    "\n",
    "<div class=\"texto\"><p>Los podemos representar los prismas del siguiente modo:</p>\n",
    "</div\n"
   ]
  },
  {
   "cell_type": "markdown",
   "id": "c6473673",
   "metadata": {
    "scrolled": true
   },
   "source": [
    "<div>\n",
    "    <div><img src=\"../MEDIA/03J18c2.png\" style=\"width:50%\"></div>\n",
    "</div>"
   ]
  },
  {
   "cell_type": "markdown",
   "id": "68465a05",
   "metadata": {},
   "source": [
    "<div class=\"texto\"><p>Partiendo del área de un trapecio se puede definir lo siguiente:</p></div>\n",
    "<div class=\"formulas\">\n",
    "$$ \n",
    "|F_{_{H_{_1}}}|=|F_{_{H_{_2}}}|=\\forall_{_{Prisma\\ de\\ Presiones}}\n",
    "$$\n",
    "</div>\n",
    "<div class=\"texto\"><p>Donde:</p></div>\n",
    "<div class=\"formulas\">\n",
    "$$ \n",
    "\\forall_{_{Prisma\\ de\\ Presiones}}=A_{_{Trapecio}}\\cdot L=\\left(\\frac{H\\cdot\\gamma_{_1}+(H-R)\\cdot\\gamma_{_1}}{2}\\cdot R\\right)\\cdot L\n",
    "$$\n",
    "</div>\n",
    "<div class=\"formulas\">\n",
    "$$ \n",
    "\\forall_{_{Prisma\\ de\\ Presiones}}=\\left(\\frac{H\\cdot\\gamma_{_1}+(H-R)\\cdot\\gamma_{_1}}{2}\\cdot R\\right)\\cdot L\n",
    "$$\n",
    "</div>\n",
    "\n",
    "<div class=\"formulas\">\n",
    "$$ \n",
    "\\forall_{_{Prisma\\ de\\ Presiones}}=\\left(\\frac{2H\\cdot\\gamma_{_1}-R\\cdot\\gamma_{_1}}{2}\\right)\\cdot R\\cdot L\n",
    "=\\left(H-\\frac{R}{2}\\right)\\cdot R\\cdot L\\cdot\\gamma_{_1}\\ (mcl)\n",
    "$$\n",
    "</div>\n",
    "<div class=\"texto\"><p>Luego:</p></div>\n",
    "<div class=\"formulas\">\n",
    "$$ \n",
    "\\left|F_{_{H_{_1}}}\\right|=\\left|F_{_{H_{_2}}}\\right|=\\left(H-\\frac{R}{2}\\right)\\cdot R\\cdot L\\cdot\\gamma_{_1}\\ (N)\n",
    "$$\n",
    "</div>\n"
   ]
  },
  {
   "cell_type": "markdown",
   "id": "8afc5aed",
   "metadata": {},
   "source": [
    "<div class=\"texto\"><p>Partiendo del área de un trapecio se puede definir lo siguiente:</p></div>\n",
    "<div class=\"formulas\">\n",
    "$$ \n",
    "|F_{_{H_{_1}}}|=|F_{_{H_{_2}}}|=\\forall_{_{Prisma\\ de\\ Presiones}}\n",
    "$$\n",
    "</div>\n",
    "<div class=\"texto\"><p>Donde:</p></div>\n",
    "<div class=\"formulas\">\n",
    "$$ \n",
    "\\forall_{_{Prisma\\ de\\ Presiones}}=A_{_{Trapecio}}\\cdot L=\\left(\\frac{P_{_A}+(P_{_A}+R\\cdot\\gamma_{_0})}{2}\\cdot R\\right)\\cdot L\n",
    "$$\n",
    "</div>\n",
    "<div class=\"formulas\">\n",
    "$$ \n",
    "\\forall_{_{Prisma\\ de\\ Presiones}}=\\left(\\frac{2 P_{_A}+R\\cdot\\gamma_{_0}}{2}\\cdot R\\right)\\cdot L\n",
    "$$\n",
    "</div>\n",
    "\n",
    "<div class=\"formulas\">\n",
    "$$ \n",
    "\\forall_{_{Prisma\\ de\\ Presiones}}=\\left(P_{_A}+\\frac{ R\\cdot\\gamma_{_0}}{2}\\cdot R\\right)\\cdot L\n",
    "$$\n",
    "</div>\n",
    "<div class=\"texto\"><p>Luego:</p></div>\n",
    "<div class=\"formulas\">\n",
    "$$ \n",
    "\\left|F_{_{H_{_1}}}\\right|=\\left|F_{_{H_{_2}}}\\right|=\\left(P_{_A}+\\gamma_{_0}\\cdot\\frac{R}{2}\\right)\\cdot R\\cdot L\\ (N)\n",
    "$$\n",
    "</div>\n"
   ]
  },
  {
   "cell_type": "code",
   "execution_count": 4,
   "id": "4d7a03be",
   "metadata": {},
   "outputs": [
    {
     "data": {
      "text/html": [
       "\n",
       "<a href=\"javascript:code_toggle()\">Mostrar/ocultar celdas de código</a>."
      ],
      "text/plain": [
       "<IPython.core.display.HTML object>"
      ]
     },
     "execution_count": 4,
     "metadata": {},
     "output_type": "execute_result"
    }
   ],
   "source": [
    "from IPython.display import HTML\n",
    "HTML('''\n",
    "<a href=\"javascript:code_toggle()\">Mostrar/ocultar celdas de código</a>.''')"
   ]
  },
  {
   "cell_type": "markdown",
   "id": "b763ce6f",
   "metadata": {},
   "source": [
    "<h2>d. Deducir la expresión de la componente vertical de la fuerza hidrostática que ejerce el carburante sobre el depósito en función de $P_{_A}$, $H$, $R$ y $L$.</h2>"
   ]
  },
  {
   "cell_type": "markdown",
   "id": "a9de41cb",
   "metadata": {},
   "source": [
    "\n",
    "<div class=\"texto\"><p>La componente vertical de la fuerza hidrostática del carburante se divide en dos fuerzas:</p> \n",
    "<ul>\n",
    "    <li>Una fuerza vertical sobre la superficie plana horizontal.</li>\n",
    "    <ul>\n",
    "        <li>Al igual que para el agua, el módulo de la fuerza vertical del carburante sobre la superficie horizontal, es igual a la presión ejercida en la superficie por el área de esta superficie. La diferencia en este caso, es que la presión ejercida en la superficie es $P_{_A}$, por lo cual la altura de la superficie de presión cero será distinta de la superficie de presión 0 del agua. Así pues, el módulo de esta fuerza será el peso del volumen del fluido comprendido entre la superficie plana y la superficie de presión cero del mismo.</li>\n",
    "    </ul>        \n",
    "    <li>Una fuerza sobre la superficie curva.</li>\n",
    "     <ul>\n",
    "        <li>Por definición, el módulo de la componente vertical de la fuerza de presión sobre una superficie curva es igual al peso del volumen de líquido $\\forall$ (real o imaginario) comprendido entre la superficie curva y la superficie horizontal de presión cero del fluido.</li>\n",
    "    </ul>\n",
    "</ul>\n",
    "</div>\n",
    "\n",
    "<div class=\"texto\"><p>Expongamos esto de un modo grafico:</p>\n",
    "</div>\n",
    "<div class=\"split\">\n",
    "    <div class=\"izq\">\n",
    "        <img src=\"../MEDIA/03J18d.png\" style=\"width:90%\">\n",
    "    </div>\n",
    "</div>"
   ]
  },
  {
   "cell_type": "markdown",
   "id": "bb97673f",
   "metadata": {},
   "source": [
    "\n",
    "<div class=\"texto\"><p>Estos son los prismas:</p> </div>\n",
    "\n",
    "<div class=\"texto\">Fuerza vertical sobre la superficie plana horizontal.</div>\n",
    "<div><img src=\"../MEDIA/03J18d1.png\" style=\"width:50%\"></div>\n"
   ]
  },
  {
   "cell_type": "markdown",
   "id": "72e4a6d7",
   "metadata": {},
   "source": [
    "\n",
    "<div class=\"texto\">Fuerza vertical sobre la superficie curva.</div>\n",
    "<div><img src=\"../MEDIA/03J18d2.png\" style=\"width:50%\"></div>\n"
   ]
  },
  {
   "cell_type": "markdown",
   "id": "2919b815",
   "metadata": {},
   "source": [
    "<div class=\"texto\"><p>Si sumamos estas componentes:</p> </div>\n",
    "\n",
    "<div><img src=\"../MEDIA/03J18d3.png\" style=\"width:90%\"></div>"
   ]
  },
  {
   "cell_type": "markdown",
   "id": "1dd3d0e0",
   "metadata": {},
   "source": [
    "<div class=\"texto\"><p>Si dibujamos el volumen resultante, observamos que es un semicilindro de radio $R$ y longitud $L$:</p> </div>\n",
    "\n",
    "<div><img src=\"../MEDIA/03J18d4.png\" style=\"width:50%\"></div>"
   ]
  },
  {
   "cell_type": "markdown",
   "id": "fa946c70",
   "metadata": {},
   "source": [
    "<div class=\"texto\"><p>Partiendo de la formula del volumen de un cilindro, la componente vertical de la fuerza hidrostática del carburante es:</p> </div>\n",
    "\n",
    "\n",
    "<div class=\"formulas\">\n",
    "    $$ \n",
    "    F_{_{V_{0}}}=\\frac{V_{_{cilindro}}}{2}\\cdot\\gamma_{_0}=\\frac{\\pi\\cdot R{^{^2}}}{2}\\cdot L\\cdot\\gamma_{_0} (N)\n",
    "    $$\n",
    "</div> \n",
    "\n"
   ]
  },
  {
   "cell_type": "code",
   "execution_count": 5,
   "id": "2dbe5a7f",
   "metadata": {},
   "outputs": [
    {
     "data": {
      "text/html": [
       "\n",
       "<a href=\"javascript:code_toggle()\">Mostrar/ocultar celdas de código</a>."
      ],
      "text/plain": [
       "<IPython.core.display.HTML object>"
      ]
     },
     "execution_count": 5,
     "metadata": {},
     "output_type": "execute_result"
    }
   ],
   "source": [
    "from IPython.display import HTML\n",
    "HTML('''\n",
    "<a href=\"javascript:code_toggle()\">Mostrar/ocultar celdas de código</a>.''')"
   ]
  },
  {
   "cell_type": "markdown",
   "id": "02a94974",
   "metadata": {},
   "source": [
    "<h2>e. Considerando la expresión $e=\\frac{P\\cdot R}{2\\cdot \\sigma}$ para el cálculo del grosor de las paredes del depósito en este caso, deducir el espesor que deberán tener las paredes del depósito con los siguientes datos:</h2>"
   ]
  },
  {
   "cell_type": "markdown",
   "id": "c69062a0",
   "metadata": {},
   "source": [
    "<div class=\"texto\"><p>Para calcular el espesor mínimo según la fórmula de Barlow, primero hemos de comprobar en que punto del depósito se da la mayor presión. De este modo calcularemos el espesor mínimo necesario que resista la presión máxima.</p> </div>\n"
   ]
  },
  {
   "cell_type": "markdown",
   "id": "8040a8bf",
   "metadata": {},
   "source": [
    "<div class=\"split\">\n",
    "    <div class=\"izq\">\n",
    "        <img src=\"../MEDIA/03J18e.png\" style=\"width:90%\">\n",
    "    </div>\n",
    "    <div class=\"dcha\">\n",
    "        <div class=\"texto\"><p>Siendo la variación de presión de los fluidos constante para todo z el punto de presión máxima ha de encontrarse en la parte inferior o superior del depósito. Se pueden dar los dos casos en función de la densidad relativa de los líquidos. Veámoslo analíticamente:</p> </div>\n",
    "    </div>\n",
    "</div>"
   ]
  },
  {
   "cell_type": "markdown",
   "id": "0bf4fc89",
   "metadata": {},
   "source": [
    "<div class=\"formulas\">\n",
    "    $$ \n",
    "    P_{_1}=P_{_{1_{_{int}}}}-P_{_{1_{_{ext}}}}>0 \n",
    "    $$\n",
    "</div>\n",
    "<div class=\"formulas\">\n",
    "    $$ \n",
    "    P_{_2}=P_{_{2_{_{int}}}}-P_{_{2_{_{ext}}}}>0 \n",
    "    $$\n",
    "</div> \n",
    "<div class=\"texto\"><p>(Han de ser positivos ya que la fórmula de Barlow no es de aplicación en esfuerzos de compresión)</p> </div>\n",
    "<div class=\"texto\"><p><strong>*NOTA: las unidades se consideran mcl para la demostración.</strong></p> </div>\n",
    "<div class=\"formulas\">\n",
    "    $$ \n",
    "    P_{_1}=P_{_A}\\cdot s_{_0}-(H-R)\\cdot s_{_1}  \n",
    "    $$\n",
    "</div>\n",
    "<div class=\"formulas\">\n",
    "    $$ \n",
    "    P_{_2}=\\left(P_{_A}+R\\right)\\cdot s_{_0}-H\\cdot s_{_1}  \n",
    "    $$\n",
    "</div> \n"
   ]
  },
  {
   "cell_type": "markdown",
   "id": "0fd74ecb",
   "metadata": {},
   "source": [
    "<div class=\"formulas\">\n",
    "    $$ \n",
    "   P_{_1}- P_{_2}=\\left[P_{_A}\\cdot s_{_0}-(H-R)\\cdot s_{_1}\\right]-\\left[\\left(P_{_A}+R\\right)\\cdot s_{_0}-H\\cdot s_{_1}\\right]   \n",
    "    $$\n",
    "</div>\n"
   ]
  },
  {
   "cell_type": "markdown",
   "id": "1549fa53",
   "metadata": {},
   "source": [
    "<div class=\"formulas\">\n",
    "    $$ \n",
    "   P_{_1}- P_{_2}=P_{_A}\\cdot s_{_0}-H\\cdot s_{_1}+R\\cdot s_{_1}-P_{_A}\\cdot s_{_0}-R\\cdot s_{_0}+H\\cdot s_{_1}=R\\cdot s_{_1}-R\\cdot s_{_0}   \n",
    "    $$\n",
    "</div>\n"
   ]
  },
  {
   "cell_type": "markdown",
   "id": "a89e95b6",
   "metadata": {},
   "source": [
    "<div class=\"formulas\">\n",
    "    $$ \n",
    "P_{_1}- P_{_2}=R\\cdot \\left(s_{_1}-s_{_0}\\right) \n",
    "    $$\n",
    "</div>\n"
   ]
  },
  {
   "cell_type": "markdown",
   "id": "1fa1cf27",
   "metadata": {},
   "source": [
    "<div class=\"texto\"><p>Luego:</p> </div>\n",
    "<div class=\"formulas\">\n",
    "    $$ \n",
    "s_{_1}>s_{_0}\\rightarrow P_{_1}>P_{_2}\n",
    "    $$\n",
    "</div>\n",
    "<div class=\"formulas\">\n",
    "    $$ \n",
    "s_{_1}<s_{_0}\\rightarrow P_{_1}<P_{_2}\n",
    "    $$\n",
    "</div>"
   ]
  },
  {
   "cell_type": "markdown",
   "id": "d42f3e38",
   "metadata": {},
   "source": [
    "<div class=\"texto\"><p>Calculamos los valores de $P_{_1}$ y $P_{_2}$ y realizamos el cambio de unidades y</p> </div>"
   ]
  },
  {
   "cell_type": "markdown",
   "id": "90440190",
   "metadata": {},
   "source": [
    "<div class=\"texto\"><li>Cálculo de<strong> $P_{_1}$</strong></li> </div>"
   ]
  },
  {
   "cell_type": "markdown",
   "id": "713fa923",
   "metadata": {},
   "source": [
    "<div class=\"formulas\">\n",
    "    $$ \n",
    "    P_{_1}=P_{_{1_{_{int}}}}-P_{_{1_{_{ext}}}}\n",
    "    $$\n",
    "</div>\n"
   ]
  },
  {
   "cell_type": "markdown",
   "id": "e4149239",
   "metadata": {},
   "source": [
    "<div class=\"formulas\">\n",
    "    $$ \n",
    "    P_{_1}=P_{_A}\\ (bar)-(H-R)\\ (mcl) \n",
    "    $$\n",
    "</div>\n"
   ]
  },
  {
   "cell_type": "markdown",
   "id": "9b6a375e",
   "metadata": {},
   "source": [
    "<div class=\"formulas\">\n",
    "    $$ \n",
    "    P_{_1}=\\left(P_{_A}(bar)\\cdot \\frac{10^{^{5}}Pa}{1\\ bar}\\right)-(H-R)\\ (mcl)\\cdot s_{_1}\\frac{mca}{mcl}\\cdot \\frac{9800\\ Pa}{1\\ mca}  \n",
    "    $$\n",
    "</div>"
   ]
  },
  {
   "cell_type": "markdown",
   "id": "72073ba1",
   "metadata": {},
   "source": [
    "<div class=\"formulas\">\n",
    "    $$ \n",
    "    P_{_1}=\\left[\\left(P_{_A}\\cdot 10^{^{5}}\\right)-(H-R)\\cdot s_{_1}\\cdot9800\\right]\\ (Pa)  \n",
    "    $$\n",
    "</div>"
   ]
  },
  {
   "cell_type": "markdown",
   "id": "7d1acecd",
   "metadata": {},
   "source": [
    "<div class=\"texto\"><li>Calculo de<strong> $P_{_2}$</strong></li> </div>"
   ]
  },
  {
   "cell_type": "markdown",
   "id": "b275556f",
   "metadata": {},
   "source": [
    "<div class=\"formulas\">\n",
    "    $$ \n",
    "    P_{_2}=P_{_{2_{_{int}}}}-P_{_{2_{_{ext}}}} \n",
    "    $$\n",
    "</div> "
   ]
  },
  {
   "cell_type": "markdown",
   "id": "c5b6cee7",
   "metadata": {},
   "source": [
    "<div class=\"formulas\">\n",
    "    $$ \n",
    "    P_{_2}=\\left(P_{_A}\\ (bar)+R\\ (mcl)\\right)-H\\ (mcl)\n",
    "    $$\n",
    "</div> \n"
   ]
  },
  {
   "cell_type": "markdown",
   "id": "59c75c68",
   "metadata": {},
   "source": [
    "<div class=\"formulas\">\n",
    "    $$ \n",
    "    P_{_2}=\\left(P_{_A}(bar)\\cdot \\frac{10^{^{5}}Pa}{1\\ bar}+R\\ (mcl)\\cdot s_{_0}\\frac{mca}{mcl}\\cdot \\frac{9800\\ Pa}{1\\ mca} \\right)-H\\ (mcl)\\cdot s_{_1}\\frac{mca}{mcl}\\cdot \\frac{9800\\ Pa}{1\\ mca} \n",
    "    $$\n",
    "</div>"
   ]
  },
  {
   "cell_type": "markdown",
   "id": "3943cad1",
   "metadata": {},
   "source": [
    "<div class=\"formulas\">\n",
    "    $$ \n",
    "    P_{_2}=\\left(P_{_A}\\cdot10^{^{5}}Pa+R\\cdot s_{_0}\\cdot 9800 -H\\cdot s_{_1}\\cdot 9800\\right)\\ (Pa)\n",
    "    $$\n",
    "</div>"
   ]
  },
  {
   "cell_type": "code",
   "execution_count": 6,
   "id": "90b281c4",
   "metadata": {
    "scrolled": false
   },
   "outputs": [
    {
     "data": {
      "text/html": [
       "\n",
       "<style>\n",
       "    .widget-label { width: 20ex !important;text-align:left !important; }    \n",
       "</style>"
      ],
      "text/plain": [
       "<IPython.core.display.HTML object>"
      ]
     },
     "metadata": {},
     "output_type": "display_data"
    },
    {
     "data": {
      "application/vnd.jupyter.widget-view+json": {
       "model_id": "2ecc9efdba61409b85ad7a9ea5ea39ff",
       "version_major": 2,
       "version_minor": 0
      },
      "text/plain": [
       "interactive(children=(Text(value='200', description='H'), Text(value='25', description='P_A'), Text(value='2',…"
      ]
     },
     "metadata": {},
     "output_type": "display_data"
    }
   ],
   "source": [
    "from __future__ import print_function\n",
    "from termcolor import colored\n",
    "from ipywidgets import interact, interactive, fixed, interact_manual\n",
    "from IPython.display import HTML, display\n",
    "import ipywidgets as widgets\n",
    "\n",
    "def f(H, P_A, Radio,s_0,s_1):\n",
    "    try:\n",
    "        fH=float(H)    \n",
    "        fP_A=float(P_A)\n",
    "        fRadio=float(Radio)\n",
    "        fs_0=float(s_0)\n",
    "        fs_1=float(s_1)\n",
    "    except:\n",
    "        print(colored(\"Define un valor válido para las variables\",\"red\"))\n",
    "    else:\n",
    "        print(\"Pulsa calcular para actualizar los campos de texto\")\n",
    "        return (fH, fP_A, fRadio, fs_0, fs_1)\n",
    "\n",
    "dF = interactive(f, H=\"200\", P_A=\"25\", Radio=\"2\",s_0=\"0.85\",s_1=\"1.05\" )\n",
    "\n",
    "display(HTML('''\n",
    "<style>\n",
    "    .widget-label { width: 20ex !important;text-align:left !important; }    \n",
    "</style>'''))\n",
    "\n",
    "display(dF)\n",
    "\n",
    "dF.children[0].description = '$H$ (m)'\n",
    "dF.children[1].description = '$R$ (m)'\n",
    "dF.children[2].description = '$P_{_{A}}$(bar)'\n",
    "dF.children[3].description = '$s_{_{0}}$'\n",
    "dF.children[4].description = '$s_{_{1}}$'\n",
    "\n",
    "\n",
    "\n"
   ]
  },
  {
   "cell_type": "code",
   "execution_count": 7,
   "id": "353a29ae",
   "metadata": {},
   "outputs": [
    {
     "data": {
      "text/html": [
       "\n",
       "<button onclick=\"ejecutar(59,67)\">Actualizar campos de texto</button>\n",
       "<button onclick=\"ejecutar(57,58)\">Abrir/reiniciar cuadro de variables</button>\n",
       "<script>function ejecutar(desde, hasta){\n",
       "    for(i = desde; i < hasta; i++)\n",
       "Jupyter.notebook.execute_cells([i])\n",
       "}</script>"
      ],
      "text/plain": [
       "<IPython.core.display.HTML object>"
      ]
     },
     "execution_count": 7,
     "metadata": {},
     "output_type": "execute_result"
    }
   ],
   "source": [
    "from IPython.display import HTML\n",
    "HTML('''\n",
    "<button onclick=\"ejecutar(59,67)\">Actualizar campos de texto</button>\n",
    "<button onclick=\"ejecutar(57,58)\">Abrir/reiniciar cuadro de variables</button>\n",
    "<script>function ejecutar(desde, hasta){\n",
    "    for(i = desde; i < hasta; i++)\n",
    "Jupyter.notebook.execute_cells([i])\n",
    "}</script>''')"
   ]
  },
  {
   "cell_type": "code",
   "execution_count": 8,
   "id": "921e33c2",
   "metadata": {
    "scrolled": true
   },
   "outputs": [],
   "source": [
    "from IPython.display import Markdown as md\n",
    "try:\n",
    "    H=float(dF.result[0])\n",
    "    P_A=float(dF.result[1])\n",
    "    Radio=float(dF.result[2])\n",
    "    s_0=float(dF.result[3])\n",
    "    s_1=float(dF.result[4])\n",
    "\n",
    "    P_1_int=P_A*pow(10,5)\n",
    "    P_1_ext=(H-Radio)*s_1*9800\n",
    "    P_2_int=P_A*pow(10,5)+Radio*s_0*9800\n",
    "    P_2_ext=H*s_1*9800\n",
    "    P_1=P_1_int-P_1_ext\n",
    "    P_2=P_2_int-P_2_ext    \n",
    "except:\n",
    "    print(colored(\"Define un valor válido para las variables para continuar\",\"red\"))\n",
    "\n"
   ]
  },
  {
   "cell_type": "markdown",
   "id": "45a147a7",
   "metadata": {},
   "source": [
    "<div class=\"texto\">Introducimos valores para $P_{_1}$:</div>\n",
    "<div class=\"formulas\">\n",
    "    $$ \n",
    "    P_{_1}=P_{_A}\\cdot 10^{^{5}}-(H-R)\\cdot s_{_1}\\cdot9800  \n",
    "    $$\n",
    "</div>"
   ]
  },
  {
   "cell_type": "code",
   "execution_count": 9,
   "id": "56ae0991",
   "metadata": {},
   "outputs": [
    {
     "data": {
      "text/markdown": [
       "$$ P_{_1} =25.0\\cdot 10^{^{5}}-(200.0-2.0)\\cdot 1.05\\cdot9800\\ (Pa)=2500000.0-2037420.0=462580.0\\ Pa$$"
      ],
      "text/plain": [
       "<IPython.core.display.Markdown object>"
      ]
     },
     "execution_count": 9,
     "metadata": {},
     "output_type": "execute_result"
    }
   ],
   "source": [
    "from IPython.display import Markdown as md\n",
    "md('$$ P_{_1} =%.1f\\cdot 10^{^{5}}-(%.1f-%.1f)\\cdot %.2f\\cdot9800\\ (Pa)=%.1f-%.1f=%.1f\\ Pa$$'%\n",
    "   (P_A,H,Radio,s_1,P_1_int,P_1_ext,P_1))\n"
   ]
  },
  {
   "cell_type": "markdown",
   "id": "341642a9",
   "metadata": {},
   "source": [
    "<div class=\"texto\">Introducimos valores:</div>\n",
    "<div class=\"formulas\">\n",
    "    $$ \n",
    "    P_{_2}=P_{_A}\\cdot10^{^{5}}Pa+R\\cdot s_{_0}\\cdot 9800 -H\\cdot s_{_1}\\cdot 9800 \n",
    "    $$\n",
    "</div>"
   ]
  },
  {
   "cell_type": "code",
   "execution_count": 10,
   "id": "8e189b3b",
   "metadata": {},
   "outputs": [
    {
     "data": {
      "text/markdown": [
       "$$ P_{_2} =25.0\\cdot 10^{^{5}}+2.0\\cdot 0.85\\cdot 9800-200.0\\cdot 1.05\\cdot9800\\ (Pa)=2516660.0-2058000.0=458660.0\\ (Pa)$$"
      ],
      "text/plain": [
       "<IPython.core.display.Markdown object>"
      ]
     },
     "execution_count": 10,
     "metadata": {},
     "output_type": "execute_result"
    }
   ],
   "source": [
    "from IPython.display import Markdown as md\n",
    "md('$$ P_{_2} =%.1f\\cdot 10^{^{5}}+%.1f\\cdot %.2f\\cdot 9800-%.1f\\cdot %.2f\\cdot 9800\\ (Pa)=%.1f-%.1f=%.1f\\ (Pa)$$'%\n",
    "   (P_A,Radio,s_0,H,s_1,P_2_int,P_2_ext,P_2))\n"
   ]
  },
  {
   "cell_type": "code",
   "execution_count": 11,
   "id": "c8698b78",
   "metadata": {},
   "outputs": [],
   "source": [
    "try:\n",
    "    if (round(P_1,9)>round(P_2,9)):\n",
    "        mayor=\"P_{_1}\\ \"\n",
    "        texto=\"es\\ el\\ punto\\ de\\ mayor\\ presión.\"\n",
    "        valorMayor=P_1\n",
    "    elif (round(P_1,9)<round(P_2,9)):\n",
    "        mayor=\"P_{_2}\\ \"\n",
    "        texto=\"es\\ el\\ punto\\ de\\ mayor\\ presión.\"\n",
    "        valorMayor=P_2\n",
    "    else:\n",
    "        mayor=\"\"\n",
    "        texto=\"la\\ presión\\ es\\ constante\\ en\\ todo\\ el\\ depósito.\"\n",
    "        valorMayor=P_1 \n",
    "except:\n",
    "    print(colored(\"Los valores introducidos no son validos\",\"red\"))\n",
    "\n"
   ]
  },
  {
   "cell_type": "code",
   "execution_count": 12,
   "id": "e132857f",
   "metadata": {},
   "outputs": [
    {
     "data": {
      "text/markdown": [
       "$$Luego,\\ P_{_1}\\  es\\ el\\ punto\\ de\\ mayor\\ presión.  $$"
      ],
      "text/plain": [
       "<IPython.core.display.Markdown object>"
      ]
     },
     "execution_count": 12,
     "metadata": {},
     "output_type": "execute_result"
    }
   ],
   "source": [
    "from IPython.display import Markdown as md\n",
    "md('$$Luego,\\ %s %s  $$'%\n",
    "   (mayor, texto))\n"
   ]
  },
  {
   "cell_type": "markdown",
   "id": "917b23a7",
   "metadata": {},
   "source": [
    "<div class=\"texto\"><p>Partiendo de la fórmula de Barlow para tuberías semicilíndricas que nos da el enunciado:</p> </div>"
   ]
  },
  {
   "cell_type": "markdown",
   "id": "0e7c9794",
   "metadata": {},
   "source": [
    "<div class=\"formulas\">\n",
    "    $$ \n",
    "    e=\\frac{P\\cdot R}{2\\cdot \\sigma}=\\left[\\frac{P\\ (Pa)\\cdot R\\ (m)}{2\\cdot \\sigma\\ \\left(\\frac{N}{m^2}\\right)}\\right]\\ (m)\n",
    "    $$\n",
    "</div>\n",
    "<div class=\"texto\"><p>Introducimos los datos:</p> </div>\n"
   ]
  },
  {
   "cell_type": "code",
   "execution_count": 13,
   "id": "55181a59",
   "metadata": {},
   "outputs": [
    {
     "data": {
      "application/vnd.jupyter.widget-view+json": {
       "model_id": "aa8ef49a319d46fda6c557fae0fc79b1",
       "version_major": 2,
       "version_minor": 0
      },
      "text/plain": [
       "interactive(children=(Text(value='50000000', description='sigma'), Output()), _dom_classes=('widget-interact',…"
      ]
     },
     "metadata": {},
     "output_type": "display_data"
    }
   ],
   "source": [
    "from __future__ import print_function\n",
    "from termcolor import colored\n",
    "from ipywidgets import interact, interactive, fixed, interact_manual\n",
    "from IPython.display import HTML, display\n",
    "import ipywidgets as widgets\n",
    "\n",
    "def f(sigma):\n",
    "    try:\n",
    "        fsigma=float(sigma)\n",
    "    except:\n",
    "        print(colored(\"Define un valor válido para las variables\",\"red\"))\n",
    "    else:\n",
    "        print(\"Pulsa calcular para actualizar los campos de texto\")\n",
    "        return (fsigma)\n",
    "    \n",
    "eF = interactive(f,sigma=\"50000000\" )\n",
    "display(eF)\n",
    "\n",
    "eF.children[0].description = '$\\sigma$ ($N/m^{^2}$)'"
   ]
  },
  {
   "cell_type": "code",
   "execution_count": 14,
   "id": "78b0170f",
   "metadata": {},
   "outputs": [
    {
     "data": {
      "text/html": [
       "\n",
       "<button onclick=\"ejecutar(70,72)\">Actualizar campos de texto</button>\n",
       "<button onclick=\"ejecutar(68,69)\">Abrir/reiniciar cuadro de variables</button>\n",
       "<script>function ejecutar(desde, hasta){\n",
       "    for(i = desde; i < hasta; i++)\n",
       "Jupyter.notebook.execute_cells([i])\n",
       "}</script>"
      ],
      "text/plain": [
       "<IPython.core.display.HTML object>"
      ]
     },
     "execution_count": 14,
     "metadata": {},
     "output_type": "execute_result"
    }
   ],
   "source": [
    "from IPython.display import HTML\n",
    "HTML('''\n",
    "<button onclick=\"ejecutar(70,72)\">Actualizar campos de texto</button>\n",
    "<button onclick=\"ejecutar(68,69)\">Abrir/reiniciar cuadro de variables</button>\n",
    "<script>function ejecutar(desde, hasta){\n",
    "    for(i = desde; i < hasta; i++)\n",
    "Jupyter.notebook.execute_cells([i])\n",
    "}</script>''')"
   ]
  },
  {
   "cell_type": "code",
   "execution_count": 36,
   "id": "925cd59a",
   "metadata": {},
   "outputs": [],
   "source": [
    "from IPython.display import Markdown as md\n",
    "\n",
    "try:\n",
    "    sigma=float(eF.result)\n",
    "    P=valorMayor\n",
    "    e=(P*Radio)/(2*sigma)\n",
    "except:\n",
    "    print(colored(\"Los valores introducidos no son validos\",\"red\"))\n",
    "else:\n",
    "    exp=0\n",
    "    unidad=\"(m)\"\n",
    "    eExp=e\n",
    "    if (eExp<1):\n",
    "        caracter1=\"\\cdot 10^{-\"\n",
    "        caracter2=\"}\"\n",
    "        while(eExp<1):          \n",
    "                exp+=1\n",
    "                eExp=eExp*10\n",
    "        if (exp>=3):\n",
    "            exp-=3\n",
    "            unidad=\"(mm)\"\n",
    "            if (exp==0):\n",
    "                caracter1=\"\"\n",
    "                caracter2=\"\"\n",
    "\n",
    "\n",
    "    else: \n",
    "        caracter1=\"\"\n",
    "        caracter2=\"\"\n",
    "    eRed=round(eExp,3)"
   ]
  },
  {
   "cell_type": "code",
   "execution_count": 37,
   "id": "0959dcbb",
   "metadata": {},
   "outputs": [
    {
     "data": {
      "text/markdown": [
       "$$ e=(462580.0\\cdot 2.0)/(2\\cdot 500000000.0)=0.000925(m)$$  $$e \\cong 9.25 \\cdot 10^{-1}\\ (mm) $$"
      ],
      "text/plain": [
       "<IPython.core.display.Markdown object>"
      ]
     },
     "execution_count": 37,
     "metadata": {},
     "output_type": "execute_result"
    }
   ],
   "source": [
    "from IPython.display import Markdown as md\n",
    "md('$$ e=(%.1f\\cdot %.1f)/(2\\cdot %.1f)=%.6f(m)$$  $$e \\cong %.2f %s%s%s\\ %s $$'%\n",
    "   (valorMayor,Radio,sigma,e,eRed,caracter1,exp,caracter2,unidad))\n"
   ]
  },
  {
   "cell_type": "code",
   "execution_count": 17,
   "id": "5ce5e71d",
   "metadata": {},
   "outputs": [
    {
     "data": {
      "text/html": [
       "\n",
       "<a href=\"javascript:code_toggle()\">Mostrar/ocultar celdas de código</a>."
      ],
      "text/plain": [
       "<IPython.core.display.HTML object>"
      ]
     },
     "execution_count": 17,
     "metadata": {},
     "output_type": "execute_result"
    }
   ],
   "source": [
    "from IPython.display import HTML\n",
    "HTML('''\n",
    "<a href=\"javascript:code_toggle()\">Mostrar/ocultar celdas de código</a>.''')"
   ]
  },
  {
   "cell_type": "markdown",
   "id": "b3597882",
   "metadata": {},
   "source": [
    "[Volver al enunciado.](#enunciado)"
   ]
  },
  {
   "cell_type": "code",
   "execution_count": 18,
   "id": "b8563c53",
   "metadata": {},
   "outputs": [
    {
     "data": {
      "text/html": [
       "\n",
       "<script>\n",
       "window.location=\"Ejer3_Empuje_hidrostatico_Calculo_de_espesores.ipynb#enunciado\";\n",
       "</script>"
      ],
      "text/plain": [
       "<IPython.core.display.HTML object>"
      ]
     },
     "execution_count": 18,
     "metadata": {},
     "output_type": "execute_result"
    }
   ],
   "source": [
    "from IPython.display import HTML\n",
    "HTML('''\n",
    "<script>\n",
    "window.location=\"Ejer3_Empuje_hidrostatico_Calculo_de_espesores.ipynb#enunciado\";\n",
    "</script>''')"
   ]
  }
 ],
 "metadata": {
  "kernelspec": {
   "display_name": "Python 3",
   "language": "python",
   "name": "python3"
  },
  "language_info": {
   "codemirror_mode": {
    "name": "ipython",
    "version": 3
   },
   "file_extension": ".py",
   "mimetype": "text/x-python",
   "name": "python",
   "nbconvert_exporter": "python",
   "pygments_lexer": "ipython3",
   "version": "3.8.8"
  },
  "widgets": {
   "application/vnd.jupyter.widget-state+json": {
    "state": {
     "0aba357bd3c84b56937c941d768cc8ef": {
      "model_module": "@jupyter-widgets/output",
      "model_module_version": "1.0.0",
      "model_name": "OutputModel",
      "state": {
       "layout": "IPY_MODEL_6b2033568ddd4bcd86d50fe946bbaad7"
      }
     },
     "0d64a4624bfb4e03acc05e6be3ec1ce4": {
      "model_module": "@jupyter-widgets/controls",
      "model_module_version": "1.5.0",
      "model_name": "DescriptionStyleModel",
      "state": {
       "description_width": ""
      }
     },
     "0f8339453a634da599275d10388dacc6": {
      "model_module": "@jupyter-widgets/base",
      "model_module_version": "1.2.0",
      "model_name": "LayoutModel",
      "state": {}
     },
     "123ca2f54682410aac2f297e1ab6fac7": {
      "model_module": "@jupyter-widgets/base",
      "model_module_version": "1.2.0",
      "model_name": "LayoutModel",
      "state": {}
     },
     "127deeb0fb634cb0a26379b2c1d9cb3c": {
      "model_module": "@jupyter-widgets/base",
      "model_module_version": "1.2.0",
      "model_name": "LayoutModel",
      "state": {}
     },
     "1d980cc3c6c54c919254032b3ee5419b": {
      "model_module": "@jupyter-widgets/base",
      "model_module_version": "1.2.0",
      "model_name": "LayoutModel",
      "state": {}
     },
     "23ecb232aa4d45b8b60a41ef69350e7e": {
      "model_module": "@jupyter-widgets/base",
      "model_module_version": "1.2.0",
      "model_name": "LayoutModel",
      "state": {}
     },
     "28c5c46352ef4b249aa87e3d50af7fb1": {
      "model_module": "@jupyter-widgets/controls",
      "model_module_version": "1.5.0",
      "model_name": "TextModel",
      "state": {
       "description": "Radio",
       "layout": "IPY_MODEL_e90a921957b040839dd5bcff0447bf46",
       "style": "IPY_MODEL_c619ee5fafcd475fb35900785b27fc13",
       "value": "2"
      }
     },
     "314b78759a7b438093e94e07f5148513": {
      "model_module": "@jupyter-widgets/output",
      "model_module_version": "1.0.0",
      "model_name": "OutputModel",
      "state": {
       "layout": "IPY_MODEL_395d65fdb39f42ab961a1faf0d7e5070"
      }
     },
     "395d65fdb39f42ab961a1faf0d7e5070": {
      "model_module": "@jupyter-widgets/base",
      "model_module_version": "1.2.0",
      "model_name": "LayoutModel",
      "state": {}
     },
     "4c39496563de41398d88d6c27a07ee62": {
      "model_module": "@jupyter-widgets/controls",
      "model_module_version": "1.5.0",
      "model_name": "TextModel",
      "state": {
       "description": "P_A",
       "layout": "IPY_MODEL_23ecb232aa4d45b8b60a41ef69350e7e",
       "style": "IPY_MODEL_d48f336af3ee447299e22eca9dbd53f5",
       "value": "25"
      }
     },
     "50a14cf19ced458ba28028873f95b684": {
      "model_module": "@jupyter-widgets/base",
      "model_module_version": "1.2.0",
      "model_name": "LayoutModel",
      "state": {}
     },
     "54771a06635d4181aa55d50c8a4f7ab9": {
      "model_module": "@jupyter-widgets/base",
      "model_module_version": "1.2.0",
      "model_name": "LayoutModel",
      "state": {}
     },
     "5cb2428e5a0049f3a1bc1c6ffafbbdaf": {
      "model_module": "@jupyter-widgets/output",
      "model_module_version": "1.0.0",
      "model_name": "OutputModel",
      "state": {
       "layout": "IPY_MODEL_ed255d93f8cb4e5ebd6c7e8f7e609331"
      }
     },
     "6b2033568ddd4bcd86d50fe946bbaad7": {
      "model_module": "@jupyter-widgets/base",
      "model_module_version": "1.2.0",
      "model_name": "LayoutModel",
      "state": {}
     },
     "75477ab4337a4ce68cbae1739421c582": {
      "model_module": "@jupyter-widgets/controls",
      "model_module_version": "1.5.0",
      "model_name": "VBoxModel",
      "state": {
       "_dom_classes": [
        "widget-interact"
       ],
       "children": [
        "IPY_MODEL_a1e03c670a0d4b5e8dd49a588cd95e92",
        "IPY_MODEL_4c39496563de41398d88d6c27a07ee62",
        "IPY_MODEL_28c5c46352ef4b249aa87e3d50af7fb1",
        "IPY_MODEL_aaa35ecf71ec46998c6903ed8539549e",
        "IPY_MODEL_a0f4baae8c6d4836b5bb0a9ec61a843d",
        "IPY_MODEL_314b78759a7b438093e94e07f5148513"
       ],
       "layout": "IPY_MODEL_0f8339453a634da599275d10388dacc6"
      }
     },
     "7be831d04bda429da63867d371a61f9d": {
      "model_module": "@jupyter-widgets/base",
      "model_module_version": "1.2.0",
      "model_name": "LayoutModel",
      "state": {}
     },
     "8228348c51fa423099511212d9a47603": {
      "model_module": "@jupyter-widgets/base",
      "model_module_version": "1.2.0",
      "model_name": "LayoutModel",
      "state": {}
     },
     "8af98fd4e273414eb600cb358b65af91": {
      "model_module": "@jupyter-widgets/base",
      "model_module_version": "1.2.0",
      "model_name": "LayoutModel",
      "state": {}
     },
     "94253213e7154a8b9d1af93658262dd3": {
      "model_module": "@jupyter-widgets/base",
      "model_module_version": "1.2.0",
      "model_name": "LayoutModel",
      "state": {}
     },
     "9b4b8b73b3f4468aaef98789d7706501": {
      "model_module": "@jupyter-widgets/output",
      "model_module_version": "1.0.0",
      "model_name": "OutputModel",
      "state": {
       "layout": "IPY_MODEL_8af98fd4e273414eb600cb358b65af91"
      }
     },
     "a0f4baae8c6d4836b5bb0a9ec61a843d": {
      "model_module": "@jupyter-widgets/controls",
      "model_module_version": "1.5.0",
      "model_name": "TextModel",
      "state": {
       "description": "s1",
       "layout": "IPY_MODEL_127deeb0fb634cb0a26379b2c1d9cb3c",
       "style": "IPY_MODEL_0d64a4624bfb4e03acc05e6be3ec1ce4",
       "value": "1.05"
      }
     },
     "a1c5523763c94c7d81b54f8c76416fce": {
      "model_module": "@jupyter-widgets/controls",
      "model_module_version": "1.5.0",
      "model_name": "DescriptionStyleModel",
      "state": {
       "description_width": ""
      }
     },
     "a1e03c670a0d4b5e8dd49a588cd95e92": {
      "model_module": "@jupyter-widgets/controls",
      "model_module_version": "1.5.0",
      "model_name": "TextModel",
      "state": {
       "description": "H",
       "layout": "IPY_MODEL_50a14cf19ced458ba28028873f95b684",
       "style": "IPY_MODEL_e9dc89ed3a514a929e81878bf6427348",
       "value": "200"
      }
     },
     "a73aae0431e644b98bd2e9ca4d758ebc": {
      "model_module": "@jupyter-widgets/controls",
      "model_module_version": "1.5.0",
      "model_name": "TextModel",
      "state": {
       "description": "sigma",
       "layout": "IPY_MODEL_ffe753bfa66b4bc8a797d4a6b7f4b8cd",
       "style": "IPY_MODEL_a1c5523763c94c7d81b54f8c76416fce",
       "value": "50000000000000000000000"
      }
     },
     "aaa35ecf71ec46998c6903ed8539549e": {
      "model_module": "@jupyter-widgets/controls",
      "model_module_version": "1.5.0",
      "model_name": "TextModel",
      "state": {
       "description": "s0",
       "layout": "IPY_MODEL_123ca2f54682410aac2f297e1ab6fac7",
       "style": "IPY_MODEL_e3a736590a8f4a0d8574354af8404f73",
       "value": "0.85"
      }
     },
     "bf263cd978e74581b1dcc0563f4808a8": {
      "model_module": "@jupyter-widgets/controls",
      "model_module_version": "1.5.0",
      "model_name": "DescriptionStyleModel",
      "state": {
       "description_width": ""
      }
     },
     "c619ee5fafcd475fb35900785b27fc13": {
      "model_module": "@jupyter-widgets/controls",
      "model_module_version": "1.5.0",
      "model_name": "DescriptionStyleModel",
      "state": {
       "description_width": ""
      }
     },
     "d18e018b24144ae8a2edf616fcf146b3": {
      "model_module": "@jupyter-widgets/controls",
      "model_module_version": "1.5.0",
      "model_name": "TextModel",
      "state": {
       "description": "sigma",
       "layout": "IPY_MODEL_7be831d04bda429da63867d371a61f9d",
       "style": "IPY_MODEL_bf263cd978e74581b1dcc0563f4808a8",
       "value": "50"
      }
     },
     "d41b2fd0772944ce9c4c84c3f9ef29a5": {
      "model_module": "@jupyter-widgets/controls",
      "model_module_version": "1.5.0",
      "model_name": "VBoxModel",
      "state": {
       "_dom_classes": [
        "widget-interact"
       ],
       "children": [
        "IPY_MODEL_d18e018b24144ae8a2edf616fcf146b3",
        "IPY_MODEL_9b4b8b73b3f4468aaef98789d7706501"
       ],
       "layout": "IPY_MODEL_1d980cc3c6c54c919254032b3ee5419b"
      }
     },
     "d48f336af3ee447299e22eca9dbd53f5": {
      "model_module": "@jupyter-widgets/controls",
      "model_module_version": "1.5.0",
      "model_name": "DescriptionStyleModel",
      "state": {
       "description_width": ""
      }
     },
     "d74b78c14a39474681c0a9718218e05c": {
      "model_module": "@jupyter-widgets/controls",
      "model_module_version": "1.5.0",
      "model_name": "VBoxModel",
      "state": {
       "_dom_classes": [
        "widget-interact"
       ],
       "children": [
        "IPY_MODEL_a73aae0431e644b98bd2e9ca4d758ebc",
        "IPY_MODEL_0aba357bd3c84b56937c941d768cc8ef"
       ],
       "layout": "IPY_MODEL_54771a06635d4181aa55d50c8a4f7ab9"
      }
     },
     "db41eb590ef041b6bc570a64f6c9ae6e": {
      "model_module": "@jupyter-widgets/controls",
      "model_module_version": "1.5.0",
      "model_name": "TextModel",
      "state": {
       "description": "sigma",
       "layout": "IPY_MODEL_94253213e7154a8b9d1af93658262dd3",
       "style": "IPY_MODEL_ddd87a3cc7c04bb2a84455e8e7c9591e",
       "value": "50000000"
      }
     },
     "ddd87a3cc7c04bb2a84455e8e7c9591e": {
      "model_module": "@jupyter-widgets/controls",
      "model_module_version": "1.5.0",
      "model_name": "DescriptionStyleModel",
      "state": {
       "description_width": ""
      }
     },
     "e3a736590a8f4a0d8574354af8404f73": {
      "model_module": "@jupyter-widgets/controls",
      "model_module_version": "1.5.0",
      "model_name": "DescriptionStyleModel",
      "state": {
       "description_width": ""
      }
     },
     "e90a921957b040839dd5bcff0447bf46": {
      "model_module": "@jupyter-widgets/base",
      "model_module_version": "1.2.0",
      "model_name": "LayoutModel",
      "state": {}
     },
     "e9dc89ed3a514a929e81878bf6427348": {
      "model_module": "@jupyter-widgets/controls",
      "model_module_version": "1.5.0",
      "model_name": "DescriptionStyleModel",
      "state": {
       "description_width": ""
      }
     },
     "ed255d93f8cb4e5ebd6c7e8f7e609331": {
      "model_module": "@jupyter-widgets/base",
      "model_module_version": "1.2.0",
      "model_name": "LayoutModel",
      "state": {}
     },
     "ed2c431240894c13aec98bbdc3c8aab4": {
      "model_module": "@jupyter-widgets/controls",
      "model_module_version": "1.5.0",
      "model_name": "VBoxModel",
      "state": {
       "_dom_classes": [
        "widget-interact"
       ],
       "children": [
        "IPY_MODEL_db41eb590ef041b6bc570a64f6c9ae6e",
        "IPY_MODEL_5cb2428e5a0049f3a1bc1c6ffafbbdaf"
       ],
       "layout": "IPY_MODEL_8228348c51fa423099511212d9a47603"
      }
     },
     "ffe753bfa66b4bc8a797d4a6b7f4b8cd": {
      "model_module": "@jupyter-widgets/base",
      "model_module_version": "1.2.0",
      "model_name": "LayoutModel",
      "state": {}
     }
    },
    "version_major": 2,
    "version_minor": 0
   }
  }
 },
 "nbformat": 4,
 "nbformat_minor": 5
}
