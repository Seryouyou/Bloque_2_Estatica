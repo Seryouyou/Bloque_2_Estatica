{
 "cells": [
  {
   "cell_type": "code",
   "execution_count": 1,
   "id": "65a1fd7c",
   "metadata": {
    "scrolled": true
   },
   "outputs": [
    {
     "data": {
      "text/html": [
       "\n",
       "<script>\n",
       "code_show=true; \n",
       "function code_toggle() {\n",
       " if (code_show){\n",
       " $('div.input').hide();\n",
       " } else {\n",
       " $('div.input').show();\n",
       " }\n",
       " code_show = !code_show\n",
       "} \n",
       "$( document ).ready(code_toggle);\n",
       "</script>\n",
       "<a href=\"javascript:code_toggle()\">Mostrar/ocultar celdas de código</a>."
      ],
      "text/plain": [
       "<IPython.core.display.HTML object>"
      ]
     },
     "execution_count": 1,
     "metadata": {},
     "output_type": "execute_result"
    }
   ],
   "source": [
    "from IPython.display import HTML\n",
    "HTML('''\n",
    "<script>\n",
    "code_show=true; \n",
    "function code_toggle() {\n",
    " if (code_show){\n",
    " $('div.input').hide();\n",
    " } else {\n",
    " $('div.input').show();\n",
    " }\n",
    " code_show = !code_show\n",
    "} \n",
    "$( document ).ready(code_toggle);\n",
    "</script>\n",
    "<a href=\"javascript:code_toggle()\">Mostrar/ocultar celdas de código</a>.''')"
   ]
  },
  {
   "cell_type": "markdown",
   "id": "b4e3f827",
   "metadata": {},
   "source": [
    "<div class=\"texto\" id=\"enunciado\">\n",
    "    <p>2.60. ¿A qué profundidad se sumergirá en el océano un objeto homogéneo ($\\gamma_{_{objeto}} = 10,4\\ kN/m^{^3}$) si el peso específico del océano varía con la profundidad de acuerdo con la relación:\n",
    "</div>\n",
    "<div class=\"formulas\">\n",
    "    $$\n",
    "    \\gamma_{_{océano}}( kN/m^{^3}) = 10,0 + 0,0081\\cdot\\sqrt{z}\n",
    "    $$\n",
    "</div>\n",
    "<div class=\"texto\">\n",
    "    <p><strong>Nota: z es la profundidad en m.</strong></p>\n",
    "</div>\n"
   ]
  },
  {
   "cell_type": "markdown",
   "id": "3913461e",
   "metadata": {},
   "source": [
    "<div class=\"antesDe\">\n",
    "<ul>\n",
    "    <li><strong>CONCEPTOS PREVIOS</strong></li>\n",
    "    <ul>\n",
    "        <li>CONSECUENCIAS DE LA ECUACIÓN FUNDAMENTAL DE LA HIDROSTÁTICA.</li>\n",
    "        <ul>\n",
    "            <li><i>Las superficies de presión constante (superficies isobáricas) son <strong>horizontales.</strong></i></li>\n",
    "            <li><i><strong>La variación de presión en el interior de un líquido en reposo depende de la diferencia de cota</strong>. Al trabajar con líquidos <strong>suele ser conveniente tomar</strong> el origen de coordenadas en <strong>la superficie libre</strong> (nivel de referencia) y <strong>medir las distancias desde la superficie libre hacia abajo</strong>.</i></li>\n",
    "        </ul>\n",
    "        <li>PRINCIPIO DE ARQUÍMEDES.</li>\n",
    "        <ul> \n",
    "            <li><i><strong>“Todo cuerpo cerrado, parcial o totalmente sumergido en un líquido experimenta un empuje ascensional igual al peso del volumen del líquido que desaloja”</strong>. El centro de acción de este empuje ascensional se encuentra en el centro de gravedad del volumen desalojado. $E=\\gamma \\cdot\\forall$, siendo $\\forall$ el volumen del sólido.</i></li>\n",
    "    </ul>\n",
    "        <li>FUERZAS SOBRE CUERPOS CERRADOS.</li>\n",
    "        <ul> \n",
    "            <li><i><strong>Componente horizontal resultante</strong>: <strong> La componente horizontal</strong> de la fuerza <strong>es nula</strong>, ya que las fuerzas horizontales se van anulando dos a dos.</i></li>\n",
    "    </ul>\n",
    "</ul>\n",
    "<div>\n",
    "\n"
   ]
  },
  {
   "cell_type": "markdown",
   "id": "4bb066a3",
   "metadata": {},
   "source": [
    "\n",
    "<div class=\"texto\"><p>Primero de todo exponemos los datos que nos da el ejercicio:</p> </div>\n",
    "<div class=\"split\">\n",
    "    <div class=\"izq\"><img src=\"../MEDIA/2.60.png\" style=\"width:90%\"></div>\n",
    "    <div class=\"dcha\">\n",
    "        <div class=\"texto\">\n",
    "        Tenemos un objeto de forma y volumen desconocidos con un peso específico $\\gamma_{_{objeto}} = 10,4\\ kN/m^{^3}$, sumergido a una distancia desconocida $z$ en un fluido con un peso específico que varía con la altura según la siguiente relación.\n",
    "        </div>\n",
    "        <div class=\"formulas\">\n",
    "        $$\n",
    "        \\gamma_{_{océano}}( kN/m^{^3}) = 10,0 + 0,0081\\cdot\\sqrt{z}\n",
    "        $$\n",
    "        </div>\n",
    "    </div>\n",
    "</div>"
   ]
  },
  {
   "cell_type": "markdown",
   "id": "e47d3194",
   "metadata": {},
   "source": [
    "<div class=\"texto\"><p>Ahora comprobamos que nos dice la teoria de un cuerpo sumergido.</p> </div>"
   ]
  },
  {
   "cell_type": "markdown",
   "id": "81b3a264",
   "metadata": {},
   "source": [
    "<div class=\"texto\">          \n",
    "            <li>PRINCIPIO DE ARQUÍMEDES: <i><strong>“Todo cuerpo cerrado, parcial o totalmente sumergido en un líquido experimenta un empuje ascensional igual al peso del volumen del líquido que desaloja”</strong>. El centro de acción de este empuje ascensional se encuentra en el centro de gravedad del volumen desalojado. $E=\\gamma \\cdot\\forall$, siendo $\\forall$ el volumen del sólido.</i></li>\n",
    "</div>\n",
    "<div class=\"texto\">Luego si:</div>\n",
    "<div class=\"formulas\">\n",
    "$$ \n",
    "V_{_{objeto}}=V_{_{océano\\ desalojado}}\\rightarrow E=\\gamma_{_{océano}} \\cdot V_{_{objeto}}\n",
    "$$\n",
    "</div>"
   ]
  },
  {
   "cell_type": "markdown",
   "id": "317cf555",
   "metadata": {},
   "source": [
    "<div class=\"texto\">Se puede entender del enunciado, que el objeto se irá sumergiendo hasta un punto de equilibrio.</div>\n",
    "<div class=\"texto\">En equilibrio, sabemos que:</div>\n",
    "<div class=\"formulas\">\n",
    "$$\n",
    "\\sum_{1}^{n}F=m\\cdot a\\ ;\\ a=0\\ \\rightarrow  \\sum_{1}^{n}F=0\n",
    "$$\n",
    "</div>"
   ]
  },
  {
   "cell_type": "markdown",
   "id": "db288ab7",
   "metadata": {},
   "source": [
    "<div class=\"texto\">¿Qué fuerzas toman parte en el equilibrio? La teoría nos dice que:</div>\n",
    "<div class=\"texto\">          \n",
    "            <li><strong> La componente horizontal</strong> de la fuerza  en un cuerpo sumergido <strong>es nula</strong>, ya que las fuerzas horizontales se van anulando dos a dos. </li>\n",
    "Por tanto, no habrá que considerar las fuerzas horizontales.\n",
    "</div>\n",
    "<div class=\"texto\">          \n",
    "Esto nos deja con dos fuerzas a considerar, la fuerza hidrostática del océano sobre el objeto (el empuje) y el peso del propio objeto.\n",
    "</div>\n"
   ]
  },
  {
   "cell_type": "markdown",
   "id": "c6dfb546",
   "metadata": {},
   "source": [
    "<div class=\"texto\"><p>Realicemos un diagrama de fuerzas.</p></div>\n",
    "<div class=\"split\">\n",
    "    <div class=\"izq\"><img src=\"../MEDIA/2.60.1.png\">\n",
    "    </div>\n",
    "    <div class=\"dcha\">\n",
    "        <div class=\"texto\"><p>De esto obtenemos:</p></div>\n",
    "        <div class=\"formulas\">\n",
    "            $$\n",
    "            \\sum F=0\\rightarrow \n",
    "            $$\n",
    "        </div>\n",
    "        <div class=\"formulas\">\n",
    "            $$\n",
    "            E=W\\rightarrow \\gamma_{_{océano}} \\cdot\\forall_{_{objeto}}=m_{_{objeto}}\\cdot g\n",
    "            $$\n",
    "        </div>\n",
    "        <div class=\"texto\"><p>Si reordenamos los términos</p></div>    \n",
    "        <div class=\"formulas\">\n",
    "            $$\n",
    "            E=W\\rightarrow \\gamma_{_{océano}}=\\frac{m_{_{objeto}}}{V_{_{objeto}}}\\cdot g\n",
    "            $$\n",
    "        </div>\n",
    "        <div class=\"texto\"><p>Del segundo término:</p></div>\n",
    "        <div class=\"formulas\">\n",
    "            $$\n",
    "            \\frac{m_{_{objeto}}}{V_{_{objeto}}}\\cdot g=\\rho_{_{objeto}}\\cdot g=\\gamma_{_{objeto}}\n",
    "            $$\n",
    "        </div>\n",
    "    </div>\n",
    "</div>\n",
    "\n"
   ]
  },
  {
   "cell_type": "markdown",
   "id": "8c157e4f",
   "metadata": {},
   "source": [
    "<div class=\"texto\"><p>Por tanto, se puede definir lo siguiente:</p></div>\n",
    "<div class=\"formulas\">\n",
    "    $$\n",
    "    \\gamma_{_{océano}}=\\gamma_{_{objeto}}\n",
    "    $$\n",
    "</div>\n"
   ]
  },
  {
   "cell_type": "markdown",
   "id": "3774e30f",
   "metadata": {},
   "source": [
    "<div class=\"texto\"><p>Sustituimos el $\\gamma_{_{océano}}$ por su ecuación y despejamos z.</p></div>\n",
    "<div class=\"formulas\">\n",
    "    $$\n",
    "    10,0 + 0,0081\\cdot\\sqrt{z}=\\gamma_{_{objeto}}\n",
    "    $$\n",
    "</div>\n",
    "<div class=\"formulas\">\n",
    "    $$\n",
    "    \\sqrt{z}=\\frac{\\gamma_{_{objeto}}-10,0}{0,0081}\n",
    "    $$\n",
    "</div>\n",
    "<div class=\"formulas\">\n",
    "    $$\n",
    "    z={\\left(\\frac{\\gamma_{_{objeto}}-10,0}{0,0081}\\right)}^{2}\n",
    "    $$\n",
    "</div>\n",
    "<div class=\"texto\"><p>Cuando el objeto se encuentre a una altura z que haga que el peso específico ($\\gamma$) del océano sea igual que el del objeto, se dará el equilibrio.</p></div>\n",
    "\n"
   ]
  },
  {
   "cell_type": "markdown",
   "id": "ce0bdfeb",
   "metadata": {},
   "source": [
    "<div class=\"texto\">Introducimos valores:</div>"
   ]
  },
  {
   "cell_type": "code",
   "execution_count": 12,
   "id": "75cf05b2",
   "metadata": {
    "scrolled": false
   },
   "outputs": [
    {
     "data": {
      "text/html": [
       "\n",
       "<style>\n",
       "    .widget-label { width: 20ex !important;text-align:left !important; }    \n",
       "</style>"
      ],
      "text/plain": [
       "<IPython.core.display.HTML object>"
      ]
     },
     "metadata": {},
     "output_type": "display_data"
    },
    {
     "data": {
      "application/vnd.jupyter.widget-view+json": {
       "model_id": "3866dfec739243ce8c7778f06dd3e8f0",
       "version_major": 2,
       "version_minor": 0
      },
      "text/plain": [
       "interactive(children=(Text(value='10.14', description='gamma_objeto'), Output()), _dom_classes=('widget-intera…"
      ]
     },
     "metadata": {},
     "output_type": "display_data"
    }
   ],
   "source": [
    "from __future__ import print_function\n",
    "from termcolor import colored\n",
    "from ipywidgets import interact, interactive, fixed, interact_manual\n",
    "from IPython.display import HTML, display\n",
    "import ipywidgets as widgets\n",
    "import math\n",
    "\n",
    "def f(gamma_objeto):\n",
    "    try:\n",
    "        fgamma_objeto=float(gamma_objeto)\n",
    "        try:\n",
    "            a=math.sqrt(fgamma_objeto-10)\n",
    "        except:\n",
    "            print(colored(\"El peso especifico del objeto ha de ser mayor que 10 para que se sumerja.\",\"red\"))\n",
    "    except:\n",
    "        print(colored(\"Define un valor válido para las variables\",\"red\"))\n",
    "    else:\n",
    "        print(\"Pulsa calcular para actualizar los campos de texto\")\n",
    "        return (fgamma_objeto)\n",
    "\n",
    "F = interactive(f, gamma_objeto=\"10.14\" )\n",
    "\n",
    "display(HTML('''\n",
    "<style>\n",
    "    .widget-label { width: 20ex !important;text-align:left !important; }    \n",
    "</style>'''))\n",
    "\n",
    "display(F)\n",
    "\n",
    "F.children[0].description = '$\\gamma_{_{objeto}}$ ($kN/m^{^3}$)'\n",
    "\n",
    "\n",
    "\n"
   ]
  },
  {
   "cell_type": "code",
   "execution_count": 3,
   "id": "ec18144d",
   "metadata": {},
   "outputs": [
    {
     "data": {
      "text/html": [
       "\n",
       "<button onclick=\"ejecutar(14,17)\">Actualizar campos de texto</button>\n",
       "<button onclick=\"ejecutar(12,13)\">Abrir/reiniciar cuadro de variables</button>\n",
       "<script>function ejecutar(desde, hasta){\n",
       "    for(i = desde; i < hasta; i++)\n",
       "Jupyter.notebook.execute_cells([i])\n",
       "}</script>"
      ],
      "text/plain": [
       "<IPython.core.display.HTML object>"
      ]
     },
     "execution_count": 3,
     "metadata": {},
     "output_type": "execute_result"
    }
   ],
   "source": [
    "from IPython.display import HTML\n",
    "HTML('''\n",
    "<button onclick=\"ejecutar(14,17)\">Actualizar campos de texto</button>\n",
    "<button onclick=\"ejecutar(12,13)\">Abrir/reiniciar cuadro de variables</button>\n",
    "<script>function ejecutar(desde, hasta){\n",
    "    for(i = desde; i < hasta; i++)\n",
    "Jupyter.notebook.execute_cells([i])\n",
    "}</script>''')"
   ]
  },
  {
   "cell_type": "code",
   "execution_count": 13,
   "id": "3a985272",
   "metadata": {
    "scrolled": true
   },
   "outputs": [],
   "source": [
    "from IPython.display import Markdown as md\n",
    "try:\n",
    "    gamma_objeto=float(F.result)\n",
    "    z=pow(((gamma_objeto-10.0)/(0.0081)),2)   \n",
    "except:\n",
    "    print(colored(\"Define un valor válido para las variables para continuar\",\"red\"))\n",
    "try:\n",
    "    a=math.sqrt(gamma_objeto-10)\n",
    "except:\n",
    "    print(colored(\"z=0; ya que el objeto no se sumerje\",\"red\"))\n"
   ]
  },
  {
   "cell_type": "markdown",
   "id": "9eb71214",
   "metadata": {},
   "source": [
    "<div class=\"formulas\">\n",
    "    $$ \n",
    "    z={\\left(\\frac{\\gamma_{_{objeto}}-10,0}{0,0081}\\right)}^{2}  \n",
    "    $$\n",
    "</div>"
   ]
  },
  {
   "cell_type": "code",
   "execution_count": 14,
   "id": "4985e1ac",
   "metadata": {},
   "outputs": [
    {
     "data": {
      "text/markdown": [
       "$$ z=[(10.14-10.0)/(0.0081)]^{^2}=298.73\\ m$$"
      ],
      "text/plain": [
       "<IPython.core.display.Markdown object>"
      ]
     },
     "execution_count": 14,
     "metadata": {},
     "output_type": "execute_result"
    }
   ],
   "source": [
    "from IPython.display import Markdown as md\n",
    "md('$$ z=[(%.2f-10.0)/(0.0081)]^{^2}=%.2f\\ m$$'%\n",
    "   (gamma_objeto,z))\n"
   ]
  },
  {
   "cell_type": "code",
   "execution_count": 6,
   "id": "5ce5e71d",
   "metadata": {},
   "outputs": [
    {
     "data": {
      "text/html": [
       "\n",
       "<a href=\"javascript:code_toggle()\">Mostrar/ocultar celdas de código</a>."
      ],
      "text/plain": [
       "<IPython.core.display.HTML object>"
      ]
     },
     "execution_count": 6,
     "metadata": {},
     "output_type": "execute_result"
    }
   ],
   "source": [
    "from IPython.display import HTML\n",
    "HTML('''\n",
    "<a href=\"javascript:code_toggle()\">Mostrar/ocultar celdas de código</a>.''')"
   ]
  },
  {
   "cell_type": "markdown",
   "id": "b3597882",
   "metadata": {},
   "source": [
    "[Volver al enunciado.](#enunciado)"
   ]
  },
  {
   "cell_type": "code",
   "execution_count": 7,
   "id": "a0200d6a",
   "metadata": {},
   "outputs": [
    {
     "data": {
      "text/html": [
       "\n",
       "<script>\n",
       "window.location=\"2.60.ipynb#enunciado\";\n",
       "</script>"
      ],
      "text/plain": [
       "<IPython.core.display.HTML object>"
      ]
     },
     "execution_count": 7,
     "metadata": {},
     "output_type": "execute_result"
    }
   ],
   "source": [
    "from IPython.display import HTML\n",
    "HTML('''\n",
    "<script>\n",
    "window.location=\"Ejer1_#enunciado\";\n",
    "</script>''')"
   ]
  }
 ],
 "metadata": {
  "kernelspec": {
   "display_name": "Python 3",
   "language": "python",
   "name": "python3"
  },
  "language_info": {
   "codemirror_mode": {
    "name": "ipython",
    "version": 3
   },
   "file_extension": ".py",
   "mimetype": "text/x-python",
   "name": "python",
   "nbconvert_exporter": "python",
   "pygments_lexer": "ipython3",
   "version": "3.8.8"
  },
  "widgets": {
   "application/vnd.jupyter.widget-state+json": {
    "state": {
     "0aba357bd3c84b56937c941d768cc8ef": {
      "model_module": "@jupyter-widgets/output",
      "model_module_version": "1.0.0",
      "model_name": "OutputModel",
      "state": {
       "layout": "IPY_MODEL_6b2033568ddd4bcd86d50fe946bbaad7"
      }
     },
     "0d64a4624bfb4e03acc05e6be3ec1ce4": {
      "model_module": "@jupyter-widgets/controls",
      "model_module_version": "1.5.0",
      "model_name": "DescriptionStyleModel",
      "state": {
       "description_width": ""
      }
     },
     "0f8339453a634da599275d10388dacc6": {
      "model_module": "@jupyter-widgets/base",
      "model_module_version": "1.2.0",
      "model_name": "LayoutModel",
      "state": {}
     },
     "123ca2f54682410aac2f297e1ab6fac7": {
      "model_module": "@jupyter-widgets/base",
      "model_module_version": "1.2.0",
      "model_name": "LayoutModel",
      "state": {}
     },
     "127deeb0fb634cb0a26379b2c1d9cb3c": {
      "model_module": "@jupyter-widgets/base",
      "model_module_version": "1.2.0",
      "model_name": "LayoutModel",
      "state": {}
     },
     "1d980cc3c6c54c919254032b3ee5419b": {
      "model_module": "@jupyter-widgets/base",
      "model_module_version": "1.2.0",
      "model_name": "LayoutModel",
      "state": {}
     },
     "23ecb232aa4d45b8b60a41ef69350e7e": {
      "model_module": "@jupyter-widgets/base",
      "model_module_version": "1.2.0",
      "model_name": "LayoutModel",
      "state": {}
     },
     "28c5c46352ef4b249aa87e3d50af7fb1": {
      "model_module": "@jupyter-widgets/controls",
      "model_module_version": "1.5.0",
      "model_name": "TextModel",
      "state": {
       "description": "Radio",
       "layout": "IPY_MODEL_e90a921957b040839dd5bcff0447bf46",
       "style": "IPY_MODEL_c619ee5fafcd475fb35900785b27fc13",
       "value": "2"
      }
     },
     "314b78759a7b438093e94e07f5148513": {
      "model_module": "@jupyter-widgets/output",
      "model_module_version": "1.0.0",
      "model_name": "OutputModel",
      "state": {
       "layout": "IPY_MODEL_395d65fdb39f42ab961a1faf0d7e5070"
      }
     },
     "395d65fdb39f42ab961a1faf0d7e5070": {
      "model_module": "@jupyter-widgets/base",
      "model_module_version": "1.2.0",
      "model_name": "LayoutModel",
      "state": {}
     },
     "4c39496563de41398d88d6c27a07ee62": {
      "model_module": "@jupyter-widgets/controls",
      "model_module_version": "1.5.0",
      "model_name": "TextModel",
      "state": {
       "description": "P_A",
       "layout": "IPY_MODEL_23ecb232aa4d45b8b60a41ef69350e7e",
       "style": "IPY_MODEL_d48f336af3ee447299e22eca9dbd53f5",
       "value": "25"
      }
     },
     "50a14cf19ced458ba28028873f95b684": {
      "model_module": "@jupyter-widgets/base",
      "model_module_version": "1.2.0",
      "model_name": "LayoutModel",
      "state": {}
     },
     "54771a06635d4181aa55d50c8a4f7ab9": {
      "model_module": "@jupyter-widgets/base",
      "model_module_version": "1.2.0",
      "model_name": "LayoutModel",
      "state": {}
     },
     "5cb2428e5a0049f3a1bc1c6ffafbbdaf": {
      "model_module": "@jupyter-widgets/output",
      "model_module_version": "1.0.0",
      "model_name": "OutputModel",
      "state": {
       "layout": "IPY_MODEL_ed255d93f8cb4e5ebd6c7e8f7e609331"
      }
     },
     "6b2033568ddd4bcd86d50fe946bbaad7": {
      "model_module": "@jupyter-widgets/base",
      "model_module_version": "1.2.0",
      "model_name": "LayoutModel",
      "state": {}
     },
     "75477ab4337a4ce68cbae1739421c582": {
      "model_module": "@jupyter-widgets/controls",
      "model_module_version": "1.5.0",
      "model_name": "VBoxModel",
      "state": {
       "_dom_classes": [
        "widget-interact"
       ],
       "children": [
        "IPY_MODEL_a1e03c670a0d4b5e8dd49a588cd95e92",
        "IPY_MODEL_4c39496563de41398d88d6c27a07ee62",
        "IPY_MODEL_28c5c46352ef4b249aa87e3d50af7fb1",
        "IPY_MODEL_aaa35ecf71ec46998c6903ed8539549e",
        "IPY_MODEL_a0f4baae8c6d4836b5bb0a9ec61a843d",
        "IPY_MODEL_314b78759a7b438093e94e07f5148513"
       ],
       "layout": "IPY_MODEL_0f8339453a634da599275d10388dacc6"
      }
     },
     "7be831d04bda429da63867d371a61f9d": {
      "model_module": "@jupyter-widgets/base",
      "model_module_version": "1.2.0",
      "model_name": "LayoutModel",
      "state": {}
     },
     "8228348c51fa423099511212d9a47603": {
      "model_module": "@jupyter-widgets/base",
      "model_module_version": "1.2.0",
      "model_name": "LayoutModel",
      "state": {}
     },
     "8af98fd4e273414eb600cb358b65af91": {
      "model_module": "@jupyter-widgets/base",
      "model_module_version": "1.2.0",
      "model_name": "LayoutModel",
      "state": {}
     },
     "94253213e7154a8b9d1af93658262dd3": {
      "model_module": "@jupyter-widgets/base",
      "model_module_version": "1.2.0",
      "model_name": "LayoutModel",
      "state": {}
     },
     "9b4b8b73b3f4468aaef98789d7706501": {
      "model_module": "@jupyter-widgets/output",
      "model_module_version": "1.0.0",
      "model_name": "OutputModel",
      "state": {
       "layout": "IPY_MODEL_8af98fd4e273414eb600cb358b65af91"
      }
     },
     "a0f4baae8c6d4836b5bb0a9ec61a843d": {
      "model_module": "@jupyter-widgets/controls",
      "model_module_version": "1.5.0",
      "model_name": "TextModel",
      "state": {
       "description": "s1",
       "layout": "IPY_MODEL_127deeb0fb634cb0a26379b2c1d9cb3c",
       "style": "IPY_MODEL_0d64a4624bfb4e03acc05e6be3ec1ce4",
       "value": "1.05"
      }
     },
     "a1c5523763c94c7d81b54f8c76416fce": {
      "model_module": "@jupyter-widgets/controls",
      "model_module_version": "1.5.0",
      "model_name": "DescriptionStyleModel",
      "state": {
       "description_width": ""
      }
     },
     "a1e03c670a0d4b5e8dd49a588cd95e92": {
      "model_module": "@jupyter-widgets/controls",
      "model_module_version": "1.5.0",
      "model_name": "TextModel",
      "state": {
       "description": "H",
       "layout": "IPY_MODEL_50a14cf19ced458ba28028873f95b684",
       "style": "IPY_MODEL_e9dc89ed3a514a929e81878bf6427348",
       "value": "200"
      }
     },
     "a73aae0431e644b98bd2e9ca4d758ebc": {
      "model_module": "@jupyter-widgets/controls",
      "model_module_version": "1.5.0",
      "model_name": "TextModel",
      "state": {
       "description": "sigma",
       "layout": "IPY_MODEL_ffe753bfa66b4bc8a797d4a6b7f4b8cd",
       "style": "IPY_MODEL_a1c5523763c94c7d81b54f8c76416fce",
       "value": "50000000000000000000000"
      }
     },
     "aaa35ecf71ec46998c6903ed8539549e": {
      "model_module": "@jupyter-widgets/controls",
      "model_module_version": "1.5.0",
      "model_name": "TextModel",
      "state": {
       "description": "s0",
       "layout": "IPY_MODEL_123ca2f54682410aac2f297e1ab6fac7",
       "style": "IPY_MODEL_e3a736590a8f4a0d8574354af8404f73",
       "value": "0.85"
      }
     },
     "bf263cd978e74581b1dcc0563f4808a8": {
      "model_module": "@jupyter-widgets/controls",
      "model_module_version": "1.5.0",
      "model_name": "DescriptionStyleModel",
      "state": {
       "description_width": ""
      }
     },
     "c619ee5fafcd475fb35900785b27fc13": {
      "model_module": "@jupyter-widgets/controls",
      "model_module_version": "1.5.0",
      "model_name": "DescriptionStyleModel",
      "state": {
       "description_width": ""
      }
     },
     "d18e018b24144ae8a2edf616fcf146b3": {
      "model_module": "@jupyter-widgets/controls",
      "model_module_version": "1.5.0",
      "model_name": "TextModel",
      "state": {
       "description": "sigma",
       "layout": "IPY_MODEL_7be831d04bda429da63867d371a61f9d",
       "style": "IPY_MODEL_bf263cd978e74581b1dcc0563f4808a8",
       "value": "50"
      }
     },
     "d41b2fd0772944ce9c4c84c3f9ef29a5": {
      "model_module": "@jupyter-widgets/controls",
      "model_module_version": "1.5.0",
      "model_name": "VBoxModel",
      "state": {
       "_dom_classes": [
        "widget-interact"
       ],
       "children": [
        "IPY_MODEL_d18e018b24144ae8a2edf616fcf146b3",
        "IPY_MODEL_9b4b8b73b3f4468aaef98789d7706501"
       ],
       "layout": "IPY_MODEL_1d980cc3c6c54c919254032b3ee5419b"
      }
     },
     "d48f336af3ee447299e22eca9dbd53f5": {
      "model_module": "@jupyter-widgets/controls",
      "model_module_version": "1.5.0",
      "model_name": "DescriptionStyleModel",
      "state": {
       "description_width": ""
      }
     },
     "d74b78c14a39474681c0a9718218e05c": {
      "model_module": "@jupyter-widgets/controls",
      "model_module_version": "1.5.0",
      "model_name": "VBoxModel",
      "state": {
       "_dom_classes": [
        "widget-interact"
       ],
       "children": [
        "IPY_MODEL_a73aae0431e644b98bd2e9ca4d758ebc",
        "IPY_MODEL_0aba357bd3c84b56937c941d768cc8ef"
       ],
       "layout": "IPY_MODEL_54771a06635d4181aa55d50c8a4f7ab9"
      }
     },
     "db41eb590ef041b6bc570a64f6c9ae6e": {
      "model_module": "@jupyter-widgets/controls",
      "model_module_version": "1.5.0",
      "model_name": "TextModel",
      "state": {
       "description": "sigma",
       "layout": "IPY_MODEL_94253213e7154a8b9d1af93658262dd3",
       "style": "IPY_MODEL_ddd87a3cc7c04bb2a84455e8e7c9591e",
       "value": "50000000"
      }
     },
     "ddd87a3cc7c04bb2a84455e8e7c9591e": {
      "model_module": "@jupyter-widgets/controls",
      "model_module_version": "1.5.0",
      "model_name": "DescriptionStyleModel",
      "state": {
       "description_width": ""
      }
     },
     "e3a736590a8f4a0d8574354af8404f73": {
      "model_module": "@jupyter-widgets/controls",
      "model_module_version": "1.5.0",
      "model_name": "DescriptionStyleModel",
      "state": {
       "description_width": ""
      }
     },
     "e90a921957b040839dd5bcff0447bf46": {
      "model_module": "@jupyter-widgets/base",
      "model_module_version": "1.2.0",
      "model_name": "LayoutModel",
      "state": {}
     },
     "e9dc89ed3a514a929e81878bf6427348": {
      "model_module": "@jupyter-widgets/controls",
      "model_module_version": "1.5.0",
      "model_name": "DescriptionStyleModel",
      "state": {
       "description_width": ""
      }
     },
     "ed255d93f8cb4e5ebd6c7e8f7e609331": {
      "model_module": "@jupyter-widgets/base",
      "model_module_version": "1.2.0",
      "model_name": "LayoutModel",
      "state": {}
     },
     "ed2c431240894c13aec98bbdc3c8aab4": {
      "model_module": "@jupyter-widgets/controls",
      "model_module_version": "1.5.0",
      "model_name": "VBoxModel",
      "state": {
       "_dom_classes": [
        "widget-interact"
       ],
       "children": [
        "IPY_MODEL_db41eb590ef041b6bc570a64f6c9ae6e",
        "IPY_MODEL_5cb2428e5a0049f3a1bc1c6ffafbbdaf"
       ],
       "layout": "IPY_MODEL_8228348c51fa423099511212d9a47603"
      }
     },
     "ffe753bfa66b4bc8a797d4a6b7f4b8cd": {
      "model_module": "@jupyter-widgets/base",
      "model_module_version": "1.2.0",
      "model_name": "LayoutModel",
      "state": {}
     }
    },
    "version_major": 2,
    "version_minor": 0
   }
  }
 },
 "nbformat": 4,
 "nbformat_minor": 5
}
