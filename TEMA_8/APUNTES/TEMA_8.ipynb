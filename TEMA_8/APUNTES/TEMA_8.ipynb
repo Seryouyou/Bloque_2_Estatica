{
 "cells": [
  {
   "cell_type": "markdown",
   "id": "825f6f0b",
   "metadata": {},
   "source": [
    "<h1>TEMA 8: FUERZAS SOBRE CUERPOS CERRADOS</h1>"
   ]
  },
  {
   "cell_type": "markdown",
   "id": "19afc549",
   "metadata": {},
   "source": [
    "<h2>COMPONENTE HORIZONTAL. RESULTANTE.</h2>"
   ]
  },
  {
   "cell_type": "markdown",
   "id": "f84b2b00",
   "metadata": {},
   "source": [
    "<div> <img src=\"../MEDIA/8.1.png\" style=\"width:60%\"> </div>"
   ]
  },
  {
   "cell_type": "markdown",
   "id": "b66ff982",
   "metadata": {},
   "source": [
    "<div class=\"texto\"><p>\n",
    "La <strong>componente horizontal</strong> de la fuerza es <strong>nula</strong>, ya que las fuerzas horizontales se van anulando dos a dos.</p>\n",
    "</div>"
   ]
  },
  {
   "cell_type": "markdown",
   "id": "fc8186b7",
   "metadata": {},
   "source": [
    "<div><img src=\"../../MEDIA/hr_2.png\"style=\"float:left;width:87%\"></div>"
   ]
  },
  {
   "cell_type": "markdown",
   "id": "8ecda254",
   "metadata": {},
   "source": [
    "<h2>COMPONENTE VERTICAL.</h2>"
   ]
  },
  {
   "cell_type": "markdown",
   "id": "57bc6e3a",
   "metadata": {},
   "source": [
    "<div> <img src=\"../MEDIA/8.2.png\" style=\"width:60%\"> </div>\n",
    "<div class=\"texto\"><p>\n",
    "La fuerza vertical es equivalente a la del peso del líquido que ocupa el volumen (real o imaginario) delimitado por la superficie del cuerpo cerrado <strong>y hasta la superficie libre del líquido</strong>.</p>\n",
    "</div>"
   ]
  },
  {
   "cell_type": "markdown",
   "id": "46c8efe1",
   "metadata": {},
   "source": [
    "<div class=\"texto\"><p>\n",
    "La fuerza sobre la superficie superior es: </p>\n",
    "</div>\n",
    "<div class=\"formulas\">\n",
    "    $$\n",
    "    F_{_{v1}}=\\gamma\\cdot V_{_1}\n",
    "    $$\n",
    "</div>"
   ]
  },
  {
   "cell_type": "markdown",
   "id": "bfccca63",
   "metadata": {},
   "source": [
    "<div class=\"texto\"><p>\n",
    "La fuerza ascensional que se aplica sobre la superficie inferior es:\n",
    "</p></div>\n",
    "<div class=\"formulas\">\n",
    "$$\n",
    "F_{_{v2}}=\\gamma\\cdot(V_{_1}+V)\n",
    "$$\n",
    "</div>"
   ]
  },
  {
   "cell_type": "markdown",
   "id": "adf62cf2",
   "metadata": {},
   "source": [
    "<div class=\"texto\"><p>\n",
    "Siendo $V_1+V$ el volumen total por encima de la superficie y hasta la superficie libre. El empuje que sufre el cuerpo cerrado, delimitado por esas dos superficies es:</p>\n",
    "</div>"
   ]
  },
  {
   "cell_type": "markdown",
   "id": "59bd1ce4",
   "metadata": {},
   "source": [
    "<div class=\"formulas\">\n",
    "$$\n",
    "E=F_{_{v2}}-F_{_{v1}}=\\gamma\\cdot V\n",
    "$$\n",
    "</div>"
   ]
  },
  {
   "cell_type": "markdown",
   "id": "78cbcc81",
   "metadata": {},
   "source": [
    "<div class=\"texto\"><p>\n",
    "Que es el equivalente al peso del volumen V desalojado por todo el cuerpo cerrado. Este resultado se conoce como <strong>Principio de Arquímedes</strong>, <i>\"todo cuerpo cerrado, parcial o totalmente sumergido en un líquido experimenta un empuje ascensional igual al peso del volumen del líquido que se desaloja\"</i>. El centro de acción de este empuje ascensional se encuentra en el centro de gravedad del volumen desalojado.</p>\n",
    "</div>"
   ]
  },
  {
   "cell_type": "markdown",
   "id": "aa591166",
   "metadata": {},
   "source": [
    "<div> <img src=\"../MEDIA/8.3.png\" style=\"width:60%\"> </div>"
   ]
  },
  {
   "cell_type": "markdown",
   "id": "eed6ee01",
   "metadata": {},
   "source": [
    "<div class=\"resultado\" style=\"width:300px\">\n",
    "$$\n",
    "E=F_{_{v2}}-F_{_{v1}}=\\gamma\\cdot V\n",
    "$$\n",
    "</div>"
   ]
  },
  {
   "cell_type": "markdown",
   "id": "42611e90",
   "metadata": {},
   "source": [
    "<div><img src=\"../../MEDIA/hr_2.png\"style=\"float:left;width:87%\"></div>"
   ]
  },
  {
   "cell_type": "markdown",
   "id": "54b7ffd3",
   "metadata": {},
   "source": [
    "<h2>TENSIONES DE TRACCIÓN EN TUBERÍAS. </h2>\n",
    "<h2>CALCULO DE ESPESORES: FÓRMULA DE BARLOW.</h2>"
   ]
  },
  {
   "cell_type": "markdown",
   "id": "b4b785ce",
   "metadata": {},
   "source": [
    "<div>\n",
    "    <img src=\"../MEDIA/8.4.png\"  style=\"width:60%\">\n",
    "</div>   "
   ]
  },
  {
   "cell_type": "markdown",
   "id": "cbecd156",
   "metadata": {},
   "source": [
    "<div class=\"split\">\n",
    "    <div class=\"izq\">\n",
    "        <div class=\"texto\"><p>\n",
    "        Un tubo circular que contiene un fluido en su interior a una presión $P$ está en tensión alrededor de su periferia, es decir, está sometido a tracción.</p>\n",
    "        </div>\n",
    "        <div class=\"texto\"><p>\n",
    "        Se considera un tramo de tubería de longitud $L$ diámetro interior $D$ y espesor $e$.</p>\n",
    "        </div>     \n",
    "    </div>    \n",
    "    <div class=\"derecha\">\n",
    "        <img src=\"../MEDIA/8.4.1.png\" style=\"width:50%\">\n",
    "    </div>      \n",
    "</div>   \n",
    "\n"
   ]
  },
  {
   "cell_type": "markdown",
   "id": "bd275fbc",
   "metadata": {},
   "source": [
    "<div>\n",
    "    <img src=\"../MEDIA/8.5.png\"  style=\"width:70%\">\n",
    "</div>   "
   ]
  },
  {
   "cell_type": "markdown",
   "id": "24586d5d",
   "metadata": {},
   "source": [
    "<div>\n",
    "    <img src=\"../MEDIA/8.6.png\"  style=\"width:70%\">\n",
    "</div>   "
   ]
  },
  {
   "cell_type": "markdown",
   "id": "7d0ea1bc",
   "metadata": {},
   "source": [
    "<div class=\"formulas\">\n",
    "$$\n",
    "Equilibrio:\\ F_{_p}=2\\cdot F_t\n",
    "$$\n",
    "</div>\n",
    "<div class=\"texto\"><p>\n",
    "Siendo:</p>\n",
    "</div>\n",
    "<div class=\"formulas\">\n",
    "$$\n",
    "F_{_p}=P\\cdot A=P\\cdot D\\cdot L\n",
    "$$\n",
    "</div>\n",
    "<div class=\"formulas\">\n",
    "$$\n",
    "F_{_t}=\\sigma_{_t}\\cdot A^{^{\\prime}}=\\sigma_t\\cdot e\\cdot L\n",
    "$$\n",
    "</div>"
   ]
  },
  {
   "cell_type": "markdown",
   "id": "74567ed4",
   "metadata": {},
   "source": [
    "<div><img src=\"../../MEDIA/hr_2.png\"style=\"float:left;width:87%\"></div>"
   ]
  },
  {
   "cell_type": "markdown",
   "id": "044ae6b0",
   "metadata": {},
   "source": [
    "<h3>Fórmula de Barlow (para tubo circular)</h3>\n"
   ]
  },
  {
   "cell_type": "markdown",
   "id": "06a4bef4",
   "metadata": {},
   "source": [
    "<div class=\"split\">\n",
    "    <div class=\"izq\">\n",
    "        <div class=\"formulas\">\n",
    "            $$\n",
    "            p\\cdot D\\cdot L=2\\cdot\\sigma_{_t}\\cdot e\\cdot L\\rightarrow \n",
    "            $$\n",
    "        </div>\n",
    "    </div>\n",
    "    <div class=\"dcha\">\n",
    "        <div class=\"resultado\" style=\"width:150px; float:left\">\n",
    "            $$\n",
    "            e=\\frac{P\\cdot D}{2\\cdot\\sigma_{_t}} \n",
    "            $$\n",
    "        </div>\n",
    "    </div>\n",
    "</div>"
   ]
  },
  {
   "cell_type": "markdown",
   "id": "ce4ec3d2",
   "metadata": {},
   "source": [
    "<div class=\"texto\"><p>\n",
    "Fórmula de Barlow con coeficientes de seguridad: (para tubo circular)</p>\n",
    "</div>"
   ]
  },
  {
   "cell_type": "markdown",
   "id": "fbfcabf5",
   "metadata": {},
   "source": [
    "<div class=\"resultado\" style=\"width:250px\">\n",
    "$$\n",
    "e=\\left(\\frac{p\\cdot D}{2\\cdot\\sigma} \\right)\\cdot m \n",
    "$$\n",
    "</div>"
   ]
  },
  {
   "cell_type": "markdown",
   "id": "824f1edd",
   "metadata": {},
   "source": [
    "<div><img src=\"../../MEDIA/hr_2.png\"style=\"float:left;width:87%\"></div>"
   ]
  },
  {
   "cell_type": "markdown",
   "id": "36bca662",
   "metadata": {},
   "source": [
    "<h3>Fórmula de Barlow (esfera)</h3>"
   ]
  },
  {
   "cell_type": "markdown",
   "id": "a2920dfb",
   "metadata": {},
   "source": [
    "<div class=\"split\">\n",
    "    <div class=\"izq\">\n",
    "        <div><img src=\"../MEDIA/8.7.png\"  style=\"width:70%\"></div>\n",
    "        <div><img src=\"../MEDIA/8.8.png\"  style=\"width:70%\"></div>\n",
    "    </div>  \n",
    "    <div class=\"dcha\">\n",
    "        <div class=\"texto\"><p>\n",
    "        Para el caso de una esfera:</p>\n",
    "        </div>\n",
    "        <div class=\"formulas\">\n",
    "            $$\n",
    "            Equilibrio:\\ F_p=F_t\n",
    "            $$\n",
    "        </div>  \n",
    "                <div class=\"texto\"><p>Siendo:</p>\n",
    "        <div class=\"formulas\">\n",
    "            $$\n",
    "            F_p=P\\cdot \\frac{\\pi\\cdot D^{^2}}{4} \n",
    "            $$\n",
    "            </div>\n",
    "            <div class=\"formulas\">\n",
    "            $$\n",
    "            F_t=\\sigma_{_t}\\cdot \\pi\\cdot D \\cdot e\n",
    "            $$\n",
    "        </div>\n",
    "        <div class=\"texto\"><p>Fórmula de Barlow (para una esfera)</p>\n",
    "        </div>\n",
    "        <div class=\"resultado\" style=\"width:150px\">\n",
    "            $$\n",
    "            e=\\frac{p\\cdot D}{4\\cdot\\sigma_{_t}}\n",
    "            $$\n",
    "        </div>  \n",
    "    </div>      \n",
    "</div>   \n"
   ]
  },
  {
   "cell_type": "markdown",
   "id": "42795b2d",
   "metadata": {},
   "source": [
    "<div><img src=\"../../MEDIA/hr_2.png\"style=\"float:left;width:87%\"></div>"
   ]
  }
 ],
 "metadata": {
  "kernelspec": {
   "display_name": "Python 3",
   "language": "python",
   "name": "python3"
  },
  "language_info": {
   "codemirror_mode": {
    "name": "ipython",
    "version": 3
   },
   "file_extension": ".py",
   "mimetype": "text/x-python",
   "name": "python",
   "nbconvert_exporter": "python",
   "pygments_lexer": "ipython3",
   "version": "3.8.8"
  }
 },
 "nbformat": 4,
 "nbformat_minor": 5
}
