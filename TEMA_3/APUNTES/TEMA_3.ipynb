{
 "cells": [
  {
   "cell_type": "code",
   "execution_count": 1,
   "id": "a2a0ec0c",
   "metadata": {
    "scrolled": true
   },
   "outputs": [
    {
     "data": {
      "text/html": [
       "\n",
       "<style>\n",
       "li{\n",
       "    padding:1vh;\n",
       "}\n",
       "\n",
       ".texto{\n",
       "    \n",
       "    text-align: justify;\n",
       "    text-justify: inter-word;\n",
       "    width: 90%;\n",
       "    padding-top: 1vh;\n",
       "    padding-bottom: 1vh; \n",
       "    margin: auto;\n",
       "    \n",
       "}\n",
       ".formulas{\n",
       "    \n",
       "    width: 90%;\n",
       "    padding-top: 1vh;\n",
       "    padding-bottom: 1vh;  \n",
       "    font-size: 20px;\n",
       "    margin: auto;\n",
       "}\n",
       ".resultado{\n",
       "    \n",
       "    width: 90%;\n",
       "    padding-top: 1vh;\n",
       "    padding-bottom: 1vh;  \n",
       "    font-size: 20px;\n",
       "    margin: auto;\n",
       "    border: 4px solid red;\n",
       "    padding:auto;\n",
       "}\n",
       "\n",
       ".antesDe{\n",
       "box-sizing:border-box;\n",
       "border: 2px solid black;\n",
       "background-color: rgba(141, 140, 140, 0.1);\n",
       "font-size:15px;\n",
       "padding:15px;\n",
       "    margin: auto;\n",
       "}\n",
       "\n",
       "ol.enunciado{\n",
       "list-style-type: lower-alpha;\n",
       "}\n",
       "\n",
       ".split{\n",
       "\n",
       "    /* Mostrar la rejilla de la división */\n",
       "    display: grid;\n",
       "\n",
       "    /* Dividir la rejilla en dos columnas y asignar la mitad del espacio \n",
       "    disponible a cada una */\n",
       "    grid-template-columns: 1fr 1fr;\n",
       "\n",
       "    /* Dividir la rejilla en cinco filas y asignar a cada una el espacio \n",
       "    necesario */\n",
       "    grid-template-rows: 1fr;\n",
       "\n",
       "    /* Determinar la posición que tendrá cada celda dentro del contenedor \n",
       "    principal */\n",
       "    grid-template-areas:\"izq    dcha \";\n",
       "\n",
       "    /* Espaciado entre celdas */\n",
       "    grid-gap:0px;   \n",
       "\n",
       "    /* Alinear horizontalmente elementos en las celdas del contenedor */\n",
       "    justify-items:center;\n",
       "\n",
       "    /* Alinear verticalmente elementos en las celdas del contenedor */\n",
       "    align-items: center; \n",
       "    \n",
       "    Width:90%\n",
       "\n",
       "}\n",
       "\n",
       ".split .izq{\n",
       "\n",
       "    /* Atribuir celda(s) a la clase */\n",
       "    grid-area: izq;\n",
       "\n",
       "    /* Centrar temperatura sobre la imagen del display */\n",
       "    position: relative;\n",
       "    \n",
       "    width:100%;\n",
       "}\n",
       ".split .dcha{\n",
       "\n",
       "    /* Atribuir celda(s) a la clase */\n",
       "    grid-area: dcha;\n",
       "\n",
       "    /* Centrar temperatura sobre la imagen del display */\n",
       "    position: relative;\n",
       "    \n",
       "    width:100%;\n",
       "\n",
       "}\n",
       "   \n",
       ".aviso{\n",
       "    display:none;\n",
       "}\n",
       "\n",
       "\n",
       "</style>\n",
       "<script>\n",
       "code_show=true; \n",
       "function code_toggle() {\n",
       " if (code_show){\n",
       " $('div.input').hide();\n",
       " } else {\n",
       " $('div.input').show();\n",
       " }\n",
       " code_show = !code_show\n",
       "} \n",
       "$( document ).ready(code_toggle);\n",
       "</script>\n",
       "<a href=\"javascript:code_toggle()\">Mostrar/ocultar celdas de código</a>."
      ],
      "text/plain": [
       "<IPython.core.display.HTML object>"
      ]
     },
     "execution_count": 1,
     "metadata": {},
     "output_type": "execute_result"
    }
   ],
   "source": [
    "from IPython.display import HTML\n",
    "HTML('''\n",
    "<style>\n",
    "li{\n",
    "    padding:1vh;\n",
    "}\n",
    "\n",
    ".texto{\n",
    "    \n",
    "    text-align: justify;\n",
    "    text-justify: inter-word;\n",
    "    width: 90%;\n",
    "    padding-top: 1vh;\n",
    "    padding-bottom: 1vh; \n",
    "    margin: auto;\n",
    "    \n",
    "}\n",
    ".formulas{\n",
    "    \n",
    "    width: 90%;\n",
    "    padding-top: 1vh;\n",
    "    padding-bottom: 1vh;  \n",
    "    font-size: 20px;\n",
    "    margin: auto;\n",
    "}\n",
    ".resultado{\n",
    "    \n",
    "    width: 90%;\n",
    "    padding-top: 1vh;\n",
    "    padding-bottom: 1vh;  \n",
    "    font-size: 20px;\n",
    "    margin: auto;\n",
    "    border: 4px solid red;\n",
    "    padding:auto;\n",
    "}\n",
    "\n",
    ".antesDe{\n",
    "box-sizing:border-box;\n",
    "border: 2px solid black;\n",
    "background-color: rgba(141, 140, 140, 0.1);\n",
    "font-size:15px;\n",
    "padding:15px;\n",
    "    margin: auto;\n",
    "}\n",
    "\n",
    "ol.enunciado{\n",
    "list-style-type: lower-alpha;\n",
    "}\n",
    "\n",
    ".split{\n",
    "\n",
    "    /* Mostrar la rejilla de la división */\n",
    "    display: grid;\n",
    "\n",
    "    /* Dividir la rejilla en dos columnas y asignar la mitad del espacio \n",
    "    disponible a cada una */\n",
    "    grid-template-columns: 1fr 1fr;\n",
    "\n",
    "    /* Dividir la rejilla en cinco filas y asignar a cada una el espacio \n",
    "    necesario */\n",
    "    grid-template-rows: 1fr;\n",
    "\n",
    "    /* Determinar la posición que tendrá cada celda dentro del contenedor \n",
    "    principal */\n",
    "    grid-template-areas:\"izq    dcha \";\n",
    "\n",
    "    /* Espaciado entre celdas */\n",
    "    grid-gap:0px;   \n",
    "\n",
    "    /* Alinear horizontalmente elementos en las celdas del contenedor */\n",
    "    justify-items:center;\n",
    "\n",
    "    /* Alinear verticalmente elementos en las celdas del contenedor */\n",
    "    align-items: center; \n",
    "    \n",
    "    Width:90%\n",
    "\n",
    "}\n",
    "\n",
    ".split .izq{\n",
    "\n",
    "    /* Atribuir celda(s) a la clase */\n",
    "    grid-area: izq;\n",
    "\n",
    "    /* Centrar temperatura sobre la imagen del display */\n",
    "    position: relative;\n",
    "    \n",
    "    width:100%;\n",
    "}\n",
    ".split .dcha{\n",
    "\n",
    "    /* Atribuir celda(s) a la clase */\n",
    "    grid-area: dcha;\n",
    "\n",
    "    /* Centrar temperatura sobre la imagen del display */\n",
    "    position: relative;\n",
    "    \n",
    "    width:100%;\n",
    "\n",
    "}\n",
    "   \n",
    ".aviso{\n",
    "    display:none;\n",
    "}\n",
    "\n",
    "\n",
    "</style>\n",
    "<script>\n",
    "code_show=true; \n",
    "function code_toggle() {\n",
    " if (code_show){\n",
    " $('div.input').hide();\n",
    " } else {\n",
    " $('div.input').show();\n",
    " }\n",
    " code_show = !code_show\n",
    "} \n",
    "$( document ).ready(code_toggle);\n",
    "</script>\n",
    "<a href=\"javascript:code_toggle()\">Mostrar/ocultar celdas de código</a>.''')"
   ]
  },
  {
   "cell_type": "markdown",
   "id": "f3140943",
   "metadata": {},
   "source": [
    "<div style=\"background-color:white;border-style:solid;padding:5px\">\n",
    "    <div style=\"background-color:white;border-style:solid\">\n",
    "        <div style=\"padding:10px;\">\n",
    "                        <div><h1><center><strong>TEMA 3:</strong></center></h1></div>\n",
    "                        <div><h1><center><strong>LEYES GENERALES DE LA ESTÁTICA DE LOS FLUIDOS.</strong></center></h1></div>\n",
    "        </div>\n",
    "    </div>   \n",
    "</div>"
   ]
  },
  {
   "cell_type": "markdown",
   "id": "e1abae3a",
   "metadata": {},
   "source": [
    "\n",
    "\n",
    "<h2>INTRODUCCIÓN: CLASIFICACIÓN DE LAS FUERZAS QUE ACTÚAN SOBRE UN FLUIDO</h2>\n",
    "\n"
   ]
  },
  {
   "cell_type": "markdown",
   "id": "983c4d63",
   "metadata": {},
   "source": [
    "\n",
    "<div class=\"texto\">\n",
    "<p>En el estudio de la Mecánica de Fluidos se suelen considerar dos tipos principales de fuerzas:</p> \n",
    "<ul>\n",
    "<li><strong>Fuerzas externas:</strong> se dividen en:</li>\n",
    "    <ul> \n",
    "    <li> <strong>Fuerzas superficiales:</strong> son aquellas que actúan sobre las fronteras del medio a través del contacto directo. El ejemplo principal es la <i>presión.</i></li>\n",
    "    <li> <strong>Fuerzas volumétricas:</strong> son fuerzas que se distribuyen sobre el volumen del fluido y actúan sin contacto físico. Ejemplo de estas fuerzas son las fuerzas <i>gravitacionales</i> y <i>electromagnéticas</i></li>\n",
    "    </ul>\n",
    "<li><strong>Fuerzas internas:</strong> son las fuerzas que ejercen las partículas interiores de un fluido entre sí.</li>\n",
    "</ul>\n",
    "</div>\n"
   ]
  },
  {
   "cell_type": "markdown",
   "id": "bcdeb3b9",
   "metadata": {},
   "source": [
    "<div class=\"texto\">\n",
    "<p>Las fuerzas que se aplican sobre una superficie tienen tres componentes:</p>\n",
    "<ul>\n",
    "    <li> La componente perpendicular a la superficie donde se aplica o <i>componente normal</i>\n",
    "    generalmente presentada como $\\sigma$, y que da lugar a esfuerzos de compresión o tracción.</li>\n",
    "    <li> Las <i>componentes tangenciales</i> a la superficie, y que se aplican en el plano \n",
    "    de la propia superficie, siendo generalmente presentadas como $\\tau$. Estas fuerzas provocan \n",
    "    deslizamiento o deformación de la propia superficie sobre la que se aplican. Son dos componentes, \n",
    "    al ser la superficie una entidad de dos dimensiones.</li>\n",
    "</ul>\n",
    "</div>\n",
    "<div class=\"texto\">\n",
    "<p>Las fuerzas volumétricas son debidas al efecto de campos externos, como son el gravitacional o el electromagnético, y vendrán definidas por las leyes de esos campos. Son fuerzas que tienen carácter vectorial y, por tanto, también se pueden descomponer en tres componentes, aunque generalmente el sistema de referencia se adopta de tal forma que sólo sea no nula una de esas componentes.</p>\n",
    "</div>\n"
   ]
  },
  {
   "cell_type": "markdown",
   "id": "72ab247e",
   "metadata": {},
   "source": [
    "<div><img src=\"../../MEDIA/hr_2.png\"style=\"float:left;width:87%\"></div>"
   ]
  },
  {
   "cell_type": "markdown",
   "id": "ae164aab",
   "metadata": {},
   "source": [
    "<h2>PRESIÓN EN UN PUNTO DEL FLUIDO.</h2>\n"
   ]
  },
  {
   "cell_type": "markdown",
   "id": "329ccbd8",
   "metadata": {},
   "source": [
    "<div class=\"texto\">\n",
    "<p>La <strong>presión promedio</strong> se define como la fuerza normal que se ejerce sobre una superficie plana dividida por la magnitud de dicha área.</p>\n",
    "</div>\n",
    "\n"
   ]
  },
  {
   "cell_type": "markdown",
   "id": "e7c482e4",
   "metadata": {},
   "source": [
    "<div class=\"formulas\"> \n",
    "$$\n",
    "P=\\frac{F_{_n}}{S}\n",
    "$$\n",
    "<div>"
   ]
  },
  {
   "cell_type": "markdown",
   "id": "c8043dc5",
   "metadata": {},
   "source": [
    "<div class=\"texto\">\n",
    "<p>La <strong>presión en un punto es el límite de esa relación</strong> a medida que el área de aplicación de esa fuerza normal se aproxima a cero centrada en ese punto.</p>\n",
    "</div>\n"
   ]
  },
  {
   "cell_type": "markdown",
   "id": "99a1ce40",
   "metadata": {},
   "source": [
    "<div class=\"formulas\"> \n",
    "$$\n",
    "p_{_i}=\\lim_{\\delta A_{_i}\\to0}\\ \\frac{F_{_n}}{\\delta A_{_i}}\n",
    "$$\n",
    "</div>"
   ]
  },
  {
   "cell_type": "markdown",
   "id": "84b44271",
   "metadata": {},
   "source": [
    "<div><img src=\"../../MEDIA/hr_2.png\"style=\"float:left;width:87%\"></div>"
   ]
  },
  {
   "cell_type": "markdown",
   "id": "44880f0f",
   "metadata": {},
   "source": [
    "<h2>PRINCIPIO DE ISOTROPÍA DE LAS PRESIONES.</h2>"
   ]
  },
  {
   "cell_type": "markdown",
   "id": "ce0429d8",
   "metadata": {},
   "source": [
    "<div class=\"texto\">\n",
    "<p> El principio de isotropía establece que: <i>en un punto, un fluido en reposo tiene la misma presión en todas las \n",
    "direcciones</i>.</p>\n",
    "</div>    \n",
    "    \n",
    "<div class=\"split\">\n",
    "    <div class=\"izq\">\n",
    "        <div class=\"texto\">\n",
    "            <ul>\n",
    "                <li> Para demostrar esto vamos a considerar un cuerpo libre pequeño en forma de cuña, con espesor igual a $dz$, situado en un punto $(x, y)$ de un fluido en reposo. Sobre este cuerpo solo actúan las <strong>fuerzas de superficie normales y \n",
    "la fuerza de la gravedad</strong>, puesto que al estar en reposo no actúan fuerzas de fricción cortantes con el fluido que le rodea.</li>\n",
    "                <li> El ángulo $\\theta$ es arbitrario, con lo que esta relación se cumple para cualquier dirección sobre un pùnto dentro de un fluido estático.</li>\n",
    "             </ul>\n",
    "        </div>\n",
    "    </div>\n",
    "    <div class=\"dcha\">\n",
    "        <div><img src=\"../MEDIA/3.1.png\" style=\"width:90%\"></div>\n",
    "        <div class=\"formulas\"> \n",
    "            $$\n",
    "            p_{_x}=p_{_y}=p_{_s}\n",
    "            $$\n",
    "        </div>   \n",
    "    </div> \n",
    "</div>\n"
   ]
  },
  {
   "cell_type": "markdown",
   "id": "27846a7a",
   "metadata": {},
   "source": [
    "<div><img src=\"../../MEDIA/hr_2.png\"style=\"width:90%\"></div>"
   ]
  },
  {
   "cell_type": "markdown",
   "id": "eb0ff6fe",
   "metadata": {},
   "source": [
    "<h2> ECUACIÓN FUNDAMENTAL DE LA ESTÁTICA DE FLUIDOS</h2>"
   ]
  },
  {
   "cell_type": "markdown",
   "id": "12364854",
   "metadata": {},
   "source": [
    "<div class=\"texto\">\n",
    "<p>El objetivo es determinar el campo de presiones dentro de un fluido en reposo.</p>\n",
    "<p>Se considera un elemento de fluido con forma de cubo, cuyas caras sean paralelas a los ejes de un sistema de referencia. Sera un elemento diferencial de masa $dm$, de lados $dx$, $dy$ y $dz$, como se muestra en la figura. Las fuerzas que actúan sobre un elemento de fluido en reposo son las fuerzas superficiales y las fuerzas volumétricas.</p>\n",
    "</div>\n",
    "\n"
   ]
  },
  {
   "cell_type": "markdown",
   "id": "90abb82d",
   "metadata": {},
   "source": [
    "<div class=\"split\">\n",
    "    <div class=\"izq\"><img src=\"../MEDIA/3.2.png\"></div>\n",
    "    <div class=\"dcha\">\n",
    "        <div class=\"formulas\">   \n",
    "         PUNTO A $(x,\\ y,\\ z)$\n",
    "        </div>\n",
    "         <div class=\"formulas\">  \n",
    "         Presión $= P = f (x, y, z)$   \n",
    "        </div>\n",
    "    </div>\n",
    "</div>"
   ]
  },
  {
   "cell_type": "markdown",
   "id": "bb2161e4",
   "metadata": {},
   "source": [
    "<div class=\"texto\">\n",
    "<p>Considerando el elemento anterior, las fuerzas superficiales, debidas a la presión que soporta el volumen del fluido se expresan como:</p>\n",
    "</div>\n",
    "\n"
   ]
  },
  {
   "cell_type": "markdown",
   "id": "60385715",
   "metadata": {},
   "source": [
    "<div class=\"formulas\"> \n",
    "$$\n",
    "F_{_{z-}}= \\left(p+\\frac{\\partial p}{\\partial z}\\frac{\\partial z}{2}\\right)\\ \\partial x \\cdot \\partial y\n",
    "$$\n",
    "</div>"
   ]
  },
  {
   "cell_type": "markdown",
   "id": "c7deecbb",
   "metadata": {},
   "source": [
    "<div class=\"formulas\"> \n",
    "$$\n",
    "F_{z+}= \\left(p-\\frac{\\partial p}{\\partial z}\\frac{\\partial z}{2}\\right)\\ \\partial x \\cdot \\partial y\n",
    "$$\n",
    "</div>"
   ]
  },
  {
   "cell_type": "markdown",
   "id": "17108dd5",
   "metadata": {},
   "source": [
    "\n",
    "<div class=\"texto\">\n",
    "<p>En la que $P$ es la presión del centro ($x$, $y$, $z$) del volumen y $dp/dz$ su variación en la dirección de $z$, $dz/2$ es la distancia desde el centro del volumen a la cara normal en la que se aplica la fuerza.</p>\n",
    "</div>\n",
    "\n"
   ]
  },
  {
   "cell_type": "markdown",
   "id": "dd6f98f6",
   "metadata": {},
   "source": [
    "<div class=\"formulas\"> \n",
    "$$\n",
    "Entre\\ M\\ y\\ N\\ (dx=0,\\ dy=0)\n",
    "\\rightarrow Fz=-\\frac{\\partial p}{\\partial z}dzdxdy\\rightarrow dp=-\\frac{\\partial p}{\\partial z}\\ dz\n",
    "$$\n",
    "</div>"
   ]
  },
  {
   "cell_type": "markdown",
   "id": "6accebc9",
   "metadata": {},
   "source": [
    "<div class=\"texto\">\n",
    "<p>Análogamente para el resto de ejes:</p>\n",
    "</div>\n",
    "\n"
   ]
  },
  {
   "cell_type": "markdown",
   "id": "be528b86",
   "metadata": {},
   "source": [
    "<div class=\"formulas\"> \n",
    "$$\n",
    "(dy=0,\\ dz=0)\\ dp=-\\frac{\\partial p}{\\partial x}\\ dx\n",
    "$$\n",
    "</div>"
   ]
  },
  {
   "cell_type": "markdown",
   "id": "e3d8bfd6",
   "metadata": {},
   "source": [
    "<div class=\"formulas\"> \n",
    "$$\n",
    "(dx=0,\\ dz=0)\\ dp=-\\frac{\\partial p}{\\partial y}\\ dy\n",
    "$$\n",
    "</div>"
   ]
  },
  {
   "cell_type": "markdown",
   "id": "aebd4112",
   "metadata": {},
   "source": [
    "<div class=\"texto\">\n",
    "<p>Las fuerzas ($R$) que actúan sobre el elemento del fluido por unidad de masa se expresan como:</p>\n",
    "</div>\n",
    "\n"
   ]
  },
  {
   "cell_type": "markdown",
   "id": "a0f0dece",
   "metadata": {},
   "source": [
    "<div class=\"formulas\"> \n",
    "$$\n",
    "\\vec{R}\\cdot dm= \\vec{R}\\cdot \\rho \\cdot dx \\cdot dy \\cdot dz=\n",
    "$$\n",
    "</div>"
   ]
  },
  {
   "cell_type": "markdown",
   "id": "ac07a94e",
   "metadata": {},
   "source": [
    "<div class=\"formulas\"> \n",
    "$$\n",
    "R_X \\cdot \\rho \\cdot dx \\cdot dy \\cdot dz \\cdot \\vec{i}\n",
    "+R_Y \\cdot \\rho \\cdot dx \\cdot dy \\cdot dz \\cdot \\vec{j}\n",
    "+R_Z \\cdot \\rho \\cdot dx \\cdot dy \\cdot dz \\cdot \\vec{k}\n",
    "$$\n",
    "</div>"
   ]
  },
  {
   "cell_type": "markdown",
   "id": "1c1e741c",
   "metadata": {},
   "source": [
    "<div class=\"texto\">   \n",
    "<p>Sumando esas fuerzas en la dirección $z$, se obtiene:</p>\n",
    "</div>\n",
    "\n"
   ]
  },
  {
   "cell_type": "markdown",
   "id": "dfcea153",
   "metadata": {},
   "source": [
    "<div class=\"formulas\"> \n",
    "$$\n",
    "dF_{_z}=-\\frac{\\partial p}{\\partial z}\\cdot dx \\cdot dy \\cdot dz\n",
    "+R_{_z}\\cdot \\rho \\cdot dx \\cdot dy \\cdot dz\n",
    "$$\n",
    "</div>"
   ]
  },
  {
   "cell_type": "markdown",
   "id": "f733ce3b",
   "metadata": {},
   "source": [
    "<div class=\"texto\">  \n",
    "<p>Para las direcciones de los otros dos ejes cartesianos, en las que no actúan las fuerzas del cuerpo, se tiene:</p>\n",
    "</div>\n",
    "\n"
   ]
  },
  {
   "cell_type": "markdown",
   "id": "1d97ba8d",
   "metadata": {},
   "source": [
    "<div class=\"formulas\"> \n",
    "$$\n",
    "dF_{_x}=-\\frac{\\partial p}{\\partial x}\\cdot dx \\cdot dy \\cdot dz\n",
    "+R_x\\cdot \\rho \\cdot dx \\cdot dy \\cdot dz\n",
    "$$\n",
    "</div>"
   ]
  },
  {
   "cell_type": "markdown",
   "id": "693e5e6a",
   "metadata": {},
   "source": [
    "<div class=\"formulas\"> \n",
    "$$\n",
    "dF_y=-\\frac{\\partial p}{\\partial y}\\cdot dx \\cdot dy \\cdot dz\n",
    "+R_{_y}\\cdot \\rho \\cdot dx \\cdot dy \\cdot dz\n",
    "$$\n",
    "</div>"
   ]
  },
  {
   "cell_type": "markdown",
   "id": "933cd5ee",
   "metadata": {},
   "source": [
    "<div class=\"texto\"> \n",
    "<p>El vector de la fuerza que actúa en el volumen del fluido, queda:</p>\n",
    "</div>   "
   ]
  },
  {
   "cell_type": "markdown",
   "id": "60d8add0",
   "metadata": {},
   "source": [
    "<div class=\"formulas\"> \n",
    "$$\n",
    "d\\vec{F}=\\vec{i}\\cdot dF_{_x} + \\vec{j} \\cdot dF_{_y} + \\vec{k} \\cdot dF_{_z}\\rightarrow\n",
    "$$\n",
    "</div>"
   ]
  },
  {
   "cell_type": "markdown",
   "id": "fa8ea0c0",
   "metadata": {},
   "source": [
    "<div class=\"formulas\"> \n",
    "$$\n",
    "d\\vec{F}=-\\left (\\vec{i}\\ \\frac{\\partial p}{\\partial} \n",
    "+ \\vec{j}\\ \\frac{\\partial p}{\\partial y}\n",
    "+ \\vec{k}\\ \\frac{\\partial p}{\\partial z}\\right) dx \\cdot dy \\cdot dz\n",
    "+\\vec{R}\\ \\cdot \\rho \\cdot dx \\cdot dy \\cdot dz\n",
    "$$\n",
    "</div>"
   ]
  },
  {
   "cell_type": "markdown",
   "id": "d1982c62",
   "metadata": {},
   "source": [
    "<div class=\"texto\">     \n",
    "<p>Esta fuerza debe igualarse a cero en un líquido en reposo, ya que las partículas de éste no deforman al no existir movimiento relativo dentro del fluido. Teniendo en cuenta el operador nabla, que representa el gradiente de una magnitud escalar, se obtiene que el gradiente $P$ da lugar al campo vectorial de las fuerzas de presión superficial por unidad de volumen:</p>\n",
    "</div>"
   ]
  },
  {
   "cell_type": "markdown",
   "id": "172829a0",
   "metadata": {},
   "source": [
    "<div class=\"formulas\"> \n",
    "$$\n",
    "d\\vec{F}=-\\left (\\vec{i}\\ \\frac{\\partial p}{\\partial x} \n",
    "+ \\vec{j}\\ \\frac{\\partial p}{\\partial y}\n",
    "+ \\vec{k}\\ \\frac{\\partial p}{\\partial z}\\right) dx \\cdot dy \\cdot dz\n",
    "+\\vec{R}\\cdot \\rho \\cdot dx \\cdot dy \\cdot dz=0\n",
    "$$\n",
    "</div>\n"
   ]
  },
  {
   "cell_type": "markdown",
   "id": "9f15e114",
   "metadata": {},
   "source": [
    "<div class=\"resultado\"style=\"width: 200px\"> \n",
    "$$\n",
    "\\vec{R}=\\frac{1}{\\rho} \\cdot \\vec{\\nabla}P\n",
    "$$\n",
    "</div>\n"
   ]
  },
  {
   "cell_type": "markdown",
   "id": "f9668402",
   "metadata": {},
   "source": [
    "<div class=\"texto\">     \n",
    "<p>La ecuación de la estática para el caso en que las fuerzas de volumen derivan de un potencial $(U)$.</p>\n",
    "</div>    \n",
    "    \n"
   ]
  },
  {
   "cell_type": "markdown",
   "id": "aca856d1",
   "metadata": {},
   "source": [
    "<div class=\"formulas\"> \n",
    "$$\n",
    "U=\\frac{E_{_p}}{m}=g \\cdot z\n",
    "$$\n",
    "</div>"
   ]
  },
  {
   "cell_type": "markdown",
   "id": "ef43515f",
   "metadata": {},
   "source": [
    "<div class=\"formulas\"> \n",
    "$$\n",
    "\\vec{grad}\\ U=\n",
    "\\frac{\\partial U}{\\partial x}\\ \\vec{i}\n",
    "+\\frac{\\partial U}{\\partial y}\\ \\vec{j}\n",
    "+\\frac{\\partial U}{\\partial z}\\ \\vec{k}\n",
    "=g\\ \\vec{k}\n",
    "$$\n",
    "</div>    "
   ]
  },
  {
   "cell_type": "markdown",
   "id": "e74efc6a",
   "metadata": {},
   "source": [
    "<div class=\"formulas\"> \n",
    "$$\n",
    "Peso=-m\\cdot g \\cdot \\vec{k}\\rightarrow\\vec{R}=-g \\cdot \\vec{k}\\rightarrow\\vec{R}=-\\vec{\\nabla} \\cdot U\n",
    "$$\n",
    "</div>    "
   ]
  },
  {
   "cell_type": "markdown",
   "id": "26c0ddf8",
   "metadata": {},
   "source": [
    "<div class=\"resultado\"style=\"width: 200px\"> \n",
    "$$\n",
    "\\vec{R}=- \\vec{\\nabla} \\cdot U\n",
    "$$\n",
    "</div>    "
   ]
  },
  {
   "cell_type": "markdown",
   "id": "6ba2e503",
   "metadata": {},
   "source": [
    "<div class=\"texto\">        \n",
    "<p>Sustituyendo en la ecuación general de la estática:</p>\n",
    "</div>"
   ]
  },
  {
   "cell_type": "markdown",
   "id": "41e79a68",
   "metadata": {},
   "source": [
    "<div class=\"resultado\"style=\"width:250px\">    \n",
    "$$\n",
    "- \\vec{\\nabla} \\cdot U=\\frac{1}{\\rho} \\cdot \\vec{\\nabla} \\cdot P\n",
    "$$\n",
    "</div>"
   ]
  },
  {
   "cell_type": "markdown",
   "id": "4154c6a1",
   "metadata": {},
   "source": [
    "<div><img src=\"../../MEDIA/hr_2.png\"style=\"float:left;width:90%\"></div>"
   ]
  }
 ],
 "metadata": {
  "kernelspec": {
   "display_name": "Python 3",
   "language": "python",
   "name": "python3"
  },
  "language_info": {
   "codemirror_mode": {
    "name": "ipython",
    "version": 3
   },
   "file_extension": ".py",
   "mimetype": "text/x-python",
   "name": "python",
   "nbconvert_exporter": "python",
   "pygments_lexer": "ipython3",
   "version": "3.8.8"
  }
 },
 "nbformat": 4,
 "nbformat_minor": 5
}
