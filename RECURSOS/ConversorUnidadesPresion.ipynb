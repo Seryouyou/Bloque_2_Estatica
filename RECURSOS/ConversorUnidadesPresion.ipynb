{
 "cells": [
  {
   "cell_type": "code",
   "execution_count": 23,
   "id": "04ea5c2e",
   "metadata": {},
   "outputs": [
    {
     "data": {
      "text/html": [
       "<script>\n",
       "    // AUTORUN ALL CELLS ON NOTEBOOK-LOAD!\n",
       "    require(\n",
       "        ['base/js/namespace', 'jquery'], \n",
       "        function(jupyter, $) {\n",
       "            $(jupyter.events).on(\"kernel_ready.Kernel\", function () {\n",
       "                console.log(\"Auto-running all cells-below...\");\n",
       "                jupyter.actions.call('jupyter-notebook:run-all-cells-below');\n",
       "                jupyter.actions.call('jupyter-notebook:save-notebook');\n",
       "            });\n",
       "        }\n",
       "    );\n",
       "</script>\n"
      ],
      "text/plain": [
       "<IPython.core.display.HTML object>"
      ]
     },
     "metadata": {},
     "output_type": "display_data"
    }
   ],
   "source": [
    "%%html\n",
    "<script>\n",
    "    // AUTORUN ALL CELLS ON NOTEBOOK-LOAD!\n",
    "    require(\n",
    "        ['base/js/namespace', 'jquery'], \n",
    "        function(jupyter, $) {\n",
    "            $(jupyter.events).on(\"kernel_ready.Kernel\", function () {\n",
    "                console.log(\"Auto-running all cells-below...\");\n",
    "                jupyter.actions.call('jupyter-notebook:run-all-cells-below');\n",
    "                jupyter.actions.call('jupyter-notebook:save-notebook');\n",
    "            });\n",
    "        }\n",
    "    );\n",
    "</script>"
   ]
  },
  {
   "cell_type": "markdown",
   "id": "94dd070e",
   "metadata": {},
   "source": [
    "<div class=\"aviso\">\n",
    "    <div style=\"text-decoration: underline;\"><strong>SI PUEDES LEER ESTO, POR FAVOR ACTIVA LAS FUNCIONES DE JAVASCRIPT HACIENDO SIGUIENDO LOS PASOS DE LA IMAGEN.</strong></div>\n",
    "</div>"
   ]
  },
  {
   "cell_type": "markdown",
   "id": "87f0618c",
   "metadata": {},
   "source": [
    "<div class=\"aviso\">\n",
    "    <div><img src=\"../MEDIA/aviso_trust.png\" style=\"width:70%\"></div>\n",
    "</div>"
   ]
  },
  {
   "cell_type": "code",
   "execution_count": 24,
   "id": "cf8b3aca",
   "metadata": {},
   "outputs": [
    {
     "data": {
      "text/html": [
       "<link rel=\"stylesheet\" href=\"../CSS\\estilos.css\">\n"
      ],
      "text/plain": [
       "<IPython.core.display.HTML object>"
      ]
     },
     "metadata": {},
     "output_type": "display_data"
    }
   ],
   "source": [
    "%%html\n",
    "<link rel=\"stylesheet\" href=\"../CSS\\estilos.css\">"
   ]
  },
  {
   "cell_type": "code",
   "execution_count": 25,
   "id": "31fe3e21",
   "metadata": {},
   "outputs": [
    {
     "data": {
      "text/html": [
       "<script>\n",
       "code_show=true; \n",
       "function code_toggle() {\n",
       " if (code_show){\n",
       " $('div.input').hide();\n",
       " } else {\n",
       " $('div.input').show();\n",
       " }\n",
       " code_show = !code_show\n",
       "} \n",
       "$( document ).ready(code_toggle);\n",
       "</script>\n",
       "<a href=\"javascript:code_toggle()\">Mostrar/ocultar celdas de código</a>."
      ],
      "text/plain": [
       "<IPython.core.display.HTML object>"
      ]
     },
     "execution_count": 25,
     "metadata": {},
     "output_type": "execute_result"
    }
   ],
   "source": [
    "from IPython.display import HTML\n",
    "HTML('''<script>\n",
    "code_show=true; \n",
    "function code_toggle() {\n",
    " if (code_show){\n",
    " $('div.input').hide();\n",
    " } else {\n",
    " $('div.input').show();\n",
    " }\n",
    " code_show = !code_show\n",
    "} \n",
    "$( document ).ready(code_toggle);\n",
    "</script>\n",
    "<a href=\"javascript:code_toggle()\">Mostrar/ocultar celdas de código</a>.''')"
   ]
  },
  {
   "cell_type": "code",
   "execution_count": 26,
   "id": "c75f8793",
   "metadata": {
    "scrolled": true
   },
   "outputs": [
    {
     "data": {
      "application/vnd.jupyter.widget-view+json": {
       "model_id": "",
       "version_major": 2,
       "version_minor": 0
      },
      "text/plain": [
       "interactive(children=(Dropdown(description='de', options=('atm', 'bar', 'dyn/cm^2', 'kg/cm^2', 'kp/m^2', 'mca'…"
      ]
     },
     "metadata": {},
     "output_type": "display_data"
    },
    {
     "data": {
      "text/html": [
       "\n",
       "<style>\n",
       "    .widget-label { width: 20ex !important;text-align:left !important; }    \n",
       "</style>"
      ],
      "text/plain": [
       "<IPython.core.display.HTML object>"
      ]
     },
     "metadata": {},
     "output_type": "display_data"
    },
    {
     "data": {
      "application/vnd.jupyter.widget-view+json": {
       "model_id": "",
       "version_major": 2,
       "version_minor": 0
      },
      "text/plain": [
       "interactive(children=(Text(value='0', description='Magnitud'), Output()), _dom_classes=('widget-interact',))"
      ]
     },
     "metadata": {},
     "output_type": "display_data"
    }
   ],
   "source": [
    "from __future__ import print_function\n",
    "from ipywidgets import interact, interactive, fixed, interact_manual\n",
    "import ipywidgets as widgets\n",
    "from termcolor import colored\n",
    "from IPython.display import HTML, display\n",
    "def f(de,a):   \n",
    "    return (de, a)\n",
    "\n",
    "CU = interactive(f, de=['atm','bar','dyn/cm^2','kg/cm^2','kp/m^2','mca','mcHg','mmcHg','Pa','Torr'],a=['atm','bar','dyn/cm^2','kg/cm^2','kp/m^2','mca','mcHg','mmcHg','Pa','Torr']);\n",
    "display(CU)\n",
    "\n",
    "def u(Magnitud):\n",
    "    try:\n",
    "        float(Magnitud)\n",
    "    except:\n",
    "        print(colored(\"Introduce un valor numerico a calcular\",\"red\"))\n",
    "    else:\n",
    "        print(\"Pulsa calcular para mostrar el cambio de unidades\")\n",
    "        return Magnitud\n",
    "\n",
    "fu = interactive(u,Magnitud=\"0\")\n",
    "\n",
    "\n",
    "display(HTML('''\n",
    "<style>\n",
    "    .widget-label { width: 20ex !important;text-align:left !important; }    \n",
    "</style>'''))\n",
    "\n",
    "\n",
    "display(fu)\n",
    "\n"
   ]
  },
  {
   "cell_type": "code",
   "execution_count": 27,
   "id": "99a9a036",
   "metadata": {},
   "outputs": [
    {
     "data": {
      "text/html": [
       "<button onclick=\"ejecutar(7,12)\">Calcular</button>\n",
       "<button onclick=\"ejecutar(5,6)\">Abrir/reiniciar cuadro de variables</button>\n",
       "<script>function ejecutar(desde, hasta){\n",
       "    for(i = desde; i < hasta; i++)\n",
       "Jupyter.notebook.execute_cells([i])\n",
       "}</script>\n"
      ],
      "text/plain": [
       "<IPython.core.display.HTML object>"
      ]
     },
     "metadata": {},
     "output_type": "display_data"
    }
   ],
   "source": [
    "%%html\n",
    "<button onclick=\"ejecutar(7,12)\">Calcular</button>\n",
    "<button onclick=\"ejecutar(5,6)\">Abrir/reiniciar cuadro de variables</button>\n",
    "<script>function ejecutar(desde, hasta){\n",
    "    for(i = desde; i < hasta; i++)\n",
    "Jupyter.notebook.execute_cells([i])\n",
    "}</script>"
   ]
  },
  {
   "cell_type": "code",
   "execution_count": 28,
   "id": "e937ee97",
   "metadata": {},
   "outputs": [],
   "source": [
    "from IPython.display import Markdown as md\n",
    "try:\n",
    "    intmagnitud=float(fu.result)\n",
    "except:\n",
    "    print(colored(\"Introduce un valor numerico valido\",\"red\"))\n",
    "else:    \n",
    "    de=CU.children[0].value\n",
    "    a=CU.children[1].value\n",
    "    strmagnitud=fu.children[0].value\n",
    "\n",
    "    try:\n",
    "       de\n",
    "    except NameError:\n",
    "       de=\"\"\n",
    "    try:\n",
    "       a\n",
    "    except NameError:\n",
    "       a=\"\""
   ]
  },
  {
   "cell_type": "code",
   "execution_count": 29,
   "id": "40ddecff",
   "metadata": {
    "scrolled": false
   },
   "outputs": [
    {
     "name": "stdout",
     "output_type": "stream",
     "text": [
      "Conversión de atm a atm\n"
     ]
    }
   ],
   "source": [
    "try:\n",
    "    intmagnitud=float(fu.result)\n",
    "except:\n",
    "    pass\n",
    "else:\n",
    "    print(\"Conversión de \"+ de +\" a \"+ a)\n",
    "    conversion=0\n",
    "    unidades= []\n",
    "    unidadesDiv=[]\n",
    "    factores= []\n",
    "    valores= []\n",
    "    charig=[]\n",
    "    charsl=[]\n",
    "    factor=\"1\"\n",
    "    valor=1\n",
    "    if (a!=de):\n",
    "        oldDe=de\n",
    "        unidadesDiv.insert(conversion,de)\n",
    "    else:\n",
    "        oldDe=\"\"\n",
    "        strmagnitud=\"\"\n",
    "        unidadesDiv.insert(conversion,\"\")\n",
    "    while (a!=de):\n",
    "        if(de==\"atm\"):\n",
    "            de=\"mmcHg\"\n",
    "            factor=\"\\cdot 760\"\n",
    "            valor=760\n",
    "        elif(de==\"bar\"):\n",
    "            de=\"Pa\"\n",
    "            factor=\"\\cdot 10^5\"\n",
    "            valor=pow(10,5)\n",
    "        elif(de==\"dyn/cm^2\"):\n",
    "            de=\"Pa\"\n",
    "            factor=\"\\cdot 0.1\"\n",
    "            valor=0.1\n",
    "        elif(de==\"kg/cm^2\"):\n",
    "            de=\"Pa\"\n",
    "            factor=\"\\cdot 9,8\\cdot 10^{4}\"\n",
    "            valor=9.8*pow(10,4)\n",
    "        elif(de==\"kp/m^2\"):\n",
    "            de=\"Pa\"\n",
    "            factor=\"\\cdot 9,8\"\n",
    "            valor=9.8\n",
    "        elif(de==\"mca\"):\n",
    "            if(a in {\"kp/m^2\" , \"kg/cm^2\" , \"dyn/cm^2\" , \"bar\" , \"Pa\"}):\n",
    "                de=\"Pa\"\n",
    "                factor=\"\\cdot 9800\"\n",
    "                valor=9800\n",
    "            else:\n",
    "                de=\"mcHg\"\n",
    "                factor=\"\\cdot 1/13.6\"\n",
    "                valor=1/13.6\n",
    "        elif(de==\"mcHg\"):\n",
    "            if(a in {\"mmcHg\" , \"Torr\" , \"atm\"}):\n",
    "                de=\"mmcHg\"\n",
    "                factor=\"\\cdot 10^3\"\n",
    "                valor=pow(10,3)\n",
    "            else:\n",
    "                de=\"mca\"\n",
    "                factor=\"\\cdot 13.6\"\n",
    "                valor=13.6\n",
    "        elif(de==\"mmcHg\"):\n",
    "            if(a==\"Torr\"):\n",
    "                de=\"Torr\"\n",
    "                factor=\"\\cdot 1\"\n",
    "                valor=1\n",
    "            elif(a==\"atm\"):\n",
    "                de=\"atm\"\n",
    "                factor=\"\\cdot 1/760\"\n",
    "                valor=1/760\n",
    "            else:\n",
    "                de=\"mcHg\"\n",
    "                factor=\"\\cdot 10^{-3}\"\n",
    "                valor=pow(10,-3)\n",
    "        elif(de==\"Pa\"):\n",
    "            if(a==\"kp/m^2\"):\n",
    "                de=\"kp/m^2\"\n",
    "                factor=\"\\cdot\\ 1/9.8\"\n",
    "                valor=1/9.8\n",
    "            elif(a==\"kg/cm^2\"):\n",
    "                de=\"kg/cm^2\"\n",
    "                factor=\"\\cdot 1/(9.8\\cdot 10^{4})\"\n",
    "                valor=1/(9.8*pow(10,4))\n",
    "            elif(a==\"dyn/cm^2\"):\n",
    "                de=\"dyn/cm^2\"\n",
    "                factor=\"\\cdot 10\"\n",
    "                valor=10\n",
    "            elif(a==\"bar\"):\n",
    "                de=\"bar\"\n",
    "                factor=\"\\cdot 1/10^5\"\n",
    "                valor=pow(10,-5)\n",
    "            else:\n",
    "                de=\"mca\"\n",
    "                factor=\"\\cdot 1/9800\"\n",
    "                valor=1/9800\n",
    "        elif(de==\"Torr\"):\n",
    "            de=\"mmcHg\"\n",
    "            factor=\"\\cdot 1\"\n",
    "            valor=1 \n",
    "        unidades.insert(conversion,de)\n",
    "        unidadesDiv.insert(conversion+1,de)\n",
    "        factores.insert(conversion,factor)\n",
    "        valores.insert(conversion,valor)\n",
    "        charig.insert(conversion,\"/\")\n",
    "        charsl.insert(conversion,\"=\")\n",
    "        conversion+=1\n",
    "\n",
    "\n",
    "\n",
    "\n",
    "    if (a==de):\n",
    "        cambios=conversion\n",
    "        conversion+=1\n",
    "        unidadesDiv[cambios]=\"\"\n",
    "        while(conversion < 6):\n",
    "            unidades.insert(conversion,\"\")\n",
    "            unidadesDiv.insert(conversion+1,\"\")\n",
    "            factores.insert(conversion,\"\")\n",
    "            valores.insert(conversion,\"\")\n",
    "            charig.insert(conversion,\"\")\n",
    "            charsl.insert(conversion,\"\")\n",
    "            conversion+=1\n"
   ]
  },
  {
   "cell_type": "code",
   "execution_count": 30,
   "id": "9426524a",
   "metadata": {},
   "outputs": [],
   "source": [
    "def calculo(valores,intmagnitud):\n",
    "    ciclo=0\n",
    "    pasos= []    \n",
    "    oldResultado=intmagnitud\n",
    "    while(ciclo<cambios):            \n",
    "        \n",
    "        resultado=oldResultado*valores[ciclo]\n",
    "        ciclo+=1\n",
    "        pasos.insert(ciclo,resultado)\n",
    "        oldResultado=resultado\n",
    "    while(ciclo<6):      \n",
    "        ciclo+=1\n",
    "        resultado=\"\"\n",
    "        pasos.insert(ciclo,resultado)\n",
    "\n",
    "    return pasos\n",
    "try:        \n",
    "    resultados=calculo(valores,intmagnitud)\n",
    "except:\n",
    "    pass"
   ]
  },
  {
   "cell_type": "code",
   "execution_count": 31,
   "id": "58b40e8d",
   "metadata": {},
   "outputs": [],
   "source": [
    "try:\n",
    "    float(fu.result)\n",
    "    resultadosR=[\"\",\"\",\"\",\"\",\"\",\"\"]\n",
    "    exponentes=[\"\",\"\",\"\",\"\",\"\",\"\"]\n",
    "    i=0\n",
    "    e=0\n",
    "    while (i<cambios):\n",
    "        if ((resultados[i]>=1) and (resultados[i]<=9999)):\n",
    "            exponentes[i]=\"\"\n",
    "            resultadosR[i]=(round(resultados[i], 3))\n",
    "        else:\n",
    "            if(resultados[i]<1):\n",
    "                while (resultados[i]<1):\n",
    "                    e+=1\n",
    "                    resultados[i]=resultados[i]*10\n",
    "\n",
    "\n",
    "                resultadosR[i]=(round(resultados[i], 3))\n",
    "                exponentes[i]=\"\\cdot 10^{-\"+str(e)+\"}\"\n",
    "            else:\n",
    "                while (resultados[i]>999):\n",
    "                    e+=1\n",
    "                    resultados[i]=resultados[i]/10\n",
    "\n",
    "\n",
    "                resultadosR[i]=(round(resultados[i], 3))\n",
    "                exponentes[i]=\"\\cdot 10^{\"+str(e)+\"}\"\n",
    "        i+=1\n",
    "        e=0\n",
    "except:\n",
    "    strmagnitud=\"\"\n",
    "    unidadesDiv=factores=unidades=charig=unidadesDiv=charsl=resultadosR=exponentes=unidades=factores=charig=[\"\",\"\",\"\",\"\",\"\",\"\"]\n"
   ]
  },
  {
   "cell_type": "code",
   "execution_count": 32,
   "id": "1a58c995",
   "metadata": {},
   "outputs": [
    {
     "data": {
      "text/markdown": [
       "$$\\ \\ \\ \\ \\ $$  $$\\ \\ \\ \\ \\ $$  $$\\ \\ \\ \\ \\ $$  $$\\ \\ \\ \\ \\ $$  $$\\ \\ \\ \\ \\ $$"
      ],
      "text/plain": [
       "<IPython.core.display.Markdown object>"
      ]
     },
     "execution_count": 32,
     "metadata": {},
     "output_type": "execute_result"
    }
   ],
   "source": [
    "from IPython.display import Markdown as md\n",
    "md('$$%s\\ %s%s\\ %s\\ %s\\ %s%s%s%s\\ %s$$  $$%s%s\\ %s%s\\ %s\\ %s\\ %s%s%s%s\\ %s$$  $$%s%s\\ %s%s\\ %s\\ %s\\ %s%s%s%s\\ %s$$  $$%s%s\\ %s%s\\ %s\\ %s\\ %s%s%s%s\\ %s$$  $$%s%s\\ %s%s\\ %s\\ %s\\ %s%s%s%s\\ %s$$'\n",
    "%(strmagnitud,unidadesDiv[0],factores[0],unidades[0],charig[0],unidadesDiv[0],charsl[0],resultadosR[0],exponentes[0], unidades[0],\n",
    "  resultadosR[0],exponentes[0], unidades[0],factores[1],unidades[1],charig[1],unidadesDiv[1],charsl[1],resultadosR[1],exponentes[1], unidades[1], \n",
    "  resultadosR[1],exponentes[1], unidades[1],factores[2],unidades[2],charig[2],unidadesDiv[2],charsl[2],resultadosR[2],exponentes[2], unidades[2], \n",
    "  resultadosR[2],exponentes[2], unidades[2],factores[3],unidades[3],charig[3],unidadesDiv[3],charsl[3],resultadosR[3],exponentes[3], unidades[3], \n",
    "  resultadosR[3],exponentes[3], unidades[3],factores[4],unidades[4],charig[4],unidadesDiv[4],charsl[4],resultadosR[4],exponentes[4], unidades[4]))"
   ]
  },
  {
   "cell_type": "code",
   "execution_count": 33,
   "id": "d25c4bad",
   "metadata": {},
   "outputs": [
    {
     "data": {
      "text/html": [
       "\n",
       "<a href=\"javascript:code_toggle()\">Mostrar/ocultar celdas de código</a>."
      ],
      "text/plain": [
       "<IPython.core.display.HTML object>"
      ]
     },
     "execution_count": 33,
     "metadata": {},
     "output_type": "execute_result"
    }
   ],
   "source": [
    "from IPython.display import HTML\n",
    "HTML('''\n",
    "<a href=\"javascript:code_toggle()\">Mostrar/ocultar celdas de código</a>.''')"
   ]
  }
 ],
 "metadata": {
  "kernelspec": {
   "display_name": "Python 3",
   "language": "python",
   "name": "python3"
  },
  "language_info": {
   "codemirror_mode": {
    "name": "ipython",
    "version": 3
   },
   "file_extension": ".py",
   "mimetype": "text/x-python",
   "name": "python",
   "nbconvert_exporter": "python",
   "pygments_lexer": "ipython3",
   "version": "3.8.8"
  },
  "widgets": {
   "application/vnd.jupyter.widget-state+json": {
    "state": {
     "001c4119d56647f19f2b48643f6bad40": {
      "model_module": "@jupyter-widgets/controls",
      "model_module_version": "1.5.0",
      "model_name": "DropdownModel",
      "state": {
       "_options_labels": [
        "atm",
        "bar",
        "dyn/cm^2",
        "kg/cm^2",
        "kp/m^2",
        "mca",
        "mcHg",
        "mmcHg",
        "Pa",
        "Torr"
       ],
       "description": "a",
       "index": 0,
       "layout": "IPY_MODEL_93e0c5e3ec1249aa872da21bac3a2101",
       "style": "IPY_MODEL_a37b5845759449d4a09caae98b10ee2e"
      }
     },
     "0078fd6c6ab0479283ab77da68dfa05b": {
      "model_module": "@jupyter-widgets/controls",
      "model_module_version": "1.5.0",
      "model_name": "DescriptionStyleModel",
      "state": {
       "description_width": ""
      }
     },
     "010e5c396525480a82cc04275d4433be": {
      "model_module": "@jupyter-widgets/controls",
      "model_module_version": "1.5.0",
      "model_name": "DescriptionStyleModel",
      "state": {
       "description_width": ""
      }
     },
     "093963297a1d4bb9924226b38baa2f57": {
      "model_module": "@jupyter-widgets/output",
      "model_module_version": "1.0.0",
      "model_name": "OutputModel",
      "state": {
       "layout": "IPY_MODEL_edc86108d2664eb5aa5d98d9dd406eaa"
      }
     },
     "0bf5c4171b2742ba937184538b6d8b06": {
      "model_module": "@jupyter-widgets/controls",
      "model_module_version": "1.5.0",
      "model_name": "VBoxModel",
      "state": {
       "_dom_classes": [
        "widget-interact"
       ],
       "children": [
        "IPY_MODEL_58893c14086c4a3abfb5261046fba488",
        "IPY_MODEL_001c4119d56647f19f2b48643f6bad40",
        "IPY_MODEL_80960acffdf24e3db4851fd2cfbec691"
       ],
       "layout": "IPY_MODEL_0d274be079244ff59469e02ed355c266"
      }
     },
     "0d274be079244ff59469e02ed355c266": {
      "model_module": "@jupyter-widgets/base",
      "model_module_version": "1.2.0",
      "model_name": "LayoutModel",
      "state": {}
     },
     "0e525d7cbfbf49389d815d6fcec02f5a": {
      "model_module": "@jupyter-widgets/base",
      "model_module_version": "1.2.0",
      "model_name": "LayoutModel",
      "state": {}
     },
     "1392901272b148668e24ac4681325e73": {
      "model_module": "@jupyter-widgets/controls",
      "model_module_version": "1.5.0",
      "model_name": "TextModel",
      "state": {
       "description": "Magnitud",
       "layout": "IPY_MODEL_a5e6cd240f4a4b2598ede6ca4f87035b",
       "style": "IPY_MODEL_010e5c396525480a82cc04275d4433be",
       "value": "0"
      }
     },
     "171ec52c718d4d27bbc2c243467345e0": {
      "model_module": "@jupyter-widgets/controls",
      "model_module_version": "1.5.0",
      "model_name": "DropdownModel",
      "state": {
       "_options_labels": [
        "atm",
        "bar",
        "dyn/cm^2",
        "kg/cm^2",
        "kp/m^2",
        "mca",
        "mcHg",
        "mmcHg",
        "Pa",
        "Torr"
       ],
       "description": "a",
       "index": 2,
       "layout": "IPY_MODEL_957d7402afa1452597b50bd400f5d8b7",
       "style": "IPY_MODEL_84240360fca6403eb5d2857598d26cb8"
      }
     },
     "172d6d54758f47258872f77123b033f9": {
      "model_module": "@jupyter-widgets/base",
      "model_module_version": "1.2.0",
      "model_name": "LayoutModel",
      "state": {}
     },
     "1770a4e4ab6744a2a90fb0e113010df8": {
      "model_module": "@jupyter-widgets/output",
      "model_module_version": "1.0.0",
      "model_name": "OutputModel",
      "state": {
       "layout": "IPY_MODEL_3032dde2353545a9bef19f4997da48cc"
      }
     },
     "1d9f5b502e0247dda5b0b5938f30fb5d": {
      "model_module": "@jupyter-widgets/controls",
      "model_module_version": "1.5.0",
      "model_name": "DropdownModel",
      "state": {
       "_options_labels": [
        "atm",
        "bar",
        "dyn/cm^2",
        "kg/cm^2",
        "kp/m^2",
        "mca",
        "mcHg",
        "mmcHg",
        "Pa",
        "Torr"
       ],
       "description": "de",
       "index": 0,
       "layout": "IPY_MODEL_c819eab5face4227a02600db9522fd19",
       "style": "IPY_MODEL_a6ab400387874505bce0d7e4d925eb21"
      }
     },
     "216b33e100e2446085520fb4cc10f437": {
      "model_module": "@jupyter-widgets/controls",
      "model_module_version": "1.5.0",
      "model_name": "DescriptionStyleModel",
      "state": {
       "description_width": ""
      }
     },
     "260f7452caec47dabd4afe7859706b68": {
      "model_module": "@jupyter-widgets/output",
      "model_module_version": "1.0.0",
      "model_name": "OutputModel",
      "state": {
       "layout": "IPY_MODEL_63ff437ab6054022bde9fb3032804024"
      }
     },
     "26e1bd4c49604fa89084ec4bfbc826e5": {
      "model_module": "@jupyter-widgets/controls",
      "model_module_version": "1.5.0",
      "model_name": "DescriptionStyleModel",
      "state": {
       "description_width": ""
      }
     },
     "2bdcd4e3f23a4f0dba91c6031f61e6e5": {
      "model_module": "@jupyter-widgets/controls",
      "model_module_version": "1.5.0",
      "model_name": "DescriptionStyleModel",
      "state": {
       "description_width": ""
      }
     },
     "3032dde2353545a9bef19f4997da48cc": {
      "model_module": "@jupyter-widgets/base",
      "model_module_version": "1.2.0",
      "model_name": "LayoutModel",
      "state": {}
     },
     "316b2b51741a45ff978fa0a6660bb7b8": {
      "model_module": "@jupyter-widgets/output",
      "model_module_version": "1.0.0",
      "model_name": "OutputModel",
      "state": {
       "layout": "IPY_MODEL_e2aa6ea3e45442bbbbf1fccc7873dd19"
      }
     },
     "34f9b3c602da42c685e0e62a6d09a47a": {
      "model_module": "@jupyter-widgets/base",
      "model_module_version": "1.2.0",
      "model_name": "LayoutModel",
      "state": {}
     },
     "365eb3d375654482887295ee8468686e": {
      "model_module": "@jupyter-widgets/base",
      "model_module_version": "1.2.0",
      "model_name": "LayoutModel",
      "state": {}
     },
     "374df1bf50234577aaf9be11db8045aa": {
      "model_module": "@jupyter-widgets/controls",
      "model_module_version": "1.5.0",
      "model_name": "DropdownModel",
      "state": {
       "_options_labels": [
        "atm",
        "bar",
        "dyn/cm^2",
        "kg/cm^2",
        "kp/m^2",
        "mca",
        "mcHg",
        "mmcHg",
        "Pa",
        "Torr"
       ],
       "description": "de",
       "index": 0,
       "layout": "IPY_MODEL_5cb79de1be1a4b8e9d6843f214778008",
       "style": "IPY_MODEL_ccce980fa0b949019e1d2807b34eda7d"
      }
     },
     "3a8124a7563c468e81d71a3e3fbe049e": {
      "model_module": "@jupyter-widgets/controls",
      "model_module_version": "1.5.0",
      "model_name": "VBoxModel",
      "state": {
       "_dom_classes": [
        "widget-interact"
       ],
       "children": [
        "IPY_MODEL_809d9363f1aa4e23ad723a7cc0a83289",
        "IPY_MODEL_63514cbb05ca4aaf902fe16706905b65",
        "IPY_MODEL_781ff25e4d464585bf5e356b8031fc19"
       ],
       "layout": "IPY_MODEL_d741228821a6414a8f64c8ef1ef6f694"
      }
     },
     "3cbb743a6f7d4cf28150ec6fa84bab39": {
      "model_module": "@jupyter-widgets/controls",
      "model_module_version": "1.5.0",
      "model_name": "VBoxModel",
      "state": {
       "_dom_classes": [
        "widget-interact"
       ],
       "children": [
        "IPY_MODEL_7e8f9561e2b3479e926913b23b9d3d3a",
        "IPY_MODEL_9d5446a9bfad47dd827077ef077592e2"
       ],
       "layout": "IPY_MODEL_ca8fd795ed02435ba33c53e1e51d158c"
      }
     },
     "407a123cc47e4d43a7bca828c4c07dbf": {
      "model_module": "@jupyter-widgets/controls",
      "model_module_version": "1.5.0",
      "model_name": "DropdownModel",
      "state": {
       "_options_labels": [
        "atm",
        "bar",
        "dyn/cm^2",
        "kg/cm^2",
        "kp/m^2",
        "mca",
        "mcHg",
        "mmcHg",
        "Pa",
        "Torr"
       ],
       "description": "de",
       "index": 0,
       "layout": "IPY_MODEL_6416808607924f9c8dbb7a3df0489feb",
       "style": "IPY_MODEL_4b25e2680897475ea29f23da8b0ad412"
      }
     },
     "43674a6757764fdfae1a2d286c7f5856": {
      "model_module": "@jupyter-widgets/base",
      "model_module_version": "1.2.0",
      "model_name": "LayoutModel",
      "state": {}
     },
     "441d274abde04f73909b19a1eb948371": {
      "model_module": "@jupyter-widgets/controls",
      "model_module_version": "1.5.0",
      "model_name": "DescriptionStyleModel",
      "state": {
       "description_width": ""
      }
     },
     "489a72b473d040109ee8e32ff9979151": {
      "model_module": "@jupyter-widgets/output",
      "model_module_version": "1.0.0",
      "model_name": "OutputModel",
      "state": {
       "layout": "IPY_MODEL_cfa7ab095db743fe824a9bca5bbe6d82"
      }
     },
     "48f63c6c992948328ce8f20e0a69977c": {
      "model_module": "@jupyter-widgets/base",
      "model_module_version": "1.2.0",
      "model_name": "LayoutModel",
      "state": {}
     },
     "495d209be63f4fbaa882022619ade089": {
      "model_module": "@jupyter-widgets/base",
      "model_module_version": "1.2.0",
      "model_name": "LayoutModel",
      "state": {}
     },
     "4aef14fb9bce45ff8aff1ed58dde4dbc": {
      "model_module": "@jupyter-widgets/base",
      "model_module_version": "1.2.0",
      "model_name": "LayoutModel",
      "state": {}
     },
     "4b25e2680897475ea29f23da8b0ad412": {
      "model_module": "@jupyter-widgets/controls",
      "model_module_version": "1.5.0",
      "model_name": "DescriptionStyleModel",
      "state": {
       "description_width": ""
      }
     },
     "4b2a6fc81d524b1fb1188cfcfdface89": {
      "model_module": "@jupyter-widgets/controls",
      "model_module_version": "1.5.0",
      "model_name": "DescriptionStyleModel",
      "state": {
       "description_width": ""
      }
     },
     "556ac5db461a437eaa684ae1b6f2229d": {
      "model_module": "@jupyter-widgets/base",
      "model_module_version": "1.2.0",
      "model_name": "LayoutModel",
      "state": {}
     },
     "58893c14086c4a3abfb5261046fba488": {
      "model_module": "@jupyter-widgets/controls",
      "model_module_version": "1.5.0",
      "model_name": "DropdownModel",
      "state": {
       "_options_labels": [
        "atm",
        "bar",
        "dyn/cm^2",
        "kg/cm^2",
        "kp/m^2",
        "mca",
        "mcHg",
        "mmcHg",
        "Pa",
        "Torr"
       ],
       "description": "de",
       "index": 0,
       "layout": "IPY_MODEL_b7b2ab68a891418fa510400ebcd8c2df",
       "style": "IPY_MODEL_2bdcd4e3f23a4f0dba91c6031f61e6e5"
      }
     },
     "588e28dc5ce44eb299ec51573e922633": {
      "model_module": "@jupyter-widgets/controls",
      "model_module_version": "1.5.0",
      "model_name": "DropdownModel",
      "state": {
       "_options_labels": [
        "atm",
        "bar",
        "dyn/cm^2",
        "kg/cm^2",
        "kp/m^2",
        "mca",
        "mcHg",
        "mmcHg",
        "Pa",
        "Torr"
       ],
       "description": "a",
       "index": 0,
       "layout": "IPY_MODEL_be02f056731c4b2599098a19302d6ca6",
       "style": "IPY_MODEL_441d274abde04f73909b19a1eb948371"
      }
     },
     "58ba7ed19c3e412e9982f61a3a10a390": {
      "model_module": "@jupyter-widgets/controls",
      "model_module_version": "1.5.0",
      "model_name": "DescriptionStyleModel",
      "state": {
       "description_width": ""
      }
     },
     "5a713ab2500442b98a4f3ccbc00d448f": {
      "model_module": "@jupyter-widgets/controls",
      "model_module_version": "1.5.0",
      "model_name": "DescriptionStyleModel",
      "state": {
       "description_width": ""
      }
     },
     "5cb79de1be1a4b8e9d6843f214778008": {
      "model_module": "@jupyter-widgets/base",
      "model_module_version": "1.2.0",
      "model_name": "LayoutModel",
      "state": {}
     },
     "6053df60919b4c538c5d294b5ca0d27a": {
      "model_module": "@jupyter-widgets/base",
      "model_module_version": "1.2.0",
      "model_name": "LayoutModel",
      "state": {}
     },
     "61dcd716046a4ac5b82234d24ef25647": {
      "model_module": "@jupyter-widgets/controls",
      "model_module_version": "1.5.0",
      "model_name": "DropdownModel",
      "state": {
       "_options_labels": [
        "atm",
        "bar",
        "dyn/cm^2",
        "kg/cm^2",
        "kp/m^2",
        "mca",
        "mcHg",
        "mmcHg",
        "Pa",
        "Torr"
       ],
       "description": "a",
       "index": 0,
       "layout": "IPY_MODEL_365eb3d375654482887295ee8468686e",
       "style": "IPY_MODEL_26e1bd4c49604fa89084ec4bfbc826e5"
      }
     },
     "63514cbb05ca4aaf902fe16706905b65": {
      "model_module": "@jupyter-widgets/controls",
      "model_module_version": "1.5.0",
      "model_name": "DropdownModel",
      "state": {
       "_options_labels": [
        "atm",
        "bar",
        "dyn/cm^2",
        "kg/cm^2",
        "kp/m^2",
        "mca",
        "mcHg",
        "mmcHg",
        "Pa",
        "Torr"
       ],
       "description": "a",
       "index": 0,
       "layout": "IPY_MODEL_775d0a1d00b545c680ed1b03ffe2ef4c",
       "style": "IPY_MODEL_77eca9fa3ca4484783ec9341e476ef0b"
      }
     },
     "63ff437ab6054022bde9fb3032804024": {
      "model_module": "@jupyter-widgets/base",
      "model_module_version": "1.2.0",
      "model_name": "LayoutModel",
      "state": {}
     },
     "6416808607924f9c8dbb7a3df0489feb": {
      "model_module": "@jupyter-widgets/base",
      "model_module_version": "1.2.0",
      "model_name": "LayoutModel",
      "state": {}
     },
     "6c844cde56a74e40b7ee434046cad229": {
      "model_module": "@jupyter-widgets/base",
      "model_module_version": "1.2.0",
      "model_name": "LayoutModel",
      "state": {}
     },
     "703e9fa5a02b4c7091149b077344f415": {
      "model_module": "@jupyter-widgets/controls",
      "model_module_version": "1.5.0",
      "model_name": "VBoxModel",
      "state": {
       "_dom_classes": [
        "widget-interact"
       ],
       "children": [
        "IPY_MODEL_7979cc8cb3014603b7bbddf29d2f11ca",
        "IPY_MODEL_e717ed8551774faeafe8a699e9c38708"
       ],
       "layout": "IPY_MODEL_b919c73301654563b8e244aac81576cb"
      }
     },
     "717d05b286aa46bea02a966881a1e9f8": {
      "model_module": "@jupyter-widgets/base",
      "model_module_version": "1.2.0",
      "model_name": "LayoutModel",
      "state": {}
     },
     "775d0a1d00b545c680ed1b03ffe2ef4c": {
      "model_module": "@jupyter-widgets/base",
      "model_module_version": "1.2.0",
      "model_name": "LayoutModel",
      "state": {}
     },
     "77eca9fa3ca4484783ec9341e476ef0b": {
      "model_module": "@jupyter-widgets/controls",
      "model_module_version": "1.5.0",
      "model_name": "DescriptionStyleModel",
      "state": {
       "description_width": ""
      }
     },
     "781ff25e4d464585bf5e356b8031fc19": {
      "model_module": "@jupyter-widgets/output",
      "model_module_version": "1.0.0",
      "model_name": "OutputModel",
      "state": {
       "layout": "IPY_MODEL_495d209be63f4fbaa882022619ade089"
      }
     },
     "78d8db5421f348398da47c4b994e5d52": {
      "model_module": "@jupyter-widgets/base",
      "model_module_version": "1.2.0",
      "model_name": "LayoutModel",
      "state": {}
     },
     "7979cc8cb3014603b7bbddf29d2f11ca": {
      "model_module": "@jupyter-widgets/controls",
      "model_module_version": "1.5.0",
      "model_name": "TextModel",
      "state": {
       "description": "Magnitud",
       "layout": "IPY_MODEL_48f63c6c992948328ce8f20e0a69977c",
       "style": "IPY_MODEL_0078fd6c6ab0479283ab77da68dfa05b",
       "value": "0"
      }
     },
     "79fab613c8db4e0f9e1b214b5b6f1c96": {
      "model_module": "@jupyter-widgets/controls",
      "model_module_version": "1.5.0",
      "model_name": "VBoxModel",
      "state": {
       "_dom_classes": [
        "widget-interact"
       ],
       "children": [
        "IPY_MODEL_407a123cc47e4d43a7bca828c4c07dbf",
        "IPY_MODEL_7cb3406bb96b461d9b00d53af38fc61b",
        "IPY_MODEL_9999be6c7ac84418bbe21f17b37054b2"
       ],
       "layout": "IPY_MODEL_0e525d7cbfbf49389d815d6fcec02f5a"
      }
     },
     "7cb3406bb96b461d9b00d53af38fc61b": {
      "model_module": "@jupyter-widgets/controls",
      "model_module_version": "1.5.0",
      "model_name": "DropdownModel",
      "state": {
       "_options_labels": [
        "atm",
        "bar",
        "dyn/cm^2",
        "kg/cm^2",
        "kp/m^2",
        "mca",
        "mcHg",
        "mmcHg",
        "Pa",
        "Torr"
       ],
       "description": "a",
       "index": 0,
       "layout": "IPY_MODEL_172d6d54758f47258872f77123b033f9",
       "style": "IPY_MODEL_216b33e100e2446085520fb4cc10f437"
      }
     },
     "7e8f9561e2b3479e926913b23b9d3d3a": {
      "model_module": "@jupyter-widgets/controls",
      "model_module_version": "1.5.0",
      "model_name": "TextModel",
      "state": {
       "description": "Magnitud",
       "layout": "IPY_MODEL_78d8db5421f348398da47c4b994e5d52",
       "style": "IPY_MODEL_f1bf9f8358d943a3b264fd3f0e016af9",
       "value": "0"
      }
     },
     "80960acffdf24e3db4851fd2cfbec691": {
      "model_module": "@jupyter-widgets/output",
      "model_module_version": "1.0.0",
      "model_name": "OutputModel",
      "state": {
       "layout": "IPY_MODEL_d75ae9d703494a3294e69b8b1be2d740"
      }
     },
     "809d9363f1aa4e23ad723a7cc0a83289": {
      "model_module": "@jupyter-widgets/controls",
      "model_module_version": "1.5.0",
      "model_name": "DropdownModel",
      "state": {
       "_options_labels": [
        "atm",
        "bar",
        "dyn/cm^2",
        "kg/cm^2",
        "kp/m^2",
        "mca",
        "mcHg",
        "mmcHg",
        "Pa",
        "Torr"
       ],
       "description": "de",
       "index": 0,
       "layout": "IPY_MODEL_43674a6757764fdfae1a2d286c7f5856",
       "style": "IPY_MODEL_58ba7ed19c3e412e9982f61a3a10a390"
      }
     },
     "83c9bc26682941cbac622b0182e75173": {
      "model_module": "@jupyter-widgets/controls",
      "model_module_version": "1.5.0",
      "model_name": "VBoxModel",
      "state": {
       "_dom_classes": [
        "widget-interact"
       ],
       "children": [
        "IPY_MODEL_dd299a0b59f64c94b73cd89b8d2835cc",
        "IPY_MODEL_260f7452caec47dabd4afe7859706b68"
       ],
       "layout": "IPY_MODEL_fb46c80df5af43a3ba98419016dab57f"
      }
     },
     "84240360fca6403eb5d2857598d26cb8": {
      "model_module": "@jupyter-widgets/controls",
      "model_module_version": "1.5.0",
      "model_name": "DescriptionStyleModel",
      "state": {
       "description_width": ""
      }
     },
     "8d5bf74a0c46453abd3f04a8a11940c3": {
      "model_module": "@jupyter-widgets/base",
      "model_module_version": "1.2.0",
      "model_name": "LayoutModel",
      "state": {}
     },
     "8eaef38cda8149f38c07939b21e52843": {
      "model_module": "@jupyter-widgets/base",
      "model_module_version": "1.2.0",
      "model_name": "LayoutModel",
      "state": {}
     },
     "92c4828e71134819b43df7aff2aeac55": {
      "model_module": "@jupyter-widgets/controls",
      "model_module_version": "1.5.0",
      "model_name": "VBoxModel",
      "state": {
       "_dom_classes": [
        "widget-interact"
       ],
       "children": [
        "IPY_MODEL_1d9f5b502e0247dda5b0b5938f30fb5d",
        "IPY_MODEL_588e28dc5ce44eb299ec51573e922633",
        "IPY_MODEL_dbd99f4a6d434df0ba238ef301c11d36"
       ],
       "layout": "IPY_MODEL_db3cb924d5784f0f81542713b4f6b242"
      }
     },
     "93e0c5e3ec1249aa872da21bac3a2101": {
      "model_module": "@jupyter-widgets/base",
      "model_module_version": "1.2.0",
      "model_name": "LayoutModel",
      "state": {}
     },
     "957d7402afa1452597b50bd400f5d8b7": {
      "model_module": "@jupyter-widgets/base",
      "model_module_version": "1.2.0",
      "model_name": "LayoutModel",
      "state": {}
     },
     "9999be6c7ac84418bbe21f17b37054b2": {
      "model_module": "@jupyter-widgets/output",
      "model_module_version": "1.0.0",
      "model_name": "OutputModel",
      "state": {
       "layout": "IPY_MODEL_c10f28a4283c43f592c01918ab811d39"
      }
     },
     "99e8a5ece9044068aa4ad156eac51f67": {
      "model_module": "@jupyter-widgets/base",
      "model_module_version": "1.2.0",
      "model_name": "LayoutModel",
      "state": {}
     },
     "9a13d37f46784b9ea293c5b33d8e2a58": {
      "model_module": "@jupyter-widgets/controls",
      "model_module_version": "1.5.0",
      "model_name": "DescriptionStyleModel",
      "state": {
       "description_width": ""
      }
     },
     "9ad0beb21a764eb686557205d4a79005": {
      "model_module": "@jupyter-widgets/controls",
      "model_module_version": "1.5.0",
      "model_name": "VBoxModel",
      "state": {
       "_dom_classes": [
        "widget-interact"
       ],
       "children": [
        "IPY_MODEL_aacd7cab34b74102a2af652d0272e8ac",
        "IPY_MODEL_093963297a1d4bb9924226b38baa2f57"
       ],
       "layout": "IPY_MODEL_34f9b3c602da42c685e0e62a6d09a47a"
      }
     },
     "9d5446a9bfad47dd827077ef077592e2": {
      "model_module": "@jupyter-widgets/output",
      "model_module_version": "1.0.0",
      "model_name": "OutputModel",
      "state": {
       "layout": "IPY_MODEL_8eaef38cda8149f38c07939b21e52843"
      }
     },
     "9dd89aa690d74ba792601920f6de8ad7": {
      "model_module": "@jupyter-widgets/controls",
      "model_module_version": "1.5.0",
      "model_name": "VBoxModel",
      "state": {
       "_dom_classes": [
        "widget-interact"
       ],
       "children": [
        "IPY_MODEL_374df1bf50234577aaf9be11db8045aa",
        "IPY_MODEL_171ec52c718d4d27bbc2c243467345e0",
        "IPY_MODEL_1770a4e4ab6744a2a90fb0e113010df8"
       ],
       "layout": "IPY_MODEL_db9362fb4efb46b2b2faeb51803d2507"
      }
     },
     "a37b5845759449d4a09caae98b10ee2e": {
      "model_module": "@jupyter-widgets/controls",
      "model_module_version": "1.5.0",
      "model_name": "DescriptionStyleModel",
      "state": {
       "description_width": ""
      }
     },
     "a5e6cd240f4a4b2598ede6ca4f87035b": {
      "model_module": "@jupyter-widgets/base",
      "model_module_version": "1.2.0",
      "model_name": "LayoutModel",
      "state": {}
     },
     "a6ab400387874505bce0d7e4d925eb21": {
      "model_module": "@jupyter-widgets/controls",
      "model_module_version": "1.5.0",
      "model_name": "DescriptionStyleModel",
      "state": {
       "description_width": ""
      }
     },
     "a779c5b49125415087a910d7cc3451bc": {
      "model_module": "@jupyter-widgets/controls",
      "model_module_version": "1.5.0",
      "model_name": "VBoxModel",
      "state": {
       "_dom_classes": [
        "widget-interact"
       ],
       "children": [
        "IPY_MODEL_b8b3cf1b2f6541339d7fb793ebc8d7ea",
        "IPY_MODEL_e3c8a81dd01541bc82980ed5829eb036"
       ],
       "layout": "IPY_MODEL_556ac5db461a437eaa684ae1b6f2229d"
      }
     },
     "aacd7cab34b74102a2af652d0272e8ac": {
      "model_module": "@jupyter-widgets/controls",
      "model_module_version": "1.5.0",
      "model_name": "TextModel",
      "state": {
       "description": "Magnitud",
       "layout": "IPY_MODEL_b7e82e54ccd4402c90b3264c5cc48db7",
       "style": "IPY_MODEL_5a713ab2500442b98a4f3ccbc00d448f",
       "value": "0"
      }
     },
     "b7b2ab68a891418fa510400ebcd8c2df": {
      "model_module": "@jupyter-widgets/base",
      "model_module_version": "1.2.0",
      "model_name": "LayoutModel",
      "state": {}
     },
     "b7e82e54ccd4402c90b3264c5cc48db7": {
      "model_module": "@jupyter-widgets/base",
      "model_module_version": "1.2.0",
      "model_name": "LayoutModel",
      "state": {}
     },
     "b8b3cf1b2f6541339d7fb793ebc8d7ea": {
      "model_module": "@jupyter-widgets/controls",
      "model_module_version": "1.5.0",
      "model_name": "TextModel",
      "state": {
       "description": "Magnitud",
       "layout": "IPY_MODEL_717d05b286aa46bea02a966881a1e9f8",
       "style": "IPY_MODEL_4b2a6fc81d524b1fb1188cfcfdface89",
       "value": "0"
      }
     },
     "b919c73301654563b8e244aac81576cb": {
      "model_module": "@jupyter-widgets/base",
      "model_module_version": "1.2.0",
      "model_name": "LayoutModel",
      "state": {}
     },
     "be02f056731c4b2599098a19302d6ca6": {
      "model_module": "@jupyter-widgets/base",
      "model_module_version": "1.2.0",
      "model_name": "LayoutModel",
      "state": {}
     },
     "c10f28a4283c43f592c01918ab811d39": {
      "model_module": "@jupyter-widgets/base",
      "model_module_version": "1.2.0",
      "model_name": "LayoutModel",
      "state": {}
     },
     "c819eab5face4227a02600db9522fd19": {
      "model_module": "@jupyter-widgets/base",
      "model_module_version": "1.2.0",
      "model_name": "LayoutModel",
      "state": {}
     },
     "ca8fd795ed02435ba33c53e1e51d158c": {
      "model_module": "@jupyter-widgets/base",
      "model_module_version": "1.2.0",
      "model_name": "LayoutModel",
      "state": {}
     },
     "ccce980fa0b949019e1d2807b34eda7d": {
      "model_module": "@jupyter-widgets/controls",
      "model_module_version": "1.5.0",
      "model_name": "DescriptionStyleModel",
      "state": {
       "description_width": ""
      }
     },
     "cf3da473b8f4429ea1b98e0fbc70a57d": {
      "model_module": "@jupyter-widgets/controls",
      "model_module_version": "1.5.0",
      "model_name": "VBoxModel",
      "state": {
       "_dom_classes": [
        "widget-interact"
       ],
       "children": [
        "IPY_MODEL_f3a2dad7666f4729884c2babe039a63b",
        "IPY_MODEL_61dcd716046a4ac5b82234d24ef25647",
        "IPY_MODEL_316b2b51741a45ff978fa0a6660bb7b8"
       ],
       "layout": "IPY_MODEL_d4f336c293924f33a4caf41151f8670c"
      }
     },
     "cfa7ab095db743fe824a9bca5bbe6d82": {
      "model_module": "@jupyter-widgets/base",
      "model_module_version": "1.2.0",
      "model_name": "LayoutModel",
      "state": {}
     },
     "d1828665ff2349f08e8b3412bf577323": {
      "model_module": "@jupyter-widgets/controls",
      "model_module_version": "1.5.0",
      "model_name": "VBoxModel",
      "state": {
       "_dom_classes": [
        "widget-interact"
       ],
       "children": [
        "IPY_MODEL_1392901272b148668e24ac4681325e73",
        "IPY_MODEL_489a72b473d040109ee8e32ff9979151"
       ],
       "layout": "IPY_MODEL_6c844cde56a74e40b7ee434046cad229"
      }
     },
     "d4f336c293924f33a4caf41151f8670c": {
      "model_module": "@jupyter-widgets/base",
      "model_module_version": "1.2.0",
      "model_name": "LayoutModel",
      "state": {}
     },
     "d741228821a6414a8f64c8ef1ef6f694": {
      "model_module": "@jupyter-widgets/base",
      "model_module_version": "1.2.0",
      "model_name": "LayoutModel",
      "state": {}
     },
     "d75ae9d703494a3294e69b8b1be2d740": {
      "model_module": "@jupyter-widgets/base",
      "model_module_version": "1.2.0",
      "model_name": "LayoutModel",
      "state": {}
     },
     "db3cb924d5784f0f81542713b4f6b242": {
      "model_module": "@jupyter-widgets/base",
      "model_module_version": "1.2.0",
      "model_name": "LayoutModel",
      "state": {}
     },
     "db9362fb4efb46b2b2faeb51803d2507": {
      "model_module": "@jupyter-widgets/base",
      "model_module_version": "1.2.0",
      "model_name": "LayoutModel",
      "state": {}
     },
     "dbd99f4a6d434df0ba238ef301c11d36": {
      "model_module": "@jupyter-widgets/output",
      "model_module_version": "1.0.0",
      "model_name": "OutputModel",
      "state": {
       "layout": "IPY_MODEL_6053df60919b4c538c5d294b5ca0d27a"
      }
     },
     "dd299a0b59f64c94b73cd89b8d2835cc": {
      "model_module": "@jupyter-widgets/controls",
      "model_module_version": "1.5.0",
      "model_name": "TextModel",
      "state": {
       "description": "Magnitud",
       "layout": "IPY_MODEL_4aef14fb9bce45ff8aff1ed58dde4dbc",
       "style": "IPY_MODEL_9a13d37f46784b9ea293c5b33d8e2a58",
       "value": "0"
      }
     },
     "e2aa6ea3e45442bbbbf1fccc7873dd19": {
      "model_module": "@jupyter-widgets/base",
      "model_module_version": "1.2.0",
      "model_name": "LayoutModel",
      "state": {}
     },
     "e3c8a81dd01541bc82980ed5829eb036": {
      "model_module": "@jupyter-widgets/output",
      "model_module_version": "1.0.0",
      "model_name": "OutputModel",
      "state": {
       "layout": "IPY_MODEL_8d5bf74a0c46453abd3f04a8a11940c3"
      }
     },
     "e40b13d04ab144f69fe6fa4531a7e8e5": {
      "model_module": "@jupyter-widgets/base",
      "model_module_version": "1.2.0",
      "model_name": "LayoutModel",
      "state": {}
     },
     "e5baa2d12e8c4c5e9ecccc1ba6fbabc0": {
      "model_module": "@jupyter-widgets/controls",
      "model_module_version": "1.5.0",
      "model_name": "DescriptionStyleModel",
      "state": {
       "description_width": ""
      }
     },
     "e717ed8551774faeafe8a699e9c38708": {
      "model_module": "@jupyter-widgets/output",
      "model_module_version": "1.0.0",
      "model_name": "OutputModel",
      "state": {
       "layout": "IPY_MODEL_99e8a5ece9044068aa4ad156eac51f67"
      }
     },
     "edc86108d2664eb5aa5d98d9dd406eaa": {
      "model_module": "@jupyter-widgets/base",
      "model_module_version": "1.2.0",
      "model_name": "LayoutModel",
      "state": {}
     },
     "f1bf9f8358d943a3b264fd3f0e016af9": {
      "model_module": "@jupyter-widgets/controls",
      "model_module_version": "1.5.0",
      "model_name": "DescriptionStyleModel",
      "state": {
       "description_width": ""
      }
     },
     "f3a2dad7666f4729884c2babe039a63b": {
      "model_module": "@jupyter-widgets/controls",
      "model_module_version": "1.5.0",
      "model_name": "DropdownModel",
      "state": {
       "_options_labels": [
        "atm",
        "bar",
        "dyn/cm^2",
        "kg/cm^2",
        "kp/m^2",
        "mca",
        "mcHg",
        "mmcHg",
        "Pa",
        "Torr"
       ],
       "description": "de",
       "index": 0,
       "layout": "IPY_MODEL_e40b13d04ab144f69fe6fa4531a7e8e5",
       "style": "IPY_MODEL_e5baa2d12e8c4c5e9ecccc1ba6fbabc0"
      }
     },
     "fb46c80df5af43a3ba98419016dab57f": {
      "model_module": "@jupyter-widgets/base",
      "model_module_version": "1.2.0",
      "model_name": "LayoutModel",
      "state": {}
     }
    },
    "version_major": 2,
    "version_minor": 0
   }
  }
 },
 "nbformat": 4,
 "nbformat_minor": 5
}
