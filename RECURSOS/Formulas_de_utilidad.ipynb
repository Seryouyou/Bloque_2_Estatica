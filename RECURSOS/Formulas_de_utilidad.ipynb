{
 "cells": [
  {
   "cell_type": "markdown",
   "id": "436eabe2",
   "metadata": {},
   "source": [
    "<div style=\"background-color:white;border-style:solid;padding:5px\"id=\"enunciado\">\n",
    "    <div style=\"background-color:white;border-style:solid\">\n",
    "        <div style=\"padding:10px;\">\n",
    "                        <div><h1><center><strong>Fórmulas de utilidad</strong></center></h1></div>                        \n",
    "        </div>\n",
    "    </div>   \n",
    "</div>"
   ]
  },
  {
   "cell_type": "markdown",
   "id": "c34a3db9",
   "metadata": {},
   "source": [
    "<h2>Áreas de figuras geométricas simples</h2>"
   ]
  },
  {
   "cell_type": "markdown",
   "id": "f02996b5",
   "metadata": {},
   "source": [
    "<div class=\"split\">\n",
    "    <div class=\"izq\"><img src=\"../MEDIA/area_rect.png\"style=\"width:70%\">\n",
    "     </div>   \n",
    "    <div class=\"dcha\"><img src=\"../MEDIA/area_tri.png\"style=\"width:70%\">\n",
    "    </div>\n",
    "</div>"
   ]
  },
  {
   "cell_type": "markdown",
   "id": "efcb5219",
   "metadata": {},
   "source": [
    "<div class=\"split\">\n",
    "    <div class=\"izq\">\n",
    "                <div class=\"formulas\">\n",
    "            $$ \n",
    "            A_{_{rectanculo}}=a\\cdot b\n",
    "            $$\n",
    "        </div> \n",
    "     </div>   \n",
    "    <div class=\"dcha\">\n",
    "        <div class=\"formulas\">\n",
    "            $$ \n",
    "            A_{_{triangulo}}=\\frac{a\\cdot h}{2}\n",
    "            $$\n",
    "        </div> \n",
    "    </div>\n",
    "</div>"
   ]
  },
  {
   "cell_type": "markdown",
   "id": "dd4285fd",
   "metadata": {},
   "source": [
    "<div class=\"split\">\n",
    "    <div class=\"izq\"><img src=\"../MEDIA/area_circulo.png\"style=\"width:70%\">\n",
    "     </div>   \n",
    "    <div class=\"dcha\"><img src=\"../MEDIA/area_trapecio.png\"style=\"width:70%\">\n",
    "    </div>\n",
    "</div>"
   ]
  },
  {
   "cell_type": "markdown",
   "id": "9df5bcd5",
   "metadata": {},
   "source": [
    "<div class=\"split\">\n",
    "    <div class=\"izq\">\n",
    "                <div class=\"formulas\">\n",
    "            $$ \n",
    "            A_{_{circulo}}=\\pi\\cdot R^{^2}\n",
    "            $$\n",
    "        </div> \n",
    "     </div>   \n",
    "    <div class=\"dcha\">\n",
    "        <div class=\"formulas\">\n",
    "            $$ \n",
    "            A_{_{Trapecio}}=\\frac{a+c}{2}\\cdot h\n",
    "            $$\n",
    "        </div> \n",
    "    </div>\n",
    "</div>"
   ]
  },
  {
   "cell_type": "markdown",
   "id": "7acc5833",
   "metadata": {},
   "source": [
    "<h2>Centroides de figuras geométricas simples</h2>"
   ]
  },
  {
   "cell_type": "markdown",
   "id": "85a65945",
   "metadata": {},
   "source": [
    "<div class=\"split\">\n",
    "    <div class=\"izq\"><img src=\"../MEDIA/centr_rect.png\"style=\"width:70%\">\n",
    "     </div>   \n",
    "    <div class=\"dcha\"><img src=\"../MEDIA/centr_tri.png\"style=\"width:70%\">\n",
    "    </div>\n",
    "</div>"
   ]
  },
  {
   "cell_type": "markdown",
   "id": "aaf0e1bf",
   "metadata": {},
   "source": [
    "<div class=\"split\">\n",
    "    <div class=\"izq\"><img src=\"../MEDIA/centr_cuarto_circ.png\"style=\"width:70%\">\n",
    "     </div>   \n",
    "    <div class=\"dcha\"><img src=\"../MEDIA/centr_cuarto_elips.png\"style=\"width:70%\">\n",
    "    </div>\n",
    "</div>"
   ]
  },
  {
   "cell_type": "markdown",
   "id": "5168723d",
   "metadata": {},
   "source": [
    "<h3>Centroide de cuerpos compuestos</h3>"
   ]
  },
  {
   "cell_type": "markdown",
   "id": "aa5b3f0e",
   "metadata": {},
   "source": [
    "<div class=\"texto\">\n",
    "<p>Para cualquier cuerpo compuesto de $i$ elementos con área conocida $A_{_i}$, y  cuyos centros geométricos $(X_{_i},Y_{_i})$ son conocidos:</p>\n",
    "</div>"
   ]
  },
  {
   "cell_type": "markdown",
   "id": "ef3dceb1",
   "metadata": {},
   "source": [
    "<div class=\"split\">\n",
    "    <div class=\"izq\"><img src=\"../MEDIA/centr_comp.png\">\n",
    "     </div>   \n",
    "    <div class=\"dcha\"style=\"width:70%\">\n",
    "        <div class=\"formulas\">\n",
    "            $$\n",
    "            X_{_{centroide}}=\\frac{\\sum_{i=0}^{\\infty}\\left[X_{_i}\\cdot A_{_i}\\right]}{\\sum_{i=0}^{\\infty}\\left[A_{_i}\\right]}\n",
    "            $$\n",
    "        </div>\n",
    "        <div class=\"formulas\">\n",
    "            $$\n",
    "            Y_{_{centroide}}=\\frac{\\sum_{i=0}^{\\infty}\\left[Y_{_i}\\cdot A_{_i}\\right]}{\\sum_{i=0}^{\\infty}\\left[A_{_i}\\right]}\n",
    "            $$\n",
    "        </div>\n",
    "    </div>\n",
    "</div>"
   ]
  }
 ],
 "metadata": {
  "kernelspec": {
   "display_name": "Python 3",
   "language": "python",
   "name": "python3"
  },
  "language_info": {
   "codemirror_mode": {
    "name": "ipython",
    "version": 3
   },
   "file_extension": ".py",
   "mimetype": "text/x-python",
   "name": "python",
   "nbconvert_exporter": "python",
   "pygments_lexer": "ipython3",
   "version": "3.8.8"
  }
 },
 "nbformat": 4,
 "nbformat_minor": 5
}
