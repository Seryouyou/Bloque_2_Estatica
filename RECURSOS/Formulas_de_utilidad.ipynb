{
 "cells": [
  {
   "cell_type": "code",
   "execution_count": 1,
   "id": "9a3cabf4",
   "metadata": {},
   "outputs": [
    {
     "data": {
      "text/html": [
       "<script>\n",
       "    // AUTORUN ALL CELLS ON NOTEBOOK-LOAD!\n",
       "    require(\n",
       "        ['base/js/namespace', 'jquery'], \n",
       "        function(jupyter, $) {\n",
       "            $(jupyter.events).on(\"kernel_ready.Kernel\", function () {\n",
       "                console.log(\"Auto-running all cells-below...\");\n",
       "                jupyter.actions.call('jupyter-notebook:run-all-cells-below');\n",
       "                jupyter.actions.call('jupyter-notebook:save-notebook');\n",
       "                \n",
       "            });\n",
       "        }\n",
       "    );\n",
       "</script>\n"
      ],
      "text/plain": [
       "<IPython.core.display.HTML object>"
      ]
     },
     "metadata": {},
     "output_type": "display_data"
    }
   ],
   "source": [
    "%%html\n",
    "<script>\n",
    "    // AUTORUN ALL CELLS ON NOTEBOOK-LOAD!\n",
    "    require(\n",
    "        ['base/js/namespace', 'jquery'], \n",
    "        function(jupyter, $) {\n",
    "            $(jupyter.events).on(\"kernel_ready.Kernel\", function () {\n",
    "                console.log(\"Auto-running all cells-below...\");\n",
    "                jupyter.actions.call('jupyter-notebook:run-all-cells-below');\n",
    "                jupyter.actions.call('jupyter-notebook:save-notebook');\n",
    "                \n",
    "            });\n",
    "        }\n",
    "    );\n",
    "</script>"
   ]
  },
  {
   "cell_type": "markdown",
   "id": "a34a8389",
   "metadata": {},
   "source": [
    "<div class=\"aviso\">\n",
    "    <div style=\"text-decoration: underline;\"><strong>SI PUEDES LEER ESTO, POR FAVOR ACTIVA LAS FUNCIONES DE JAVASCRIPT HACIENDO SIGUIENDO LOS PASOS DE LA IMAGEN.</strong></div>\n",
    "</div>"
   ]
  },
  {
   "cell_type": "markdown",
   "id": "4d1da03f",
   "metadata": {},
   "source": [
    "<div class=\"aviso\">\n",
    "    <div><img src=\"../MEDIA/aviso_trust.png\" style=\"width:70%\"></div>\n",
    "</div>"
   ]
  },
  {
   "cell_type": "code",
   "execution_count": 11,
   "id": "6fabfed1",
   "metadata": {},
   "outputs": [
    {
     "data": {
      "text/html": [
       "<link rel=\"stylesheet\" href=\"../CSS\\estilos.css\">\n"
      ],
      "text/plain": [
       "<IPython.core.display.HTML object>"
      ]
     },
     "metadata": {},
     "output_type": "display_data"
    }
   ],
   "source": [
    "%%html\n",
    "<link rel=\"stylesheet\" href=\"../CSS\\estilos.css\">"
   ]
  },
  {
   "cell_type": "code",
   "execution_count": 12,
   "id": "923a04f6",
   "metadata": {},
   "outputs": [
    {
     "data": {
      "text/html": [
       "<script>\n",
       "code_show=true; \n",
       "function code_toggle() {\n",
       " if (code_show){\n",
       " $('div.input').hide();\n",
       " } else {\n",
       " $('div.input').show();\n",
       " }\n",
       " code_show = !code_show\n",
       "} \n",
       "$( document ).ready(code_toggle);\n",
       "</script>\n",
       "<a href=\"javascript:code_toggle()\">Mostrar/ocultar celdas de código</a>."
      ],
      "text/plain": [
       "<IPython.core.display.HTML object>"
      ]
     },
     "execution_count": 12,
     "metadata": {},
     "output_type": "execute_result"
    }
   ],
   "source": [
    "from IPython.display import HTML\n",
    "HTML('''<script>\n",
    "code_show=true; \n",
    "function code_toggle() {\n",
    " if (code_show){\n",
    " $('div.input').hide();\n",
    " } else {\n",
    " $('div.input').show();\n",
    " }\n",
    " code_show = !code_show\n",
    "} \n",
    "$( document ).ready(code_toggle);\n",
    "</script>\n",
    "<a href=\"javascript:code_toggle()\">Mostrar/ocultar celdas de código</a>.''')"
   ]
  },
  {
   "cell_type": "markdown",
   "id": "436eabe2",
   "metadata": {},
   "source": [
    "<div style=\"background-color:white;border-style:solid;padding:5px\"id=\"enunciado\">\n",
    "    <div style=\"background-color:white;border-style:solid\">\n",
    "        <div style=\"padding:10px;\">\n",
    "                        <div><h1><center><strong>Formulas de Utilidad</strong></center></h1></div>                        \n",
    "        </div>\n",
    "    </div>   \n",
    "</div>"
   ]
  },
  {
   "cell_type": "markdown",
   "id": "c34a3db9",
   "metadata": {},
   "source": [
    "<h2>Areas de figuras geométricas simples</h2>"
   ]
  },
  {
   "cell_type": "markdown",
   "id": "f02996b5",
   "metadata": {},
   "source": [
    "<div class=\"split\">\n",
    "    <div class=\"izq\"><img src=\"../MEDIA/area_rect.png\"style=\"width:70%\">\n",
    "     </div>   \n",
    "    <div class=\"dcha\"><img src=\"../MEDIA/area_tri.png\"style=\"width:70%\">\n",
    "    </div>\n",
    "</div>"
   ]
  },
  {
   "cell_type": "markdown",
   "id": "efcb5219",
   "metadata": {},
   "source": [
    "<div class=\"split\">\n",
    "    <div class=\"izq\">\n",
    "                <div class=\"formulas\">\n",
    "            $$ \n",
    "            A_{_{rectanculo}}=a\\cdot b\n",
    "            $$\n",
    "        </div> \n",
    "     </div>   \n",
    "    <div class=\"dcha\">\n",
    "        <div class=\"formulas\">\n",
    "            $$ \n",
    "            A_{_{triangulo}}=\\frac{a\\cdot h}{2}\n",
    "            $$\n",
    "        </div> \n",
    "    </div>\n",
    "</div>"
   ]
  },
  {
   "cell_type": "markdown",
   "id": "dd4285fd",
   "metadata": {},
   "source": [
    "<div class=\"split\">\n",
    "    <div class=\"izq\"><img src=\"../MEDIA/area_circulo.png\"style=\"width:70%\">\n",
    "     </div>   \n",
    "    <div class=\"dcha\"><img src=\"../MEDIA/area_trapecio.png\"style=\"width:70%\">\n",
    "    </div>\n",
    "</div>"
   ]
  },
  {
   "cell_type": "markdown",
   "id": "9df5bcd5",
   "metadata": {},
   "source": [
    "<div class=\"split\">\n",
    "    <div class=\"izq\">\n",
    "                <div class=\"formulas\">\n",
    "            $$ \n",
    "            A_{_{circulo}}=\\pi\\cdot R^{^2}\n",
    "            $$\n",
    "        </div> \n",
    "     </div>   \n",
    "    <div class=\"dcha\">\n",
    "        <div class=\"formulas\">\n",
    "            $$ \n",
    "            A_{_{Trapecio}}=\\frac{a+c}{2}\\cdot h\n",
    "            $$\n",
    "        </div> \n",
    "    </div>\n",
    "</div>"
   ]
  },
  {
   "cell_type": "markdown",
   "id": "7acc5833",
   "metadata": {},
   "source": [
    "<h2>Centroides de figuras geométricas simples</h2>"
   ]
  },
  {
   "cell_type": "markdown",
   "id": "85a65945",
   "metadata": {},
   "source": [
    "<div class=\"split\">\n",
    "    <div class=\"izq\"><img src=\"../MEDIA/centr_rect.png\"style=\"width:70%\">\n",
    "     </div>   \n",
    "    <div class=\"dcha\"><img src=\"../MEDIA/centr_tri.png\"style=\"width:70%\">\n",
    "    </div>\n",
    "</div>"
   ]
  },
  {
   "cell_type": "markdown",
   "id": "aaf0e1bf",
   "metadata": {},
   "source": [
    "<div class=\"split\">\n",
    "    <div class=\"izq\"><img src=\"../MEDIA/centr_cuarto_circ.png\"style=\"width:70%\">\n",
    "     </div>   \n",
    "    <div class=\"dcha\"><img src=\"../MEDIA/centr_cuarto_elips.png\"style=\"width:70%\">\n",
    "    </div>\n",
    "</div>"
   ]
  },
  {
   "cell_type": "markdown",
   "id": "aa5b3f0e",
   "metadata": {},
   "source": [
    "<div class=\"texto\">\n",
    "<p>Para cualquier cuerpo compuesto de $i$ elementos con área conocida $A_{_i}$, y  cuyos centros geométricos $(X_{_i},Y_{_i})$ son conocidos:</p>\n",
    "</div>"
   ]
  },
  {
   "cell_type": "markdown",
   "id": "ef3dceb1",
   "metadata": {},
   "source": [
    "<div class=\"split\">\n",
    "    <div class=\"izq\"><img src=\"../MEDIA/centr_comp.png\">\n",
    "     </div>   \n",
    "    <div class=\"dcha\"style=\"width:70%\">\n",
    "        <div class=\"formulas\">\n",
    "            $$\n",
    "            X_{_{centroide}}=\\frac{\\sum_{i=0}^{\\infty}\\left[X_{_i}\\cdot A_{_i}\\right]}{\\sum_{i=0}^{\\infty}\\left[A_{_i}\\right]}\n",
    "            $$\n",
    "        </div>\n",
    "        <div class=\"formulas\">\n",
    "            $$\n",
    "            Y_{_{centroide}}=\\frac{\\sum_{i=0}^{\\infty}\\left[Y_{_i}\\cdot A_{_i}\\right]}{\\sum_{i=0}^{\\infty}\\left[A_{_i}\\right]}\n",
    "            $$\n",
    "        </div>\n",
    "    </div>\n",
    "</div>"
   ]
  },
  {
   "cell_type": "code",
   "execution_count": 13,
   "id": "8d1348c3",
   "metadata": {},
   "outputs": [
    {
     "data": {
      "application/javascript": [
       "window.location=\"Formulas_de_utilidad.ipynb#enunciado\";\n"
      ],
      "text/plain": [
       "<IPython.core.display.Javascript object>"
      ]
     },
     "metadata": {},
     "output_type": "display_data"
    }
   ],
   "source": [
    "%%js\n",
    "window.location=\"Formulas_de_utilidad.ipynb#enunciado\";"
   ]
  },
  {
   "cell_type": "code",
   "execution_count": 15,
   "id": "b1506f1f",
   "metadata": {},
   "outputs": [
    {
     "name": "stdout",
     "output_type": "stream",
     "text": [
      "Requirement already satisfied: jupyter_nbextensions_configurator in c:\\users\\sergio\\anaconda3\\lib\\site-packages (0.4.1)\n",
      "Requirement already satisfied: traitlets in c:\\users\\sergio\\anaconda3\\lib\\site-packages (from jupyter_nbextensions_configurator) (5.0.5)\n",
      "Requirement already satisfied: notebook>=4.0 in c:\\users\\sergio\\anaconda3\\lib\\site-packages (from jupyter_nbextensions_configurator) (6.3.0)\n",
      "Requirement already satisfied: jupyter-contrib-core>=0.3.3 in c:\\users\\sergio\\anaconda3\\lib\\site-packages (from jupyter_nbextensions_configurator) (0.3.3)\n",
      "Requirement already satisfied: pyyaml in c:\\users\\sergio\\anaconda3\\lib\\site-packages (from jupyter_nbextensions_configurator) (5.4.1)\n",
      "Requirement already satisfied: jupyter-core in c:\\users\\sergio\\anaconda3\\lib\\site-packages (from jupyter_nbextensions_configurator) (4.7.1)\n",
      "Requirement already satisfied: tornado in c:\\users\\sergio\\anaconda3\\lib\\site-packages (from jupyter_nbextensions_configurator) (6.1)\n",
      "Requirement already satisfied: setuptools in c:\\users\\sergio\\anaconda3\\lib\\site-packages (from jupyter-contrib-core>=0.3.3->jupyter_nbextensions_configurator) (52.0.0.post20210125)\n",
      "Requirement already satisfied: ipykernel in c:\\users\\sergio\\anaconda3\\lib\\site-packages (from notebook>=4.0->jupyter_nbextensions_configurator) (5.3.4)\n",
      "Requirement already satisfied: ipython-genutils in c:\\users\\sergio\\anaconda3\\lib\\site-packages (from notebook>=4.0->jupyter_nbextensions_configurator) (0.2.0)\n",
      "Requirement already satisfied: terminado>=0.8.3 in c:\\users\\sergio\\anaconda3\\lib\\site-packages (from notebook>=4.0->jupyter_nbextensions_configurator) (0.9.4)\n",
      "Requirement already satisfied: jupyter-client>=5.3.4 in c:\\users\\sergio\\anaconda3\\lib\\site-packages (from notebook>=4.0->jupyter_nbextensions_configurator) (6.1.12)\n",
      "Requirement already satisfied: nbformat in c:\\users\\sergio\\anaconda3\\lib\\site-packages (from notebook>=4.0->jupyter_nbextensions_configurator) (5.1.3)\n",
      "Requirement already satisfied: prometheus-client in c:\\users\\sergio\\anaconda3\\lib\\site-packages (from notebook>=4.0->jupyter_nbextensions_configurator) (0.10.1)\n",
      "Requirement already satisfied: pyzmq>=17 in c:\\users\\sergio\\anaconda3\\lib\\site-packages (from notebook>=4.0->jupyter_nbextensions_configurator) (20.0.0)\n",
      "Requirement already satisfied: Send2Trash>=1.5.0 in c:\\users\\sergio\\anaconda3\\lib\\site-packages (from notebook>=4.0->jupyter_nbextensions_configurator) (1.5.0)\n",
      "Requirement already satisfied: nbconvert in c:\\users\\sergio\\anaconda3\\lib\\site-packages (from notebook>=4.0->jupyter_nbextensions_configurator) (6.0.7)\n",
      "Requirement already satisfied: jinja2 in c:\\users\\sergio\\anaconda3\\lib\\site-packages (from notebook>=4.0->jupyter_nbextensions_configurator) (2.11.3)\n",
      "Requirement already satisfied: argon2-cffi in c:\\users\\sergio\\anaconda3\\lib\\site-packages (from notebook>=4.0->jupyter_nbextensions_configurator) (20.1.0)\n",
      "Requirement already satisfied: python-dateutil>=2.1 in c:\\users\\sergio\\anaconda3\\lib\\site-packages (from jupyter-client>=5.3.4->notebook>=4.0->jupyter_nbextensions_configurator) (2.8.1)\n",
      "Requirement already satisfied: pywin32>=1.0 in c:\\users\\sergio\\anaconda3\\lib\\site-packages (from jupyter-core->jupyter_nbextensions_configurator) (227)\n",
      "Requirement already satisfied: six>=1.5 in c:\\users\\sergio\\anaconda3\\lib\\site-packages (from python-dateutil>=2.1->jupyter-client>=5.3.4->notebook>=4.0->jupyter_nbextensions_configurator) (1.15.0)\n",
      "Requirement already satisfied: pywinpty>=0.5 in c:\\users\\sergio\\anaconda3\\lib\\site-packages (from terminado>=0.8.3->notebook>=4.0->jupyter_nbextensions_configurator) (0.5.7)\n",
      "Requirement already satisfied: cffi>=1.0.0 in c:\\users\\sergio\\anaconda3\\lib\\site-packages (from argon2-cffi->notebook>=4.0->jupyter_nbextensions_configurator) (1.14.5)\n",
      "Requirement already satisfied: pycparser in c:\\users\\sergio\\anaconda3\\lib\\site-packages (from cffi>=1.0.0->argon2-cffi->notebook>=4.0->jupyter_nbextensions_configurator) (2.20)\n",
      "Requirement already satisfied: ipython>=5.0.0 in c:\\users\\sergio\\anaconda3\\lib\\site-packages (from ipykernel->notebook>=4.0->jupyter_nbextensions_configurator) (7.22.0)\n",
      "Requirement already satisfied: colorama in c:\\users\\sergio\\anaconda3\\lib\\site-packages (from ipython>=5.0.0->ipykernel->notebook>=4.0->jupyter_nbextensions_configurator) (0.4.4)\n",
      "Requirement already satisfied: jedi>=0.16 in c:\\users\\sergio\\anaconda3\\lib\\site-packages (from ipython>=5.0.0->ipykernel->notebook>=4.0->jupyter_nbextensions_configurator) (0.17.2)\n",
      "Requirement already satisfied: pygments in c:\\users\\sergio\\anaconda3\\lib\\site-packages (from ipython>=5.0.0->ipykernel->notebook>=4.0->jupyter_nbextensions_configurator) (2.8.1)\n",
      "Requirement already satisfied: prompt-toolkit!=3.0.0,!=3.0.1,<3.1.0,>=2.0.0 in c:\\users\\sergio\\anaconda3\\lib\\site-packages (from ipython>=5.0.0->ipykernel->notebook>=4.0->jupyter_nbextensions_configurator) (3.0.17)\n",
      "Requirement already satisfied: pickleshare in c:\\users\\sergio\\anaconda3\\lib\\site-packages (from ipython>=5.0.0->ipykernel->notebook>=4.0->jupyter_nbextensions_configurator) (0.7.5)\n",
      "Requirement already satisfied: decorator in c:\\users\\sergio\\anaconda3\\lib\\site-packages (from ipython>=5.0.0->ipykernel->notebook>=4.0->jupyter_nbextensions_configurator) (5.0.6)\n",
      "Requirement already satisfied: backcall in c:\\users\\sergio\\anaconda3\\lib\\site-packages (from ipython>=5.0.0->ipykernel->notebook>=4.0->jupyter_nbextensions_configurator) (0.2.0)\n",
      "Requirement already satisfied: parso<0.8.0,>=0.7.0 in c:\\users\\sergio\\anaconda3\\lib\\site-packages (from jedi>=0.16->ipython>=5.0.0->ipykernel->notebook>=4.0->jupyter_nbextensions_configurator) (0.7.0)\n",
      "Requirement already satisfied: wcwidth in c:\\users\\sergio\\anaconda3\\lib\\site-packages (from prompt-toolkit!=3.0.0,!=3.0.1,<3.1.0,>=2.0.0->ipython>=5.0.0->ipykernel->notebook>=4.0->jupyter_nbextensions_configurator) (0.2.5)\n",
      "Requirement already satisfied: MarkupSafe>=0.23 in c:\\users\\sergio\\anaconda3\\lib\\site-packages (from jinja2->notebook>=4.0->jupyter_nbextensions_configurator) (1.1.1)\n",
      "Requirement already satisfied: testpath in c:\\users\\sergio\\anaconda3\\lib\\site-packages (from nbconvert->notebook>=4.0->jupyter_nbextensions_configurator) (0.4.4)\n",
      "Requirement already satisfied: pandocfilters>=1.4.1 in c:\\users\\sergio\\anaconda3\\lib\\site-packages (from nbconvert->notebook>=4.0->jupyter_nbextensions_configurator) (1.4.3)\n",
      "Requirement already satisfied: jupyterlab-pygments in c:\\users\\sergio\\anaconda3\\lib\\site-packages (from nbconvert->notebook>=4.0->jupyter_nbextensions_configurator) (0.1.2)\n",
      "Requirement already satisfied: defusedxml in c:\\users\\sergio\\anaconda3\\lib\\site-packages (from nbconvert->notebook>=4.0->jupyter_nbextensions_configurator) (0.7.1)\n",
      "Requirement already satisfied: nbclient<0.6.0,>=0.5.0 in c:\\users\\sergio\\anaconda3\\lib\\site-packages (from nbconvert->notebook>=4.0->jupyter_nbextensions_configurator) (0.5.3)\n",
      "Requirement already satisfied: bleach in c:\\users\\sergio\\anaconda3\\lib\\site-packages (from nbconvert->notebook>=4.0->jupyter_nbextensions_configurator) (3.3.0)\n",
      "Requirement already satisfied: entrypoints>=0.2.2 in c:\\users\\sergio\\anaconda3\\lib\\site-packages (from nbconvert->notebook>=4.0->jupyter_nbextensions_configurator) (0.3)\n",
      "Requirement already satisfied: mistune<2,>=0.8.1 in c:\\users\\sergio\\anaconda3\\lib\\site-packages (from nbconvert->notebook>=4.0->jupyter_nbextensions_configurator) (0.8.4)\n",
      "Requirement already satisfied: nest-asyncio in c:\\users\\sergio\\anaconda3\\lib\\site-packages (from nbclient<0.6.0,>=0.5.0->nbconvert->notebook>=4.0->jupyter_nbextensions_configurator) (1.5.1)\n",
      "Requirement already satisfied: async-generator in c:\\users\\sergio\\anaconda3\\lib\\site-packages (from nbclient<0.6.0,>=0.5.0->nbconvert->notebook>=4.0->jupyter_nbextensions_configurator) (1.10)\n",
      "Requirement already satisfied: jsonschema!=2.5.0,>=2.4 in c:\\users\\sergio\\anaconda3\\lib\\site-packages (from nbformat->notebook>=4.0->jupyter_nbextensions_configurator) (3.2.0)\n",
      "Requirement already satisfied: attrs>=17.4.0 in c:\\users\\sergio\\anaconda3\\lib\\site-packages (from jsonschema!=2.5.0,>=2.4->nbformat->notebook>=4.0->jupyter_nbextensions_configurator) (20.3.0)\n",
      "Requirement already satisfied: pyrsistent>=0.14.0 in c:\\users\\sergio\\anaconda3\\lib\\site-packages (from jsonschema!=2.5.0,>=2.4->nbformat->notebook>=4.0->jupyter_nbextensions_configurator) (0.17.3)\n",
      "Requirement already satisfied: packaging in c:\\users\\sergio\\anaconda3\\lib\\site-packages (from bleach->nbconvert->notebook>=4.0->jupyter_nbextensions_configurator) (20.9)\n",
      "Requirement already satisfied: webencodings in c:\\users\\sergio\\anaconda3\\lib\\site-packages (from bleach->nbconvert->notebook>=4.0->jupyter_nbextensions_configurator) (0.5.1)\n",
      "Requirement already satisfied: pyparsing>=2.0.2 in c:\\users\\sergio\\anaconda3\\lib\\site-packages (from packaging->bleach->nbconvert->notebook>=4.0->jupyter_nbextensions_configurator) (2.4.7)\n",
      "Note: you may need to restart the kernel to use updated packages.\n"
     ]
    }
   ],
   "source": [
    "pip install jupyter_nbextensions_configurator"
   ]
  }
 ],
 "metadata": {
  "kernelspec": {
   "display_name": "Python 3",
   "language": "python",
   "name": "python3"
  },
  "language_info": {
   "codemirror_mode": {
    "name": "ipython",
    "version": 3
   },
   "file_extension": ".py",
   "mimetype": "text/x-python",
   "name": "python",
   "nbconvert_exporter": "python",
   "pygments_lexer": "ipython3",
   "version": "3.8.8"
  }
 },
 "nbformat": 4,
 "nbformat_minor": 5
}
