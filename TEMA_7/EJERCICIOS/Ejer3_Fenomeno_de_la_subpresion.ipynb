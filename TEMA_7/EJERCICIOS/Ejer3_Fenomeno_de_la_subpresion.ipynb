{
 "cells": [
  {
   "cell_type": "code",
   "execution_count": 1,
   "id": "6647eae5",
   "metadata": {},
   "outputs": [
    {
     "data": {
      "text/html": [
       "\n",
       "<script>\n",
       "code_show=true; \n",
       "function code_toggle() {\n",
       " if (code_show){\n",
       " $('div.input').hide();\n",
       " } else {\n",
       " $('div.input').show();\n",
       " }\n",
       " code_show = !code_show\n",
       "} \n",
       "$( document ).ready(code_toggle);\n",
       "</script>\n",
       "<a href=\"javascript:code_toggle()\">Mostrar/ocultar celdas de código</a>."
      ],
      "text/plain": [
       "<IPython.core.display.HTML object>"
      ]
     },
     "execution_count": 1,
     "metadata": {},
     "output_type": "execute_result"
    }
   ],
   "source": [
    "from IPython.display import HTML\n",
    "HTML('''\n",
    "<script>\n",
    "code_show=true; \n",
    "function code_toggle() {\n",
    " if (code_show){\n",
    " $('div.input').hide();\n",
    " } else {\n",
    " $('div.input').show();\n",
    " }\n",
    " code_show = !code_show\n",
    "} \n",
    "$( document ).ready(code_toggle);\n",
    "</script>\n",
    "<a href=\"javascript:code_toggle()\">Mostrar/ocultar celdas de código</a>.''')"
   ]
  },
  {
   "cell_type": "markdown",
   "id": "7bcb8a08",
   "metadata": {},
   "source": [
    "<div class=\"texto\"id=\"enunciado\">\n",
    "<p>2.38. ¿Qué condición debe satisfacer el ángulo $\\theta$ para que la presa, de la figura, no\n",
    "bascule alrededor del punto $O$?</p>\n",
    "</div>\n"
   ]
  },
  {
   "cell_type": "markdown",
   "id": "d1aa2ac2",
   "metadata": {},
   "source": [
    "<div class=\"split\">\n",
    "    <div class=\"izq\"><img src=\"../MEDIA/2.38.png\" style=\"width:90%\"></div>\n",
    "    <div class=\"dcha\">\n",
    "        <div class=\"texto\">\n",
    "        <p>Se supondrá que la presión sobre la solera de la presa varía linealmente desde un valor máximo en el punto A hasta la presión atmosférica en el punto $O$.</p>\n",
    "            <p>DATOS:</p>\n",
    "            <p>Peso específico relativo del material de la presa: $s_{_{material}}=2,5$.</p>\n",
    "            <p>Altura de agua en la presa: $H=5 m$.</p>\n",
    "            <p>Longitud normal de la presa: $b=50 m$.</p>\n",
    "        </div>\n",
    "    </div>\n",
    "</div>\n"
   ]
  },
  {
   "cell_type": "markdown",
   "id": "b17c8a6a",
   "metadata": {},
   "source": [
    "<div class=\"antesDe\">\n",
    "<ul>\n",
    "    <li><strong>CONCEPTOS PREVIOS</strong></li>\n",
    "    <ul>\n",
    "        <li>CONSECUENCIAS DE LA ECUACIÓN FUNDAMENTAL DE LA HIDROSTÁTICA.</li>\n",
    "        <ul>\n",
    "            <li><i>Las superficies de presión constante (superficies isobáricas) son <strong>horizontales.</strong></i></li>\n",
    "            <li><i><strong>La variación de presión en el interior de un líquido en reposo depende de la diferencia de cota</strong>. Al trabajar con líquidos <strong>suele ser conveniente tomar</strong> el origen de coordenadas en <strong>la superficie libre</strong> (nivel de referencia) y <strong>medir las distancias desde la superficie libre hacia abajo</strong>.</i></li>\n",
    "        </ul>\n",
    "                <li>FUERZAS SOBRE SUPERFICIES PLANAS.</li>\n",
    "        <ul> \n",
    "            <li><i><p><strong>Superficie plana vertical</strong>: La fuerza de presión sobre una superficie plana vertical<strong> es igual a la fuerza de presión ejercida sobre esa superficie.</strong></p>\n",
    "                <p>El módulo de la resultante $(F_{_H})$ <strong>se puede calcular mediante el prisma de presiones, construido sobre la superficie plana. También</strong> se puede calcular <strong>mediante la siguiente expresión: $F_{_H} = P_{_G}\\cdot A$, siendo $P_{_G}$ la presión en el centroide de la superficie </strong>$A$.</p>\n",
    "                </i></li>\n",
    "                <li>FENÓMENO DE LA SUBPRESIÓN.</li>\n",
    "        <ul>\n",
    "        <li><i><p>Si un cuerpo es más denso que el líquido, éste se apoya sobre el fondo. <strong>Si el cuerpo se apoya sobre el fondo por varios puntos</strong>, sin extensión geométrica quedando interpuesta entre ambos una lámina líquida. Entonces <strong>sí es aplicable el Principio de Arquímedes</strong>.</p></i></li>\n",
    "    </ul>\n",
    "        <li>PRINCIPIO DE ARQUÍMEDES.</li>\n",
    "        <ul> \n",
    "            <li><i><strong>“Todo cuerpo cerrado, parcial o totalmente sumergido en un líquido experimenta un empuje ascensional igual al peso del volumen del líquido que desaloja”</strong>. El centro de acción de este empuje ascensional se encuentra en el centro de gravedad del volumen desalojado. $E=\\gamma \\cdot\\forall$, siendo $\\forall$ el volumen del sólido.</i></li>\n",
    "    </ul>     \n",
    "            <li>FUERZAS SOBRE CUERPOS CERRADOS.</li>\n",
    "        <ul> \n",
    "            <li><i><strong>Componente horizontal resultante</strong>: <strong> La componente horizontal</strong> de la fuerza <strong>es nula</strong>, ya que las fuerzas horizontales se van anulando dos a dos.</i></li>\n",
    "    </ul>          \n",
    "<div>\n"
   ]
  },
  {
   "cell_type": "markdown",
   "id": "e2f185e0",
   "metadata": {},
   "source": [
    "<div class=\"split\">\n",
    "    <div class=\"izq\"><img src=\"../MEDIA/2.38.1.png\" style=\"width:90%\"></div>\n",
    "    <div class=\"dcha\">\n",
    "        <div class=\"texto\">\n",
    "            <p>En este ejercicio tenemos que tener en cuenta las 3 fuerzas presentes y realizar un balance de momentos en el punto O con la condición de equilibrio.</p>\n",
    "            <p> Estas 3 fuerzas son, la componente horizontal de la presión hidrostática sobre la presa, la subpresión que ejerce la presión hidrostática sobre la presa, y el peso de la presa.</p>\n",
    "</div>\n",
    "    </div>\n",
    "</div>\n",
    "\n",
    "\n",
    "<div class=\"texto\">\n",
    "<p>Primero de todo calcularemos el valor de cada una de estas fuerzas.</p>\n",
    "</div>"
   ]
  },
  {
   "cell_type": "markdown",
   "id": "1a1a4e58",
   "metadata": {},
   "source": [
    "<div class=\"texto\">\n",
    "    <p> <strong>Componente horizontal de la presión hidrostática sobre la presa.</strong></p>\n",
    "</div>"
   ]
  },
  {
   "cell_type": "markdown",
   "id": "a5ef154d",
   "metadata": {},
   "source": [
    "<div class=\"texto\">\n",
    "<p>Para calcular la fuerza horizontal que ejerce el fluido acotaremos el prisma de presiones.</p>\n",
    "</div>\n",
    "<div class=\"split\">\n",
    "    <div class=\"izq\"><img src=\"../MEDIA/2.38.2.png\" style=\"width:90%\"></div>\n",
    "    <div class=\"dcha\">\n",
    "        <div class=\"texto\">\n",
    "            <p>El volumen del prisma resulta:</p>\n",
    "        </div>  \n",
    "        <div class=\"formulas\">\n",
    "        $$ \n",
    "        F_{_{horizontal}}=\\forall=\\frac{H^{^{2}}\\gamma_{_1}}{2}\\cdot b\n",
    "        $$\n",
    "        </div>\n",
    "    </div>\n",
    "</div>"
   ]
  },
  {
   "cell_type": "markdown",
   "id": "952c34c0",
   "metadata": {},
   "source": [
    "<div><img src=\"../MEDIA/2.38.3.png\" style=\"width:60%\"></div>"
   ]
  },
  {
   "cell_type": "markdown",
   "id": "53ddb5c4",
   "metadata": {},
   "source": [
    "<div class=\"texto\">\n",
    "    <p> <strong>Fuerza vertical originada por la subpresión.</strong></p>\n",
    "</div>"
   ]
  },
  {
   "cell_type": "markdown",
   "id": "2290e212",
   "metadata": {},
   "source": [
    "<div class=\"texto\">\n",
    "    <p>Según el enunciado se supone que la presión sobre la solera de la presa varía linealmente desde un valor máximo en el punto A hasta la presión atmosférica (0 de presión relativa) en el punto $O$.</p>\n",
    "    <p>Si dibujamos esta superficie libre imaginaria vemos que coincide con el perfil de la presa.</p>\n",
    "</div>\n",
    "<div class=\"split\">\n",
    "    <div class=\"izq\"><img src=\"../MEDIA/2.38.4.png\" style=\"width:90%\"></div>\n",
    "    <div class=\"dcha\">\n",
    "        <div class=\"texto\">\n",
    "            <p>Si calculamos el volumen del prisma:</p>\n",
    "        </div>  \n",
    "        <div class=\"formulas\">\n",
    "        $$ \n",
    "        F_{_{subpresión}}=\\forall\\cdot \\gamma_{_1}=\\frac{H^{^{2}}\\cdot \\tan{\\theta}\\cdot \\gamma_{_1}}{2}\\cdot b\n",
    "        $$\n",
    "        </div>\n",
    "    </div>\n",
    "</div>"
   ]
  },
  {
   "cell_type": "markdown",
   "id": "7f4cf45c",
   "metadata": {},
   "source": [
    "<div><img src=\"../MEDIA/2.38.5.png\" style=\"width:30%\"></div>"
   ]
  },
  {
   "cell_type": "markdown",
   "id": "3a9b0491",
   "metadata": {},
   "source": [
    "<div class=\"texto\">\n",
    "    <p> <strong>Peso de la presa $W$.</strong></p>\n",
    "</div>"
   ]
  },
  {
   "cell_type": "markdown",
   "id": "ba1d83b5",
   "metadata": {},
   "source": [
    "<div class=\"texto\">\n",
    "    <p>Con el volumen de la presa y el peso específico podemos calcular el peso de esta.</p>\n",
    "</div>\n",
    "<div class=\"split\">\n",
    "    <div class=\"izq\"><img src=\"../MEDIA/2.38.6.png\" style=\"width:90%\"></div>\n",
    "    <div class=\"dcha\">\n",
    "        <div class=\"texto\">\n",
    "            <p>Calculamos el volumen de la presa.</p>\n",
    "        </div>  \n",
    "        <div class=\"formulas\">\n",
    "        $$ \n",
    "        \\forall_{_{presa}}=\\frac{H^{^{2}}\\cdot \\tan{\\theta}}{2}\\cdot b\n",
    "        $$\n",
    "        </div>\n",
    "                <div class=\"texto\">\n",
    "            <p>Luego el peso será:</p>\n",
    "        </div>  \n",
    "        <div class=\"formulas\">\n",
    "        $$ \n",
    "        W=\\forall_{_{presa}}\\cdot \\gamma_{_{material}}\n",
    "        $$\n",
    "        </div>\n",
    "        <div class=\"formulas\">\n",
    "        $$ \n",
    "        W=\\frac{H^{^{2}}\\cdot \\tan{\\theta}}{2}\\cdot b \\cdot \\gamma_{_{material}}\n",
    "        $$\n",
    "        </div>\n",
    "    </div>\n",
    "</div>"
   ]
  },
  {
   "cell_type": "markdown",
   "id": "39b8ed82",
   "metadata": {},
   "source": [
    "<div class=\"texto\">\n",
    "    <p>Una vez calculados los módulos de las fuerzas, calculamos los brazos de los momentos.</p>\n",
    "</div>"
   ]
  },
  {
   "cell_type": "markdown",
   "id": "c44d34ee",
   "metadata": {},
   "source": [
    "<div class=\"split\">\n",
    "    <div class=\"izq\"><img src=\"../MEDIA/2.38.7.png\" style=\"width:90%\"></div>\n",
    "</div>"
   ]
  },
  {
   "cell_type": "markdown",
   "id": "082840ab",
   "metadata": {},
   "source": [
    "<div class=\"texto\">\n",
    "    <p> <strong>Componente horizontal de la presión hidrostática sobre la presa.</strong></p>\n",
    "</div>"
   ]
  },
  {
   "cell_type": "markdown",
   "id": "24c8f18a",
   "metadata": {},
   "source": [
    "<div class=\"texto\">\n",
    "    <p>Partiendo del centroide de un triángulo:</p>\n",
    "</div>\n",
    "<div class=\"split\">\n",
    "    <div class=\"izq\"><img src=\"../MEDIA/2.38.2.png\"></div>\n",
    "    <div class=\"dcha\"><img src=\"../../MEDIA/centr_tri.png\" style=\"width:90%\"></div>\n",
    "</div>\n",
    "<div class=\"formulas\">\n",
    "$$ \n",
    "Entonces\\ \\rightarrow\\ d_{_{F_{_H}}}=\\frac{H}{3}\n",
    "$$\n",
    "</div>"
   ]
  },
  {
   "cell_type": "markdown",
   "id": "1ae76939",
   "metadata": {},
   "source": [
    "<div class=\"texto\">\n",
    "    <p> <strong>Fuerza vertical originada por la subpresión.</strong></p>\n",
    "</div>"
   ]
  },
  {
   "cell_type": "markdown",
   "id": "81f050c9",
   "metadata": {},
   "source": [
    "<div class=\"texto\">\n",
    "    <p>Partiendo del centroide de un triángulo:</p>\n",
    "</div>\n",
    "<div class=\"split\">\n",
    "    <div class=\"izq\"><img src=\"../MEDIA/2.38.4.png\"></div>\n",
    "    <div class=\"dcha\"><img src=\"../../MEDIA/centr_tri.2.png\" style=\"width:90%\"></div>\n",
    "</div>\n",
    "<div class=\"formulas\">\n",
    "$$ \n",
    "Entonces\\ \\rightarrow\\ d_{_{subpresión}}=\\frac{2H\\cdot \\tan{\\theta}}{3}\n",
    "$$\n",
    "</div>"
   ]
  },
  {
   "cell_type": "markdown",
   "id": "eed661b2",
   "metadata": {},
   "source": [
    "<div class=\"texto\">\n",
    "    <p> <strong>Peso de la presa $W$.</strong></p>\n",
    "</div>"
   ]
  },
  {
   "cell_type": "markdown",
   "id": "b654beb2",
   "metadata": {},
   "source": [
    "<div class=\"texto\">\n",
    "    <p>Partiendo del centroide de un triángulo:</p>\n",
    "</div>\n",
    "<div class=\"split\">\n",
    "    <div class=\"izq\"><img src=\"../MEDIA/2.38.6.png\"></div>\n",
    "    <div class=\"dcha\"><img src=\"../../MEDIA/centr_tri.2.png\" style=\"width:90%\"></div>\n",
    "</div>\n",
    "<div class=\"formulas\">\n",
    "$$ \n",
    "Entonces\\ \\rightarrow\\ d_{_{W}}=\\frac{2H\\cdot \\tan{\\theta}}{3}\n",
    "$$\n",
    "</div>"
   ]
  },
  {
   "cell_type": "markdown",
   "id": "aeef05d2",
   "metadata": {},
   "source": [
    "<div class=\"texto\">\n",
    "    <p>Luego este es el balance de momentos:</p>\n",
    "</div>\n",
    "<div class=\"split\">\n",
    "    <div class=\"izq\"><img src=\"../MEDIA/2.38.7.png\" style=\"width:90%\"></div>\n",
    "    <div class=\"dcha\">\n",
    "        <div class=\"texto\">\n",
    "            <p>Donde:</p>\n",
    "        </div>\n",
    "        <div class=\"formulas\">\n",
    "            $$ \n",
    "            F_{_{horizontal}}=\\frac{H^{^{2}}\\gamma_{_1}}{2}\\cdot b\\ ;\\ d_{_{F_{_H}}}=\\frac{H}{3} \n",
    "            $$\n",
    "        </div>\n",
    "        <div class=\"formulas\">\n",
    "            $$ \n",
    "            F_{_{subpresión}}=\\frac{H^{^{2}}\\cdot \\tan{\\theta}\\cdot \\gamma_{_1}}{2}\\cdot b\\ ;\\ \n",
    "            $$\n",
    "        </div>\n",
    "        <div class=\"formulas\">\n",
    "            $$ \n",
    "            d_{_{subpresión}}=\\frac{2H\\cdot \\tan{\\theta}}{3}\n",
    "            $$\n",
    "        </div> \n",
    "        <div class=\"formulas\">\n",
    "            $$ \n",
    "            W=\\frac{H^{^{2}}\\cdot \\tan{\\theta}}{2}\\cdot b \\cdot \\gamma_{_{material}}\\ ;\\ \n",
    "            $$\n",
    "        </div>\n",
    "        <div class=\"formulas\">\n",
    "            $$ \n",
    "            d_{_{W}}=\\frac{2H\\cdot \\tan{\\theta}}{3}\n",
    "            $$\n",
    "        </div>\n",
    "    </div>\n",
    "</div>"
   ]
  },
  {
   "cell_type": "markdown",
   "id": "1e541cad",
   "metadata": {},
   "source": [
    "<div class=\"texto\">\n",
    "    <p>Para que la presa no bascule:</p>\n",
    "</div>"
   ]
  },
  {
   "cell_type": "markdown",
   "id": "bbdbdc07",
   "metadata": {},
   "source": [
    "<div class=\"formulas\">\n",
    "$$\n",
    "\\sum_{0}^{\\infty}M_{_O}=0\\ \n",
    "$$\n",
    "</div>  "
   ]
  },
  {
   "cell_type": "markdown",
   "id": "a72f25c6",
   "metadata": {},
   "source": [
    "<div class=\"texto\">\n",
    "    <p>Luego:</p>\n",
    "</div>"
   ]
  },
  {
   "cell_type": "markdown",
   "id": "f5d4b08c",
   "metadata": {},
   "source": [
    "<div class=\"formulas\">\n",
    "    $$ \n",
    "    F_{_{horizontal}}\\cdot d_{_{F_{_H}}} + F_{_{subpresión}}\\cdot  d_{_{subpresión}}= W\\cdot d_{_{W}}\n",
    "    $$\n",
    "</div>"
   ]
  },
  {
   "cell_type": "markdown",
   "id": "cbc40853",
   "metadata": {},
   "source": [
    "<div class=\"formulas\">\n",
    "    $$ \n",
    "    \\frac{H^{^{2}}\\gamma_{_1}\\cdot b}{2}\\cdot \\frac{H}{3} +\\frac{H^{^{2}}\\cdot \\tan{\\theta}\\cdot \\gamma_{_1}\\cdot b}{2}\\cdot \\frac{2H\\cdot \\tan{\\theta}}{3}= \\frac{H^{^{2}}\\cdot \\tan{(\\theta)}\\cdot b \\cdot \\gamma_{_{material}}}{2}\\cdot \\frac{2H\\cdot \\tan{(\\theta)}}{3}\n",
    "    $$\n",
    "</div>"
   ]
  },
  {
   "cell_type": "markdown",
   "id": "c22ba295",
   "metadata": {},
   "source": [
    "<div class=\"formulas\">\n",
    "    $$ \n",
    "    \\frac{H^{^{3}}\\gamma_{_1}\\cdot b}{6} +\\frac{2H^{^{3}}\\cdot \\tan^{^2}{(\\theta)}\\cdot \\gamma_{_1}\\cdot b}{6}= \\frac{2H^{^{3}}\\cdot \\tan^{^2}{(\\theta)}\\cdot b \\cdot \\gamma_{_{material}}}{6}\n",
    "    $$\n",
    "</div>"
   ]
  },
  {
   "cell_type": "markdown",
   "id": "c498d456",
   "metadata": {},
   "source": [
    "<div class=\"texto\">\n",
    "    <p>Simplificamos $\\frac{H^{^{3}}\\cdot b}{6}$ y pasamos el segundo término a la derecha:</p>\n",
    "</div>"
   ]
  },
  {
   "cell_type": "markdown",
   "id": "55c3db74",
   "metadata": {},
   "source": [
    "<div class=\"formulas\">\n",
    "    $$ \n",
    "    \\gamma_{_1} = 2\\tan^{^2}{(\\theta)}\\cdot \\gamma_{_{material}}-2\\tan^{^2}{(\\theta)}\\cdot \\gamma_{_1}= 2\\tan^{^2}{(\\theta)}\\cdot \\left(\\gamma_{_{material}}- \\gamma_{_1}\\right)\n",
    "    $$\n",
    "</div>"
   ]
  },
  {
   "cell_type": "markdown",
   "id": "5f3367b9",
   "metadata": {},
   "source": [
    "<div class=\"formulas\">\n",
    "    $$ \n",
    "    \\tan^{^2}{(\\theta)}=\\frac{\\gamma_{_1}}{2\\cdot \\left(\\gamma_{_{material}}- \\gamma_{_1}\\right)} \\rightarrow \\theta=\\arctan{\\sqrt{\\frac{\\gamma_{_1}}{2\\cdot \\left(\\gamma_{_{material}}- \\gamma_{_1}\\right)}}}\n",
    "    $$\n",
    "</div>"
   ]
  },
  {
   "cell_type": "markdown",
   "id": "d26c07ae",
   "metadata": {},
   "source": [
    "<div class=\"texto\">\n",
    "    <p>Siendo:</p>\n",
    "</div>\n",
    "<div class=\"formulas\">\n",
    "    $$ \n",
    "    s_{_{sustancia}}=\\frac{\\gamma_{_{sustancia}}}{\\gamma_{_{patron}}}\\rightarrow\\gamma_{_{material}}=s_{_{material}}\\cdot \\gamma_{_{agua}}\\ ;\\ \\gamma_{_{1}}=s_{_{1}}\\cdot \\gamma_{_{agua}}\n",
    "    $$\n",
    "</div>"
   ]
  },
  {
   "cell_type": "markdown",
   "id": "cbb9d8f4",
   "metadata": {},
   "source": [
    "<div class=\"formulas\">\n",
    "    $$ \n",
    "    \\theta=\\arctan{\\sqrt{\\frac{s_{_{1}}\\cdot \\gamma_{_{agua}}}{2\\cdot \\left(s_{_{material}}\\cdot \\gamma_{_{agua}}- s_{_{1}}\\cdot \\gamma_{_{agua}}\\right)}}}=\\arctan{\\sqrt{\\frac{s_{_{1}}}{2\\cdot \\left(s_{_{material}}- s_{_{1}}\\right)}}}\n",
    "    $$\n",
    "</div>"
   ]
  },
  {
   "cell_type": "code",
   "execution_count": 2,
   "id": "d51fe732",
   "metadata": {},
   "outputs": [
    {
     "data": {
      "text/html": [
       "<style>\n",
       "    .widget-label { width: 30ex !important;text-align:left !important; }\n",
       "</style>"
      ],
      "text/plain": [
       "<IPython.core.display.HTML object>"
      ]
     },
     "metadata": {},
     "output_type": "display_data"
    },
    {
     "data": {
      "application/vnd.jupyter.widget-view+json": {
       "model_id": "f081538d36884b75aff9a4173fb6527e",
       "version_major": 2,
       "version_minor": 0
      },
      "text/plain": [
       "interactive(children=(Text(value='2.5', description='s_material'), Text(value='1', description='s_1'), Output(…"
      ]
     },
     "metadata": {},
     "output_type": "display_data"
    }
   ],
   "source": [
    "from __future__ import print_function\n",
    "from termcolor import colored\n",
    "from ipywidgets import interact, interactive, fixed, interact_manual\n",
    "from IPython.display import HTML, display\n",
    "import ipywidgets as widgets\n",
    "import math\n",
    "\n",
    "def f(s_material, s_1):\n",
    "    try:\n",
    "        fs_material=float(s_material)\n",
    "        fs_1=float(s_1)\n",
    "    except:\n",
    "        print( colored('Define un valor válido para las variables','red') )\n",
    "    else:    \n",
    "        try:\n",
    "            theta=round(180/math.pi*math.atan(math.sqrt(fs_1/(2*(fs_material-fs_1)))),2)\n",
    "        except:\n",
    "            print( colored('s_1 < s_material para que exista solución','red') )\n",
    "        else:\n",
    "            print(\"Pulsa para actualizar los campos de texto\")        \n",
    "            return theta\n",
    "\n",
    "\n",
    "f2_38 = interactive(f,s_material=\"2.5\",s_1=\"1\")\n",
    "\n",
    "display(HTML('''<style>\n",
    "    .widget-label { width: 30ex !important;text-align:left !important; }\n",
    "</style>'''))\n",
    "\n",
    "display(f2_38)\n",
    "\n",
    "f2_38.children[0].description = '$s_{_{material}}$'\n",
    "f2_38.children[1].description = '$s_{_{1}}$'\n"
   ]
  },
  {
   "cell_type": "code",
   "execution_count": 3,
   "id": "4dbd337b",
   "metadata": {},
   "outputs": [
    {
     "data": {
      "text/html": [
       "\n",
       "<button onclick=\"ejecutar(35,39)\">Actualizar campos de texto</button>\n",
       "<button onclick=\"ejecutar(33,34)\">Abrir/reiniciar cuadro de variables</button>\n",
       "<script>function ejecutar(desde, hasta){\n",
       "    for(i = desde; i < hasta; i++)\n",
       "Jupyter.notebook.execute_cells([i])\n",
       "}</script>\n"
      ],
      "text/plain": [
       "<IPython.core.display.HTML object>"
      ]
     },
     "execution_count": 3,
     "metadata": {},
     "output_type": "execute_result"
    }
   ],
   "source": [
    "from IPython.display import HTML\n",
    "HTML('''\n",
    "<button onclick=\"ejecutar(35,39)\">Actualizar campos de texto</button>\n",
    "<button onclick=\"ejecutar(33,34)\">Abrir/reiniciar cuadro de variables</button>\n",
    "<script>function ejecutar(desde, hasta){\n",
    "    for(i = desde; i < hasta; i++)\n",
    "Jupyter.notebook.execute_cells([i])\n",
    "}</script>\n",
    "''')"
   ]
  },
  {
   "cell_type": "code",
   "execution_count": 15,
   "id": "01dc6408",
   "metadata": {},
   "outputs": [],
   "source": [
    "from IPython.display import Markdown as md\n",
    "\n",
    "try:\n",
    "    s_material=float(f2_38.children[0].value)\n",
    "    s_1=float(f2_38.children[1].value)\n",
    "    theta=float(f2_38.result)\n",
    "\n",
    "except:\n",
    "    print(colored(\"Define un valor válido para las variables\",\"red\"))\n",
    "\n",
    "\n",
    "\n",
    "\n"
   ]
  },
  {
   "cell_type": "markdown",
   "id": "30de1f75",
   "metadata": {},
   "source": [
    "<div class=\"texto\">\n",
    "    <p>Introducimos los datos:</p>\n",
    "</div>"
   ]
  },
  {
   "cell_type": "markdown",
   "id": "51c5c7f7",
   "metadata": {},
   "source": [
    "<div class=\"formulas\">\n",
    "    $$ \n",
    "    \\theta=\\arctan{\\sqrt{\\frac{s_{_{1}}}{2\\cdot \\left(s_{_{material}}- s_{_{1}}\\right)}}}\n",
    "    $$\n",
    "</div>"
   ]
  },
  {
   "cell_type": "code",
   "execution_count": 16,
   "id": "97fb146b",
   "metadata": {},
   "outputs": [
    {
     "data": {
      "text/markdown": [
       "$$ theta = arctan\\sqrt(2.5/[2+(2.5-2.5)])=90.0º$$"
      ],
      "text/plain": [
       "<IPython.core.display.Markdown object>"
      ]
     },
     "execution_count": 16,
     "metadata": {},
     "output_type": "execute_result"
    }
   ],
   "source": [
    "from IPython.display import Markdown as md\n",
    "md('$$ theta = arctan\\sqrt(%.1f/[2+(%.1f-%.1f)])=%.1fº$$'%\n",
    "   (s_1, s_material, s_1, theta))"
   ]
  },
  {
   "cell_type": "markdown",
   "id": "08da5b40",
   "metadata": {},
   "source": [
    "[Volver al enunciado.](#enunciado)"
   ]
  },
  {
   "cell_type": "code",
   "execution_count": 6,
   "id": "f822aa15",
   "metadata": {},
   "outputs": [
    {
     "data": {
      "text/html": [
       "\n",
       "<a href=\"javascript:code_toggle()\">Mostrar/ocultar celdas de código</a>."
      ],
      "text/plain": [
       "<IPython.core.display.HTML object>"
      ]
     },
     "execution_count": 6,
     "metadata": {},
     "output_type": "execute_result"
    }
   ],
   "source": [
    "from IPython.display import HTML\n",
    "HTML('''\n",
    "<a href=\"javascript:code_toggle()\">Mostrar/ocultar celdas de código</a>.''')\n"
   ]
  },
  {
   "cell_type": "markdown",
   "id": "3f623a1d",
   "metadata": {},
   "source": [
    "<div class=\"antesDe texto\">\n",
    "    <div class=\"texto\"><strong>Analizando el resultado</strong>\n",
    "        <p></p>\n",
    "    </div>\n",
    "<div class=\"formulas\">\n",
    "    $$ \n",
    "    \\theta=\\arctan{\\sqrt{\\frac{s_{_{1}}}{2\\cdot \\left(s_{_{material}}- s_{_{1}}\\right)}}}\n",
    "    $$\n",
    "</div>\n",
    "    <div class=\"texto\">    \n",
    "Como se puede extraer de la ecuación final, el resultado es independiente de la longitud de la presa $b$. Esto es debido a que la sección propuesta es uniforme para todo el tramo de la presa.\n",
    "    </div>\n",
    "    <div class=\"texto\">    \n",
    "También se puede observar que no aparece el parámetro $H$, quiere decir, que el resultado no depende de la altura de la presa. Esto en realidad solo se da para esta solución en particular, debido a que la altura del fluido y la altura de la presa eran la misma. De cualquier forma, es un resultado representativo ya que se trata de la peor situación posible. En caso de que la altura del fluido hubiese sido menor, tanto $F_{_H}$ como $F_{_{subpresión}}$ serían menores, causando menor momento, siendo suficiente el ángulo $\\theta$ obtenido para cumplir la condición impuesta de no bascular.\n",
    "    </div>\n",
    "</div>\n",
    " "
   ]
  },
  {
   "cell_type": "code",
   "execution_count": 1,
   "id": "6358f67b",
   "metadata": {},
   "outputs": [
    {
     "data": {
      "text/html": [
       "\n",
       "<script>\n",
       "window.location=\"Ejer3_Fenomeno_de_la_subpresion.ipynb#enunciado\";\n",
       "</script>"
      ],
      "text/plain": [
       "<IPython.core.display.HTML object>"
      ]
     },
     "execution_count": 1,
     "metadata": {},
     "output_type": "execute_result"
    }
   ],
   "source": [
    "from IPython.display import HTML\n",
    "HTML('''\n",
    "<script>\n",
    "window.location=\"Ejer3_Fenomeno_de_la_subpresion.ipynb#enunciado\";\n",
    "</script>''')"
   ]
  }
 ],
 "metadata": {
  "kernelspec": {
   "display_name": "Python 3",
   "language": "python",
   "name": "python3"
  },
  "language_info": {
   "codemirror_mode": {
    "name": "ipython",
    "version": 3
   },
   "file_extension": ".py",
   "mimetype": "text/x-python",
   "name": "python",
   "nbconvert_exporter": "python",
   "pygments_lexer": "ipython3",
   "version": "3.8.8"
  },
  "widgets": {
   "application/vnd.jupyter.widget-state+json": {
    "state": {
     "5079a6c825b44cfc9a1f4e8dd78d4887": {
      "model_module": "@jupyter-widgets/controls",
      "model_module_version": "1.5.0",
      "model_name": "DescriptionStyleModel",
      "state": {
       "description_width": ""
      }
     },
     "519ef6f620aa440dbcb9b9940d47de35": {
      "model_module": "@jupyter-widgets/controls",
      "model_module_version": "1.5.0",
      "model_name": "VBoxModel",
      "state": {
       "_dom_classes": [
        "widget-interact"
       ],
       "children": [
        "IPY_MODEL_79c8155e97914806802f3aac544250ae",
        "IPY_MODEL_c9fb7ac7284a40328430e2896f741a67",
        "IPY_MODEL_f81b5b6f04be4a8d9ee6bc58d78ac586"
       ],
       "layout": "IPY_MODEL_9721fb5fd7414a358fa966cb1b857b00"
      }
     },
     "627b724e4c8b4e8487b1e27c5e6417ce": {
      "model_module": "@jupyter-widgets/base",
      "model_module_version": "1.2.0",
      "model_name": "LayoutModel",
      "state": {}
     },
     "79c8155e97914806802f3aac544250ae": {
      "model_module": "@jupyter-widgets/controls",
      "model_module_version": "1.5.0",
      "model_name": "TextModel",
      "state": {
       "description": "s_material",
       "layout": "IPY_MODEL_b7eb9251a8f242d3a2e8d28c042f650c",
       "style": "IPY_MODEL_5079a6c825b44cfc9a1f4e8dd78d4887",
       "value": "2.5"
      }
     },
     "9721fb5fd7414a358fa966cb1b857b00": {
      "model_module": "@jupyter-widgets/base",
      "model_module_version": "1.2.0",
      "model_name": "LayoutModel",
      "state": {}
     },
     "b7eb9251a8f242d3a2e8d28c042f650c": {
      "model_module": "@jupyter-widgets/base",
      "model_module_version": "1.2.0",
      "model_name": "LayoutModel",
      "state": {}
     },
     "c9fb7ac7284a40328430e2896f741a67": {
      "model_module": "@jupyter-widgets/controls",
      "model_module_version": "1.5.0",
      "model_name": "TextModel",
      "state": {
       "description": "s_1",
       "layout": "IPY_MODEL_db66816a30394ddd8f92458b4d528ef4",
       "style": "IPY_MODEL_f6749ce5e513421c8e8ae61f53867b93",
       "value": "1"
      }
     },
     "db66816a30394ddd8f92458b4d528ef4": {
      "model_module": "@jupyter-widgets/base",
      "model_module_version": "1.2.0",
      "model_name": "LayoutModel",
      "state": {}
     },
     "f6749ce5e513421c8e8ae61f53867b93": {
      "model_module": "@jupyter-widgets/controls",
      "model_module_version": "1.5.0",
      "model_name": "DescriptionStyleModel",
      "state": {
       "description_width": ""
      }
     },
     "f81b5b6f04be4a8d9ee6bc58d78ac586": {
      "model_module": "@jupyter-widgets/output",
      "model_module_version": "1.0.0",
      "model_name": "OutputModel",
      "state": {
       "layout": "IPY_MODEL_627b724e4c8b4e8487b1e27c5e6417ce"
      }
     }
    },
    "version_major": 2,
    "version_minor": 0
   }
  }
 },
 "nbformat": 4,
 "nbformat_minor": 5
}
