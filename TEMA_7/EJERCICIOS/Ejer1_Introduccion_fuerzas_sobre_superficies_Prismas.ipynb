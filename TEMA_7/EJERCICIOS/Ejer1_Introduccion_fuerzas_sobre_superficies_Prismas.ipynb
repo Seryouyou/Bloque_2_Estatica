{
 "cells": [
  {
   "cell_type": "code",
   "execution_count": 1,
   "id": "f2285dd7",
   "metadata": {},
   "outputs": [
    {
     "data": {
      "text/html": [
       "\n",
       "<script>\n",
       "code_show=true; \n",
       "function code_toggle() {\n",
       " if (code_show){\n",
       " $('div.input').hide();\n",
       " } else {\n",
       " $('div.input').show();\n",
       " }\n",
       " code_show = !code_show\n",
       "} \n",
       "$( document ).ready(code_toggle);\n",
       "</script>\n",
       "<a href=\"javascript:code_toggle()\">Mostrar/ocultar celdas de código</a>."
      ],
      "text/plain": [
       "<IPython.core.display.HTML object>"
      ]
     },
     "execution_count": 1,
     "metadata": {},
     "output_type": "execute_result"
    }
   ],
   "source": [
    "from IPython.display import HTML\n",
    "HTML('''\n",
    "<script>\n",
    "code_show=true; \n",
    "function code_toggle() {\n",
    " if (code_show){\n",
    " $('div.input').hide();\n",
    " } else {\n",
    " $('div.input').show();\n",
    " }\n",
    " code_show = !code_show\n",
    "} \n",
    "$( document ).ready(code_toggle);\n",
    "</script>\n",
    "<a href=\"javascript:code_toggle()\">Mostrar/ocultar celdas de código</a>.''')"
   ]
  },
  {
   "cell_type": "markdown",
   "id": "7c7cf6eb",
   "metadata": {},
   "source": [
    "<div class=\"texto\"id=\"enunciado\">\n",
    "<p>2.58. Tomando como base las figuras que se adjuntan, se pide:</p>\n",
    "</div>"
   ]
  },
  {
   "cell_type": "markdown",
   "id": "41c0092d",
   "metadata": {},
   "source": [
    "<div class=\"texto\">\n",
    "    \n",
    "Dibujar los prismas de presiones correspondientes a las fuerzas hidrostáticas sobre las compuertas.\n",
    "\n",
    "    \n",
    "</div>\n"
   ]
  },
  {
   "cell_type": "markdown",
   "id": "31486690",
   "metadata": {},
   "source": [
    "<div><img src=\"../MEDIA/2.58.png\" ></div>"
   ]
  },
  {
   "cell_type": "markdown",
   "id": "21064eda",
   "metadata": {},
   "source": [
    "<div class=\"antesDe\">\n",
    "<ul>\n",
    "    <li><strong>CONCEPTOS PREVIOS</strong></li>\n",
    "    <ul>\n",
    "        <li>CONSECUENCIAS DE LA ECUACIÓN FUNDAMENTAL DE LA HIDROSTÁTICA.</li>\n",
    "        <ul>\n",
    "            <li><i>Las superficies de presión constante (superficies isobáricas) son <strong>horizontales.</strong></i></li>\n",
    "            <li><i><strong>La variación de presión en el interior de un líquido en reposo depende de la diferencia de cota</strong>. Al trabajar con líquidos <strong>suele ser conveniente tomar</strong> el origen de coordenadas en <strong>la superficie libre</strong> (nivel de referencia) y <strong>medir las distancias desde la superficie libre hacia abajo</strong>.</i></li>\n",
    "        </ul>\n",
    "        <li>EFECTO DE LA PRESIÓN ATMOSFÉRICA EN EL CALCULO DE LAS FUERZAS.</li>\n",
    "        <ul> \n",
    "            <li><i>Cuando el lado opuesto de la superficie está <strong>en contacto con la atmósfera</strong>, la presión atmosférica ejerce una fuerza sobre la superficie igual al producto de la presión atmosférica $p_{_{atm}}$. En el lado del líquido también actúa esa fuerza debida a la presión atmosférica. </i></li>\n",
    "            <li><i><strong>Por tanto, en el cálculo de las fuerzas hidrostáticas se trabajará con presiones manométricas o relativas.</strong></i></li>\n",
    "         </ul>\n",
    "                <li>ESCALAS DE PRESIÓN. PRESIÓN ABSOLUTA Y PRESIÓN MANOMÉTRICA.</li>\n",
    "        <ul> \n",
    "            <li><p class=\"formulas\">$P_{_{abs}}= P_{_{atm}}+ P_{_{man}}$<p/></li>            \n",
    "            <li><i>La diferencia entre las dos escalas es el origen que se toma como referencia para medir la presión. Para la <strong>presión absoluta</strong> el origen es el <strong>VACÍO</strong>. Para la <strong>presión manométrica</strong> el origen es <strong>la presión de la atmósfera local</strong>.</i></li>\n",
    "            <li><i><strong>NO SE PUEDEN MEZCLAR AMBAS ESCALAS</strong></i></li>\n",
    "         </ul>\n",
    "                <li>FUERZAS SOBRE SUPERFICIES PLANAS.</li>\n",
    "        <ul> \n",
    "            <li><i><p><strong>Superficie plana vertical</strong>: La fuerza de presión sobre una superficie plana vertical<strong> es igual a la fuerza de presión ejercida sobre esa superficie.</strong></p>\n",
    "                <p>El módulo de la resultante $(F_{_H})$ <strong>se puede calcular mediante el prisma de presiones, construido sobre la superficie plana. También</strong> se puede calcular <strong>mediante la siguiente expresión: $F_{_H} = P_{_G}\\cdot A$, siendo $P_{_G}$ la presión en el centroide de la superficie </strong>$A$.</p>\n",
    "                </i></li>\n",
    "            <li><i><strong>Superficie plana horizontal</strong>: el módulo de la fuerza de presión sobre una superficie plana horizontal <strong>es igual al peso del volumen de líquido</strong> $\\forall$ (real o imaginario) <strong>comprendido entre la superficie plana y la superficie horizontal de presión cero del líquido</strong>.</i>$F_{_V}=\\gamma \\cdot\\forall$</li>         </ul> \n",
    "        <li>FUERZAS SOBRE SUPERFICIES PLANAS INCLINADAS.</li>\n",
    "        <ul> \n",
    "            <li><p>El módulo de la fuerza sobre una superficie plana inclinada se calcula con el prisma de presiones. La base del prisma es la superficie A y la altura del prisma en cada punto es la presión P del fluido en ese punto $(P=h\\cdot\\gamma)$</p>\n",
    "                <p> <strong>También</strong> se puede calcular <strong>mediante la siguiente expresión: $F_{_H} = P_{_G}\\cdot A$, siendo $P_{_G}$ la presión en el centroide de la superficie $A$</strong></p>\n",
    "            </li>         \n",
    "        </ul>     \n",
    "        <li>FUERZAS SOBRE SUPERFICIES CURVAS.</li>\n",
    "        <ul> \n",
    "            <li><i><p><strong>Componente horizontal</strong>: la componente horizontal de la fuerza de presión sobre una superficie curva <strong>es igual a la fuerza de presión ejercida sobre la proyección vertical</strong> de la superficie curva.</p>\n",
    "                <p>El módulo de la resultante de la componente horizontal <strong>$(F_{_H})$ se puede calcular mediante el prisma de presiones, construido sobre la superficie vertical proyectada </strong>$(A^{^\\prime})$. <strong>También</strong> se puede calcular <strong>mediante la siguiente expresión: $F_{_H} = P_{_G}\\cdot A^{^\\prime}$, siendo $P_{_G}$ la presión en el centroide de la superficie proyectada $A^{^\\prime}$</strong></p>\n",
    "                </i></li>\n",
    "            <li><i><strong>Componente vertical</strong>: el módulo de la componente vertical de la fuerza de presión sobre una superficie curva <strong>es igual al peso del volumen de líquido</strong> $\\forall$ (real o imaginario) <strong>comprendido entre la superficie curva y la superficie horizontal de presión cero del líquido</strong>.</i>$F_{_V}=\\gamma \\cdot\\forall$</li>         </ul>        \n",
    "<div>\n",
    "\n"
   ]
  },
  {
   "cell_type": "markdown",
   "id": "e656f9db",
   "metadata": {},
   "source": [
    "<h2>1) Fuerza sobre compuerta plana vertical, fluido con superficie libre.</h2>"
   ]
  },
  {
   "cell_type": "markdown",
   "id": "2408bea9",
   "metadata": {},
   "source": [
    "<div class=\"split\">\n",
    "    <div class=\"izq\"><img src=\"../MEDIA/2.58.1.1.png\"></div>\n",
    "    <div class=\"dcha\">\n",
    "        <div class=\"texto\"><p>Se construye el prisma de la siguiente manera:</p>\n",
    "            <li>La base del prisma es la superficie AB.</li>\n",
    "            <li>La altura del prisma en cada punto es la presión P del fluido en ese punto, que será igual a la columna de fluido desde la superficie libre. </li> \n",
    "        </div>\n",
    "               <div class=\"texto\"><p>Sabemos que, por el principio de la hidrostática, en un fluido incompresible $(\\rho=cte):$</p>\n",
    "        </div>\n",
    "        <div class=\"formulas\">\n",
    "        $$ \n",
    "        \\textbf{P+}\\rho\\textbf{gz=cte}\\ siendo\\  \\rho\\cdot g=\\gamma\n",
    "        $$\n",
    "        </div>\n",
    "        <div class=\"texto\"><p>Es decir, la presión varia solo con la altura y de manera lineal proporcionalmente a $\\gamma$. Calculando las presiones en los puntos A y B podremos dibujar el prisma.</p>\n",
    "        </div>\n",
    " \n",
    "</div>"
   ]
  },
  {
   "cell_type": "markdown",
   "id": "86c0ef62",
   "metadata": {},
   "source": [
    "<div class=\"texto\"><p>Acotamos y calculamos el valor de las presiones $P_{_A}$ y $P_{_B}$:</p> </div>\n",
    "<div class=\"split\">\n",
    "    <div class=\"izq\"><img src=\"../MEDIA/2.58.1.2.png\"></div>\n",
    "    <div class=\"dcha\">\n",
    "    <div class=\"formulas\">\n",
    "        $$ \n",
    "        P_{_A}= h_{_A}\n",
    "        $$\n",
    "    </div>\n",
    "    <div class=\"formulas\">\n",
    "        $$ \n",
    "        P_{_B}= h_{_B}\n",
    "        $$\n",
    "</div>"
   ]
  },
  {
   "cell_type": "markdown",
   "id": "d35c2bc6",
   "metadata": {},
   "source": [
    "<div class=\"formulas\">\n",
    "    $$ \n",
    "    P_{_A}= h_{_A}=0\n",
    "    $$\n",
    "</div>\n",
    "<div class=\"formulas\">\n",
    "    $$ \n",
    "    P_{_B}= h_{_B}=\\overline{AB}\\ (mca)\n",
    "    $$\n",
    "</div>\n"
   ]
  },
  {
   "cell_type": "markdown",
   "id": "e55d7f33",
   "metadata": {},
   "source": [
    "<div class=\"texto\"><p>Siendo la base del prisma la superficie AB, con los valores de las presiones en los puntos A y B, dibujamos el prisma:</p> </div>\n",
    "<div><img src=\"../MEDIA/2.58.1.3.png\" style=\"width:60%\"></div>\n"
   ]
  },
  {
   "cell_type": "markdown",
   "id": "abc7e0c9",
   "metadata": {},
   "source": [
    "<h2>2) Fuerza sobre compuerta plana vertical, fluido en depósito presurizado.</h2>"
   ]
  },
  {
   "cell_type": "markdown",
   "id": "af2396e7",
   "metadata": {},
   "source": [
    "<div class=\"split\">\n",
    "    <div class=\"izq\"><img src=\"../MEDIA/2.58.2.1.png\"></div>\n",
    "    <div class=\"dcha\">\n",
    "    <div class=\"texto\"><p>En este caso el líquido está contenido en un depósito presurizado. Por lo que la presión en A ya no será 0, pero la construcción del prisma se seguirá realizando del mismo modo. </p>\n",
    "</div>"
   ]
  },
  {
   "cell_type": "markdown",
   "id": "9f7e3d10",
   "metadata": {},
   "source": [
    "<div class=\"split\">\n",
    "        <div class=\"dcha\"><img src=\"../MEDIA/2.58.2.1.ej.png\"></div>\n",
    "    <div class=\"izq\">\n",
    "        <div class=\"texto\"><p>Siendo la unidad de presión del manómetro metros de columna de agua, quizás es más sencillo de verlo si nos imaginamos que por encima del punto A se encuentra una columna de agua de $\\frac{\\overline{AB}}{2}$ metros de altura.</p>\n",
    "        <p>Es en estos casos que se dice que la superficie libre del líquido es virtual, ya que, realmente no existe.</p>\n",
    "        <div>\n",
    "    <div>    \n",
    "\n",
    "</div>"
   ]
  },
  {
   "cell_type": "markdown",
   "id": "385ea708",
   "metadata": {},
   "source": [
    "<div class=\"texto\"><p>Acotamos y calculamos el valor de las presiones $P_{_A}$ y $P_{_B}$:</p> </div>\n",
    "<div class=\"split\">\n",
    "    <div class=\"izq\"><img src=\"../MEDIA/2.58.2.2.png\"></div>\n",
    "    <div class=\"dcha\">\n",
    "    <div class=\"formulas\">\n",
    "        $$ \n",
    "        P_{_A}= h_{_A}+P_{_{manómetro}}\n",
    "        $$\n",
    "    </div>\n",
    "    <div class=\"formulas\">\n",
    "        $$ \n",
    "        P_{_B}= h_{_B}+P_{_{manómetro}}\n",
    "        $$\n",
    "</div>"
   ]
  },
  {
   "cell_type": "markdown",
   "id": "988efb25",
   "metadata": {},
   "source": [
    "<div class=\"formulas\">\n",
    "    $$ \n",
    "    P_{_A}= h_{_A}+P_{_{manómetro}}=0+\\frac{\\overline{AB}}{2}\\ (mca)\n",
    "    $$\n",
    "</div>\n",
    "<div class=\"formulas\">\n",
    "    $$ \n",
    "    P_{_B}= h_{_B}+P_{_{manómetro}}=\\overline{AB}\\ (mca)+\\frac{\\overline{AB}}{2}\\ (mca)\n",
    "    $$\n",
    "</div>\n",
    "\n",
    "\n",
    "<div class=\"formulas\">\n",
    "    $$ \n",
    "    P_{_A}=\\frac{\\overline{AB}}{2}\\ mca\n",
    "    $$\n",
    "</div>\n",
    "\n",
    "<div class=\"formulas\">\n",
    "    $$ \n",
    "    P_{_B}=\\overline{AB}+\\frac{\\overline{AB}}{2}\\ mca=3\\frac{\\overline{AB}}{2}\\ mca\n",
    "    $$\n",
    "</div>\n"
   ]
  },
  {
   "cell_type": "markdown",
   "id": "dab3d97a",
   "metadata": {},
   "source": [
    "<div class=\"texto\"><p>Siendo la base del prisma la superficie AB, con los valores de las presiones en A y B, dibujamos el prisma:</p> </div>\n",
    "<div><img src=\"../MEDIA/2.58.2.4.png\" style=\"width:60%\"></div>\n"
   ]
  },
  {
   "cell_type": "markdown",
   "id": "89b28225",
   "metadata": {},
   "source": [
    "<h2>3) Fuerza sobre compuerta plana vertical, fluido en depósito con vacío. <h2>"
   ]
  },
  {
   "cell_type": "markdown",
   "id": "20de3bef",
   "metadata": {},
   "source": [
    "<div class=\"split\">\n",
    "    <div class=\"izq\"><img src=\"../MEDIA/2.58.3.1.png\"></div>\n",
    "    <div class=\"dcha\">\n",
    "    <div class=\"texto\"><p>En este caso el líquido está contenido en un depósito con presión relativa negativa, es decir, tiene una succión o vacío. Veremos cómo influye esto al prisma de presiones. </p>\n",
    "</div>"
   ]
  },
  {
   "cell_type": "markdown",
   "id": "0e795dc4",
   "metadata": {},
   "source": [
    "<div class=\"texto\"><p>Acotamos y calculamos el valor de las presiones $P_{_A}$ y $P_{_B}$:</p> </div>\n",
    "<div class=\"split\">\n",
    "    <div class=\"izq\"><img src=\"../MEDIA/2.58.2.2.png\"></div>\n",
    "    <div class=\"dcha\">\n",
    "    <div class=\"formulas\">\n",
    "        $$ \n",
    "        P_{_A}= h_{_A}+P_{_{vacuómetro}}\n",
    "        $$\n",
    "    </div>\n",
    "    <div class=\"formulas\">\n",
    "        $$ \n",
    "        P_{_B}= h_{_B}+P_{_{vacuómetro}}\n",
    "        $$\n",
    "</div>"
   ]
  },
  {
   "cell_type": "markdown",
   "id": "52af3824",
   "metadata": {},
   "source": [
    "<div class=\"formulas\">\n",
    "    $$ \n",
    "    P_{_A}= h_{_A}+P_{_{vacuómetro}}=0-\\frac{\\overline{AB}}{2}\\ (mca)\n",
    "    $$\n",
    "</div>\n",
    "<div class=\"formulas\">\n",
    "    $$ \n",
    "    P_{_B}= h_{_B}+P_{_{vacuómetro}}=\\overline{AB}\\ (mca)-\\frac{\\overline{AB}}{2}\\ (mca)\n",
    "    $$\n",
    "</div>\n",
    "<div class=\"formulas\">\n",
    "    $$ \n",
    "    P_{_A}=-\\frac{\\overline{AB}}{2}\\ mca\n",
    "    $$\n",
    "</div>\n",
    "<div class=\"formulas\">\n",
    "    $$ \n",
    "    P_{_B}=\\frac{\\overline{AB}}{2}\\ mca\n",
    "    $$\n",
    "</div>\n"
   ]
  },
  {
   "cell_type": "markdown",
   "id": "42eb8f21",
   "metadata": {},
   "source": [
    "<div class=\"texto\"><p>Siendo la base del prisma la superficie AB, con los valores de las presiones en A y B, dibujamos el prisma:</p> </div>\n",
    "<div><img src=\"../MEDIA/2.58.3.3.png\" style=\"width:60%\"></div>\n"
   ]
  },
  {
   "cell_type": "markdown",
   "id": "82d0f40b",
   "metadata": {},
   "source": [
    "<div class=\"texto\"><p>Observamos que nos sale un prisma de área negativa, es decir, la compuerta AB es succionada en esos puntos. Para calcular el valor resultante debemos ambas áreas, y para ello debemos de calcular el punto en el cual la presión es 0 (en este caso es posible ver que se trata del punto medio del segmento AB, pero no siempre será así) </p> </div>\n",
    "<div class=\"texto\"><p>La presión será 0 en el punto en el que se iguale la presión hidrostática ejercida por el agua, con el vacío del depósito, es decir: </p> </div>\n",
    "<div class=\"formulas\">\n",
    "    $$ \n",
    "    P_{_0}=0\\rightarrow h+P_{_{vacuómetro}}=0\\rightarrow h=-P_{_{vacuómetro}}=\\frac{\\overline{AB}}{2}\n",
    "    $$\n",
    "</div>\n",
    "<div class=\"texto\"><p>Veámoslo gráficamente: </p> </div>\n",
    "<div><img src=\"../MEDIA/2.58.3.4.png\" style=\"width:60%\"></div>\n"
   ]
  },
  {
   "cell_type": "markdown",
   "id": "c2188595",
   "metadata": {},
   "source": [
    "<div>\n",
    "    <div class=\"antesDe texto\">\n",
    "        <div class=\"texto\"><strong>Analizando el resultado</strong>\n",
    "            <p>Siendo las áreas de ambos prismas del mismo valor y de sentido opuesto, la fuerza resultante será nula. </p>\n",
    "        </div>   \n",
    "    </div>\n",
    "</div> "
   ]
  },
  {
   "cell_type": "markdown",
   "id": "d64f9c83",
   "metadata": {},
   "source": [
    "<h2>4) Fuerza sobre compuerta plana inclinada, fluido 1 con superficie libre, fluido 2 con vacío.<h2>"
   ]
  },
  {
   "cell_type": "markdown",
   "id": "becd72af",
   "metadata": {},
   "source": [
    "<div class=\"split\">\n",
    "    <div class=\"izq\"><img src=\"../MEDIA/2.58.4.1.png\"></div>\n",
    "    <div class=\"dcha\">\n",
    "    <div class=\"texto\"><p>En este apartado tenemos 2 fluidos, el primero se tiene superficie libre, al igual que el apartado 1, y el segundo tiene vacío, como el apartado 3.</p>\n",
    "</div>"
   ]
  },
  {
   "cell_type": "markdown",
   "id": "b967c123",
   "metadata": {},
   "source": [
    "<div class=\"texto\"><p>Antes de empezar acotamos:</p> </div>\n",
    "<div class=\"split\">\n",
    "    <div class=\"izq\"><img src=\"../MEDIA/2.58.4.2.png\"></div>\n",
    "    <div class=\"dcha\">\n",
    "        <div class=\"texto\">\n",
    "            Estudiaremos los fluidos uno por uno. Primero de todo calcularemos los valores de las presiones en A y B. Para ello como hemos hecho hasta ahora, partiremos de un punto de presión conocida e iremos añadiendo el incremento de presión por la columna de líquido encima del punto en estudio.  \n",
    "        </div>\n",
    "    </div>\n",
    "</div>"
   ]
  },
  {
   "cell_type": "markdown",
   "id": "ddfcc0df",
   "metadata": {},
   "source": [
    "<h3>Para $s_{_1}$, partimos de la superficie libre de cota E.</h3>"
   ]
  },
  {
   "cell_type": "markdown",
   "id": "daa37ab0",
   "metadata": {},
   "source": [
    "Partiendo desde este punto, podemos decir que:"
   ]
  },
  {
   "cell_type": "markdown",
   "id": "8c05221f",
   "metadata": {},
   "source": [
    "<div class=\"formulas\">\n",
    "    $$ \n",
    "    P_{_A}^{^{s_{_1}}}= h_{_A}=\\overline{AE}=2U\\ mca\n",
    "    $$\n",
    "</div>\n",
    "<div class=\"formulas\">\n",
    "    $$ \n",
    "    P_{_B}^{^{s_{_1}}}= h_{_B}=\\overline{AE}+\\overline{AD}=4U\\ mca\n",
    "    $$\n",
    "</div>"
   ]
  },
  {
   "cell_type": "markdown",
   "id": "1f2d988d",
   "metadata": {},
   "source": [
    "<h3>Para $s_{_2}$, partimos de la parte superior del depósito con cota C y una presión $P_{_C}^{^{s_{_2}}}=-\\frac{2\\overline{AC}}{2}$ mca.</h3>"
   ]
  },
  {
   "cell_type": "markdown",
   "id": "4a35794f",
   "metadata": {},
   "source": [
    "**NOTA: Hay que tener en cuenta la densidad relativa ($s_{_2}=2$) del fluido.**"
   ]
  },
  {
   "cell_type": "markdown",
   "id": "e94c8032",
   "metadata": {},
   "source": [
    "**NO MEZCLAR mca (metros de columna de agua) CON mcl (metros de columna de líquido).**"
   ]
  },
  {
   "cell_type": "markdown",
   "id": "c02157f7",
   "metadata": {},
   "source": [
    "Partiendo desde este punto, podemos decir que:"
   ]
  },
  {
   "cell_type": "markdown",
   "id": "07960644",
   "metadata": {},
   "source": [
    "<div class=\"formulas\">\n",
    "    $$ \n",
    "    P_{_A}^{^{s_{_2}}}=P_{_C}^{^{s_{_2}}} + h_{_A}=-\\frac{2\\overline{AC}}{2} mca+\\overline{AC}\\ mcl=-U\\ mca+U\\ mcl\n",
    "    $$\n",
    "</div>\n",
    "<div class=\"formulas\">\n",
    "    $$ \n",
    "    P_{_B}^{^{s_{_2}}}=P_{_C}^{^{s_{_2}}} + h_{_B}=-\\frac{2\\overline{AC}}{2} mca+\\overline{AC}\\ mcl+\\overline{AD}\\ mcl=-U\\ mca+3U\\ mcl\n",
    "    $$\n",
    "</div>"
   ]
  },
  {
   "cell_type": "markdown",
   "id": "0e5ac739",
   "metadata": {},
   "source": [
    " <div class=\"texto\">Para pasar los mcl a mca, siendo:</div>\n",
    "<div class=\"formulas\">\n",
    "    $$ \n",
    "h\\ (mcl)=\\frac{P\\ (Pa)}{\\gamma_{_{sustancia}}}\\rightarrow P=h\\cdot \\gamma_{_{sustancia}}\n",
    "    $$\n",
    "</div>\n",
    "<div class=\"texto\">Luego, si ambas presiones han de ser iguales:</div>\n",
    "<div class=\"formulas\">\n",
    "    $$ \n",
    "    P\\ (Pa)=h_{_{mca}}\\cdot \\gamma_{_{agua}}=h_{_{s{_{_2}}}}\\cdot \\gamma_{_{2}}\n",
    "    $$\n",
    "</div>\n",
    "<div class=\"formulas\">\n",
    "    $$ \n",
    "    s_{_{2}}=\\frac{\\gamma_{_{2}}}{\\gamma_{_{agua}}}\\rightarrow\\gamma_{_{2}}=s_{_{2}}\\cdot \\gamma_{_{agua}}\n",
    "    $$\n",
    "</div>\n",
    "<div class=\"texto\">Finalmente:</div>\n",
    "<div class=\"formulas\">\n",
    "    $$ \n",
    "    h_{_{mca}}\\cdot \\gamma_{_{agua}}=h_{_{s{_{_2}}}}\\cdot s_{_{2}}\\cdot \\gamma_{_{agua}}\n",
    "    $$\n",
    "</div>\n",
    "<div class=\"formulas\">\n",
    "    $$ \n",
    "    h_{_{mca}}=h_{_{s{_{_2}}}}\\cdot s_{_{2}}=2\\cdot h_{_{s{_{_2}}}}\n",
    "    $$\n",
    "</div>"
   ]
  },
  {
   "cell_type": "markdown",
   "id": "cfc193f2",
   "metadata": {},
   "source": [
    "<div class=\"texto\">Realizamos el cambio:</div>\n",
    "<div class=\"formulas\">\n",
    "<div class=\"formulas\">\n",
    "    $$ \n",
    "    P_{_A}^{^{s_{_2}}}=-U+ s{_{_2}}\\cdot U\\ mca=-U+2U=U\\ mca\n",
    "    $$\n",
    "</div>\n",
    "<div class=\"formulas\">\n",
    "    $$ \n",
    "    P_{_B}^{^{s_{_2}}}=-U+s{_{_2}}\\cdot 3U\\ mca=-U+6U=5U\\ mca\n",
    "    $$\n",
    "</div>"
   ]
  },
  {
   "cell_type": "markdown",
   "id": "d1dff1fe",
   "metadata": {},
   "source": [
    "<div class=\"texto\"><p>Siendo la base de los prismas la superficie AB, con los valores de las presiones en A y B, dibujamos los prismas:</p> </div>\n",
    "<div><img src=\"../MEDIA/2.58.4.3.png\" style=\"width:80%\"></div>\n"
   ]
  },
  {
   "cell_type": "markdown",
   "id": "5d0da1a0",
   "metadata": {},
   "source": [
    "<h2>5) Fuerza sobre compuerta plana inclinada, fluido 1 con vacío, fluido 2 con superficie libre.<h2>"
   ]
  },
  {
   "cell_type": "markdown",
   "id": "011476f0",
   "metadata": {},
   "source": [
    "<div class=\"split\">\n",
    "    <div class=\"izq\"><img src=\"../MEDIA/2.58.5.1.png\"></div>\n",
    "    <div class=\"dcha\">\n",
    "    <div class=\"texto\"><p>En este apartado tenemos 2 fluidos, el primero tiene vacío, como el apartado 3, y el segundo tiene superficie libre, al igual que el apartado 1.</p>\n",
    "</div>"
   ]
  },
  {
   "cell_type": "markdown",
   "id": "0157e35d",
   "metadata": {},
   "source": [
    "<div class=\"texto\"><p>Antes de empezar acotamos:</p> </div>\n",
    "<div class=\"split\">\n",
    "    <div class=\"izq\"><img src=\"../MEDIA/2.58.5.2.png\"></div>\n",
    "    <div class=\"dcha\">\n",
    "        <div class=\"texto\">\n",
    "            Estudiaremos los fluidos uno por uno. Primero de todo calcularemos los valores de las presiones en A y B. Para ello como hemos hecho hasta ahora, partiremos de un punto de presión conocida e iremos añadiendo el incremento de presión por la columna de líquido encima del punto en estudio. \n",
    "        </div>\n",
    "    </div>\n",
    "</div>"
   ]
  },
  {
   "cell_type": "markdown",
   "id": "c3dfc1f1",
   "metadata": {},
   "source": [
    "<h3>Para $s_{_1}$, partimos de la parte superior del depósito con cota E y una presión $P_{_E}^{^{s_{_2}}}=-2\\overline{AE}$ mca.</h3>"
   ]
  },
  {
   "cell_type": "markdown",
   "id": "e22666d5",
   "metadata": {},
   "source": [
    "Partiendo desde este punto, podemos decir que:"
   ]
  },
  {
   "cell_type": "markdown",
   "id": "eb6eecbf",
   "metadata": {},
   "source": [
    "<div class=\"formulas\">\n",
    "    $$ \n",
    "    P_{_A}^{^{s_{_1}}}=P_{_E}^{^{s_{_2}}} + h_{_A}=-2\\overline{AE}+\\overline{AD}=-2\\ mca\n",
    "    $$\n",
    "</div>\n",
    "<div class=\"formulas\">\n",
    "    $$ \n",
    "    P_{_B}^{^{s_{_1}}}= P_{_E}^{^{s_{_2}}} +h_{_B}=-2\\overline{AE}+\\overline{AE}+\\overline{AD}=0\\ mca\n",
    "    $$\n",
    "</div>"
   ]
  },
  {
   "cell_type": "markdown",
   "id": "214eefb6",
   "metadata": {},
   "source": [
    "<h3>Para $s_{_2}$, partimos de la superficie libre de cota C.</h3>"
   ]
  },
  {
   "cell_type": "markdown",
   "id": "92c5dacd",
   "metadata": {},
   "source": [
    "**NOTA: Hay que tener en cuenta la densidad relativa ($s_{_2}=2$) del fluido.**"
   ]
  },
  {
   "cell_type": "markdown",
   "id": "10a1c476",
   "metadata": {},
   "source": [
    "**NO MEZCLAR mca (metros de columna de agua) CON mcl (metros de columna de líquido).**"
   ]
  },
  {
   "cell_type": "markdown",
   "id": "ca279e9a",
   "metadata": {},
   "source": [
    "Partiendo desde este punto, podemos decir que:"
   ]
  },
  {
   "cell_type": "markdown",
   "id": "b423c1cb",
   "metadata": {},
   "source": [
    "<div class=\"formulas\">\n",
    "    $$ \n",
    "    P_{_A}^{^{s_{_2}}}=h_{_A}=\\overline{AC}\\ mcl=U\\ mcl\n",
    "    $$\n",
    "</div>\n",
    "<div class=\"formulas\">\n",
    "    $$ \n",
    "    P_{_B}^{^{s_{_2}}}=h_{_B}=\\overline{AC}\\ mcl+\\overline{AD}\\ mcl=3U\\ mcl\n",
    "    $$\n",
    "</div>"
   ]
  },
  {
   "cell_type": "markdown",
   "id": "f2b3fd23",
   "metadata": {},
   "source": [
    " <div class=\"texto\">Para pasar los mcl a mca, siendo:</div>\n",
    "<div class=\"formulas\">\n",
    "    $$ \n",
    "h\\ (mcl)=\\frac{P\\ (Pa)}{\\gamma_{_{sustancia}}}\\rightarrow P=h\\cdot \\gamma_{_{sustancia}}\n",
    "    $$\n",
    "</div>\n",
    "<div class=\"texto\">Luego, si ambas presiones han de ser iguales:</div>\n",
    "<div class=\"formulas\">\n",
    "    $$ \n",
    "    P\\ (Pa)=h_{_{mca}}\\cdot \\gamma_{_{agua}}=h_{_{s{_{_2}}}}\\cdot \\gamma_{_{2}}\n",
    "    $$\n",
    "</div>\n",
    "<div class=\"formulas\">\n",
    "    $$ \n",
    "    s_{_{2}}=\\frac{\\gamma_{_{2}}}{\\gamma_{_{agua}}}\\rightarrow\\gamma_{_{2}}=s_{_{2}}\\cdot \\gamma_{_{agua}}\n",
    "    $$\n",
    "</div>\n",
    "<div class=\"texto\">Finalmente:</div>\n",
    "<div class=\"formulas\">\n",
    "    $$ \n",
    "    h_{_{mca}}\\cdot \\gamma_{_{agua}}=h_{_{s{_{_2}}}}\\cdot s_{_{2}}\\cdot \\gamma_{_{agua}}\n",
    "    $$\n",
    "</div>\n",
    "<div class=\"formulas\">\n",
    "    $$ \n",
    "    h_{_{mca}}=h_{_{s{_{_2}}}}\\cdot s_{_{2}}=2\\cdot h_{_{s{_{_2}}}}\n",
    "    $$\n",
    "</div>"
   ]
  },
  {
   "cell_type": "markdown",
   "id": "29e233c8",
   "metadata": {},
   "source": [
    "<div class=\"texto\">Realizamos el cambio:</div>\n",
    "<div class=\"formulas\">\n",
    "<div class=\"formulas\">\n",
    "    $$ \n",
    "    P_{_A}^{^{s_{_2}}}=s{_{_2}}\\cdot U\\ mca=2U\\ mca\n",
    "    $$\n",
    "</div>\n",
    "<div class=\"formulas\">\n",
    "    $$ \n",
    "    P_{_B}^{^{s_{_2}}}=s{_{_2}}\\cdot 3U\\ mca=6U\\ mca\n",
    "    $$\n",
    "</div>"
   ]
  },
  {
   "cell_type": "markdown",
   "id": "80c2bb47",
   "metadata": {},
   "source": [
    "<div class=\"texto\"><p>Siendo la base de los prismas la superficie AB, con los valores de las presiones en A y B, dibujamos los prismas:</p> </div>\n",
    "<div class=\"texto\"><p><strong>NOTA: Por claridad se mostrarán los prismas en distintas imágenes </strong></p> </div>\n",
    "<div class=\"texto\"><p>Prisma que representa la fuerza ejercida por el agua sobre la compuerta inclinada AB</p> </div>\n",
    "<div><img src=\"../MEDIA/2.58.5.3.png\" style=\"width:80%\"></div>\n",
    "<div class=\"texto\"><p>Prisma que representa la fuerza ejercida por el fluido $s_2$ sobre la compuerta inclinada AB</p> </div>\n",
    "<div><img src=\"../MEDIA/2.58.5.4.png\" style=\"width:80%\"></div>\n"
   ]
  },
  {
   "cell_type": "markdown",
   "id": "769e8820",
   "metadata": {},
   "source": [
    "<h2>6) Fuerza sobre compuerta cilíndrica, fluido con superficie libre.</h2>"
   ]
  },
  {
   "cell_type": "markdown",
   "id": "73fa4230",
   "metadata": {},
   "source": [
    "<div class=\"split\">\n",
    "    <div class=\"izq\"><img src=\"../MEDIA/2.58.6.1.png\"></div>\n",
    "    <div class=\"dcha\">\n",
    "    <div class=\"texto\"><p>En el apartado 6 tenemos una compuerta cilíndrica sometida a la fuerza hidrostática del agua.</p>    \n",
    "    </div>\n",
    "</div>"
   ]
  },
  {
   "cell_type": "markdown",
   "id": "b8065b38",
   "metadata": {},
   "source": [
    "<div class=\"texto\"><p>Antes de empezar acotamos:</p> </div>\n",
    "<div class=\"split\">\n",
    "    <div class=\"izq\"><img src=\"../MEDIA/2.58.6.2.png\"></div>\n",
    "    <div class=\"dcha\">\n",
    "        <div class=\"texto\">\n",
    "            Estudiaremos primero la fuerza horizontal del agua sobre la superficie curva AB. La componente horizontal de la fuerza de presión sobre una superficie curva es igual a la fuerza de presión ejercida sobre la proyección vertical de la superficie.\n",
    "        </div>\n",
    "        <div class=\"texto\">\n",
    "El módulo de la resultante de la componente horizontal se puede calcular mediante el prisma de presiones, construido sobre la superficie vertical proyectada  $AB^{^{\\prime}}$ .\n",
    "        </div>\n",
    "    </div>\n",
    "</div>"
   ]
  },
  {
   "cell_type": "markdown",
   "id": "66775ebc",
   "metadata": {},
   "source": [
    "<div class=\"texto\">\n",
    "Una vez dibujada la proyección de la superficie curva $AB^{^{\\prime}}$ el proceder es el mismo que para una superficie plana vertical. Primero calculamos los valores de la presión en sus puntos extremos y después dibujamos el prisma sobre la superficie $AB^{^{\\prime}}$.\n",
    "</div>"
   ]
  },
  {
   "cell_type": "markdown",
   "id": "75f2afa4",
   "metadata": {},
   "source": [
    "<div class=\"formulas\">\n",
    "    $$ \n",
    "    P_{_A}= h_{_A}=0\\ mca\n",
    "    $$\n",
    "</div>\n",
    "<div class=\"formulas\">\n",
    "    $$ \n",
    "    P_{_B}= h_{_B}=2R\\ mca\n",
    "    $$\n",
    "</div>"
   ]
  },
  {
   "cell_type": "markdown",
   "id": "132da1f5",
   "metadata": {},
   "source": [
    "<div class=\"texto\"><p>Siendo la base del prisma la superficie  $AB^{^{\\prime}}$, con los valores de las presiones en A y B, dibujamos el prisma:</p> </div>\n",
    "<div><img src=\"../MEDIA/2.58.6.3.png\" style=\"width:80%\"></div>\n"
   ]
  },
  {
   "cell_type": "markdown",
   "id": "09c3e96f",
   "metadata": {},
   "source": [
    "<div class=\"texto\"><p>A continuación, estudiaremos las fuerzas verticales. Sabemos que:</p> </div>\n",
    "<div class=\"texto\"><p>\"El módulo de la componente vertical de la fuerza de presión sobre una superficie curva <strong>es igual al peso del volumen de líquido</strong> $\\forall$ (real o imaginario) <strong>comprendido entre la superficie curva y la superficie horizontal de presión cero del líquido</strong>.\"</p> </div>\n",
    "<div class=\"formulas\"><p>$$F_{_V}=\\gamma \\cdot\\forall$$</p> </div>\n",
    "<div class=\"split\">\n",
    "    <div class=\"izq\"><img src=\"../MEDIA/2.58.6.4.png\"></div>\n",
    "    <div class=\"dcha\">\n",
    "        <div class=\"texto\">Ahora, tenemos 2 superficies y por tanto 2 fuerzas verticales, la primera el peso del agua encima de la superficie curva AC, y la segunda el empuje hidrostático sobre la superficie curva BC. Para ello dibujamos los prismas para según la regla antes mencionada. \n",
    "        </div>\n",
    "    </div>\n",
    "</div>"
   ]
  },
  {
   "cell_type": "markdown",
   "id": "863674cb",
   "metadata": {},
   "source": [
    "<div class=\"split\">\n",
    "    <div class=\"izq\">\n",
    "        <div class=\"texto\"><strong>Superficie AC</strong> </div>\n",
    "        <img src=\"../MEDIA/2.58.6.5.png\">\n",
    "    </div>\n",
    "    <div class=\"dcha\">\n",
    "        <div class=\"texto\"><strong>Superficie BC</strong> </div>\n",
    "        <img src=\"../MEDIA/2.58.6.6.png\">\n",
    "    </div>\n",
    "</div>\n",
    "<div class=\"texto\">La suma de estos prismas se puede realizar gráficamente, al tener distinto sentido, se restan. </div>"
   ]
  },
  {
   "cell_type": "markdown",
   "id": "26b637f6",
   "metadata": {},
   "source": [
    "<div>\n",
    "<img src=\"../MEDIA/2.58.6.7.png\" style=\"width:80%\">\n",
    "</div>"
   ]
  },
  {
   "cell_type": "markdown",
   "id": "d165a86a",
   "metadata": {},
   "source": [
    "<div class=\"texto\">Donde la fuerza sería igual al peso del fluido. En este el prisma es un semicírculo. </div>\n",
    "<div class=\"formulas\">\n",
    "    $$F_{_V}=\\gamma_{_{agua}} \\cdot\\forall=\\gamma_{_{agua}}\\cdot  \\frac{Aréa_{_{circulo}}}{2}=\\gamma_{_{agua}}\\cdot \\frac{\\pi R^{^2}}{2}$$\n",
    "</div>"
   ]
  },
  {
   "cell_type": "markdown",
   "id": "e7fde301",
   "metadata": {},
   "source": [
    "<div>\n",
    "    <div class=\"antesDe texto\">\n",
    "        <div class=\"texto\"><strong>Analizando el resultado</strong>\n",
    "            <p>Como consecuencia de esto, como se verá el tema 8, se enuncia el principio de Arquímedes, que dice que \"todo cuerpo cerrado, parcial o totalmente sumergido en un líquido experimenta un empuje ascensional igual al peso del volumen del líquido que se desaloja\".</p>\n",
    "        </div>\n",
    "        <div class=\"formulas\">\n",
    "            $$\n",
    "            E=\\gamma\\cdot V\n",
    "            $$\n",
    "        </div>\n",
    "    </div>\n",
    "</div> "
   ]
  },
  {
   "cell_type": "markdown",
   "id": "5e687322",
   "metadata": {},
   "source": [
    "<h2>7) Fuerza sobre compuerta cilíndrica, dos fluidos con superficie libre.</h2>"
   ]
  },
  {
   "cell_type": "markdown",
   "id": "79bae546",
   "metadata": {},
   "source": [
    "<div class=\"split\">\n",
    "    <div class=\"izq\"><img src=\"../MEDIA/2.58.7.1.png\" style=\"width:80%\"></div>\n",
    "    <div class=\"dcha\">\n",
    "    <div class=\"texto\"><p>En el apartado 7 tenemos una compuerta cilíndrica sometida a las fuerzas hidrostáticas de dos fluidos con superficie libre. Analizaremos cada fuerza del mismo modo que el apartado anterior.</p>    \n",
    "    </div>\n",
    "</div>"
   ]
  },
  {
   "cell_type": "markdown",
   "id": "435385b7",
   "metadata": {},
   "source": [
    "<div class=\"texto\"><p>Antes de empezar acotamos:</p> </div>\n",
    "<div class=\"split\">\n",
    "    <div class=\"izq\"><img src=\"../MEDIA/2.58.7.2.png\"style=\"width:80%\"></div>\n",
    "    <div class=\"dcha\">\n",
    "        <div class=\"texto\">\n",
    "            Estudiaremos primero las fuerzas horizontales sobre la superficie curva. En este caso hemos de analizar la fuerza horizontal del agua sobre las superficies CE y EF, y después la fuerza horizontal del fluido $s_{_2}$ sobre la superficie CG.\n",
    "        </div>\n",
    "    </div>\n",
    "</div>"
   ]
  },
  {
   "cell_type": "markdown",
   "id": "5275f651",
   "metadata": {},
   "source": [
    "<h3>FUERZAS HORIZONTALES</h3>"
   ]
  },
  {
   "cell_type": "markdown",
   "id": "0e80bf5b",
   "metadata": {},
   "source": [
    "<div class=\"split\">\n",
    "    <div class=\"izq\">\n",
    "        <div class=\"texto\"><strong>Superficie CE</strong> </div>\n",
    "        <img src=\"../MEDIA/2.58.7.3.png\"style=\"width:80%\">\n",
    "    </div>\n",
    "        <div class=\"dcha\">\n",
    "        <div class=\"texto\">Para calcular la fuerza horizontal del agua sobre la superficie CE, crearemos el prisma sobre su proyección ${CE}^{^\\prime}$. </div>\n",
    "        <div class=\"texto\">Primero hemos de calcular las presiones en los puntos C y E.</div>\n",
    "        <div class=\"formulas\">\n",
    "            $$ \n",
    "            P_{_C}^{^{s_{_1}}}=h_{_C}^{^{s_{_1}}}= \\overline{BC}\\ mca\n",
    "            $$\n",
    "        </div>\n",
    "        <div class=\"formulas\">\n",
    "            $$ \n",
    "            P_{_E}^{^{s_{_1}}}= h_{_E}^{^{s_{_1}}}=\\overline{BC}+2R\\ mca\n",
    "            $$\n",
    "        </div>\n",
    "    </div>\n",
    "</div>\n"
   ]
  },
  {
   "cell_type": "markdown",
   "id": "dbf0b97e",
   "metadata": {},
   "source": [
    "<div class=\"split\">\n",
    "    <div class=\"izq\">\n",
    "        <div class=\"texto\"><strong>Superficie EF</strong> </div>\n",
    "        <img src=\"../MEDIA/2.58.7.4.png\"style=\"width:80%\">\n",
    "    </div>\n",
    "        <div class=\"dcha\">\n",
    "        <div class=\"texto\">Para calcular la fuerza horizontal del agua sobre la superficie EF, crearemos el prisma sobre su proyección $EF^{^\\prime}$. Desconocemos su longitud, asique tendremos que calcularla por trigonometría. Siendo un triángulo rectángulo con dos ángulos de $45º$ podemos afirmar que se trata de un triángulo rectángulo isósceles por lo que sus catetos serán iguales (x) </div>\n",
    "        <img src=\"../MEDIA/2.58.7.5.png\"style=\"width:70%\">\n",
    "    </div>\n",
    "</div>\n"
   ]
  },
  {
   "cell_type": "markdown",
   "id": "ac789097",
   "metadata": {},
   "source": [
    "<div class=\"texto\">Luego, por Pitágoras:</div>\n",
    "<div class=\"formulas\">\n",
    "    $$ \n",
    "    h^{^2}=a^{^2}+b^{^2}\\rightarrow h=R ;a=b=x\\rightarrow R^{^2}=2x^{^2}\\rightarrow x=\\sqrt{\\frac{R^{^2}}{2}}=\\frac{\\sqrt{2}R}{2}\n",
    "    $$\n",
    "</div>\n",
    "<div class=\"formulas\">\n",
    "    $$ \n",
    "    \\overline{{EF}^{^\\prime}}=R-X\n",
    "    $$\n",
    "</div>"
   ]
  },
  {
   "cell_type": "markdown",
   "id": "00203056",
   "metadata": {},
   "source": [
    "<div class=\"texto\">Calculamos las presiones en los puntos F y E.</div>\n",
    "<div class=\"formulas\">\n",
    "    $$ \n",
    "    P_{_F}^{^{s_{_1}}}=h_{_F}^{^{s_{_1}}}= \\overline{BC}+2R-\\overline{{EF}^{^\\prime}}=\\overline{BC}+2R-(R-x)=\\overline{BC}+R+x\\ mca\n",
    "    $$\n",
    "</div>\n",
    "<div class=\"formulas\">\n",
    "    $$ \n",
    "    P_{_E}^{^{s_{_1}}}= h_{_E}^{^{s_{_1}}}=\\overline{BC}+2R\\ mca\n",
    "    $$\n",
    "</div>"
   ]
  },
  {
   "cell_type": "markdown",
   "id": "2aacfacf",
   "metadata": {},
   "source": [
    "<div class=\"texto\">Dibujamos los prismas</div>\n",
    "<div>\n",
    "    <img src=\"../MEDIA/2.58.7.6.png\"style=\"width:80%\">\n",
    "</div>\n",
    "\n",
    "<div class=\"texto\">Si observamos, se puede apreciar que:</div>.\n",
    "<div class=\"formulas\">\n",
    "$$\n",
    "P_{_Y}^{^{s_{_1}}}=P_{_F}^{^{s_{_1}}}\n",
    "$$   \n",
    "</div>\n",
    "<div class=\"texto\">Luego la componente horizontal de la fuerza hidrostática que ejerce el agua sobre la superficie EF será la misma que la que ejerce sobre YE con distinto sentido, por lo tanto, se contrarrestan, gráficamente: </div>.\n",
    "<div>\n",
    "    <img src=\"../MEDIA/2.58.7.7.png\"style=\"width:80%\">\n",
    "</div>"
   ]
  },
  {
   "cell_type": "markdown",
   "id": "f6ef6dfa",
   "metadata": {},
   "source": [
    "<div>\n",
    "    <div class=\"antesDe texto\">\n",
    "        <div class=\"texto\"><strong>Analizando el resultado</strong>\n",
    "            <p>A consecuencia de esto, como se verá el tema 8, la <strong>componente horizontal</strong> de la fuerza hidrostática de un fluido, sobre un cuerpo sumergido, es <strong>nula</strong>, ya que las fuerzas horizontales se van anulando dos a dos.</p>\n",
    "        </div>\n",
    "    <div class=\"texto\">\n",
    "            <p>En este caso tan solo se anula cierta altura del cuerpo ya que no estamos analizando la superficie en contacto con el fluido $s_{_2}$, que no tiene por qué anularse, ya que al tener distinta densidad y distinta superficie libre la fuerza hidrostática puede no ser la misma.</p>\n",
    "        </div> \n",
    "    </div>\n",
    "</div> \n",
    "\n",
    "\n",
    " "
   ]
  },
  {
   "cell_type": "markdown",
   "id": "64286977",
   "metadata": {},
   "source": [
    "<div class=\"texto\"><strong>Superficie CG</strong> </div>\n",
    "<div class=\"texto\"><p>Ahora analizaremos la componente horizontal de la fuerza hidrostática ejercida por el fluido $s_{_2}$ :</p> </div>\n",
    "<div class=\"split\">\n",
    "    <div class=\"izq\"><img src=\"../MEDIA/2.58.7.8.png\"style=\"width:80%\"></div>\n",
    "    <div class=\"dcha\">\n",
    "        <div class=\"texto\">\n",
    "Tenemos que calcular las presiones en los puntos C y G para poder construir el prisma sobre la proyección de la superficie curva CG llamada $CG^{^\\prime}$. \n",
    "        </div>\n",
    "        <div class=\"formulas\">\n",
    "            $$ \n",
    "            P_{_C}^{^{s_{_2}}}=h_{_C}^{^{s_{_2}}}= \\overline{AB}+\\overline{BC}\\ mcl\n",
    "            $$\n",
    "        </div>\n",
    "        <div class=\"formulas\">\n",
    "            $$ \n",
    "            P_{_E}^{^{s_{_2}}}= h_{_E}^{^{s_{_2}}}=\\overline{AB}+\\overline{BC}+R\\ mcl\n",
    "            $$\n",
    "        </div>\n",
    "        <div class=\"texto\">\n",
    "Tal y como se ha demostrado antes, sabemos que:\n",
    "        </div>\n",
    "        <div class=\"formulas\">\n",
    "            $$ \n",
    "            h_{_{mca}}=h_{_{s{_{_2}}}}\\cdot s_{_{2}}=2\\cdot h_{_{s{_{_2}}}}\n",
    "            $$\n",
    "        </div>\n",
    "        <div class=\"texto\">\n",
    "Luego:\n",
    "        </div>\n",
    "        <div class=\"formulas\">\n",
    "            $$ \n",
    "            P_{_C}^{^{s_{_2}}}=2\\cdot(\\overline{AB}+\\overline{BC})\\ mca\n",
    "            $$\n",
    "        </div>\n",
    "        <div class=\"formulas\">\n",
    "            $$ \n",
    "            P_{_E}^{^{s_{_2}}}=2\\cdot(\\overline{AB}+\\overline{BC}+R)\\ mca\n",
    "            $$\n",
    "        </div>\n",
    "    </div>\n",
    "</div>"
   ]
  },
  {
   "cell_type": "markdown",
   "id": "2cb94cd1",
   "metadata": {},
   "source": [
    "<div class=\"texto\">Con estas presiones ya podemos dibujar el prisma.</div>\n",
    "<div>\n",
    "    <img src=\"../MEDIA/2.58.7.9.png\"style=\"width:80%\">\n",
    "</div>"
   ]
  },
  {
   "cell_type": "markdown",
   "id": "983914e6",
   "metadata": {},
   "source": [
    "<h3>FUERZAS VERTICALES</h3>\n",
    "<div class=\"texto\">Analizaremos primero la componente vertical de la fuerza hidrostática  que ejerce el agua sobre la compuerta.</div>\n",
    "<div class=\"split\">\n",
    "    <div class=\"izq\">\n",
    "        <img src=\"../MEDIA/2.58.7.10.png\"style=\"width:80%\">\n",
    "    </div>\n",
    "    <div class=\"dcha\">\n",
    "        <div class=\"texto\">Por definición:\n",
    "        </div>\n",
    "        <div class=\"texto\">\"El módulo de la componente vertical de la fuerza de presión sobre una superficie curva <strong>es igual al peso del volumen de líquido</strong> $\\forall$ (real o imaginario) <strong>comprendido entre la superficie curva y la superficie horizontal de presión cero del líquido</strong>.\"\n",
    "        </div>\n",
    "        <div class=\"texto\">La superficie libre en este caso será la cota B. En un principio puede parecer lógico pero no lo es tanto cuando hablamos de la superficie libre para el tramo EF, la cual es una superficie libre virtual, por ello también se le suele llamar plano de presión cero, referido al punto en el que ascendiendo por la columna de líquido la presión a la que está sometida esa superficie, real o virtual, es 0. \n",
    "        </div>\n",
    "        <div class=\"texto\">Una vez definido esto, procedemos a calcular los prismas para el empuje hidrostático del agua sobre la superficie curva DF, y la fuerza del peso del agua sobre la superficie CD.\n",
    "        </div>\n",
    "    </div>\n",
    "</div>\n",
    "<div class=\"texto\"><p><strong>NOTA: EL valor x es el calculado en el apartado FUERZAS HORIZONTALES: Superficie EF</strong> $\\rightarrow x=\\frac{\\sqrt{2}R}{2}$  </p> </div>\n"
   ]
  },
  {
   "cell_type": "markdown",
   "id": "3bbd8e70",
   "metadata": {},
   "source": [
    "<div class=\"split\">\n",
    "    <div class=\"izq\">\n",
    "        <div class=\"texto\"><strong>Superficie CD</strong> </div>\n",
    "        <img src=\"../MEDIA/2.58.7.11.png\"style=\"width:80%\">\n",
    "    </div>\n",
    "    <div class=\"dcha\">\n",
    "        <div class=\"texto\"><strong>Superficie DF</strong> </div>\n",
    "        <img src=\"../MEDIA/2.58.7.12.png\"style=\"width:80%\">\n",
    "    </div>\n",
    "</div>"
   ]
  },
  {
   "cell_type": "markdown",
   "id": "d0b61de2",
   "metadata": {},
   "source": [
    "<div class=\"texto\">La suma de estos prismas se puede realizar gráficamente, al tener distinto sentido, se restan.</div>"
   ]
  },
  {
   "cell_type": "markdown",
   "id": "5d732e59",
   "metadata": {},
   "source": [
    "<div>\n",
    "<img src=\"../MEDIA/2.58.7.13.png\" style=\"width:80%\">\n",
    "</div>"
   ]
  },
  {
   "cell_type": "markdown",
   "id": "4b25acc7",
   "metadata": {},
   "source": [
    "<div class=\"texto\">Si quisiéramos calcular el volumen del prisma, tendríamos que descomponerlo en formas geométricas simples de área conocida, sumarlas, y después multiplicar el área total por la profundidad. </div>\n",
    "<div>\n",
    "<img src=\"../MEDIA/2.58.7.14.png\" style=\"width:80%\">\n",
    "</div>"
   ]
  },
  {
   "cell_type": "markdown",
   "id": "efa2c605",
   "metadata": {},
   "source": [
    "<div class=\"texto\">Ahora pasaremos a calcular la fuerza hidrostática que ejerce el fluido $s_{_2}$ sobre la compuerta cilíndrica.</div>\n",
    "<div class=\"split\">\n",
    "    <div class=\"izq\">\n",
    "        <div class=\"texto\"><strong>Superficie CG</strong> </div>\n",
    "        <img src=\"../MEDIA/2.58.7.15.png\"style=\"width:80%\">\n",
    "    </div>\n",
    "    <div class=\"dcha\">\n",
    "        <div class=\"texto\">Primero acotamos hasta el plano de presión 0 del fluido $s_{_2}$ y después dibujamos el prisma.\n",
    "        </div>\n",
    "        <div class=\"texto\">Recordemos que:\n",
    "        </div>\n",
    "        <div class=\"texto\">\"El módulo de la componente vertical de la fuerza de presión sobre una superficie curva <strong>es igual al peso del volumen de líquido</strong> $\\forall$ (real o imaginario) <strong>comprendido entre la superficie curva y la superficie horizontal de presión cero del líquido</strong>.\"\n",
    "        </div>\n",
    "    </div>\n",
    "</div>\n",
    "\n"
   ]
  },
  {
   "cell_type": "markdown",
   "id": "a64db04e",
   "metadata": {},
   "source": [
    "<div class=\"split\">\n",
    "    <div class=\"izq\">\n",
    "        <img src=\"../MEDIA/2.58.7.16.png\"style=\"width:80%\">\n",
    "    </div>\n",
    "    <div class=\"dcha\">\n",
    "        <div class=\"texto\">Una vez obtenido el prisma, para calcularlo tendríamos que descomponerlo en figuras simples de área conocida. En este caso no sería una suma, sino una resta y después lo multiplicaríamos por la profundidad. </div>\n",
    "    </div>\n",
    "</div>\n",
    "\n"
   ]
  },
  {
   "cell_type": "markdown",
   "id": "306e99a5",
   "metadata": {},
   "source": [
    "<div class=\"texto\">Si quisieramos calcular el volumen del prisma, tendriamos que realizar la siguiente resta de areas, y despues multiplicar por la profundidad.</div>\n",
    "    </div>\n",
    "<div>\n",
    "    <img src=\"../MEDIA/2.58.7.17.png\"style=\"width:80%\">\n",
    "</div>"
   ]
  },
  {
   "cell_type": "markdown",
   "id": "6ebb7e54",
   "metadata": {},
   "source": [
    "<h2>8) Fuerza sobre compuerta cilíndrica, fluido 1 con superficie libre, fluido 2 con vacío.</h2>"
   ]
  },
  {
   "cell_type": "markdown",
   "id": "44473858",
   "metadata": {},
   "source": [
    "<div class=\"split\">\n",
    "    <div class=\"izq\"><img src=\"../MEDIA/2.58.8.1.png\" style=\"width:80%\"></div>\n",
    "    <div class=\"dcha\">\n",
    "    <div class=\"texto\"><p>En el apartado 8 tenemos una compuerta cilíndrica sometida a las fuerzas hidrostáticas de dos fluidos. El fluido s=1 con superficie libre y el fluido s=2 con vacío. Analizaremos cada fuerza del mismo modo que el apartado anterior.</p>    \n",
    "    </div>\n",
    "</div>"
   ]
  },
  {
   "cell_type": "markdown",
   "id": "0c030972",
   "metadata": {},
   "source": [
    "<div class=\"texto\"><p>Antes de empezar acotamos:</p> </div>\n",
    "<div class=\"split\">\n",
    "    <div class=\"izq\"><img src=\"../MEDIA/2.58.8.2.png\"style=\"width:80%\"></div>\n",
    "    <div class=\"dcha\">\n",
    "        <div class=\"texto\">\n",
    "            Estudiaremos primero las fuerzas horizontales sobre la superficie curva. En este caso hemos de analizar  la fuerza horizontal del fluido $s_{_2}$ sobre la superficie BD, y después la fuerza horizontal del agua sobre las superficies FD y BF.\n",
    "        </div>\n",
    "    </div>\n",
    "</div>"
   ]
  },
  {
   "cell_type": "markdown",
   "id": "16c57ac6",
   "metadata": {},
   "source": [
    "<h3>FUERZAS HORIZONTALES</h3>"
   ]
  },
  {
   "cell_type": "markdown",
   "id": "dabfb22c",
   "metadata": {},
   "source": [
    "<div class=\"split\">\n",
    "    <div class=\"izq\">\n",
    "        <div class=\"texto\"><strong>Superficie DB</strong> </div>\n",
    "        <img src=\"../MEDIA/2.58.8.3.png\"style=\"width:80%\">\n",
    "    </div>\n",
    "        <div class=\"dcha\">\n",
    "        <div class=\"texto\">Para calcular la fuerza horizontal del fluido s_2 sobre la superficie BD, crearemos el prisma sobre su proyección ${BD}^{^\\prime}$. Para ello primero hemos de conocer su longitud.</div>\n",
    "        <div class=\"texto\">Al igual que en el apartado anterior, se trata de un triángulo rectángulo con dos ángulos de $45º$ podemos afirmar que se trata de un triángulo rectángulo isósceles por lo que sus catetos serán iguales (x)</div>\n",
    "    </div>\n",
    "</div>\n"
   ]
  },
  {
   "cell_type": "markdown",
   "id": "81ac838e",
   "metadata": {},
   "source": [
    "<div class=\"split\">\n",
    "    <div class=\"izq\">\n",
    "        <img src=\"../MEDIA/2.58.8.4.png\"style=\"width:80%\">\n",
    "    </div>\n",
    "    <div class=\"dcha\">\n",
    "        <div class=\"texto\">Por Pitágoras:</div>\n",
    "        <div class=\"formulas\">\n",
    "            $$ \n",
    "            h^{^2}=a^{^2}+b^{^2}\\rightarrow h=R ;a=b=x\n",
    "            $$\n",
    "        </div>\n",
    "        <div class=\"formulas\">\n",
    "            $$ \n",
    "            R^{^2}=2x^{^2}\\rightarrow x=\\sqrt{\\frac{R^{^2}}{2}}=\\frac{\\sqrt{2}R}{2}\n",
    "            $$\n",
    "        </div>\n",
    "        <div class=\"formulas\">\n",
    "            $$ \n",
    "            \\overline{{BD}^{^\\prime}}=R+x\n",
    "            $$\n",
    "        </div>\n",
    "    </div>\n",
    "</div>\n"
   ]
  },
  {
   "cell_type": "markdown",
   "id": "b414102b",
   "metadata": {},
   "source": [
    "<div class=\"texto\">Una vez obtenida la longitud de la proyección vertical de la superficie curva procedemos a calcular los valores de las presiones en sus extremos. Partiendo de la superficie de presión 0 del fluido $s_{_2}$, en cota A.</div>\n",
    "<div class=\"formulas\">\n",
    "    $$ \n",
    "    P_{_B}^{^{s_{_2}}}=h_{_B}^{^{s_{_2}}}= R\\ mcl\n",
    "    $$\n",
    "</div>\n",
    "<div class=\"formulas\">\n",
    "    $$ \n",
    "    P_{_D}^{^{s_{_2}}}= h_{_D}^{^{s_{_2}}}=R+R+x\\ mcl=2R+x\\ mcl\n",
    "    $$\n",
    "</div>\n",
    "<div class=\"texto\">Tal y como se ha demostrado antes, para pasar a mca:</div>\n",
    "<div class=\"formulas\">\n",
    "    $$ \n",
    "    h_{_{mca}}=h_{_{s{_{_2}}}}\\cdot s_{_{2}}=2\\cdot h_{_{s{_{_2}}}}\n",
    "    $$\n",
    "</div>\n",
    "<div class=\"texto\">Luego:</div>\n",
    "<div class=\"formulas\">\n",
    "    $$ \n",
    "    P_{_B}^{^{s_{_1}}}=2R\\ mca\n",
    "    $$\n",
    "</div>\n",
    "<div class=\"formulas\">\n",
    "    $$ \n",
    "    P_{_D}^{^{s_{_1}}}=4R+2x\\ mca\n",
    "    $$\n",
    "</div>"
   ]
  },
  {
   "cell_type": "markdown",
   "id": "c1dace3c",
   "metadata": {},
   "source": [
    "<div class=\"texto\">Con estas presiones ya podemos dibujar el prisma.</div>\n",
    "<div>\n",
    "    <img src=\"../MEDIA/2.58.8.5.png\"style=\"width:80%\">\n",
    "</div>"
   ]
  },
  {
   "cell_type": "markdown",
   "id": "f5835db5",
   "metadata": {},
   "source": [
    "<div class=\"split\">\n",
    "    <div class=\"izq\">\n",
    "        <div class=\"texto\"><strong>Superficie FD y BF.</strong> </div>\n",
    "        <img src=\"../MEDIA/2.58.8.7.png\"style=\"width:80%\">\n",
    "    </div>\n",
    "        <div class=\"dcha\">\n",
    "                    <img src=\"../MEDIA/2.58.8.8.png\"style=\"width:60%\">\n",
    "        <div class=\"texto\">Estudiamos un punto G el cual se encuentra a la misma cota que D y dividimos la superficie $\\overline{BF}$ en dos, siendo estas $\\overline{BG}$ y $\\overline{GF}$.</div>\n",
    "    </div>\n",
    "</div>\n"
   ]
  },
  {
   "cell_type": "markdown",
   "id": "edb12ff2",
   "metadata": {},
   "source": [
    "<div class=\"split\">\n",
    "    <div class=\"izq\">\n",
    "        <div class=\"texto\">Podemos afirmar, tal y como hemos visto en el caso 7, al resultar sus prismas de las mismas dimensiones, que la fuerza hidrostática horizontal que ejerce el agua sobre la superficie $\\overline{GF}$ ser la misma que ejerza sobre la superficie $\\overline{FD}$ en sentido contrario, por lo que se contrarrestan.</div>\n",
    "<div class=\"texto\">Por tanto, solo hace falta estudiar la superficie curva $\\overline{BG}$ que se muestra en la imagen. Para ello como venimos haciendo hasta ahora calcularemos la fuerza horizontal sobre la proyección de la superficie BG, ${BG}^{^{\\prime}}$.</div>\n",
    "        <div class=\"texto\"><strong>NOTA: el valor x es el calculado para la superficie BD.</strong></div> \n",
    "    </div>\n",
    "        <div class=\"dcha\">\n",
    "            <img src=\"../MEDIA/2.58.8.9.png\"style=\"width:80%\">\n",
    "    </div>\n",
    "</div>\n",
    "   "
   ]
  },
  {
   "cell_type": "markdown",
   "id": "848b39f3",
   "metadata": {},
   "source": [
    "<div class=\"texto\">Calculamos las presiones en los puntos B y G. Para ello, partimos del punto presión conocido en el tanque, $P_{_A}^{^{s_{_1}}}=-2R\\ mca$.</div>\n",
    "<div class=\"formulas\">\n",
    "    $$ \n",
    "    P_{_B}^{^{s_{_1}}}=P_{_A}+h_{_B}^{^{s_{_1}}}=-2R +R\\ mca=-R\\ mca\n",
    "    $$\n",
    "</div>\n",
    "<div class=\"formulas\">\n",
    "    $$ \n",
    "    P_{_G}^{^{s_{_1}}}=P_{_A}+ h_{_G}^{^{s_{_1}}}=-2R +R+R+x\\ mca=x\\ mca\n",
    "    $$\n",
    "</div>\n"
   ]
  },
  {
   "cell_type": "markdown",
   "id": "37aa176e",
   "metadata": {},
   "source": [
    "<div class=\"texto\">Con los datos de la presión y la longitud de la base del prisma, ya podemos dibujarlo.</div>\n",
    "<div>\n",
    "    <img src=\"../MEDIA/2.58.8.10.png\"style=\"width:60%\">\n",
    "</div>"
   ]
  },
  {
   "cell_type": "markdown",
   "id": "d01dcadb",
   "metadata": {},
   "source": [
    "<h3>FUERZAS VERTICALES</h3>\n",
    "<div class=\"texto\">Analizaremos primero la componente vertical de la fuerza hidrostática  que ejerce el fluido $s_{_2}$ sobre la compuerta.</div>\n",
    "<div class=\"split\">\n",
    "    <div class=\"izq\">\n",
    "        <img src=\"../MEDIA/2.58.8.11.png\"style=\"width:80%\">\n",
    "    </div>\n",
    "    <div class=\"dcha\">\n",
    "        <div class=\"texto\">Por definición:\n",
    "        </div>\n",
    "        <div class=\"texto\">\"El módulo de la componente vertical de la fuerza de presión sobre una superficie curva <strong>es igual al peso del volumen de líquido</strong> $\\forall$ (real o imaginario) <strong>comprendido entre la superficie curva y la superficie horizontal de presión cero del líquido</strong>.\"\n",
    "        </div>\n",
    "        <div class=\"texto\">La superficie libre en este caso será la cota A. \n",
    "        </div>\n",
    "        <div class=\"texto\">Una vez definido esto, procedemos a calcular los prismas para el empuje hidrostático del agua sobre la superficie curva BC, y la fuerza del peso del agua sobre la superficie CD.\n",
    "        </div>\n",
    "    </div>\n",
    "</div>\n",
    "<div class=\"texto\"><p><strong>NOTA: EL valor x es el calculado en el apartado FUERZAS HORIZONTALES: Superficie DB</strong> $\\rightarrow x=\\frac{\\sqrt{2}R}{2}$  </p> </div>\n"
   ]
  },
  {
   "cell_type": "markdown",
   "id": "ae058939",
   "metadata": {},
   "source": [
    "<div class=\"split\">\n",
    "    <div class=\"izq\">\n",
    "        <div class=\"texto\"><strong>Superficie BC</strong> </div>\n",
    "        <img src=\"../MEDIA/2.58.8.12.png\"style=\"width:90%\">\n",
    "    </div>\n",
    "    <div class=\"dcha\">\n",
    "        <div class=\"texto\"><strong>Superficie CD</strong> </div>\n",
    "        <img src=\"../MEDIA/2.58.8.13.png\"style=\"width:90%\">\n",
    "    </div>\n",
    "</div>"
   ]
  },
  {
   "cell_type": "markdown",
   "id": "656b0e74",
   "metadata": {},
   "source": [
    "<div class=\"texto\">Estos son los prismas que obtenemos.</div>"
   ]
  },
  {
   "cell_type": "markdown",
   "id": "e7d9fbd5",
   "metadata": {},
   "source": [
    "<div class=\"split\">\n",
    "    <div class=\"izq\">\n",
    "        <div class=\"texto\"><strong>Superficie BC</strong> </div>\n",
    "        <img src=\"../MEDIA/2.58.8.14.png\"style=\"width:50%\">\n",
    "    </div>\n",
    "    <div class=\"dcha\">\n",
    "        <div class=\"texto\"><strong>Superficie CD</strong> </div>\n",
    "        <img src=\"../MEDIA/2.58.8.15.png\"style=\"width:50%\">\n",
    "    </div>\n",
    "</div>"
   ]
  },
  {
   "cell_type": "markdown",
   "id": "386fee95",
   "metadata": {},
   "source": [
    "<div class=\"texto\">Ahora pasaremos a calcular la fuerza hidrostática vertical que ejerce el fluido $s_{_1}$ sobre la compuerta cilíndrica.</div>"
   ]
  },
  {
   "cell_type": "markdown",
   "id": "3e6d4636",
   "metadata": {},
   "source": [
    "<div class=\"split\">\n",
    "    <div class=\"izq\">\n",
    "        <div class=\"texto\"><strong>Superficies BD y DE</strong> </div>\n",
    "        <img src=\"../MEDIA/2.58.8.16.png\"style=\"width:80%\">\n",
    "    </div>\n",
    "    <div class=\"dcha\">\n",
    "        <div class=\"texto\">En este caso no es tan claro el cómo dibujar los prismas debido a que tenemos un vacío en el tanque con agua. Lo mejor para ello es aplicar la definición al pie de la letra. Recordemos que:</div>\n",
    "        <div class=\"texto\">\"El módulo de la componente vertical de la fuerza de presión sobre una superficie curva <strong>es igual al peso del volumen de líquido</strong> $\\forall$ (real o imaginario) <strong>comprendido entre la superficie curva y la superficie horizontal de presión cero del líquido</strong>.\"\n",
    "        </div>\n",
    "        <div class=\"texto\">Tenemos que definir donde se encuentra el plano de presión 0, que, como su nombre indica, será aquel con una presión nula. Partiendo del único punto de presión conocida $P_{_A}^{^{s_{_1}}}=-2R\\ mca$ tendremos que aumentar la cota 2R para alcanzar una cota $P_{_0}^{^{s_{_1}}}=0\\ mca$.\n",
    "        </div>           \n",
    "    </div>\n",
    "</div>"
   ]
  },
  {
   "cell_type": "markdown",
   "id": "07ae7575",
   "metadata": {},
   "source": [
    "<div class=\"split\">\n",
    "    <div class=\"izq\">\n",
    "        <img src=\"../MEDIA/2.58.8.17.png\"style=\"width:80%\">\n",
    "    </div>\n",
    "    <div class=\"dcha\">\n",
    "        <div class=\"texto\">Una vez obtenida la superficie libre, ya podemos acotar las distancias hasta las superficies, para así poder calcular el peso del volumen comprendido entre la superficie curva y el plano de presión cero del líquido, tal y como indica la teoría.</div>\n",
    "                <div class=\"texto\">Con esto hecho, se procede a dibujar los prismas. </div>\n",
    "    </div>\n",
    "</div>\n",
    "\n"
   ]
  },
  {
   "cell_type": "markdown",
   "id": "68e36198",
   "metadata": {},
   "source": [
    "<div class=\"split\">\n",
    "    <div class=\"izq\">\n",
    "        <div class=\"texto\"><strong>Superficie BE</strong> </div>\n",
    "        <img src=\"../MEDIA/2.58.8.18.png\"style=\"width:80%\">\n",
    "    </div>\n",
    "    <div class=\"dcha\">\n",
    "        <div class=\"texto\"><strong>Superficie ED</strong> </div>\n",
    "        <img src=\"../MEDIA/2.58.8.19.png\"style=\"width:80%\">\n",
    "    </div>\n",
    "</div>"
   ]
  },
  {
   "cell_type": "markdown",
   "id": "70bc0242",
   "metadata": {},
   "source": [
    "<div class=\"texto\">Estos son los prismas que obtenemos.</div>"
   ]
  },
  {
   "cell_type": "markdown",
   "id": "4f3e43a3",
   "metadata": {},
   "source": [
    "<div class=\"split\">\n",
    "    <div class=\"izq\">\n",
    "        <div class=\"texto\"><strong>Superficie BC</strong> </div>\n",
    "        <img src=\"../MEDIA/2.58.8.20.png\"style=\"width:50%\">\n",
    "    </div>\n",
    "    <div class=\"dcha\">\n",
    "        <div class=\"texto\"><strong>Superficie CD</strong> </div>\n",
    "        <img src=\"../MEDIA/2.58.8.21.png\"style=\"width:50%\">\n",
    "    </div>\n",
    "</div>"
   ]
  },
  {
   "cell_type": "markdown",
   "id": "0dd6e108",
   "metadata": {},
   "source": [
    "<div class=\"texto\">Si quisiéramos calcular el volumen del prisma, tendríamos que sumar el área de un triángulo rectángulo isósceles de catetos igual a $x$ más el área de $3/8$ del área de un círculo de radio $R$. Después tendríamos que multiplicar por la profundidad.</div>\n",
    "<div>\n",
    "    <img src=\"../MEDIA/2.58.8.22.png\"style=\"width:80%\">\n",
    "</div>"
   ]
  },
  {
   "cell_type": "code",
   "execution_count": 2,
   "id": "a5aaa13e",
   "metadata": {},
   "outputs": [
    {
     "data": {
      "text/html": [
       "\n",
       "<a href=\"javascript:code_toggle()\">Mostrar/ocultar celdas de código</a>."
      ],
      "text/plain": [
       "<IPython.core.display.HTML object>"
      ]
     },
     "execution_count": 2,
     "metadata": {},
     "output_type": "execute_result"
    }
   ],
   "source": [
    "from IPython.display import HTML\n",
    "HTML('''\n",
    "<a href=\"javascript:code_toggle()\">Mostrar/ocultar celdas de código</a>.''')"
   ]
  },
  {
   "cell_type": "markdown",
   "id": "dba4509b",
   "metadata": {},
   "source": [
    "[Volver al enunciado.](#enunciado)"
   ]
  },
  {
   "cell_type": "code",
   "execution_count": 3,
   "id": "9f3507ed",
   "metadata": {},
   "outputs": [
    {
     "data": {
      "text/html": [
       "\n",
       "<script>\n",
       "window.location=\"Ejer1_Introduccion_fuerzas_sobre_superficies_Prismas.ipynb#enunciado\";\n",
       "</script>"
      ],
      "text/plain": [
       "<IPython.core.display.HTML object>"
      ]
     },
     "execution_count": 3,
     "metadata": {},
     "output_type": "execute_result"
    }
   ],
   "source": [
    "from IPython.display import HTML\n",
    "HTML('''\n",
    "<script>\n",
    "window.location=\"Ejer1_Introduccion_fuerzas_sobre_superficies_Prismas.ipynb#enunciado\";\n",
    "</script>''')"
   ]
  }
 ],
 "metadata": {
  "kernelspec": {
   "display_name": "Python 3",
   "language": "python",
   "name": "python3"
  },
  "language_info": {
   "codemirror_mode": {
    "name": "ipython",
    "version": 3
   },
   "file_extension": ".py",
   "mimetype": "text/x-python",
   "name": "python",
   "nbconvert_exporter": "python",
   "pygments_lexer": "ipython3",
   "version": "3.8.8"
  },
  "widgets": {
   "application/vnd.jupyter.widget-state+json": {
    "state": {
     "0374c0a7dc5b4149840aefd59a341a57": {
      "model_module": "@jupyter-widgets/controls",
      "model_module_version": "1.5.0",
      "model_name": "TextModel",
      "state": {
       "description": "$b$ (m)",
       "layout": "IPY_MODEL_b1298eba0efe4c838a01b242c381e56f",
       "style": "IPY_MODEL_5bb850481c6e467ab56d2f94048ca634",
       "value": "1"
      }
     },
     "061519b502094a2d8ac209bdeb0d3d77": {
      "model_module": "@jupyter-widgets/controls",
      "model_module_version": "1.5.0",
      "model_name": "DescriptionStyleModel",
      "state": {
       "description_width": ""
      }
     },
     "0c38f8ac23e34b4a8a139edcb4df1505": {
      "model_module": "@jupyter-widgets/base",
      "model_module_version": "1.2.0",
      "model_name": "LayoutModel",
      "state": {}
     },
     "0d47ad22e4db4e97b29d6c1b0e0c6554": {
      "model_module": "@jupyter-widgets/controls",
      "model_module_version": "1.5.0",
      "model_name": "TextModel",
      "state": {
       "description": "$R$ (m)",
       "layout": "IPY_MODEL_8fb92d0f32b54d7c97ce8b72ae9a23e2",
       "style": "IPY_MODEL_9b278a30514846959cd2b0f2db83c57d",
       "value": "1.5"
      }
     },
     "0d841015720c4d07adc07e14dfde496f": {
      "model_module": "@jupyter-widgets/base",
      "model_module_version": "1.2.0",
      "model_name": "LayoutModel",
      "state": {}
     },
     "104dbf941d814b3dac34c2921c2132a4": {
      "model_module": "@jupyter-widgets/controls",
      "model_module_version": "1.5.0",
      "model_name": "DescriptionStyleModel",
      "state": {
       "description_width": ""
      }
     },
     "1209b843714649cfa50ddd183d6ae526": {
      "model_module": "@jupyter-widgets/output",
      "model_module_version": "1.0.0",
      "model_name": "OutputModel",
      "state": {
       "layout": "IPY_MODEL_6c5fac22795d43af9246e9fdfc6d6695",
       "outputs": [
        {
         "name": "stdout",
         "output_type": "stream",
         "text": "Pulsa para actualizar los campos de texto\n"
        }
       ]
      }
     },
     "13e890977cfc41a19c6d1a8612cf1b97": {
      "model_module": "@jupyter-widgets/base",
      "model_module_version": "1.2.0",
      "model_name": "LayoutModel",
      "state": {}
     },
     "17c32081f4de424291f1f429986a0c46": {
      "model_module": "@jupyter-widgets/controls",
      "model_module_version": "1.5.0",
      "model_name": "DescriptionStyleModel",
      "state": {
       "description_width": ""
      }
     },
     "17cff14affaf4f37bd26a737fb87e1e1": {
      "model_module": "@jupyter-widgets/controls",
      "model_module_version": "1.5.0",
      "model_name": "VBoxModel",
      "state": {
       "_dom_classes": [
        "widget-interact"
       ],
       "children": [
        "IPY_MODEL_bc203bd07bea4394845c53ff558a7a86",
        "IPY_MODEL_0d47ad22e4db4e97b29d6c1b0e0c6554",
        "IPY_MODEL_0374c0a7dc5b4149840aefd59a341a57",
        "IPY_MODEL_27ce29b2d51d45c5be5a2dec4bbad26d",
        "IPY_MODEL_e2c46a169f1f4f3689cb16a54b542db9"
       ],
       "layout": "IPY_MODEL_2253ab1b449c49f3a9d62bd8e5360d30"
      }
     },
     "1eb56dfbfb0346bda9be706dfcdcd31a": {
      "model_module": "@jupyter-widgets/controls",
      "model_module_version": "1.5.0",
      "model_name": "VBoxModel",
      "state": {
       "_dom_classes": [
        "widget-interact"
       ],
       "children": [
        "IPY_MODEL_f8c495c82e504aeebce5280c15adf349",
        "IPY_MODEL_22885e7ea44e427ab7db1faed414f85b",
        "IPY_MODEL_9abdb63d1d904733b40f880d417549c3",
        "IPY_MODEL_ab5650b6e36844e7a93fa1c7e16d5230",
        "IPY_MODEL_339f7174f0eb41449984508c6c23a624"
       ],
       "layout": "IPY_MODEL_46037cc639d743eb964e9674938c61c4"
      }
     },
     "1eb758b63d844c1b9cccc80d03bbaa3a": {
      "model_module": "@jupyter-widgets/base",
      "model_module_version": "1.2.0",
      "model_name": "LayoutModel",
      "state": {}
     },
     "21f16b97da404cee8b3f7b0aa313837e": {
      "model_module": "@jupyter-widgets/base",
      "model_module_version": "1.2.0",
      "model_name": "LayoutModel",
      "state": {}
     },
     "21fce6a775954e2395151ce6a4e10c08": {
      "model_module": "@jupyter-widgets/controls",
      "model_module_version": "1.5.0",
      "model_name": "DescriptionStyleModel",
      "state": {
       "description_width": ""
      }
     },
     "2253ab1b449c49f3a9d62bd8e5360d30": {
      "model_module": "@jupyter-widgets/base",
      "model_module_version": "1.2.0",
      "model_name": "LayoutModel",
      "state": {}
     },
     "22885e7ea44e427ab7db1faed414f85b": {
      "model_module": "@jupyter-widgets/controls",
      "model_module_version": "1.5.0",
      "model_name": "TextModel",
      "state": {
       "description": "$R$ (m)",
       "layout": "IPY_MODEL_360903fa2be94b089aceea64cba04cc8",
       "style": "IPY_MODEL_4c187f55dc12482eab25dbefc02ec26f",
       "value": "1.5"
      }
     },
     "271725a43a644539a1e5376f3214ab32": {
      "model_module": "@jupyter-widgets/base",
      "model_module_version": "1.2.0",
      "model_name": "LayoutModel",
      "state": {}
     },
     "27cbf7514ba14a03a6eaff4f76b85abe": {
      "model_module": "@jupyter-widgets/base",
      "model_module_version": "1.2.0",
      "model_name": "LayoutModel",
      "state": {}
     },
     "27ce29b2d51d45c5be5a2dec4bbad26d": {
      "model_module": "@jupyter-widgets/controls",
      "model_module_version": "1.5.0",
      "model_name": "TextModel",
      "state": {
       "description": "$s_{_1}$",
       "layout": "IPY_MODEL_4f0f85d8ee3b4cfba00d9267cc0ba43a",
       "style": "IPY_MODEL_7077d0cec3754185863c025ecb61575d",
       "value": "1"
      }
     },
     "2d143e6eb25f44e7b72b76f8de9da580": {
      "model_module": "@jupyter-widgets/controls",
      "model_module_version": "1.5.0",
      "model_name": "TextModel",
      "state": {
       "description": "$x$ (m)",
       "layout": "IPY_MODEL_f4ef025142e64ec4a895b17091a4c7e1",
       "style": "IPY_MODEL_7861088fddb84b2aa12d4b137e7e5298",
       "value": "0.5"
      }
     },
     "2eb2866bf8c2404da11df0c31bd612fb": {
      "model_module": "@jupyter-widgets/controls",
      "model_module_version": "1.5.0",
      "model_name": "VBoxModel",
      "state": {
       "_dom_classes": [
        "widget-interact"
       ],
       "children": [
        "IPY_MODEL_449cf1e2c440465c931cf9630dba2ec2",
        "IPY_MODEL_f56e3bf4caae4a8dbd58f59de1a1ff86",
        "IPY_MODEL_301fc292c64c479cbc642f57e4783a87"
       ],
       "layout": "IPY_MODEL_4dc96db9bad64e63a71967ba583d53f5"
      }
     },
     "301fc292c64c479cbc642f57e4783a87": {
      "model_module": "@jupyter-widgets/output",
      "model_module_version": "1.0.0",
      "model_name": "OutputModel",
      "state": {
       "layout": "IPY_MODEL_271725a43a644539a1e5376f3214ab32",
       "outputs": [
        {
         "name": "stdout",
         "output_type": "stream",
         "text": "Pulsa para actualizar los campos de texto\n"
        }
       ]
      }
     },
     "336855a207db4f51a68be3090c4de253": {
      "model_module": "@jupyter-widgets/base",
      "model_module_version": "1.2.0",
      "model_name": "LayoutModel",
      "state": {}
     },
     "339f7174f0eb41449984508c6c23a624": {
      "model_module": "@jupyter-widgets/output",
      "model_module_version": "1.0.0",
      "model_name": "OutputModel",
      "state": {
       "layout": "IPY_MODEL_0c38f8ac23e34b4a8a139edcb4df1505",
       "outputs": [
        {
         "name": "stdout",
         "output_type": "stream",
         "text": "Pulsa para actualizar los campos de texto\n"
        }
       ]
      }
     },
     "34160ebb82bd4d7ca1df325965778ad6": {
      "model_module": "@jupyter-widgets/controls",
      "model_module_version": "1.5.0",
      "model_name": "TextModel",
      "state": {
       "description": "$W$ (Kgf)",
       "layout": "IPY_MODEL_4dada56030f741c8b370073a5e789fe7",
       "style": "IPY_MODEL_061519b502094a2d8ac209bdeb0d3d77",
       "value": "562.5"
      }
     },
     "360903fa2be94b089aceea64cba04cc8": {
      "model_module": "@jupyter-widgets/base",
      "model_module_version": "1.2.0",
      "model_name": "LayoutModel",
      "state": {}
     },
     "3957d5fcea494a2c802f8f6669a11383": {
      "model_module": "@jupyter-widgets/base",
      "model_module_version": "1.2.0",
      "model_name": "LayoutModel",
      "state": {}
     },
     "3b91795f8ecb4beb9d787676a6a86516": {
      "model_module": "@jupyter-widgets/base",
      "model_module_version": "1.2.0",
      "model_name": "LayoutModel",
      "state": {}
     },
     "41f2c6a83a7f484cb305b75597794993": {
      "model_module": "@jupyter-widgets/output",
      "model_module_version": "1.0.0",
      "model_name": "OutputModel",
      "state": {
       "layout": "IPY_MODEL_5d629a0c72974723bcaed52416617ba2",
       "outputs": [
        {
         "name": "stdout",
         "output_type": "stream",
         "text": "Pulsa para actualizar los campos de texto\n"
        }
       ]
      }
     },
     "449cf1e2c440465c931cf9630dba2ec2": {
      "model_module": "@jupyter-widgets/controls",
      "model_module_version": "1.5.0",
      "model_name": "TextModel",
      "state": {
       "description": "$W$ (Kgf)",
       "layout": "IPY_MODEL_d3f5a9a3a72349c9b9810fe09211f854",
       "style": "IPY_MODEL_95585585f7044464b45e7683c8be56a3",
       "value": "562.5"
      }
     },
     "45ad4eb6519f4cca914b2aeb6bb9c55c": {
      "model_module": "@jupyter-widgets/base",
      "model_module_version": "1.2.0",
      "model_name": "LayoutModel",
      "state": {}
     },
     "46037cc639d743eb964e9674938c61c4": {
      "model_module": "@jupyter-widgets/base",
      "model_module_version": "1.2.0",
      "model_name": "LayoutModel",
      "state": {}
     },
     "4948d10690eb49b09064c4c22b4ef95f": {
      "model_module": "@jupyter-widgets/controls",
      "model_module_version": "1.5.0",
      "model_name": "TextModel",
      "state": {
       "description": "$W$ (Kgf)",
       "layout": "IPY_MODEL_45ad4eb6519f4cca914b2aeb6bb9c55c",
       "style": "IPY_MODEL_b5b9b0aed8314e04898db6f971f6ebff",
       "value": "2222222222"
      }
     },
     "4ad5486e0f0d468eb7195e8769450c1f": {
      "model_module": "@jupyter-widgets/base",
      "model_module_version": "1.2.0",
      "model_name": "LayoutModel",
      "state": {}
     },
     "4be4ca806c5046929c77983037ec03d8": {
      "model_module": "@jupyter-widgets/controls",
      "model_module_version": "1.5.0",
      "model_name": "DescriptionStyleModel",
      "state": {
       "description_width": ""
      }
     },
     "4c187f55dc12482eab25dbefc02ec26f": {
      "model_module": "@jupyter-widgets/controls",
      "model_module_version": "1.5.0",
      "model_name": "DescriptionStyleModel",
      "state": {
       "description_width": ""
      }
     },
     "4c2e45627a0d47149724307c2b1fc110": {
      "model_module": "@jupyter-widgets/base",
      "model_module_version": "1.2.0",
      "model_name": "LayoutModel",
      "state": {}
     },
     "4dada56030f741c8b370073a5e789fe7": {
      "model_module": "@jupyter-widgets/base",
      "model_module_version": "1.2.0",
      "model_name": "LayoutModel",
      "state": {}
     },
     "4dc96db9bad64e63a71967ba583d53f5": {
      "model_module": "@jupyter-widgets/base",
      "model_module_version": "1.2.0",
      "model_name": "LayoutModel",
      "state": {}
     },
     "4f0f85d8ee3b4cfba00d9267cc0ba43a": {
      "model_module": "@jupyter-widgets/base",
      "model_module_version": "1.2.0",
      "model_name": "LayoutModel",
      "state": {}
     },
     "4faaef1626804ffca0ed2f5a87dde265": {
      "model_module": "@jupyter-widgets/controls",
      "model_module_version": "1.5.0",
      "model_name": "TextModel",
      "state": {
       "description": "$x$ (m)",
       "layout": "IPY_MODEL_3b91795f8ecb4beb9d787676a6a86516",
       "style": "IPY_MODEL_ce44e1e4821d49d3979ba12f229f8398",
       "value": "0.5"
      }
     },
     "51d2c99111af44a99fdd6e2e56a2f318": {
      "model_module": "@jupyter-widgets/controls",
      "model_module_version": "1.5.0",
      "model_name": "TextModel",
      "state": {
       "description": "$x$ (m)",
       "layout": "IPY_MODEL_e235a1412a7e46f884acc79f31c4e3c9",
       "style": "IPY_MODEL_4be4ca806c5046929c77983037ec03d8",
       "value": "0.5"
      }
     },
     "5bb850481c6e467ab56d2f94048ca634": {
      "model_module": "@jupyter-widgets/controls",
      "model_module_version": "1.5.0",
      "model_name": "DescriptionStyleModel",
      "state": {
       "description_width": ""
      }
     },
     "5d49dac3f0974de399b35f57855b1208": {
      "model_module": "@jupyter-widgets/base",
      "model_module_version": "1.2.0",
      "model_name": "LayoutModel",
      "state": {}
     },
     "5d629a0c72974723bcaed52416617ba2": {
      "model_module": "@jupyter-widgets/base",
      "model_module_version": "1.2.0",
      "model_name": "LayoutModel",
      "state": {}
     },
     "5f451e066a984b11ad4baf7167cab0ba": {
      "model_module": "@jupyter-widgets/controls",
      "model_module_version": "1.5.0",
      "model_name": "VBoxModel",
      "state": {
       "_dom_classes": [
        "widget-interact"
       ],
       "children": [
        "IPY_MODEL_34160ebb82bd4d7ca1df325965778ad6",
        "IPY_MODEL_4faaef1626804ffca0ed2f5a87dde265",
        "IPY_MODEL_62ddd58c300a40ad8dc2cff0e581d43d"
       ],
       "layout": "IPY_MODEL_7f87f01039c54ec08881a6074068610d"
      }
     },
     "61d46497eff04b09a7290077c4f27659": {
      "model_module": "@jupyter-widgets/controls",
      "model_module_version": "1.5.0",
      "model_name": "DescriptionStyleModel",
      "state": {
       "description_width": ""
      }
     },
     "62ddd58c300a40ad8dc2cff0e581d43d": {
      "model_module": "@jupyter-widgets/output",
      "model_module_version": "1.0.0",
      "model_name": "OutputModel",
      "state": {
       "layout": "IPY_MODEL_e1b8405d6b1b480bae2f624b9e322207",
       "outputs": [
        {
         "name": "stdout",
         "output_type": "stream",
         "text": "Pulsa para actualizar los campos de texto\n"
        }
       ]
      }
     },
     "679d4241032246c1a9371b4cc9ad7337": {
      "model_module": "@jupyter-widgets/base",
      "model_module_version": "1.2.0",
      "model_name": "LayoutModel",
      "state": {}
     },
     "6ad09ca03ad047f185d05cddea7ebab8": {
      "model_module": "@jupyter-widgets/controls",
      "model_module_version": "1.5.0",
      "model_name": "TextModel",
      "state": {
       "description": "$W$ (Kgf)",
       "layout": "IPY_MODEL_27cbf7514ba14a03a6eaff4f76b85abe",
       "style": "IPY_MODEL_e96fc60871f5428cbb8fa9811c99bd59",
       "value": "562.5"
      }
     },
     "6c5fac22795d43af9246e9fdfc6d6695": {
      "model_module": "@jupyter-widgets/base",
      "model_module_version": "1.2.0",
      "model_name": "LayoutModel",
      "state": {}
     },
     "6da2f4f86ab949ffa49b03483de0f49b": {
      "model_module": "@jupyter-widgets/controls",
      "model_module_version": "1.5.0",
      "model_name": "VBoxModel",
      "state": {
       "_dom_classes": [
        "widget-interact"
       ],
       "children": [
        "IPY_MODEL_745707514e324f35be4fb558ad8f2a36",
        "IPY_MODEL_7eeb107b377c456b93b228719279b4b6",
        "IPY_MODEL_1209b843714649cfa50ddd183d6ae526"
       ],
       "layout": "IPY_MODEL_3957d5fcea494a2c802f8f6669a11383"
      }
     },
     "7050b39f8f5b453b93663dba1a7cee96": {
      "model_module": "@jupyter-widgets/controls",
      "model_module_version": "1.5.0",
      "model_name": "VBoxModel",
      "state": {
       "_dom_classes": [
        "widget-interact"
       ],
       "children": [
        "IPY_MODEL_d557136cd5644103b92a53cb991a6cab",
        "IPY_MODEL_2d143e6eb25f44e7b72b76f8de9da580",
        "IPY_MODEL_bb14108bcb0d49838ea5a67239973874"
       ],
       "layout": "IPY_MODEL_fcf3ec54e024440192c63071b2a35462"
      }
     },
     "7077d0cec3754185863c025ecb61575d": {
      "model_module": "@jupyter-widgets/controls",
      "model_module_version": "1.5.0",
      "model_name": "DescriptionStyleModel",
      "state": {
       "description_width": ""
      }
     },
     "745707514e324f35be4fb558ad8f2a36": {
      "model_module": "@jupyter-widgets/controls",
      "model_module_version": "1.5.0",
      "model_name": "TextModel",
      "state": {
       "description": "$W$ (Kgf)",
       "layout": "IPY_MODEL_5d49dac3f0974de399b35f57855b1208",
       "style": "IPY_MODEL_104dbf941d814b3dac34c2921c2132a4",
       "value": "562.5"
      }
     },
     "7861088fddb84b2aa12d4b137e7e5298": {
      "model_module": "@jupyter-widgets/controls",
      "model_module_version": "1.5.0",
      "model_name": "DescriptionStyleModel",
      "state": {
       "description_width": ""
      }
     },
     "7eeb107b377c456b93b228719279b4b6": {
      "model_module": "@jupyter-widgets/controls",
      "model_module_version": "1.5.0",
      "model_name": "TextModel",
      "state": {
       "description": "$x$ (m)",
       "layout": "IPY_MODEL_a5c371baa6a94c93a64e7c2e49b94c02",
       "style": "IPY_MODEL_21fce6a775954e2395151ce6a4e10c08",
       "value": "222222222222"
      }
     },
     "7f87f01039c54ec08881a6074068610d": {
      "model_module": "@jupyter-widgets/base",
      "model_module_version": "1.2.0",
      "model_name": "LayoutModel",
      "state": {}
     },
     "7fbd841869684c41a80d08242489c0c7": {
      "model_module": "@jupyter-widgets/base",
      "model_module_version": "1.2.0",
      "model_name": "LayoutModel",
      "state": {}
     },
     "86755c039d0b466aafc9c37c96b34f33": {
      "model_module": "@jupyter-widgets/controls",
      "model_module_version": "1.5.0",
      "model_name": "DescriptionStyleModel",
      "state": {
       "description_width": ""
      }
     },
     "8c76f36bb76f4e6f82f5debcf7a38372": {
      "model_module": "@jupyter-widgets/base",
      "model_module_version": "1.2.0",
      "model_name": "LayoutModel",
      "state": {}
     },
     "8fb92d0f32b54d7c97ce8b72ae9a23e2": {
      "model_module": "@jupyter-widgets/base",
      "model_module_version": "1.2.0",
      "model_name": "LayoutModel",
      "state": {}
     },
     "95585585f7044464b45e7683c8be56a3": {
      "model_module": "@jupyter-widgets/controls",
      "model_module_version": "1.5.0",
      "model_name": "DescriptionStyleModel",
      "state": {
       "description_width": ""
      }
     },
     "9abdb63d1d904733b40f880d417549c3": {
      "model_module": "@jupyter-widgets/controls",
      "model_module_version": "1.5.0",
      "model_name": "TextModel",
      "state": {
       "description": "$b$ (m)",
       "layout": "IPY_MODEL_b1f2cf7305ea4fa3aec89ca9cd30bdb2",
       "style": "IPY_MODEL_86755c039d0b466aafc9c37c96b34f33",
       "value": "1"
      }
     },
     "9b278a30514846959cd2b0f2db83c57d": {
      "model_module": "@jupyter-widgets/controls",
      "model_module_version": "1.5.0",
      "model_name": "DescriptionStyleModel",
      "state": {
       "description_width": ""
      }
     },
     "9e3f6c7e14a243b9b9d37a9e4b178a98": {
      "model_module": "@jupyter-widgets/output",
      "model_module_version": "1.0.0",
      "model_name": "OutputModel",
      "state": {
       "layout": "IPY_MODEL_e8d0aab9810445cda135d6555e87fbbc",
       "outputs": [
        {
         "name": "stdout",
         "output_type": "stream",
         "text": "Pulsa para actualizar los campos de texto\n"
        }
       ]
      }
     },
     "a42b921f69784edf916ee639269fcf28": {
      "model_module": "@jupyter-widgets/controls",
      "model_module_version": "1.5.0",
      "model_name": "VBoxModel",
      "state": {
       "_dom_classes": [
        "widget-interact"
       ],
       "children": [
        "IPY_MODEL_b86ddb88fbda40e9a9461baec0988941",
        "IPY_MODEL_d90f87161aa940e4bad194f92f2b151a",
        "IPY_MODEL_41f2c6a83a7f484cb305b75597794993"
       ],
       "layout": "IPY_MODEL_1eb758b63d844c1b9cccc80d03bbaa3a"
      }
     },
     "a52e7851e7f44b1cb3626dab82c27096": {
      "model_module": "@jupyter-widgets/base",
      "model_module_version": "1.2.0",
      "model_name": "LayoutModel",
      "state": {}
     },
     "a5c371baa6a94c93a64e7c2e49b94c02": {
      "model_module": "@jupyter-widgets/base",
      "model_module_version": "1.2.0",
      "model_name": "LayoutModel",
      "state": {}
     },
     "ab5650b6e36844e7a93fa1c7e16d5230": {
      "model_module": "@jupyter-widgets/controls",
      "model_module_version": "1.5.0",
      "model_name": "TextModel",
      "state": {
       "description": "$s_{_1}$",
       "layout": "IPY_MODEL_4ad5486e0f0d468eb7195e8769450c1f",
       "style": "IPY_MODEL_f0265f7384e746a7a6650e34fc42254f",
       "value": "1"
      }
     },
     "b1298eba0efe4c838a01b242c381e56f": {
      "model_module": "@jupyter-widgets/base",
      "model_module_version": "1.2.0",
      "model_name": "LayoutModel",
      "state": {}
     },
     "b1f2cf7305ea4fa3aec89ca9cd30bdb2": {
      "model_module": "@jupyter-widgets/base",
      "model_module_version": "1.2.0",
      "model_name": "LayoutModel",
      "state": {}
     },
     "b2176f7ccb1a4c9186c5fb9ee54ae77c": {
      "model_module": "@jupyter-widgets/base",
      "model_module_version": "1.2.0",
      "model_name": "LayoutModel",
      "state": {}
     },
     "b4bbd821d09d415e83743d5c66ce6499": {
      "model_module": "@jupyter-widgets/output",
      "model_module_version": "1.0.0",
      "model_name": "OutputModel",
      "state": {
       "layout": "IPY_MODEL_a52e7851e7f44b1cb3626dab82c27096",
       "outputs": [
        {
         "name": "stdout",
         "output_type": "stream",
         "text": "Pulsa para actualizar los campos de texto\n"
        }
       ]
      }
     },
     "b5b9b0aed8314e04898db6f971f6ebff": {
      "model_module": "@jupyter-widgets/controls",
      "model_module_version": "1.5.0",
      "model_name": "DescriptionStyleModel",
      "state": {
       "description_width": ""
      }
     },
     "b86ddb88fbda40e9a9461baec0988941": {
      "model_module": "@jupyter-widgets/controls",
      "model_module_version": "1.5.0",
      "model_name": "TextModel",
      "state": {
       "description": "$W$ (Kgf)",
       "layout": "IPY_MODEL_faf93120693947cdbc9c23c3a60545c2",
       "style": "IPY_MODEL_ecb39a6d4c854f9fb5e37d9b43f8aeec",
       "value": "562.5"
      }
     },
     "bb14108bcb0d49838ea5a67239973874": {
      "model_module": "@jupyter-widgets/output",
      "model_module_version": "1.0.0",
      "model_name": "OutputModel",
      "state": {
       "layout": "IPY_MODEL_f5910bf7910e4ff3874de6192f13bc06",
       "outputs": [
        {
         "name": "stdout",
         "output_type": "stream",
         "text": "Pulsa para actualizar los campos de texto\n"
        }
       ]
      }
     },
     "bc203bd07bea4394845c53ff558a7a86": {
      "model_module": "@jupyter-widgets/controls",
      "model_module_version": "1.5.0",
      "model_name": "TextModel",
      "state": {
       "description": "$h$ (m)",
       "layout": "IPY_MODEL_679d4241032246c1a9371b4cc9ad7337",
       "style": "IPY_MODEL_c37b005c831a4cd1917882b59bff6b16",
       "value": "2"
      }
     },
     "bd166978d6124fad8d9640544102b185": {
      "model_module": "@jupyter-widgets/controls",
      "model_module_version": "1.5.0",
      "model_name": "DescriptionStyleModel",
      "state": {
       "description_width": ""
      }
     },
     "c37b005c831a4cd1917882b59bff6b16": {
      "model_module": "@jupyter-widgets/controls",
      "model_module_version": "1.5.0",
      "model_name": "DescriptionStyleModel",
      "state": {
       "description_width": ""
      }
     },
     "cce1e2a353e144af9068579ed03857e5": {
      "model_module": "@jupyter-widgets/base",
      "model_module_version": "1.2.0",
      "model_name": "LayoutModel",
      "state": {}
     },
     "ce44e1e4821d49d3979ba12f229f8398": {
      "model_module": "@jupyter-widgets/controls",
      "model_module_version": "1.5.0",
      "model_name": "DescriptionStyleModel",
      "state": {
       "description_width": ""
      }
     },
     "cec31c44b398405b8e2b788286409b75": {
      "model_module": "@jupyter-widgets/controls",
      "model_module_version": "1.5.0",
      "model_name": "VBoxModel",
      "state": {
       "_dom_classes": [
        "widget-interact"
       ],
       "children": [
        "IPY_MODEL_4948d10690eb49b09064c4c22b4ef95f",
        "IPY_MODEL_ef7d2d700a1a40e79b061b517c532911",
        "IPY_MODEL_9e3f6c7e14a243b9b9d37a9e4b178a98"
       ],
       "layout": "IPY_MODEL_336855a207db4f51a68be3090c4de253"
      }
     },
     "d1039efb1c7745778bad05730367a034": {
      "model_module": "@jupyter-widgets/controls",
      "model_module_version": "1.5.0",
      "model_name": "DescriptionStyleModel",
      "state": {
       "description_width": ""
      }
     },
     "d26e0b3c3d5447b99a72d3df4a962c8f": {
      "model_module": "@jupyter-widgets/controls",
      "model_module_version": "1.5.0",
      "model_name": "TextModel",
      "state": {
       "description": "$W$ (Kgf)",
       "layout": "IPY_MODEL_dfcd63cd272c4693bc3d4bc809bcfd57",
       "style": "IPY_MODEL_df126470e8e4424aa6a827f72c51e8a0",
       "value": "562.5"
      }
     },
     "d29cab37f88d46f688be68538b4b6c0a": {
      "model_module": "@jupyter-widgets/controls",
      "model_module_version": "1.5.0",
      "model_name": "VBoxModel",
      "state": {
       "_dom_classes": [
        "widget-interact"
       ],
       "children": [
        "IPY_MODEL_6ad09ca03ad047f185d05cddea7ebab8",
        "IPY_MODEL_51d2c99111af44a99fdd6e2e56a2f318",
        "IPY_MODEL_df70eab507fa43099584b7331edce519"
       ],
       "layout": "IPY_MODEL_8c76f36bb76f4e6f82f5debcf7a38372"
      }
     },
     "d3f5a9a3a72349c9b9810fe09211f854": {
      "model_module": "@jupyter-widgets/base",
      "model_module_version": "1.2.0",
      "model_name": "LayoutModel",
      "state": {}
     },
     "d557136cd5644103b92a53cb991a6cab": {
      "model_module": "@jupyter-widgets/controls",
      "model_module_version": "1.5.0",
      "model_name": "TextModel",
      "state": {
       "description": "$W$ (Kgf)",
       "layout": "IPY_MODEL_0d841015720c4d07adc07e14dfde496f",
       "style": "IPY_MODEL_bd166978d6124fad8d9640544102b185",
       "value": "562.5"
      }
     },
     "d6ada58e1803446784d1e33002a7f3e6": {
      "model_module": "@jupyter-widgets/controls",
      "model_module_version": "1.5.0",
      "model_name": "TextModel",
      "state": {
       "description": "$x$ (m)",
       "layout": "IPY_MODEL_4c2e45627a0d47149724307c2b1fc110",
       "style": "IPY_MODEL_eaafde57062a476b8b1fc0e3dafb3920",
       "value": "0.5"
      }
     },
     "d90f87161aa940e4bad194f92f2b151a": {
      "model_module": "@jupyter-widgets/controls",
      "model_module_version": "1.5.0",
      "model_name": "TextModel",
      "state": {
       "description": "$x$ (m)",
       "layout": "IPY_MODEL_e13d0e40916e4c168a14f7b7cfab9432",
       "style": "IPY_MODEL_d1039efb1c7745778bad05730367a034",
       "value": "0.5"
      }
     },
     "df126470e8e4424aa6a827f72c51e8a0": {
      "model_module": "@jupyter-widgets/controls",
      "model_module_version": "1.5.0",
      "model_name": "DescriptionStyleModel",
      "state": {
       "description_width": ""
      }
     },
     "df70eab507fa43099584b7331edce519": {
      "model_module": "@jupyter-widgets/output",
      "model_module_version": "1.0.0",
      "model_name": "OutputModel",
      "state": {
       "layout": "IPY_MODEL_13e890977cfc41a19c6d1a8612cf1b97",
       "outputs": [
        {
         "name": "stdout",
         "output_type": "stream",
         "text": "Pulsa para actualizar los campos de texto\n"
        }
       ]
      }
     },
     "dfcd63cd272c4693bc3d4bc809bcfd57": {
      "model_module": "@jupyter-widgets/base",
      "model_module_version": "1.2.0",
      "model_name": "LayoutModel",
      "state": {}
     },
     "e0ae2bc0e70f44778288a7b25402a8e3": {
      "model_module": "@jupyter-widgets/controls",
      "model_module_version": "1.5.0",
      "model_name": "VBoxModel",
      "state": {
       "_dom_classes": [
        "widget-interact"
       ],
       "children": [
        "IPY_MODEL_d26e0b3c3d5447b99a72d3df4a962c8f",
        "IPY_MODEL_d6ada58e1803446784d1e33002a7f3e6",
        "IPY_MODEL_b4bbd821d09d415e83743d5c66ce6499"
       ],
       "layout": "IPY_MODEL_e8f6e8db008346be9b8ffba4ad710a83"
      }
     },
     "e13d0e40916e4c168a14f7b7cfab9432": {
      "model_module": "@jupyter-widgets/base",
      "model_module_version": "1.2.0",
      "model_name": "LayoutModel",
      "state": {}
     },
     "e1b8405d6b1b480bae2f624b9e322207": {
      "model_module": "@jupyter-widgets/base",
      "model_module_version": "1.2.0",
      "model_name": "LayoutModel",
      "state": {}
     },
     "e235a1412a7e46f884acc79f31c4e3c9": {
      "model_module": "@jupyter-widgets/base",
      "model_module_version": "1.2.0",
      "model_name": "LayoutModel",
      "state": {}
     },
     "e2c46a169f1f4f3689cb16a54b542db9": {
      "model_module": "@jupyter-widgets/output",
      "model_module_version": "1.0.0",
      "model_name": "OutputModel",
      "state": {
       "layout": "IPY_MODEL_cce1e2a353e144af9068579ed03857e5",
       "outputs": [
        {
         "name": "stdout",
         "output_type": "stream",
         "text": "Pulsa para actualizar los campos de texto\n"
        }
       ]
      }
     },
     "e67cb3935b524ef08589ddf8466034d4": {
      "model_module": "@jupyter-widgets/controls",
      "model_module_version": "1.5.0",
      "model_name": "DescriptionStyleModel",
      "state": {
       "description_width": ""
      }
     },
     "e8d0aab9810445cda135d6555e87fbbc": {
      "model_module": "@jupyter-widgets/base",
      "model_module_version": "1.2.0",
      "model_name": "LayoutModel",
      "state": {}
     },
     "e8f6e8db008346be9b8ffba4ad710a83": {
      "model_module": "@jupyter-widgets/base",
      "model_module_version": "1.2.0",
      "model_name": "LayoutModel",
      "state": {}
     },
     "e96fc60871f5428cbb8fa9811c99bd59": {
      "model_module": "@jupyter-widgets/controls",
      "model_module_version": "1.5.0",
      "model_name": "DescriptionStyleModel",
      "state": {
       "description_width": ""
      }
     },
     "eaafde57062a476b8b1fc0e3dafb3920": {
      "model_module": "@jupyter-widgets/controls",
      "model_module_version": "1.5.0",
      "model_name": "DescriptionStyleModel",
      "state": {
       "description_width": ""
      }
     },
     "ecb39a6d4c854f9fb5e37d9b43f8aeec": {
      "model_module": "@jupyter-widgets/controls",
      "model_module_version": "1.5.0",
      "model_name": "DescriptionStyleModel",
      "state": {
       "description_width": ""
      }
     },
     "ef7d2d700a1a40e79b061b517c532911": {
      "model_module": "@jupyter-widgets/controls",
      "model_module_version": "1.5.0",
      "model_name": "TextModel",
      "state": {
       "description": "$x$ (m)",
       "layout": "IPY_MODEL_7fbd841869684c41a80d08242489c0c7",
       "style": "IPY_MODEL_17c32081f4de424291f1f429986a0c46",
       "value": "0.5"
      }
     },
     "f0265f7384e746a7a6650e34fc42254f": {
      "model_module": "@jupyter-widgets/controls",
      "model_module_version": "1.5.0",
      "model_name": "DescriptionStyleModel",
      "state": {
       "description_width": ""
      }
     },
     "f4ef025142e64ec4a895b17091a4c7e1": {
      "model_module": "@jupyter-widgets/base",
      "model_module_version": "1.2.0",
      "model_name": "LayoutModel",
      "state": {}
     },
     "f56e3bf4caae4a8dbd58f59de1a1ff86": {
      "model_module": "@jupyter-widgets/controls",
      "model_module_version": "1.5.0",
      "model_name": "TextModel",
      "state": {
       "description": "$x$ (m)",
       "layout": "IPY_MODEL_21f16b97da404cee8b3f7b0aa313837e",
       "style": "IPY_MODEL_61d46497eff04b09a7290077c4f27659",
       "value": "0.5"
      }
     },
     "f5910bf7910e4ff3874de6192f13bc06": {
      "model_module": "@jupyter-widgets/base",
      "model_module_version": "1.2.0",
      "model_name": "LayoutModel",
      "state": {}
     },
     "f8c495c82e504aeebce5280c15adf349": {
      "model_module": "@jupyter-widgets/controls",
      "model_module_version": "1.5.0",
      "model_name": "TextModel",
      "state": {
       "description": "$h$ (m)",
       "layout": "IPY_MODEL_b2176f7ccb1a4c9186c5fb9ee54ae77c",
       "style": "IPY_MODEL_e67cb3935b524ef08589ddf8466034d4",
       "value": "2"
      }
     },
     "faf93120693947cdbc9c23c3a60545c2": {
      "model_module": "@jupyter-widgets/base",
      "model_module_version": "1.2.0",
      "model_name": "LayoutModel",
      "state": {}
     },
     "fcf3ec54e024440192c63071b2a35462": {
      "model_module": "@jupyter-widgets/base",
      "model_module_version": "1.2.0",
      "model_name": "LayoutModel",
      "state": {}
     }
    },
    "version_major": 2,
    "version_minor": 0
   }
  }
 },
 "nbformat": 4,
 "nbformat_minor": 5
}
