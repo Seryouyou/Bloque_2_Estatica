{
 "cells": [
  {
   "cell_type": "code",
   "execution_count": 1,
   "id": "f2285dd7",
   "metadata": {},
   "outputs": [
    {
     "data": {
      "text/html": [
       "\n",
       "<style>\n",
       "li{\n",
       "    padding:1vh;\n",
       "}\n",
       "\n",
       ".texto{\n",
       "    \n",
       "    text-align: justify;\n",
       "    text-justify: inter-word;\n",
       "    width: 90%;\n",
       "    padding-top: 1vh;\n",
       "    padding-bottom: 1vh; \n",
       "    margin: auto;\n",
       "    \n",
       "}\n",
       ".formulas{\n",
       "    \n",
       "    width: 90%;\n",
       "    padding-top: 1vh;\n",
       "    padding-bottom: 1vh;  \n",
       "    font-size: 20px;\n",
       "    margin: auto;\n",
       "}\n",
       ".resultado{\n",
       "    \n",
       "    width: 90%;\n",
       "    padding-top: 1vh;\n",
       "    padding-bottom: 1vh;  \n",
       "    font-size: 20px;\n",
       "    margin: auto;\n",
       "    border: 4px solid red;\n",
       "    padding:auto;\n",
       "}\n",
       "\n",
       ".antesDe{\n",
       "box-sizing:border-box;\n",
       "border: 2px solid black;\n",
       "background-color: rgba(141, 140, 140, 0.1);\n",
       "font-size:15px;\n",
       "padding:15px;\n",
       "    margin: auto;\n",
       "}\n",
       "\n",
       "ol.enunciado{\n",
       "list-style-type: lower-alpha;\n",
       "}\n",
       "\n",
       ".split{\n",
       "\n",
       "    /* Mostrar la rejilla de la división */\n",
       "    display: grid;\n",
       "\n",
       "    /* Dividir la rejilla en dos columnas y asignar la mitad del espacio \n",
       "    disponible a cada una */\n",
       "    grid-template-columns: 1fr 1fr;\n",
       "\n",
       "    /* Dividir la rejilla en cinco filas y asignar a cada una el espacio \n",
       "    necesario */\n",
       "    grid-template-rows: 1fr;\n",
       "\n",
       "    /* Determinar la posición que tendrá cada celda dentro del contenedor \n",
       "    principal */\n",
       "    grid-template-areas:\"izq    dcha \";\n",
       "\n",
       "    /* Espaciado entre celdas */\n",
       "    grid-gap:0px;   \n",
       "\n",
       "    /* Alinear horizontalmente elementos en las celdas del contenedor */\n",
       "    justify-items:center;\n",
       "\n",
       "    /* Alinear verticalmente elementos en las celdas del contenedor */\n",
       "    align-items: center; \n",
       "    \n",
       "    Width:90%\n",
       "\n",
       "}\n",
       "\n",
       ".split .izq{\n",
       "\n",
       "    /* Atribuir celda(s) a la clase */\n",
       "    grid-area: izq;\n",
       "\n",
       "    /* Centrar temperatura sobre la imagen del display */\n",
       "    position: relative;\n",
       "    \n",
       "    width:100%;\n",
       "}\n",
       ".split .dcha{\n",
       "\n",
       "    /* Atribuir celda(s) a la clase */\n",
       "    grid-area: dcha;\n",
       "\n",
       "    /* Centrar temperatura sobre la imagen del display */\n",
       "    position: relative;\n",
       "    \n",
       "    width:100%;\n",
       "\n",
       "}\n",
       "   \n",
       ".aviso{\n",
       "    display:none;\n",
       "}\n",
       "\n",
       "\n",
       "</style>\n",
       "<script>\n",
       "code_show=true; \n",
       "function code_toggle() {\n",
       " if (code_show){\n",
       " $('div.input').hide();\n",
       " } else {\n",
       " $('div.input').show();\n",
       " }\n",
       " code_show = !code_show\n",
       "} \n",
       "$( document ).ready(code_toggle);\n",
       "</script>\n",
       "<a href=\"javascript:code_toggle()\">Mostrar/ocultar celdas de código</a>."
      ],
      "text/plain": [
       "<IPython.core.display.HTML object>"
      ]
     },
     "execution_count": 1,
     "metadata": {},
     "output_type": "execute_result"
    }
   ],
   "source": [
    "from IPython.display import HTML\n",
    "HTML('''\n",
    "<style>\n",
    "li{\n",
    "    padding:1vh;\n",
    "}\n",
    "\n",
    ".texto{\n",
    "    \n",
    "    text-align: justify;\n",
    "    text-justify: inter-word;\n",
    "    width: 90%;\n",
    "    padding-top: 1vh;\n",
    "    padding-bottom: 1vh; \n",
    "    margin: auto;\n",
    "    \n",
    "}\n",
    ".formulas{\n",
    "    \n",
    "    width: 90%;\n",
    "    padding-top: 1vh;\n",
    "    padding-bottom: 1vh;  \n",
    "    font-size: 20px;\n",
    "    margin: auto;\n",
    "}\n",
    ".resultado{\n",
    "    \n",
    "    width: 90%;\n",
    "    padding-top: 1vh;\n",
    "    padding-bottom: 1vh;  \n",
    "    font-size: 20px;\n",
    "    margin: auto;\n",
    "    border: 4px solid red;\n",
    "    padding:auto;\n",
    "}\n",
    "\n",
    ".antesDe{\n",
    "box-sizing:border-box;\n",
    "border: 2px solid black;\n",
    "background-color: rgba(141, 140, 140, 0.1);\n",
    "font-size:15px;\n",
    "padding:15px;\n",
    "    margin: auto;\n",
    "}\n",
    "\n",
    "ol.enunciado{\n",
    "list-style-type: lower-alpha;\n",
    "}\n",
    "\n",
    ".split{\n",
    "\n",
    "    /* Mostrar la rejilla de la división */\n",
    "    display: grid;\n",
    "\n",
    "    /* Dividir la rejilla en dos columnas y asignar la mitad del espacio \n",
    "    disponible a cada una */\n",
    "    grid-template-columns: 1fr 1fr;\n",
    "\n",
    "    /* Dividir la rejilla en cinco filas y asignar a cada una el espacio \n",
    "    necesario */\n",
    "    grid-template-rows: 1fr;\n",
    "\n",
    "    /* Determinar la posición que tendrá cada celda dentro del contenedor \n",
    "    principal */\n",
    "    grid-template-areas:\"izq    dcha \";\n",
    "\n",
    "    /* Espaciado entre celdas */\n",
    "    grid-gap:0px;   \n",
    "\n",
    "    /* Alinear horizontalmente elementos en las celdas del contenedor */\n",
    "    justify-items:center;\n",
    "\n",
    "    /* Alinear verticalmente elementos en las celdas del contenedor */\n",
    "    align-items: center; \n",
    "    \n",
    "    Width:90%\n",
    "\n",
    "}\n",
    "\n",
    ".split .izq{\n",
    "\n",
    "    /* Atribuir celda(s) a la clase */\n",
    "    grid-area: izq;\n",
    "\n",
    "    /* Centrar temperatura sobre la imagen del display */\n",
    "    position: relative;\n",
    "    \n",
    "    width:100%;\n",
    "}\n",
    ".split .dcha{\n",
    "\n",
    "    /* Atribuir celda(s) a la clase */\n",
    "    grid-area: dcha;\n",
    "\n",
    "    /* Centrar temperatura sobre la imagen del display */\n",
    "    position: relative;\n",
    "    \n",
    "    width:100%;\n",
    "\n",
    "}\n",
    "   \n",
    ".aviso{\n",
    "    display:none;\n",
    "}\n",
    "\n",
    "\n",
    "</style>\n",
    "<script>\n",
    "code_show=true; \n",
    "function code_toggle() {\n",
    " if (code_show){\n",
    " $('div.input').hide();\n",
    " } else {\n",
    " $('div.input').show();\n",
    " }\n",
    " code_show = !code_show\n",
    "} \n",
    "$( document ).ready(code_toggle);\n",
    "</script>\n",
    "<a href=\"javascript:code_toggle()\">Mostrar/ocultar celdas de código</a>.''')"
   ]
  },
  {
   "cell_type": "markdown",
   "id": "7c7cf6eb",
   "metadata": {},
   "source": [
    "<div class=\"texto\"id=\"enunciado\">\n",
    "<p>20/04/15 2.-La compuerta ABCD de la figura, de profundidad $b=1\\ m$, está articulada en el punto $O$, y separa dos líquidos. Se pide:</p>\n",
    "</div>"
   ]
  },
  {
   "cell_type": "markdown",
   "id": "41c0092d",
   "metadata": {},
   "source": [
    "<div class=\"texto\">\n",
    "    <ol>    \n",
    "        <li> Prismas de presiones acotados de la fuerza hidrostática realizada por el fluido de la izquierda $(s_{_1})$ sobre las superficies planas de la compuerta (AB y CD).</li>\n",
    "        <li> Prismas de presiones acotados de la fuerza hidrostática realizada por el fluido de la izquierda $(s_{_1})$ sobre la superficie curva de la compuerta (BC).  </li>\n",
    "        <li> Valor de las componentes horizontal y vertical de la fuerza hidrostática realizada por el fluido de la izquierda $(s_{_1})$ sobre la compuerta (ABCD).</li>\n",
    "        <li> Densidad relativa del fluido de la derecha $(s_{_2})$ para que la compuerta permanezca en equilibrio en la figura.</li>\n",
    "     </ol>\n",
    "</div>\n",
    " "
   ]
  },
  {
   "cell_type": "markdown",
   "id": "816aeea1",
   "metadata": {},
   "source": [
    "<div class=\"texto\">\n",
    "DATOS: \n",
    "$s_{_1}=1$; Peso de la compuerta $W=562,5\\ kg$, $h=2\\ m$, $R=1,5\\ m$, $L=3\\ m$ y $X=0,5\\ m$. \n",
    "</div>\n"
   ]
  },
  {
   "cell_type": "markdown",
   "id": "31486690",
   "metadata": {},
   "source": [
    "<div class=\"dcha\"><img src=\"../MEDIA/20A15.png\" style=\"width:60%\"></div>"
   ]
  },
  {
   "cell_type": "markdown",
   "id": "21064eda",
   "metadata": {},
   "source": [
    "<div class=\"antesDe\">\n",
    "<ul>\n",
    "    <li><strong>CONCEPTOS PREVIOS</strong></li>\n",
    "    <ul>\n",
    "        <li>CONSECUENCIAS DE LA ECUACIÓN FUNDAMENTAL DE LA HIDROSTÁTICA.</li>\n",
    "        <ul>\n",
    "            <li><i>Las superficies de presión constante (superficies isobáricas) son <strong>horizontales.</strong></i></li>\n",
    "            <li><i><strong>La variación de presión en el interior de un líquido en reposo depende de la diferencia de cota</strong>. Al trabajar con líquidos <strong>suele ser conveniente tomar</strong> el origen de coordenadas en <strong>la superficie libre</strong> (nivel de referencia) y <strong>medir las distancias desde la superficie libre hacia abajo</strong>.</i></li>\n",
    "        </ul>\n",
    "                <li>FUERZAS SOBRE SUPERFICIES PLANAS.</li>\n",
    "        <ul> \n",
    "            <li><i><p><strong>Superficie plana horizontal</strong>: La fuerza de presión sobre una superficie plana horizontal<strong> es igual a la fuerza de presión ejercida sobre esa superficie.</strong></p>\n",
    "                <p>El módulo de la resultante $(F_{_H})$ <strong>se puede calcular mediante el prisma de presiones, construido sobre la superficie plana. También</strong> se puede calcular <strong>mediante la siguiente expresión: $F_{_H} = P_{_G}\\cdot A$, siendo $P_{_G}$ la presión en el centroide de la superficie </strong>$A$.</p>\n",
    "                </i></li>\n",
    "            <li><i><strong>Superficie plana vertical</strong>: el módulo de la fuerza de presión sobre una superficie plana vertical <strong>es igual al peso del volumen de líquido</strong> $\\forall$ (real o imaginario) <strong>comprendido entre la superficie plana y la superficie horizontal de presión cero del líquido</strong>.</i>$F_{_V}=\\gamma \\cdot\\forall$</li>         </ul> \n",
    "        <li>FUERZAS SOBRE SUPERFICIES PLANAS INCLINADAS.</li>\n",
    "        <ul> \n",
    "            <li><p>El módulo de la fuerza sobre una superficie plana inclinada se calcula con el prisma de presiones. La base del prisma es la superficie A y la altura del prisma en cada punto es la presión P del fluido en ese punto $(P=h\\cdot\\gamma)$</p>\n",
    "                <p> <strong>También</strong> se puede calcular <strong>mediante la siguiente expresión: $F_{_H} = P_{_G}\\cdot A$, siendo $P_{_G}$ la presión en el centroide de la superficie $A$</strong></p>\n",
    "            </li>         \n",
    "        </ul>     \n",
    "        <li>FUERZAS SOBRE SUPERFICIES CURVAS.</li>\n",
    "        <ul> \n",
    "            <li><i><p><strong>Componente horizontal</strong>: la componente horizontal de la fuerza de presión sobre una superficie curva <strong>es igual a la fuerza de presión ejercida sobre la proyección vertical</strong> de la superficie curva.</p>\n",
    "                <p>El módulo de la resultante de la componente horizontal <strong>$(F_{_H})$ se puede calcular mediante el prisma de presiones, construido sobre la superficie vertical proyetada </strong>$(A^{^\\prime})$. <strong>También</strong> se puede calcular <strong>mediante la siguiente expresión: $F_{_H} = P_{_G}\\cdot A^{^\\prime}$, siendo $P_{_G}$ la presión en el centroide de la superficie proyectada $A^{^\\prime}$</strong></p>\n",
    "                </i></li>\n",
    "            <li><i><strong>Componente vertical</strong>: el módulo de la componente vertical de la fuerza de presión sobre una superficie curva <strong>es igual al peso del volumen de líquido</strong> $\\forall$ (real o imaginario) <strong>comprendido entre la superficie curva y la superficie horizontal de presión cero del líquido</strong>.</i>$F_{_V}=\\gamma \\cdot\\forall$</li>         </ul>        \n",
    "        <li>PRINCIPIO DE ARQUÍMEDES.</li>\n",
    "        <ul> \n",
    "            <li><i><strong>“Todo cuerpo cerrado, parcial o totalmente sumergido en un líquido experimenta un empuje ascensional igual al peso del volumen del líquido que desaloja”</strong>. El centro de acción de este empuje ascensional se encuentra en el centro de gravedad del volumen desalojado. $E=\\gamma \\cdot\\forall$, siendo $\\forall$ el volumen del sólido.</i></li>\n",
    "    </ul>\n",
    "<div>\n",
    "\n"
   ]
  },
  {
   "cell_type": "markdown",
   "id": "e656f9db",
   "metadata": {},
   "source": [
    "<h2>1. Prismas de presiones acotados de la fuerza hidrostática realizada por el fluido de la izquierda $(s_{_1})$ sobre las superficies planas de la compuerta (AB y CD).</h2>"
   ]
  },
  {
   "cell_type": "markdown",
   "id": "2408bea9",
   "metadata": {},
   "source": [
    "<div class=\"texto\"><p>Primero de todo dibujamos los prismas y calculamos las cotas.</p> </div>\n",
    "<div class=\"split\">\n",
    "    <div class=\"izq\"><img src=\"../MEDIA/20A15a.png\"></div>\n",
    "</div>"
   ]
  },
  {
   "cell_type": "markdown",
   "id": "86c0ef62",
   "metadata": {},
   "source": [
    "<div class=\"texto\"><p>Dibujamos los prismas ya acotados.</p> </div>\n",
    "<div class=\"split\">\n",
    "    <div class=\"izq\"><img src=\"../MEDIA/20A15a2.png\"></div>\n",
    "</div>"
   ]
  },
  {
   "cell_type": "markdown",
   "id": "d35c2bc6",
   "metadata": {},
   "source": [
    "<div class=\"texto\"><p>Estos serían los prismas que obtendríamos. </p> </div>\n",
    "<div class=\"split\">\n",
    "    <div class=\"izq\"><img src=\"../MEDIA/20A15a3.png\"></div>\n",
    "    <div class=\"dcha\">\n",
    "        <div class=\"texto\">Partiendo del área de un trapecio obtenemos el valor de los prismas. </div>\n",
    "        <div><img src=\"../MEDIA/20A15a4.png\" style=\"width:40%\"></div>\n",
    "        <div class=\"formulas\">\n",
    "            $$ \n",
    "            A_{_{Trapecio}}=\\frac{a+c}{2}\\cdot h\n",
    "            $$\n",
    "        </div>        \n",
    "    </div>\n",
    "</div>"
   ]
  },
  {
   "cell_type": "markdown",
   "id": "61bfb614",
   "metadata": {},
   "source": [
    "<div class=\"formulas\">\n",
    "    $$ \n",
    "    \\forall_{_{AB}}=A_{_{Trapecio}}\\cdot b=\\left(\\frac{h\\cdot\\gamma_{_1}+(h+R)\\cdot\\gamma_{_1}}{2}\\cdot \\sqrt{2}\\cdot R\\right)\\cdot b\n",
    "    $$\n",
    "</div>\n",
    "<div class=\"formulas\">\n",
    "    $$ \n",
    "    \\forall_{_{AB}}=\\left(h+\\frac{R}{2}\\right)\\cdot \\sqrt{2}\\cdot R\\cdot b\\cdot\\gamma_{_1}\n",
    "    $$\n",
    "</div>\n"
   ]
  },
  {
   "cell_type": "markdown",
   "id": "8cd1582c",
   "metadata": {},
   "source": [
    "<div class=\"formulas\">\n",
    "    $$ \n",
    "    \\forall_{_{CD}}=A_{_{Trapecio}}\\cdot b=\\left(\\frac{(h+R)\\cdot\\gamma_{_1}+(h+2R)\\cdot\\gamma_{_1}}{2}\\cdot \\sqrt{2}\\cdot R\\right)\\cdot b\n",
    "    $$\n",
    "</div>\n",
    "<div class=\"formulas\">\n",
    "    $$ \n",
    "    \\forall_{_{CD}}=\\left(h+\\frac{3R}{2}\\right)\\cdot \\sqrt{2}\\cdot R\\cdot b\\cdot\\gamma_{_1}\n",
    "    $$\n",
    "</div>\n"
   ]
  },
  {
   "cell_type": "code",
   "execution_count": 2,
   "id": "78574e91",
   "metadata": {},
   "outputs": [
    {
     "data": {
      "text/html": [
       "\n",
       "<a href=\"javascript:code_toggle()\">Mostrar/ocultar celdas de código</a>."
      ],
      "text/plain": [
       "<IPython.core.display.HTML object>"
      ]
     },
     "execution_count": 2,
     "metadata": {},
     "output_type": "execute_result"
    }
   ],
   "source": [
    "from IPython.display import HTML\n",
    "HTML('''\n",
    "<a href=\"javascript:code_toggle()\">Mostrar/ocultar celdas de código</a>.''')\n"
   ]
  },
  {
   "cell_type": "markdown",
   "id": "abc7e0c9",
   "metadata": {},
   "source": [
    "<h2>2. Prismas de presiones acotados de la fuerza hidrostática realizada por el fluido de la izquierda $(s_{_1})$ sobre la superficie curva de la compuerta (BC).</h2>"
   ]
  },
  {
   "cell_type": "markdown",
   "id": "af2396e7",
   "metadata": {},
   "source": [
    "<div class=\"split\">\n",
    "    <div class=\"izq\"><img src=\"../MEDIA/20A15b.png\"></div>\n",
    "</div>"
   ]
  },
  {
   "cell_type": "markdown",
   "id": "3eaf2dbf",
   "metadata": {},
   "source": [
    "\n",
    "<div class=\"texto\"><p>La fuerza hidrostática realizada por el fluido de la izquierda $(s_{_1})$ se divide en componentes:</p> \n",
    "<ol>\n",
    "        <li>Una componente vertical.</li>\n",
    "     <ul>\n",
    "        <li>Por definición, el módulo de la componente vertical de la fuerza de presión sobre una superficie curva es igual al peso del volumen de líquido $\\forall$ (real o imaginario) comprendido entre la superficie curva y la superficie horizontal de presión cero del líquido.</li>\n",
    "    </ul>\n",
    "    <li>Una componente horizontal.</li>\n",
    "    <ul>\n",
    "        <li> La componente horizontal de la fuerza de presión sobre una superficie curva <strong>es igual a la fuerza de presión ejercida sobre la proyección vertical</strong> de la superficie curva.\n",
    "        </li>\n",
    "    </ul>        \n",
    "\n",
    "</ol>\n",
    "</div>"
   ]
  },
  {
   "cell_type": "markdown",
   "id": "04cdd183",
   "metadata": {},
   "source": [
    "<div class=\"texto\">\n",
    "    <p><strong>1.Componente vertical.</strong></p>\n",
    "    <p>Calculamos las cotas del volumen entre la superficie curva y la superficie horizontal libre.</p>\n",
    "</div>  \n"
   ]
  },
  {
   "cell_type": "markdown",
   "id": "9d62c26b",
   "metadata": {},
   "source": [
    "<div class=\"split\">    \n",
    "    <div class=\"izq\"><img src=\"../MEDIA/20A15b1.png\"></div>\n",
    "</div>\n"
   ]
  },
  {
   "cell_type": "markdown",
   "id": "84c3df75",
   "metadata": {},
   "source": [
    "<div class=\"texto\">\n",
    "    <p>Para calcular el volumen partimos de elementos geométricos simples, en este caso un rectángulo y un cuarto de circulo</p>\n",
    "</div>    \n",
    "\n"
   ]
  },
  {
   "cell_type": "markdown",
   "id": "9fffeb46",
   "metadata": {},
   "source": [
    "<div style=\"width:70%\"><img src=\"../MEDIA/20A15b2.png\"></div>\n",
    "\n"
   ]
  },
  {
   "cell_type": "markdown",
   "id": "983a8f15",
   "metadata": {},
   "source": [
    "<div class=\"texto\">Luego:</div>\n",
    "<div class=\"formulas\">\n",
    "    $$\n",
    "        \\forall=\\forall_{_1} +\\forall_{_2}=A_{_{rectangulo}}\\cdot b +\\frac{A_{_{circulo}}}{4}\\cdot b=\\left[(h+R)\\cdot R +\\frac{\\pi R^{^2}}{4}\\right]\\cdot b\\rightarrow       \n",
    "    $$\n",
    "</div>\n",
    "\n",
    "<div class=\"formulas\">\n",
    "    $$\n",
    "        \\forall_{_{BC_{_{vertical}}}}=\\left[h+\\left(1+\\frac{\\pi}{4}\\right)\\cdot R \\right]\\cdot  R\\cdot b    \n",
    "    $$\n",
    "</div>\n",
    "<div class=\"formulas\">\n",
    "    $$\n",
    "        F_{_{BC_{_{vertical}}}}=\\forall\\cdot \\gamma_{_1}=\\left[h+\\left(1+\\frac{\\pi}{4}\\right) R\\right]\\cdot R\\cdot b\\cdot \\gamma_{_1}    \n",
    "    $$\n",
    "</div>"
   ]
  },
  {
   "cell_type": "markdown",
   "id": "ea8746a9",
   "metadata": {},
   "source": [
    "<div class=\"texto\">\n",
    "    <p><strong>2.Componente horizontal.</strong></p>\n",
    "    <p>Calculamos las cotas del prisma de presiones.</p>\n",
    "</div>  \n"
   ]
  },
  {
   "cell_type": "markdown",
   "id": "20d752e0",
   "metadata": {},
   "source": [
    "<div class=\"split\">    \n",
    "    <div class=\"izq\"><img src=\"../MEDIA/20A15b3.png\"></div>\n",
    "</div>\n"
   ]
  },
  {
   "cell_type": "markdown",
   "id": "67639aef",
   "metadata": {},
   "source": [
    "<div class=\"texto\">\n",
    "    <p>Dibujamos el prisma de presiones acotado.</p>\n",
    "</div>  \n"
   ]
  },
  {
   "cell_type": "markdown",
   "id": "f194792a",
   "metadata": {},
   "source": [
    "<div class=\"split\">    \n",
    "    <div class=\"izq\"><img src=\"../MEDIA/20A15b4.png\"></div>\n",
    "</div>\n"
   ]
  },
  {
   "cell_type": "markdown",
   "id": "ae761712",
   "metadata": {},
   "source": [
    "<div class=\"texto\">\n",
    "    <p>Luego este sería el prisma obtenido. </p>\n",
    "</div>  \n"
   ]
  },
  {
   "cell_type": "markdown",
   "id": "d7497244",
   "metadata": {},
   "source": [
    "<div class=\"split\">    \n",
    "    <div class=\"izq\"><img src=\"../MEDIA/20A15b5.png\"></div>\n",
    "</div>\n"
   ]
  },
  {
   "cell_type": "markdown",
   "id": "b3d97520",
   "metadata": {},
   "source": [
    "<div class=\"texto\">Partiendo del aréa de un trapecio obtenemos el valor del prisma.</div>"
   ]
  },
  {
   "cell_type": "markdown",
   "id": "bb2f4c81",
   "metadata": {},
   "source": [
    "<div class=\"formulas\">\n",
    "    $$ \n",
    "    A_{_{Trapecio}}=\\frac{a+c}{2}\\cdot h\n",
    "    $$\n",
    "</div>  "
   ]
  },
  {
   "cell_type": "markdown",
   "id": "67e49964",
   "metadata": {},
   "source": [
    "<div class=\"formulas\">\n",
    "    $$ \n",
    "    \\forall_{_{BC}}=A_{_{Trapecio}}\\cdot b=\\left(\\frac{(h+R)\\cdot\\gamma_{_1}+(h+2R)\\cdot\\gamma_{_1}}{2}\\cdot R\\right)\\cdot b\n",
    "    $$\n",
    "</div>\n",
    "<div class=\"formulas\">\n",
    "    $$ \n",
    "    \\forall_{_{BC{_{_{horizontal}}}}}=\\left(h+\\frac{3R}{2}\\right)\\cdot R\\cdot b \\cdot\\gamma_{_1}\n",
    "    $$\n",
    "</div>\n"
   ]
  },
  {
   "cell_type": "code",
   "execution_count": 3,
   "id": "b21699c7",
   "metadata": {},
   "outputs": [
    {
     "data": {
      "text/html": [
       "\n",
       "<a href=\"javascript:code_toggle()\">Mostrar/ocultar celdas de código</a>."
      ],
      "text/plain": [
       "<IPython.core.display.HTML object>"
      ]
     },
     "execution_count": 3,
     "metadata": {},
     "output_type": "execute_result"
    }
   ],
   "source": [
    "from IPython.display import HTML\n",
    "HTML('''\n",
    "<a href=\"javascript:code_toggle()\">Mostrar/ocultar celdas de código</a>.''')\n"
   ]
  },
  {
   "cell_type": "markdown",
   "id": "89b28225",
   "metadata": {},
   "source": [
    "<h2>3. Valor de las componentes horizontal y vertical de la fuerza hidrostática realizada por el fluido de la izquierda $(s_{_1})$ sobre la compuerta (ABCD).<h2>"
   ]
  },
  {
   "cell_type": "markdown",
   "id": "86b91148",
   "metadata": {},
   "source": [
    "<div class=\"split\">    \n",
    "    <div class=\"izq\"><img src=\"../MEDIA/20A15c.png\"></div>\n",
    "</div>\n"
   ]
  },
  {
   "cell_type": "markdown",
   "id": "b141f654",
   "metadata": {},
   "source": [
    "<div class=\"texto\">Calculamos primero los valores numéricos de cada componente: \n",
    "</div>\n",
    "<div class=\"texto\"><strong>NOTA:</strong> no son necesarios cambios de unidades ya que la unidad resultante es directa.\n",
    "</div>\n",
    "<div class=\"formulas\">\n",
    "    $$ \n",
    "    F=\\forall\\ \\left(m^{^3}\\right)\\cdot\\gamma\\ \\left(\\frac{N}{m^{^3}}\\right) \\rightarrow N\n",
    "    $$\n",
    "</div>"
   ]
  },
  {
   "cell_type": "code",
   "execution_count": 4,
   "id": "5bb4a859",
   "metadata": {
    "scrolled": true
   },
   "outputs": [
    {
     "data": {
      "text/html": [
       "<style>\n",
       "    .widget-label { width: 20ex !important;text-align:left !important; }\n",
       "</style>"
      ],
      "text/plain": [
       "<IPython.core.display.HTML object>"
      ]
     },
     "metadata": {},
     "output_type": "display_data"
    },
    {
     "data": {
      "application/vnd.jupyter.widget-view+json": {
       "model_id": "a82876d111ed43b2b42dbb7ddf031efe",
       "version_major": 2,
       "version_minor": 0
      },
      "text/plain": [
       "interactive(children=(Text(value='2', description='h'), Text(value='1.5', description='R'), Text(value='1', de…"
      ]
     },
     "metadata": {},
     "output_type": "display_data"
    }
   ],
   "source": [
    "from __future__ import print_function\n",
    "from termcolor import colored\n",
    "from ipywidgets import interact, interactive, fixed, interact_manual\n",
    "from IPython.display import HTML, display\n",
    "import ipywidgets as widgets\n",
    "import math\n",
    "\n",
    "\n",
    "def fc( h, R,b,s_1):\n",
    "    try:\n",
    "        fh=float(h)  \n",
    "        fR=float(R) \n",
    "        fb=float(b) \n",
    "        fs_1=float(s_1)\n",
    "\n",
    "    except:\n",
    "        print( colored('Define un valor válido para las variables','red') )\n",
    "    else:\n",
    "        print(\"Pulsa para actualizar los campos de texto\")\n",
    "        F_ab=(fh+fR/2)* math.sqrt(2)*fR*fb*fs_1*1000*9.8\n",
    "        F_cd=(fh+3*fR/2)* math.sqrt(2)*fR*fb*fs_1*1000*9.8\n",
    "        F_bc_V=(fh+(1+math.pi/4)*fR)*fR* fb*fs_1*1000*9.8\n",
    "        F_bc_H=(fh+3*fR/2)*fR*fb*fs_1*1000*9.8\n",
    "        return [F_ab, F_cd, F_bc_V ,F_bc_H]\n",
    "    \n",
    "display(HTML('''<style>\n",
    "    .widget-label { width: 20ex !important;text-align:left !important; }\n",
    "</style>'''))\n",
    "\n",
    "c = interactive(fc, h=\"2\" , R=\"1.5\",b=\"1\", s_1=\"1\")\n",
    "display(c)\n",
    "\n",
    "c.children[0].description = '$h$ (m)'\n",
    "c.children[1].description = '$R$ (m)'\n",
    "c.children[2].description = '$b$ (m)'\n",
    "c.children[3].description = '$s_{_1}$'\n"
   ]
  },
  {
   "cell_type": "code",
   "execution_count": 5,
   "id": "ffb0ac6e",
   "metadata": {
    "scrolled": true
   },
   "outputs": [
    {
     "data": {
      "text/html": [
       "\n",
       "<button onclick=\"ejecutar(36,62)\">Actualizar campos de texto</button>\n",
       "<button onclick=\"ejecutar(34,35)\">Abrir/reiniciar cuadro de variables</button>\n",
       "<script>function ejecutar(desde, hasta){\n",
       "    for(i = desde; i < hasta; i++)\n",
       "Jupyter.notebook.execute_cells([i])\n",
       "}</script>"
      ],
      "text/plain": [
       "<IPython.core.display.HTML object>"
      ]
     },
     "execution_count": 5,
     "metadata": {},
     "output_type": "execute_result"
    }
   ],
   "source": [
    "from IPython.display import HTML\n",
    "HTML('''\n",
    "<button onclick=\"ejecutar(36,62)\">Actualizar campos de texto</button>\n",
    "<button onclick=\"ejecutar(34,35)\">Abrir/reiniciar cuadro de variables</button>\n",
    "<script>function ejecutar(desde, hasta){\n",
    "    for(i = desde; i < hasta; i++)\n",
    "Jupyter.notebook.execute_cells([i])\n",
    "}</script>''')"
   ]
  },
  {
   "cell_type": "code",
   "execution_count": 6,
   "id": "9a338048",
   "metadata": {},
   "outputs": [],
   "source": [
    "from IPython.display import Markdown as md\n",
    "\n",
    "\n",
    "try:\n",
    "    h=float(c.children[0].value)\n",
    "    R=float(c.children[1].value)\n",
    "    b=float(c.children[2].value)\n",
    "    s_1=float(c.children[3].value)\n",
    "    gamma_1=float(s_1*9800)\n",
    "    F_ab=float(c.result[0])\n",
    "    F_cd=float(c.result[1])\n",
    "    F_bc_V=float(c.result[2])\n",
    "    F_bc_H=float(c.result[3])\n",
    "except:\n",
    "    print(colored(\"Define un valor válido para las variables\",\"red\"))\n",
    "\n",
    "\n"
   ]
  },
  {
   "cell_type": "markdown",
   "id": "056c5930",
   "metadata": {},
   "source": [
    "<div class=\"texto\">\n",
    "    <p><strong>1. Fuerza hidrostática de $s_{_1}$ sobre la superficie plana inclinada AB.</strong></p>\n",
    "</div>  "
   ]
  },
  {
   "cell_type": "markdown",
   "id": "b4185bc9",
   "metadata": {},
   "source": [
    "<div class=\"formulas\">\n",
    "    $$ \n",
    "    F_{_{AB}}=\\left(h+\\frac{R}{2}\\right)\\cdot \\sqrt{2}\\cdot R\\cdot b\\cdot\\gamma_{_1}\n",
    "    $$\n",
    "</div>"
   ]
  },
  {
   "cell_type": "code",
   "execution_count": 7,
   "id": "862f182a",
   "metadata": {},
   "outputs": [
    {
     "data": {
      "text/markdown": [
       "$$ F_{_{AB}}=(2.0+1.5/2)\\cdot \\sqrt{2} \\cdot 1.5\\cdot 1.0\\cdot 9800.0=57169.58 N$$"
      ],
      "text/plain": [
       "<IPython.core.display.Markdown object>"
      ]
     },
     "execution_count": 7,
     "metadata": {},
     "output_type": "execute_result"
    }
   ],
   "source": [
    "from IPython.display import Markdown as md\n",
    "md('$$ F_{_{AB}}=(%s+%s/2)\\cdot \\sqrt{2} \\cdot %s\\cdot %s\\cdot %s=%.2f N$$'%\n",
    "   (h,R, R, b, gamma_1,F_ab))"
   ]
  },
  {
   "cell_type": "markdown",
   "id": "8b2a30d7",
   "metadata": {},
   "source": [
    "<div class=\"texto\">\n",
    "    <p><strong>2. Fuerza hidrostática de $s_{_1}$ sobre la superficie plana inclinada CD.</strong></p>\n",
    "</div>  "
   ]
  },
  {
   "cell_type": "markdown",
   "id": "6f79fb02",
   "metadata": {},
   "source": [
    "<div class=\"formulas\">\n",
    "    $$ \n",
    "    F_{_{CD}}=\\left(h+\\frac{3R}{2}\\right)\\cdot \\sqrt{2}\\cdot R\\cdot b\\cdot\\gamma_{_1}\n",
    "    $$\n",
    "</div>"
   ]
  },
  {
   "cell_type": "code",
   "execution_count": 8,
   "id": "353c8045",
   "metadata": {},
   "outputs": [
    {
     "data": {
      "text/markdown": [
       "$$ F_{_{CD}}=[2.0+(3\\cdot 1.5)/2]\\cdot \\sqrt{2} \\cdot 1.5\\cdot 1.0\\cdot 9800.0=88352.99 N$$"
      ],
      "text/plain": [
       "<IPython.core.display.Markdown object>"
      ]
     },
     "execution_count": 8,
     "metadata": {},
     "output_type": "execute_result"
    }
   ],
   "source": [
    "from IPython.display import Markdown as md\n",
    "md('$$ F_{_{CD}}=[%s+(3\\cdot %s)/2]\\cdot \\sqrt{2} \\cdot %s\\cdot %s\\cdot %s=%.2f N$$'%\n",
    "   (h,R, R, b, gamma_1,F_cd))"
   ]
  },
  {
   "cell_type": "markdown",
   "id": "4b292709",
   "metadata": {},
   "source": [
    "<div class=\"texto\">\n",
    "    <p><strong>3. Fuerza hidrostática de $s_{_1}$ sobre la superficie curva BC. </strong></p>\n",
    "</div>  "
   ]
  },
  {
   "cell_type": "markdown",
   "id": "75472098",
   "metadata": {},
   "source": [
    "<div class=\"texto\">\n",
    "    <li><strong>3.1 Componente vertical de la fuerza hidrostática de $s_{_1}$ sobre la superficie curva BC. </strong></li>\n",
    "</div>  "
   ]
  },
  {
   "cell_type": "markdown",
   "id": "e0756152",
   "metadata": {},
   "source": [
    "<div class=\"formulas\">\n",
    "    $$\n",
    "        F_{_{BC_{_{vertical}}}}=\\forall\\cdot \\gamma_{_1}=\\left[h+\\left(1+\\frac{\\pi}{4}\\right) R\\right]\\cdot R\\cdot b\\cdot \\gamma_{_1}    \n",
    "    $$\n",
    "</div>"
   ]
  },
  {
   "cell_type": "code",
   "execution_count": 9,
   "id": "f9155ba8",
   "metadata": {},
   "outputs": [
    {
     "data": {
      "text/markdown": [
       "$$ F_{_{BC_{_{vertical}}}}=[2.0+(1+\\pi /4)\\cdot 1.5] \\cdot 1.5\\cdot 1.0\\cdot 9800.0=62475.00 N$$"
      ],
      "text/plain": [
       "<IPython.core.display.Markdown object>"
      ]
     },
     "execution_count": 9,
     "metadata": {},
     "output_type": "execute_result"
    }
   ],
   "source": [
    "from IPython.display import Markdown as md\n",
    "md('$$ F_{_{BC_{_{vertical}}}}=[%s+(1+\\pi /4)\\cdot %s] \\cdot %s\\cdot %s\\cdot %s=%.2f N$$'%\n",
    "   (h,R, R, b, gamma_1,F_bc_H))"
   ]
  },
  {
   "cell_type": "markdown",
   "id": "1c4ecadc",
   "metadata": {},
   "source": [
    "<div class=\"texto\">\n",
    "    <li><strong>3.2 Componente horizontal de la fuerza hidrostática de $s_{_1}$ sobre la superficie curva BC. </strong></li>\n",
    "</div>  "
   ]
  },
  {
   "cell_type": "markdown",
   "id": "14c444a0",
   "metadata": {},
   "source": [
    "<div class=\"formulas\">\n",
    "    $$ \n",
    "    F_{_{BC{_{_{horizontal}}}}}=\\left(h+\\frac{3R}{2}\\right)\\cdot R\\cdot b\\cdot\\gamma_{_1}\n",
    "    $$\n",
    "</div>"
   ]
  },
  {
   "cell_type": "code",
   "execution_count": 10,
   "id": "f5d1a5ee",
   "metadata": {},
   "outputs": [
    {
     "data": {
      "text/markdown": [
       "$$ F_{_{BC_{_{horizontal}}}}=[2.0+(3\\cdot 1.5)/2]\\cdot \\sqrt{2} \\cdot 1.5\\cdot 1.0\\cdot 9800.0=68768.03 N$$"
      ],
      "text/plain": [
       "<IPython.core.display.Markdown object>"
      ]
     },
     "execution_count": 10,
     "metadata": {},
     "output_type": "execute_result"
    }
   ],
   "source": [
    "from IPython.display import Markdown as md\n",
    "md('$$ F_{_{BC_{_{horizontal}}}}=[%s+(3\\cdot %s)/2]\\cdot \\sqrt{2} \\cdot %s\\cdot %s\\cdot %s=%.2f N$$'%\n",
    "   (h,R, R, b, gamma_1,F_bc_V))"
   ]
  },
  {
   "cell_type": "markdown",
   "id": "efa8b752",
   "metadata": {},
   "source": [
    "<div class=\"texto\">\n",
    "    <p>Una vez calculados los valores numéricos de las fuerzas  <strong>ejercidas por el fluido $s_{_1}$ </strong> procedemos a realizar un diagrama de fuerzas.</p>\n",
    "</div>  "
   ]
  },
  {
   "cell_type": "markdown",
   "id": "f54f4f5d",
   "metadata": {},
   "source": [
    "<div class=\"split\">    \n",
    "    <div class=\"izq\"><img src=\"../MEDIA/20A15c1.png\"></div>\n",
    "</div>\n"
   ]
  },
  {
   "cell_type": "markdown",
   "id": "af68ddef",
   "metadata": {},
   "source": [
    "<div class=\"texto\">\n",
    "    <p>Siendo $F_{_{CD}}$ una fuerza misma dirección y sentido opuesto a $F_{_{AB}}$ las podemos restar.</p>\n",
    "</div>  \n",
    "<div class=\"texto\">\n",
    "    <strong>NOTA: es indiferente que sentido se suponga que resulte, ya que, en caso de ser el contrario, el módulo será negativo.</strong>\n",
    "</div>  "
   ]
  },
  {
   "cell_type": "markdown",
   "id": "a5861b5e",
   "metadata": {},
   "source": [
    "<div class=\"split\">    \n",
    "    <div class=\"izq\"><img src=\"../MEDIA/20A15c2.png\"></div>\n",
    "</div>\n"
   ]
  },
  {
   "cell_type": "markdown",
   "id": "062b86b5",
   "metadata": {},
   "source": [
    "<div class=\"texto\">\n",
    "    <p>Descomponemos esta resta en sus componentes vertical y horizontal.</p>\n",
    "</div>  "
   ]
  },
  {
   "cell_type": "markdown",
   "id": "bf1cb5c2",
   "metadata": {},
   "source": [
    "<div class=\"split\">    \n",
    "    <div class=\"izq\"><img src=\"../MEDIA/20A15c3.png\"></div>\n",
    "</div>\n"
   ]
  },
  {
   "cell_type": "markdown",
   "id": "a93dce09",
   "metadata": {},
   "source": [
    "<div class=\"texto\">\n",
    "    <p>Finalmente calculamos el valor de las componentes horizontal y vertical de la fuerza hidrostática realizada por el fluido ($s_{_1}$) sobre la compuerta.</p>\n",
    "</div>  "
   ]
  },
  {
   "cell_type": "code",
   "execution_count": 11,
   "id": "ce3f9b8e",
   "metadata": {},
   "outputs": [],
   "source": [
    "import math\n",
    "try:\n",
    "    F_H_1=F_bc_H-(F_cd-F_ab)*math.cos(45*math.pi/180)\n",
    "    F_V_1=F_bc_V+(F_cd-F_ab)*math.cos(45*math.pi/180)\n",
    "except:\n",
    "    print(colored(\"Las variables no son validas\",\"red\"))\n",
    "\n",
    "\n",
    "\n"
   ]
  },
  {
   "cell_type": "markdown",
   "id": "988aa464",
   "metadata": {},
   "source": [
    "<div class=\"formulas\">\n",
    "    $$ \n",
    "    F_{_{H_{_1}}}=F_{_{BC{_{_{horizontal}}}}}-\\left(F_{_{CD}}-F_{_{AB}}\\right)\\cdot cos(45)\n",
    "    $$\n",
    "</div>"
   ]
  },
  {
   "cell_type": "code",
   "execution_count": 12,
   "id": "22d12023",
   "metadata": {},
   "outputs": [
    {
     "data": {
      "text/markdown": [
       "$$F_{_{H_{_1}}}=62475.0-(88353.0-57169.6)\\cdot cos(45)=40425.00 N$$"
      ],
      "text/plain": [
       "<IPython.core.display.Markdown object>"
      ]
     },
     "execution_count": 12,
     "metadata": {},
     "output_type": "execute_result"
    }
   ],
   "source": [
    "from IPython.display import Markdown as md\n",
    "md('$$F_{_{H_{_1}}}=%.1f-(%.1f-%.1f)\\cdot cos(45)=%.2f N$$'%\n",
    "   (F_bc_H,F_cd,F_ab,F_H_1))"
   ]
  },
  {
   "cell_type": "markdown",
   "id": "c07bf31b",
   "metadata": {},
   "source": [
    "<div class=\"formulas\">\n",
    "    $$ \n",
    "    F_{_{V_{_1}}}=F_{_{BC{_{_{vertical}}}}}+\\left(F_{_{CD}}-F_{_{AB}}\\right)\\cdot cos(45)\n",
    "    $$\n",
    "</div>"
   ]
  },
  {
   "cell_type": "code",
   "execution_count": 13,
   "id": "e6a22bf8",
   "metadata": {},
   "outputs": [
    {
     "data": {
      "text/markdown": [
       "$$F_{_{V_{_1}}}=68768.0-(88353.0-57169.6)\\cdot cos(45)=90818.03 N$$"
      ],
      "text/plain": [
       "<IPython.core.display.Markdown object>"
      ]
     },
     "execution_count": 13,
     "metadata": {},
     "output_type": "execute_result"
    }
   ],
   "source": [
    "from IPython.display import Markdown as md\n",
    "md('$$F_{_{V_{_1}}}=%.1f-(%.1f-%.1f)\\cdot cos(45)=%.2f N$$'%\n",
    "   (F_bc_V,F_cd,F_ab,F_V_1))"
   ]
  },
  {
   "cell_type": "code",
   "execution_count": 14,
   "id": "9c9fd299",
   "metadata": {},
   "outputs": [
    {
     "data": {
      "text/html": [
       "\n",
       "<a href=\"javascript:code_toggle()\">Mostrar/ocultar celdas de código</a>."
      ],
      "text/plain": [
       "<IPython.core.display.HTML object>"
      ]
     },
     "execution_count": 14,
     "metadata": {},
     "output_type": "execute_result"
    }
   ],
   "source": [
    "from IPython.display import HTML\n",
    "HTML('''\n",
    "<a href=\"javascript:code_toggle()\">Mostrar/ocultar celdas de código</a>.''')\n"
   ]
  },
  {
   "cell_type": "markdown",
   "id": "d64f9c83",
   "metadata": {},
   "source": [
    "<h2>4. Densidad relativa del fluido de la derecha $(s_{_2})$ para que la compuerta permanezca en equilibrio en la figura.<h2>"
   ]
  },
  {
   "cell_type": "markdown",
   "id": "b44eaab0",
   "metadata": {},
   "source": [
    "<div class=\"texto\">\n",
    "    <p>Para obtener la densidad relativa del fluido $s_{_2}$ primero hemos de obtener los prismas de presiones que ejerce este fluido en función de su peso específico $\\gamma_{_2}$.</p>\n",
    "        <p>Para ello se ha de obtener la fuerza hidróstatica ejercida sobre las superficies planas AO y OB.</p>\n",
    "</div>  "
   ]
  },
  {
   "cell_type": "markdown",
   "id": "8d7a8191",
   "metadata": {},
   "source": [
    "<div class=\"texto\">\n",
    "    <li><strong>Componente horizontal de la fuerza hidrostática de $s_{_2}$ sobre la superficie plana AO. </strong></li>\n",
    "</div>  "
   ]
  },
  {
   "cell_type": "markdown",
   "id": "fa05723a",
   "metadata": {},
   "source": [
    "<div class=\"texto\">\n",
    "    <p>Calculamos las cotas.</p>\n",
    "</div> "
   ]
  },
  {
   "cell_type": "markdown",
   "id": "de7fe461",
   "metadata": {},
   "source": [
    "<div class=\"split\">    \n",
    "    <div class=\"izq\"><img src=\"../MEDIA/20A15d1.png\"></div>\n",
    "</div>\n"
   ]
  },
  {
   "cell_type": "markdown",
   "id": "de9c9c6d",
   "metadata": {},
   "source": [
    "<div class=\"texto\">\n",
    "    <p>Dibujamos el prisma de presión acotado.</p>\n",
    "</div> "
   ]
  },
  {
   "cell_type": "markdown",
   "id": "0935a49f",
   "metadata": {},
   "source": [
    "<div class=\"split\">    \n",
    "    <div class=\"izq\"><img src=\"../MEDIA/20A15d2.png\"></div>\n",
    "</div>\n"
   ]
  },
  {
   "cell_type": "markdown",
   "id": "e2705456",
   "metadata": {},
   "source": [
    "<div class=\"texto\">\n",
    "    <p>Luego el prisma de presión es el siguiente.</p>\n",
    "</div> "
   ]
  },
  {
   "cell_type": "markdown",
   "id": "3bf9b126",
   "metadata": {},
   "source": [
    "<div class=\"split\">    \n",
    "    <div class=\"izq\"><img src=\"../MEDIA/20A15d3.png\"></div>\n",
    "</div>\n"
   ]
  },
  {
   "cell_type": "markdown",
   "id": "35d549cc",
   "metadata": {},
   "source": [
    "<div class=\"texto\"><i>Si quisiéramos obtener el valor del prisma, partiendo del área de un trapecio:</i></div>"
   ]
  },
  {
   "cell_type": "markdown",
   "id": "88ed0475",
   "metadata": {},
   "source": [
    "<div class=\"formulas\">\n",
    "    $$ \n",
    "    A_{_{Trapecio}}=\\frac{a+c}{2}\\cdot h\n",
    "    $$\n",
    "</div>  "
   ]
  },
  {
   "cell_type": "markdown",
   "id": "d062c7f2",
   "metadata": {},
   "source": [
    "<div class=\"formulas\">\n",
    "    $$ \n",
    "    \\forall_{_{AO}}=A_{_{Trapecio}}\\cdot b =\\left(\\frac{(L-R)\\cdot\\gamma_{_2}+L\\cdot\\gamma_{_2}}{2}\\cdot R\\right)\\cdot b \\cdot\\gamma_{_2}\n",
    "    $$\n",
    "</div>\n",
    "<div class=\"formulas\">\n",
    "    $$ \n",
    "    \\forall_{_{AO}}=\\left(L-\\frac{R}{2}\\right)\\cdot R\\cdot b \\cdot\\gamma_{_2}\n",
    "    $$\n",
    "</div>\n"
   ]
  },
  {
   "cell_type": "markdown",
   "id": "93a316e5",
   "metadata": {},
   "source": [
    "<div class=\"texto\">\n",
    "    <li><strong>Componente vertical de la fuerza hidrostática de $s_{_2}$ sobre la superficie plana OD. </strong></li>\n",
    "</div>  "
   ]
  },
  {
   "cell_type": "markdown",
   "id": "c7900806",
   "metadata": {},
   "source": [
    "<div class=\"texto\">\n",
    "    <p>Calculamos las cotas.</p>\n",
    "</div> "
   ]
  },
  {
   "cell_type": "markdown",
   "id": "5e711d64",
   "metadata": {},
   "source": [
    "<div class=\"split\">    \n",
    "    <div class=\"izq\"><img src=\"../MEDIA/20A15d4.png\"></div>\n",
    "</div>\n"
   ]
  },
  {
   "cell_type": "markdown",
   "id": "ea633aee",
   "metadata": {},
   "source": [
    "<div class=\"texto\">\n",
    "    <p>Dibujamos el prisma de presion acotado.</p>\n",
    "</div> "
   ]
  },
  {
   "cell_type": "markdown",
   "id": "fc56e455",
   "metadata": {},
   "source": [
    "<div class=\"split\">    \n",
    "    <div class=\"izq\"><img src=\"../MEDIA/20A15d5.png\"></div>\n",
    "</div>\n"
   ]
  },
  {
   "cell_type": "markdown",
   "id": "674c858a",
   "metadata": {},
   "source": [
    "<div class=\"texto\">\n",
    "    <p>Este es el prisma de presion que obtenemos.</p>\n",
    "</div> "
   ]
  },
  {
   "cell_type": "markdown",
   "id": "dd4cf8fb",
   "metadata": {},
   "source": [
    "<div class=\"split\">    \n",
    "    <div class=\"izq\"><img src=\"../MEDIA/20A15d6.png\"></div>\n",
    "</div>\n"
   ]
  },
  {
   "cell_type": "markdown",
   "id": "07e3e08b",
   "metadata": {},
   "source": [
    "<div class=\"texto\">Luego, calculando el volumen del mismo:</div>\n",
    "<div class=\"formulas\">\n",
    "    $$\n",
    "        \\forall=A_{_{rectangulo}}\\cdot b =L\\cdot R \\cdot b\\rightarrow       \n",
    "    $$\n",
    "</div>\n",
    "\n",
    "<div class=\"formulas\">\n",
    "    $$\n",
    "        F_{_{OD}}=\\forall\\cdot \\gamma_{_2}=L\\cdot R \\cdot b\\cdot \\gamma_{_2}    \n",
    "    $$\n",
    "</div>"
   ]
  },
  {
   "cell_type": "markdown",
   "id": "6f940272",
   "metadata": {},
   "source": [
    "<div class=\"texto\">\n",
    "    <p>Una vez obtenidos los prismas de la fuerza ejercida por el fluido de la derecha $(s_{_2})$ sobre la compuerta, debemos realizar un balance de momentos, sabiendo que la compuerta ha de permanecer en equilibrio, el resultado del sumatorio ha de ser igual a cero. Para ello primero tenemos que calcular las distancias o brazos desde cada una de las fuerzas calculadas hasta el punto de rotación $O$.</p>\n",
    "        <p><strong>NOTA: no olvidar el peso de la compuerta.</strong></p>\n",
    "</div> "
   ]
  },
  {
   "cell_type": "markdown",
   "id": "07ff0d76",
   "metadata": {},
   "source": [
    "<div>    \n",
    "    <div><img src=\"../MEDIA/20A15d7.png\" style=\"width:60%\"></div>\n",
    "</div>\n"
   ]
  },
  {
   "cell_type": "markdown",
   "id": "06aeeddd",
   "metadata": {},
   "source": [
    "<div class=\"texto\">\n",
    "    <p>Para calcular estas distancias calcularemos el centroide del prisma, ya que este es a su vez el centro de presiones.</p>\n",
    "    <p>Calcularemos estas distancias en el mismo orden en el que se han calculado las correspondientes fuerzas.</p>\n",
    "</div>"
   ]
  },
  {
   "cell_type": "markdown",
   "id": "3c698a82",
   "metadata": {},
   "source": [
    "<div class=\"texto\">\n",
    "        <li><strong>Fuerza del fluido de la izquierda ($s_{_1}$) sobre las superficies planas inclinadas, AB y CD.</strong></li>\n",
    "</div> "
   ]
  },
  {
   "cell_type": "markdown",
   "id": "7c8cd6d7",
   "metadata": {},
   "source": [
    "<div class=\"texto\">\n",
    "    <p>En este caso el prisma tiene forma trapezoidal, descompondremos el prisma en formas simples con centroides conocidos.</p>\n",
    "</div>"
   ]
  },
  {
   "cell_type": "markdown",
   "id": "d33bd712",
   "metadata": {},
   "source": [
    "<div class=\"split\">\n",
    "    <div class=\"izq\"><img src=\"../MEDIA/20A15a2.png\"></div>\n",
    "    <div class=\"dcha\"><img src=\"../MEDIA/20A15d8.png\"></div>\n",
    "</div>\n"
   ]
  },
  {
   "cell_type": "markdown",
   "id": "9cfe5f31",
   "metadata": {},
   "source": [
    "<div class=\"texto\">\n",
    "    <p>La fuerza ejercida por los prismas rectangulares pasa por el punto $O$ por lo cual no generan momento. </p>\n",
    "</div>"
   ]
  },
  {
   "cell_type": "markdown",
   "id": "d4a71316",
   "metadata": {},
   "source": [
    "<div class=\"split\">\n",
    "    <div class=\"izq\"><img src=\"../MEDIA/20A15d9.png\"></div>\n",
    "</div>\n"
   ]
  },
  {
   "cell_type": "markdown",
   "id": "70790214",
   "metadata": {},
   "source": [
    "<div class=\"texto\">\n",
    "    <p>El brazo de ambos momentos será:</p>\n",
    "</div>\n"
   ]
  },
  {
   "cell_type": "markdown",
   "id": "9af7de74",
   "metadata": {},
   "source": [
    "<div class=\"formulas\">\n",
    "    $$\n",
    "    Y_{_{centroide}}^{^{triangulo}}=\\frac{2}{3}h=\\frac{2}{3}\\sqrt{2}R\n",
    "    $$\n",
    "</div>\n",
    "\n"
   ]
  },
  {
   "cell_type": "markdown",
   "id": "30ce9381",
   "metadata": {},
   "source": [
    "<div class=\"texto\">\n",
    "    <p>Y el módulo de la resultante será:</p>\n",
    "</div>"
   ]
  },
  {
   "cell_type": "markdown",
   "id": "b15664a8",
   "metadata": {},
   "source": [
    "<div class=\"split\">\n",
    "    <div class=\"izq\"><img src=\"../MEDIA/20A15d10.png\"></div>\n",
    "</div>\n"
   ]
  },
  {
   "cell_type": "markdown",
   "id": "6b877f59",
   "metadata": {},
   "source": [
    "<div class=\"texto\">\n",
    "    <p>Mismo brazo y misma resultante con sentido opuesto por lo que sus momentos se anulan.</p>\n",
    "</div>"
   ]
  },
  {
   "cell_type": "markdown",
   "id": "f6fc79c4",
   "metadata": {},
   "source": [
    "<div class=\"texto\">\n",
    "        <li><strong>Fuerza del fluido de la izquierda ($s_{_1}$) sobre la superficie curva BC.</strong></li>\n",
    "</div> "
   ]
  },
  {
   "cell_type": "markdown",
   "id": "45e3c296",
   "metadata": {},
   "source": [
    "<div class=\"split\">\n",
    "    <div class=\"izq\"><img src=\"../MEDIA/20A15d11.png\"></div>\n",
    "</div>\n"
   ]
  },
  {
   "cell_type": "markdown",
   "id": "0be63acd",
   "metadata": {},
   "source": [
    "<div class=\"texto\">\n",
    "    <p>La fuerza ejercida por la presión hidrostática sobre una superficie curva <strong>siempre es radial</strong>, por ello no genera momento debido a que la distancia a $O$ es nula.</p>\n",
    "</div>"
   ]
  },
  {
   "cell_type": "markdown",
   "id": "8f3304ec",
   "metadata": {},
   "source": [
    "<div class=\"texto\">\n",
    "    <li><strong>Componente horizontal de la fuerza hidrostática de $s_{_2}$ sobre la superficie plana AO. </strong></li>\n",
    "</div>  "
   ]
  },
  {
   "cell_type": "markdown",
   "id": "4c5d81c7",
   "metadata": {},
   "source": [
    "<div class=\"split\">\n",
    "    <div class=\"izq\"><img src=\"../MEDIA/20A15d2.png\"></div>\n",
    "    <div class=\"dcha\"><img src=\"../MEDIA/20A15d8.png\"></div>\n",
    "</div>\n"
   ]
  },
  {
   "cell_type": "markdown",
   "id": "762f2344",
   "metadata": {},
   "source": [
    "<div class=\"texto\">\n",
    "    <p>Del mismo modo que antes, descompondremos el prisma en formas simples con centroides conocidos.</p>\n",
    "</div>"
   ]
  },
  {
   "cell_type": "markdown",
   "id": "8b9d109e",
   "metadata": {},
   "source": [
    "<div class=\"split\">\n",
    "    <div class=\"izq\"><img src=\"../MEDIA/20A15d12.png\"></div>\n",
    "\n",
    "</div>"
   ]
  },
  {
   "cell_type": "markdown",
   "id": "972f7edf",
   "metadata": {},
   "source": [
    "<div class=\"texto\">\n",
    "    <p>Luego:</p>\n",
    "</div>\n",
    "<div class=\"formulas\">\n",
    "    $$\n",
    "    Y_{_{centroide}}^{^{cuadrado}}=\\frac{R}{3}\\sqrt{2}R\\ ;\\ F_{_{AO}}^{^{cuadrado}}=(L-R)\\cdot R\\cdot b \\cdot\\gamma_{_2}\n",
    "    $$\n",
    "</div>\n",
    "<div class=\"formulas\">\n",
    "    $$\n",
    "    Y_{_{centroide}}^{^{triangulo}}=\\frac{R}{2}\\ ;\\ F_{_{AO}}^{^{triangulo}}=\\frac{R^{^2}}{2}\\cdot b \\cdot\\gamma_{_2}\n",
    "    $$\n",
    "</div>\n",
    "\n"
   ]
  },
  {
   "cell_type": "markdown",
   "id": "8de92f54",
   "metadata": {},
   "source": [
    "<div class=\"texto\">\n",
    "<li><strong>Componente vertical de la fuerza hidrostática de $s_{_2}$ sobre la superficie plana OD. </strong></li>\n",
    "</div>\n"
   ]
  },
  {
   "cell_type": "markdown",
   "id": "8d86a2f9",
   "metadata": {},
   "source": [
    "<div class=\"split\">    \n",
    "    <div class=\"izq\"><img src=\"../MEDIA/20A15d5.png\"></div>\n",
    "        <div class=\"dcha\"><img src=\"../MEDIA/centr_rect.png\"></div>\n",
    "</div>\n"
   ]
  },
  {
   "cell_type": "markdown",
   "id": "bed11c99",
   "metadata": {},
   "source": [
    "<div class=\"texto\">\n",
    "    <p>La distancia del centroide al punto $O$ será:</p>\n",
    "</div>\n",
    "<div class=\"formulas\">\n",
    "    $$\n",
    "    X_{_{centroide}}=\\frac{a}{2}=\\frac{R}{2}\n",
    "    $$\n",
    "</div>"
   ]
  },
  {
   "cell_type": "markdown",
   "id": "3d370dd8",
   "metadata": {},
   "source": [
    "<div class=\"texto\">\n",
    "    <p>Y su modulo tal y como se ha calculado:</p>\n",
    "</div>\n",
    "<div class=\"formulas\">\n",
    "    $$\n",
    "        \\forall=A_{_{rectangulo}}\\cdot b =L\\cdot R \\cdot b\\rightarrow       \n",
    "    $$\n",
    "</div>\n",
    "\n",
    "<div class=\"formulas\">\n",
    "    $$\n",
    "        F_{_{OD}}=\\forall\\cdot \\gamma_{_2}=L\\cdot R \\cdot b\\cdot \\gamma_{_2}    \n",
    "    $$\n",
    "</div>"
   ]
  },
  {
   "cell_type": "markdown",
   "id": "a97f33d2",
   "metadata": {},
   "source": [
    "<div class=\"texto\">\n",
    "    <p>Si exponemos estos resultados en un diagrama de momentos:</p>\n",
    "</div>"
   ]
  },
  {
   "cell_type": "markdown",
   "id": "c568b3a0",
   "metadata": {},
   "source": [
    "<div class=\"split\">    \n",
    "    <div class=\"izq\"><img src=\"../MEDIA/20A15d13.png\"></div>\n",
    "    <div class=\"dcha\">\n",
    "        <div class=\"formulas\">\n",
    "        $$\n",
    "        F_{_{AO}}^{^{cuadrado}}=(L-R)\\cdot R\\cdot b \\cdot\\gamma_{_2}\n",
    "        $$\n",
    "        </div>\n",
    "        <div class=\"formulas\">\n",
    "            $$\n",
    "            F_{_{AO}}^{^{triangulo}}=\\frac{R^{^2}}{2}\\cdot b \\cdot\\gamma_{_2}\n",
    "            $$\n",
    "        </div>\n",
    "        <div class=\"formulas\">\n",
    "            $$\n",
    "                F_{_{OD}}=L\\cdot R \\cdot b\\cdot \\gamma_{_2}    \n",
    "            $$\n",
    "        </div>\n",
    "                <div class=\"formulas\">\n",
    "            $$\n",
    "                W\\ (N)=9,8\\cdot W\\ (kg)    \n",
    "            $$\n",
    "        </div>\n",
    "    </div>\n",
    "</div>\n"
   ]
  },
  {
   "cell_type": "markdown",
   "id": "dc81e9fe",
   "metadata": {},
   "source": [
    "<div class=\"texto\">\n",
    "    <p>Para que la compuerta se mantenga en equilibrio.</p>\n",
    "</div>"
   ]
  },
  {
   "cell_type": "markdown",
   "id": "892d7af1",
   "metadata": {},
   "source": [
    "<div class=\"formulas\">\n",
    "$$\n",
    "\\sum_{0}^{\\infty}M_{_O}=0\\ \n",
    "$$\n",
    "</div>    "
   ]
  },
  {
   "cell_type": "markdown",
   "id": "8a43c430",
   "metadata": {},
   "source": [
    "<div class=\"texto\">\n",
    "    <p>Luego:</p>\n",
    "</div>"
   ]
  },
  {
   "cell_type": "markdown",
   "id": "60382fea",
   "metadata": {},
   "source": [
    "<div class=\"formulas\">\n",
    "$$\n",
    "F_{_{AO}}^{^{cuadrado}}+F_{_{AO}}^{^{triangulo}}-F_{_{OD}}=-W\\cdot x    \n",
    "$$\n",
    "</div>    "
   ]
  },
  {
   "cell_type": "markdown",
   "id": "47addb4f",
   "metadata": {},
   "source": [
    "<div class=\"formulas\">\n",
    "$$\n",
    "-W \\cdot x =(L-R)\\cdot R\\cdot b \\cdot\\gamma_{_2}\\cdot\\frac{R}{2}+\\frac{R^{^2}}{2}\\cdot b \\cdot\\gamma_{_2}\\cdot\\frac{R}{3}-L\\cdot R \\cdot b\\cdot \\gamma_{_2}\\cdot\\frac{R}{2}  \n",
    "    $$\n",
    "</div>\n",
    "\n",
    "<div class=\"formulas\">\n",
    "$$\n",
    "-W \\cdot x =b \\cdot\\gamma_{_2}\\cdot\\left(L \\cdot\\frac{R^{^2}}{2}-\\frac{R^{^3}}{2}+\\frac{R^{^3}}{6}-L\\cdot\\frac{R^{^2}}{2}\\right)   \n",
    "    $$\n",
    "</div>\n",
    "<div class=\"formulas\">\n",
    "$$\n",
    "W \\cdot x =b \\cdot\\gamma_{_2}\\cdot\\left(\\frac{R^{^3}}{6}-\\frac{R^{^3}}{2}\\right)=b \\cdot\\gamma_{_2}\\cdot\\left(\\frac{R^{^3}}{3}\\right)\n",
    "$$\n",
    "</div>\n"
   ]
  },
  {
   "cell_type": "markdown",
   "id": "8d0e6858",
   "metadata": {},
   "source": [
    "<div class=\"texto\">\n",
    "    <p>Siendo:</p>\n",
    "</div>\n",
    "<div class=\"formulas\">\n",
    "    $$ \n",
    "    s_{_{sustancia}}=\\frac{\\gamma_{_{sustancia}}}{\\gamma_{_{patron}}}\\rightarrow\\gamma_{_{2}}=s_{_{2}}\\cdot \\gamma_{_{agua}}\n",
    "    $$\n",
    "</div>"
   ]
  },
  {
   "cell_type": "markdown",
   "id": "919af8e1",
   "metadata": {},
   "source": [
    "<div class=\"texto\">\n",
    "    <p>Por tanto:</p>\n",
    "</div>\n",
    "<div class=\"formulas\">\n",
    "$$\n",
    "W \\cdot x = b \\cdot s_{_{2}}\\cdot \\gamma_{_{agua}}\\cdot\\frac{R^{^3}}{3}\\rightarrow s_{_{2}}=\\frac{3\\cdot W \\cdot x}{ \\gamma_{_{agua}}\\cdot b\\cdot R^{^3}}\n",
    "$$\n",
    "</div>"
   ]
  },
  {
   "cell_type": "code",
   "execution_count": 15,
   "id": "59114bba",
   "metadata": {
    "scrolled": false
   },
   "outputs": [
    {
     "data": {
      "application/vnd.jupyter.widget-view+json": {
       "model_id": "abfd487a48df43ffba93d77e99ecd86a",
       "version_major": 2,
       "version_minor": 0
      },
      "text/plain": [
       "interactive(children=(Text(value='562.5', description='W'), Text(value='0.5', description='x'), Output()), _do…"
      ]
     },
     "metadata": {},
     "output_type": "display_data"
    }
   ],
   "source": [
    "from __future__ import print_function\n",
    "from termcolor import colored\n",
    "from ipywidgets import interact, interactive, fixed, interact_manual\n",
    "from IPython.display import HTML, display\n",
    "import ipywidgets as widgets\n",
    "import math\n",
    "\n",
    "def fd( W,x):\n",
    "    try:\n",
    "        fW=float(W)\n",
    "        fx=float(x)\n",
    "    except:\n",
    "        print( colored('Define un valor válido para las variables','red') )\n",
    "    else:\n",
    "        print(\"Pulsa para actualizar los campos de texto\")\n",
    "        return (fW,fx)\n",
    "\n",
    "d = interactive(fd,W=\"562.5\",x=\"0.5\")\n",
    "display(d)\n",
    "\n",
    "d.children[0].description = '$W$ (Kgf)'\n",
    "d.children[1].description = '$x$ (m)'\n"
   ]
  },
  {
   "cell_type": "code",
   "execution_count": 16,
   "id": "e08d8898",
   "metadata": {
    "scrolled": false
   },
   "outputs": [
    {
     "data": {
      "text/html": [
       "<button onclick=\"ejecutar(119,123)\">Actualizar campos de texto</button>\n",
       "<button onclick=\"ejecutar(117,118)\">Abrir/reiniciar cuadro de variables</button>\n",
       "<script>function ejecutar(desde, hasta){\n",
       "    for(i = desde; i < hasta; i++)\n",
       "Jupyter.notebook.execute_cells([i])\n",
       "}</script>\n"
      ],
      "text/plain": [
       "<IPython.core.display.HTML object>"
      ]
     },
     "metadata": {},
     "output_type": "display_data"
    }
   ],
   "source": [
    "%%html\n",
    "<button onclick=\"ejecutar(119,123)\">Actualizar campos de texto</button>\n",
    "<button onclick=\"ejecutar(117,118)\">Abrir/reiniciar cuadro de variables</button>\n",
    "<script>function ejecutar(desde, hasta){\n",
    "    for(i = desde; i < hasta; i++)\n",
    "Jupyter.notebook.execute_cells([i])\n",
    "}</script>"
   ]
  },
  {
   "cell_type": "code",
   "execution_count": 17,
   "id": "72df0c7a",
   "metadata": {},
   "outputs": [],
   "source": [
    "from IPython.display import Markdown as md\n",
    "gamma_agua=9800\n",
    "try:\n",
    "    W=float(d.children[0].value)\n",
    "    x=float(d.children[1].value)\n",
    "    s_2=float((3*9.8*W*x)/(gamma_agua*b*pow(R,3)))\n",
    "except:\n",
    "    print(colored(\"Define un valor válido para las variables\",\"red\"))\n",
    "\n",
    "\n",
    "\n"
   ]
  },
  {
   "cell_type": "markdown",
   "id": "104207f7",
   "metadata": {},
   "source": [
    "<div class=\"texto\">\n",
    "    <p>Cambiamos unidades y comprobamos:</p>\n",
    "</div>\n",
    "<div class=\"formulas\">\n",
    "$$\n",
    "s_{_{2}}=\\frac{3\\cdot 9,8\\ W\\ (N) \\cdot x\\ (m) }{\\gamma_{_{agua}}\\ \\left(\\frac{N}{m^{^3}}\\right)\\cdot b\\ (m)\\cdot R^{^3}\\left(m^{^3}\\right)}\n",
    "$$\n",
    "</div>"
   ]
  },
  {
   "cell_type": "markdown",
   "id": "264a72bf",
   "metadata": {},
   "source": [
    "<div class=\"texto\">\n",
    "    <p>Introducimos datos:</p>\n",
    "</div>"
   ]
  },
  {
   "cell_type": "code",
   "execution_count": 18,
   "id": "ef91bd5b",
   "metadata": {},
   "outputs": [
    {
     "data": {
      "text/markdown": [
       "$$ s_{_{2}}=(3\\cdot 9,8\\cdot562.5 \\cdot 0.5)/(9800.0 \\cdot 1.0 \\cdot 1.5^{^3})=0.250$$"
      ],
      "text/plain": [
       "<IPython.core.display.Markdown object>"
      ]
     },
     "execution_count": 18,
     "metadata": {},
     "output_type": "execute_result"
    }
   ],
   "source": [
    "from IPython.display import Markdown as md\n",
    "md('$$ s_{_{2}}=(3\\cdot 9,8\\cdot%.1f \\cdot %.1f)/(%.1f \\cdot %.1f \\cdot %.1f^{^3})=%.3f$$'%\n",
    "   (W, x, gamma_agua, b, R, s_2))"
   ]
  },
  {
   "cell_type": "code",
   "execution_count": 19,
   "id": "a5aaa13e",
   "metadata": {},
   "outputs": [
    {
     "data": {
      "text/html": [
       "\n",
       "<a href=\"javascript:code_toggle()\">Mostrar/ocultar celdas de código</a>."
      ],
      "text/plain": [
       "<IPython.core.display.HTML object>"
      ]
     },
     "execution_count": 19,
     "metadata": {},
     "output_type": "execute_result"
    }
   ],
   "source": [
    "from IPython.display import HTML\n",
    "HTML('''\n",
    "<a href=\"javascript:code_toggle()\">Mostrar/ocultar celdas de código</a>.''')"
   ]
  },
  {
   "cell_type": "markdown",
   "id": "dba4509b",
   "metadata": {},
   "source": [
    "[Volver al enunciado.](#enunciado)"
   ]
  },
  {
   "cell_type": "code",
   "execution_count": 20,
   "id": "95feb5f5",
   "metadata": {},
   "outputs": [
    {
     "data": {
      "text/html": [
       "\n",
       "<script>\n",
       "window.location=\"20A15.ipynb#enunciado\";\n",
       "</script>"
      ],
      "text/plain": [
       "<IPython.core.display.HTML object>"
      ]
     },
     "execution_count": 20,
     "metadata": {},
     "output_type": "execute_result"
    }
   ],
   "source": [
    "from IPython.display import HTML\n",
    "HTML('''\n",
    "<script>\n",
    "window.location=\"20A15.ipynb#enunciado\";\n",
    "</script>''')"
   ]
  }
 ],
 "metadata": {
  "kernelspec": {
   "display_name": "Python 3",
   "language": "python",
   "name": "python3"
  },
  "language_info": {
   "codemirror_mode": {
    "name": "ipython",
    "version": 3
   },
   "file_extension": ".py",
   "mimetype": "text/x-python",
   "name": "python",
   "nbconvert_exporter": "python",
   "pygments_lexer": "ipython3",
   "version": "3.8.8"
  },
  "widgets": {
   "application/vnd.jupyter.widget-state+json": {
    "state": {
     "0374c0a7dc5b4149840aefd59a341a57": {
      "model_module": "@jupyter-widgets/controls",
      "model_module_version": "1.5.0",
      "model_name": "TextModel",
      "state": {
       "description": "$b$ (m)",
       "layout": "IPY_MODEL_b1298eba0efe4c838a01b242c381e56f",
       "style": "IPY_MODEL_5bb850481c6e467ab56d2f94048ca634",
       "value": "1"
      }
     },
     "061519b502094a2d8ac209bdeb0d3d77": {
      "model_module": "@jupyter-widgets/controls",
      "model_module_version": "1.5.0",
      "model_name": "DescriptionStyleModel",
      "state": {
       "description_width": ""
      }
     },
     "0c38f8ac23e34b4a8a139edcb4df1505": {
      "model_module": "@jupyter-widgets/base",
      "model_module_version": "1.2.0",
      "model_name": "LayoutModel",
      "state": {}
     },
     "0d47ad22e4db4e97b29d6c1b0e0c6554": {
      "model_module": "@jupyter-widgets/controls",
      "model_module_version": "1.5.0",
      "model_name": "TextModel",
      "state": {
       "description": "$R$ (m)",
       "layout": "IPY_MODEL_8fb92d0f32b54d7c97ce8b72ae9a23e2",
       "style": "IPY_MODEL_9b278a30514846959cd2b0f2db83c57d",
       "value": "1.5"
      }
     },
     "0d841015720c4d07adc07e14dfde496f": {
      "model_module": "@jupyter-widgets/base",
      "model_module_version": "1.2.0",
      "model_name": "LayoutModel",
      "state": {}
     },
     "104dbf941d814b3dac34c2921c2132a4": {
      "model_module": "@jupyter-widgets/controls",
      "model_module_version": "1.5.0",
      "model_name": "DescriptionStyleModel",
      "state": {
       "description_width": ""
      }
     },
     "1209b843714649cfa50ddd183d6ae526": {
      "model_module": "@jupyter-widgets/output",
      "model_module_version": "1.0.0",
      "model_name": "OutputModel",
      "state": {
       "layout": "IPY_MODEL_6c5fac22795d43af9246e9fdfc6d6695",
       "outputs": [
        {
         "name": "stdout",
         "output_type": "stream",
         "text": "Pulsa para actualizar los campos de texto\n"
        }
       ]
      }
     },
     "13e890977cfc41a19c6d1a8612cf1b97": {
      "model_module": "@jupyter-widgets/base",
      "model_module_version": "1.2.0",
      "model_name": "LayoutModel",
      "state": {}
     },
     "17c32081f4de424291f1f429986a0c46": {
      "model_module": "@jupyter-widgets/controls",
      "model_module_version": "1.5.0",
      "model_name": "DescriptionStyleModel",
      "state": {
       "description_width": ""
      }
     },
     "17cff14affaf4f37bd26a737fb87e1e1": {
      "model_module": "@jupyter-widgets/controls",
      "model_module_version": "1.5.0",
      "model_name": "VBoxModel",
      "state": {
       "_dom_classes": [
        "widget-interact"
       ],
       "children": [
        "IPY_MODEL_bc203bd07bea4394845c53ff558a7a86",
        "IPY_MODEL_0d47ad22e4db4e97b29d6c1b0e0c6554",
        "IPY_MODEL_0374c0a7dc5b4149840aefd59a341a57",
        "IPY_MODEL_27ce29b2d51d45c5be5a2dec4bbad26d",
        "IPY_MODEL_e2c46a169f1f4f3689cb16a54b542db9"
       ],
       "layout": "IPY_MODEL_2253ab1b449c49f3a9d62bd8e5360d30"
      }
     },
     "1eb56dfbfb0346bda9be706dfcdcd31a": {
      "model_module": "@jupyter-widgets/controls",
      "model_module_version": "1.5.0",
      "model_name": "VBoxModel",
      "state": {
       "_dom_classes": [
        "widget-interact"
       ],
       "children": [
        "IPY_MODEL_f8c495c82e504aeebce5280c15adf349",
        "IPY_MODEL_22885e7ea44e427ab7db1faed414f85b",
        "IPY_MODEL_9abdb63d1d904733b40f880d417549c3",
        "IPY_MODEL_ab5650b6e36844e7a93fa1c7e16d5230",
        "IPY_MODEL_339f7174f0eb41449984508c6c23a624"
       ],
       "layout": "IPY_MODEL_46037cc639d743eb964e9674938c61c4"
      }
     },
     "1eb758b63d844c1b9cccc80d03bbaa3a": {
      "model_module": "@jupyter-widgets/base",
      "model_module_version": "1.2.0",
      "model_name": "LayoutModel",
      "state": {}
     },
     "21f16b97da404cee8b3f7b0aa313837e": {
      "model_module": "@jupyter-widgets/base",
      "model_module_version": "1.2.0",
      "model_name": "LayoutModel",
      "state": {}
     },
     "21fce6a775954e2395151ce6a4e10c08": {
      "model_module": "@jupyter-widgets/controls",
      "model_module_version": "1.5.0",
      "model_name": "DescriptionStyleModel",
      "state": {
       "description_width": ""
      }
     },
     "2253ab1b449c49f3a9d62bd8e5360d30": {
      "model_module": "@jupyter-widgets/base",
      "model_module_version": "1.2.0",
      "model_name": "LayoutModel",
      "state": {}
     },
     "22885e7ea44e427ab7db1faed414f85b": {
      "model_module": "@jupyter-widgets/controls",
      "model_module_version": "1.5.0",
      "model_name": "TextModel",
      "state": {
       "description": "$R$ (m)",
       "layout": "IPY_MODEL_360903fa2be94b089aceea64cba04cc8",
       "style": "IPY_MODEL_4c187f55dc12482eab25dbefc02ec26f",
       "value": "1.5"
      }
     },
     "271725a43a644539a1e5376f3214ab32": {
      "model_module": "@jupyter-widgets/base",
      "model_module_version": "1.2.0",
      "model_name": "LayoutModel",
      "state": {}
     },
     "27cbf7514ba14a03a6eaff4f76b85abe": {
      "model_module": "@jupyter-widgets/base",
      "model_module_version": "1.2.0",
      "model_name": "LayoutModel",
      "state": {}
     },
     "27ce29b2d51d45c5be5a2dec4bbad26d": {
      "model_module": "@jupyter-widgets/controls",
      "model_module_version": "1.5.0",
      "model_name": "TextModel",
      "state": {
       "description": "$s_{_1}$",
       "layout": "IPY_MODEL_4f0f85d8ee3b4cfba00d9267cc0ba43a",
       "style": "IPY_MODEL_7077d0cec3754185863c025ecb61575d",
       "value": "1"
      }
     },
     "2d143e6eb25f44e7b72b76f8de9da580": {
      "model_module": "@jupyter-widgets/controls",
      "model_module_version": "1.5.0",
      "model_name": "TextModel",
      "state": {
       "description": "$x$ (m)",
       "layout": "IPY_MODEL_f4ef025142e64ec4a895b17091a4c7e1",
       "style": "IPY_MODEL_7861088fddb84b2aa12d4b137e7e5298",
       "value": "0.5"
      }
     },
     "2eb2866bf8c2404da11df0c31bd612fb": {
      "model_module": "@jupyter-widgets/controls",
      "model_module_version": "1.5.0",
      "model_name": "VBoxModel",
      "state": {
       "_dom_classes": [
        "widget-interact"
       ],
       "children": [
        "IPY_MODEL_449cf1e2c440465c931cf9630dba2ec2",
        "IPY_MODEL_f56e3bf4caae4a8dbd58f59de1a1ff86",
        "IPY_MODEL_301fc292c64c479cbc642f57e4783a87"
       ],
       "layout": "IPY_MODEL_4dc96db9bad64e63a71967ba583d53f5"
      }
     },
     "301fc292c64c479cbc642f57e4783a87": {
      "model_module": "@jupyter-widgets/output",
      "model_module_version": "1.0.0",
      "model_name": "OutputModel",
      "state": {
       "layout": "IPY_MODEL_271725a43a644539a1e5376f3214ab32",
       "outputs": [
        {
         "name": "stdout",
         "output_type": "stream",
         "text": "Pulsa para actualizar los campos de texto\n"
        }
       ]
      }
     },
     "336855a207db4f51a68be3090c4de253": {
      "model_module": "@jupyter-widgets/base",
      "model_module_version": "1.2.0",
      "model_name": "LayoutModel",
      "state": {}
     },
     "339f7174f0eb41449984508c6c23a624": {
      "model_module": "@jupyter-widgets/output",
      "model_module_version": "1.0.0",
      "model_name": "OutputModel",
      "state": {
       "layout": "IPY_MODEL_0c38f8ac23e34b4a8a139edcb4df1505",
       "outputs": [
        {
         "name": "stdout",
         "output_type": "stream",
         "text": "Pulsa para actualizar los campos de texto\n"
        }
       ]
      }
     },
     "34160ebb82bd4d7ca1df325965778ad6": {
      "model_module": "@jupyter-widgets/controls",
      "model_module_version": "1.5.0",
      "model_name": "TextModel",
      "state": {
       "description": "$W$ (Kgf)",
       "layout": "IPY_MODEL_4dada56030f741c8b370073a5e789fe7",
       "style": "IPY_MODEL_061519b502094a2d8ac209bdeb0d3d77",
       "value": "562.5"
      }
     },
     "360903fa2be94b089aceea64cba04cc8": {
      "model_module": "@jupyter-widgets/base",
      "model_module_version": "1.2.0",
      "model_name": "LayoutModel",
      "state": {}
     },
     "3957d5fcea494a2c802f8f6669a11383": {
      "model_module": "@jupyter-widgets/base",
      "model_module_version": "1.2.0",
      "model_name": "LayoutModel",
      "state": {}
     },
     "3b91795f8ecb4beb9d787676a6a86516": {
      "model_module": "@jupyter-widgets/base",
      "model_module_version": "1.2.0",
      "model_name": "LayoutModel",
      "state": {}
     },
     "41f2c6a83a7f484cb305b75597794993": {
      "model_module": "@jupyter-widgets/output",
      "model_module_version": "1.0.0",
      "model_name": "OutputModel",
      "state": {
       "layout": "IPY_MODEL_5d629a0c72974723bcaed52416617ba2",
       "outputs": [
        {
         "name": "stdout",
         "output_type": "stream",
         "text": "Pulsa para actualizar los campos de texto\n"
        }
       ]
      }
     },
     "449cf1e2c440465c931cf9630dba2ec2": {
      "model_module": "@jupyter-widgets/controls",
      "model_module_version": "1.5.0",
      "model_name": "TextModel",
      "state": {
       "description": "$W$ (Kgf)",
       "layout": "IPY_MODEL_d3f5a9a3a72349c9b9810fe09211f854",
       "style": "IPY_MODEL_95585585f7044464b45e7683c8be56a3",
       "value": "562.5"
      }
     },
     "45ad4eb6519f4cca914b2aeb6bb9c55c": {
      "model_module": "@jupyter-widgets/base",
      "model_module_version": "1.2.0",
      "model_name": "LayoutModel",
      "state": {}
     },
     "46037cc639d743eb964e9674938c61c4": {
      "model_module": "@jupyter-widgets/base",
      "model_module_version": "1.2.0",
      "model_name": "LayoutModel",
      "state": {}
     },
     "4948d10690eb49b09064c4c22b4ef95f": {
      "model_module": "@jupyter-widgets/controls",
      "model_module_version": "1.5.0",
      "model_name": "TextModel",
      "state": {
       "description": "$W$ (Kgf)",
       "layout": "IPY_MODEL_45ad4eb6519f4cca914b2aeb6bb9c55c",
       "style": "IPY_MODEL_b5b9b0aed8314e04898db6f971f6ebff",
       "value": "2222222222"
      }
     },
     "4ad5486e0f0d468eb7195e8769450c1f": {
      "model_module": "@jupyter-widgets/base",
      "model_module_version": "1.2.0",
      "model_name": "LayoutModel",
      "state": {}
     },
     "4be4ca806c5046929c77983037ec03d8": {
      "model_module": "@jupyter-widgets/controls",
      "model_module_version": "1.5.0",
      "model_name": "DescriptionStyleModel",
      "state": {
       "description_width": ""
      }
     },
     "4c187f55dc12482eab25dbefc02ec26f": {
      "model_module": "@jupyter-widgets/controls",
      "model_module_version": "1.5.0",
      "model_name": "DescriptionStyleModel",
      "state": {
       "description_width": ""
      }
     },
     "4c2e45627a0d47149724307c2b1fc110": {
      "model_module": "@jupyter-widgets/base",
      "model_module_version": "1.2.0",
      "model_name": "LayoutModel",
      "state": {}
     },
     "4dada56030f741c8b370073a5e789fe7": {
      "model_module": "@jupyter-widgets/base",
      "model_module_version": "1.2.0",
      "model_name": "LayoutModel",
      "state": {}
     },
     "4dc96db9bad64e63a71967ba583d53f5": {
      "model_module": "@jupyter-widgets/base",
      "model_module_version": "1.2.0",
      "model_name": "LayoutModel",
      "state": {}
     },
     "4f0f85d8ee3b4cfba00d9267cc0ba43a": {
      "model_module": "@jupyter-widgets/base",
      "model_module_version": "1.2.0",
      "model_name": "LayoutModel",
      "state": {}
     },
     "4faaef1626804ffca0ed2f5a87dde265": {
      "model_module": "@jupyter-widgets/controls",
      "model_module_version": "1.5.0",
      "model_name": "TextModel",
      "state": {
       "description": "$x$ (m)",
       "layout": "IPY_MODEL_3b91795f8ecb4beb9d787676a6a86516",
       "style": "IPY_MODEL_ce44e1e4821d49d3979ba12f229f8398",
       "value": "0.5"
      }
     },
     "51d2c99111af44a99fdd6e2e56a2f318": {
      "model_module": "@jupyter-widgets/controls",
      "model_module_version": "1.5.0",
      "model_name": "TextModel",
      "state": {
       "description": "$x$ (m)",
       "layout": "IPY_MODEL_e235a1412a7e46f884acc79f31c4e3c9",
       "style": "IPY_MODEL_4be4ca806c5046929c77983037ec03d8",
       "value": "0.5"
      }
     },
     "5bb850481c6e467ab56d2f94048ca634": {
      "model_module": "@jupyter-widgets/controls",
      "model_module_version": "1.5.0",
      "model_name": "DescriptionStyleModel",
      "state": {
       "description_width": ""
      }
     },
     "5d49dac3f0974de399b35f57855b1208": {
      "model_module": "@jupyter-widgets/base",
      "model_module_version": "1.2.0",
      "model_name": "LayoutModel",
      "state": {}
     },
     "5d629a0c72974723bcaed52416617ba2": {
      "model_module": "@jupyter-widgets/base",
      "model_module_version": "1.2.0",
      "model_name": "LayoutModel",
      "state": {}
     },
     "5f451e066a984b11ad4baf7167cab0ba": {
      "model_module": "@jupyter-widgets/controls",
      "model_module_version": "1.5.0",
      "model_name": "VBoxModel",
      "state": {
       "_dom_classes": [
        "widget-interact"
       ],
       "children": [
        "IPY_MODEL_34160ebb82bd4d7ca1df325965778ad6",
        "IPY_MODEL_4faaef1626804ffca0ed2f5a87dde265",
        "IPY_MODEL_62ddd58c300a40ad8dc2cff0e581d43d"
       ],
       "layout": "IPY_MODEL_7f87f01039c54ec08881a6074068610d"
      }
     },
     "61d46497eff04b09a7290077c4f27659": {
      "model_module": "@jupyter-widgets/controls",
      "model_module_version": "1.5.0",
      "model_name": "DescriptionStyleModel",
      "state": {
       "description_width": ""
      }
     },
     "62ddd58c300a40ad8dc2cff0e581d43d": {
      "model_module": "@jupyter-widgets/output",
      "model_module_version": "1.0.0",
      "model_name": "OutputModel",
      "state": {
       "layout": "IPY_MODEL_e1b8405d6b1b480bae2f624b9e322207",
       "outputs": [
        {
         "name": "stdout",
         "output_type": "stream",
         "text": "Pulsa para actualizar los campos de texto\n"
        }
       ]
      }
     },
     "679d4241032246c1a9371b4cc9ad7337": {
      "model_module": "@jupyter-widgets/base",
      "model_module_version": "1.2.0",
      "model_name": "LayoutModel",
      "state": {}
     },
     "6ad09ca03ad047f185d05cddea7ebab8": {
      "model_module": "@jupyter-widgets/controls",
      "model_module_version": "1.5.0",
      "model_name": "TextModel",
      "state": {
       "description": "$W$ (Kgf)",
       "layout": "IPY_MODEL_27cbf7514ba14a03a6eaff4f76b85abe",
       "style": "IPY_MODEL_e96fc60871f5428cbb8fa9811c99bd59",
       "value": "562.5"
      }
     },
     "6c5fac22795d43af9246e9fdfc6d6695": {
      "model_module": "@jupyter-widgets/base",
      "model_module_version": "1.2.0",
      "model_name": "LayoutModel",
      "state": {}
     },
     "6da2f4f86ab949ffa49b03483de0f49b": {
      "model_module": "@jupyter-widgets/controls",
      "model_module_version": "1.5.0",
      "model_name": "VBoxModel",
      "state": {
       "_dom_classes": [
        "widget-interact"
       ],
       "children": [
        "IPY_MODEL_745707514e324f35be4fb558ad8f2a36",
        "IPY_MODEL_7eeb107b377c456b93b228719279b4b6",
        "IPY_MODEL_1209b843714649cfa50ddd183d6ae526"
       ],
       "layout": "IPY_MODEL_3957d5fcea494a2c802f8f6669a11383"
      }
     },
     "7050b39f8f5b453b93663dba1a7cee96": {
      "model_module": "@jupyter-widgets/controls",
      "model_module_version": "1.5.0",
      "model_name": "VBoxModel",
      "state": {
       "_dom_classes": [
        "widget-interact"
       ],
       "children": [
        "IPY_MODEL_d557136cd5644103b92a53cb991a6cab",
        "IPY_MODEL_2d143e6eb25f44e7b72b76f8de9da580",
        "IPY_MODEL_bb14108bcb0d49838ea5a67239973874"
       ],
       "layout": "IPY_MODEL_fcf3ec54e024440192c63071b2a35462"
      }
     },
     "7077d0cec3754185863c025ecb61575d": {
      "model_module": "@jupyter-widgets/controls",
      "model_module_version": "1.5.0",
      "model_name": "DescriptionStyleModel",
      "state": {
       "description_width": ""
      }
     },
     "745707514e324f35be4fb558ad8f2a36": {
      "model_module": "@jupyter-widgets/controls",
      "model_module_version": "1.5.0",
      "model_name": "TextModel",
      "state": {
       "description": "$W$ (Kgf)",
       "layout": "IPY_MODEL_5d49dac3f0974de399b35f57855b1208",
       "style": "IPY_MODEL_104dbf941d814b3dac34c2921c2132a4",
       "value": "562.5"
      }
     },
     "7861088fddb84b2aa12d4b137e7e5298": {
      "model_module": "@jupyter-widgets/controls",
      "model_module_version": "1.5.0",
      "model_name": "DescriptionStyleModel",
      "state": {
       "description_width": ""
      }
     },
     "7eeb107b377c456b93b228719279b4b6": {
      "model_module": "@jupyter-widgets/controls",
      "model_module_version": "1.5.0",
      "model_name": "TextModel",
      "state": {
       "description": "$x$ (m)",
       "layout": "IPY_MODEL_a5c371baa6a94c93a64e7c2e49b94c02",
       "style": "IPY_MODEL_21fce6a775954e2395151ce6a4e10c08",
       "value": "222222222222"
      }
     },
     "7f87f01039c54ec08881a6074068610d": {
      "model_module": "@jupyter-widgets/base",
      "model_module_version": "1.2.0",
      "model_name": "LayoutModel",
      "state": {}
     },
     "7fbd841869684c41a80d08242489c0c7": {
      "model_module": "@jupyter-widgets/base",
      "model_module_version": "1.2.0",
      "model_name": "LayoutModel",
      "state": {}
     },
     "86755c039d0b466aafc9c37c96b34f33": {
      "model_module": "@jupyter-widgets/controls",
      "model_module_version": "1.5.0",
      "model_name": "DescriptionStyleModel",
      "state": {
       "description_width": ""
      }
     },
     "8c76f36bb76f4e6f82f5debcf7a38372": {
      "model_module": "@jupyter-widgets/base",
      "model_module_version": "1.2.0",
      "model_name": "LayoutModel",
      "state": {}
     },
     "8fb92d0f32b54d7c97ce8b72ae9a23e2": {
      "model_module": "@jupyter-widgets/base",
      "model_module_version": "1.2.0",
      "model_name": "LayoutModel",
      "state": {}
     },
     "95585585f7044464b45e7683c8be56a3": {
      "model_module": "@jupyter-widgets/controls",
      "model_module_version": "1.5.0",
      "model_name": "DescriptionStyleModel",
      "state": {
       "description_width": ""
      }
     },
     "9abdb63d1d904733b40f880d417549c3": {
      "model_module": "@jupyter-widgets/controls",
      "model_module_version": "1.5.0",
      "model_name": "TextModel",
      "state": {
       "description": "$b$ (m)",
       "layout": "IPY_MODEL_b1f2cf7305ea4fa3aec89ca9cd30bdb2",
       "style": "IPY_MODEL_86755c039d0b466aafc9c37c96b34f33",
       "value": "1"
      }
     },
     "9b278a30514846959cd2b0f2db83c57d": {
      "model_module": "@jupyter-widgets/controls",
      "model_module_version": "1.5.0",
      "model_name": "DescriptionStyleModel",
      "state": {
       "description_width": ""
      }
     },
     "9e3f6c7e14a243b9b9d37a9e4b178a98": {
      "model_module": "@jupyter-widgets/output",
      "model_module_version": "1.0.0",
      "model_name": "OutputModel",
      "state": {
       "layout": "IPY_MODEL_e8d0aab9810445cda135d6555e87fbbc",
       "outputs": [
        {
         "name": "stdout",
         "output_type": "stream",
         "text": "Pulsa para actualizar los campos de texto\n"
        }
       ]
      }
     },
     "a42b921f69784edf916ee639269fcf28": {
      "model_module": "@jupyter-widgets/controls",
      "model_module_version": "1.5.0",
      "model_name": "VBoxModel",
      "state": {
       "_dom_classes": [
        "widget-interact"
       ],
       "children": [
        "IPY_MODEL_b86ddb88fbda40e9a9461baec0988941",
        "IPY_MODEL_d90f87161aa940e4bad194f92f2b151a",
        "IPY_MODEL_41f2c6a83a7f484cb305b75597794993"
       ],
       "layout": "IPY_MODEL_1eb758b63d844c1b9cccc80d03bbaa3a"
      }
     },
     "a52e7851e7f44b1cb3626dab82c27096": {
      "model_module": "@jupyter-widgets/base",
      "model_module_version": "1.2.0",
      "model_name": "LayoutModel",
      "state": {}
     },
     "a5c371baa6a94c93a64e7c2e49b94c02": {
      "model_module": "@jupyter-widgets/base",
      "model_module_version": "1.2.0",
      "model_name": "LayoutModel",
      "state": {}
     },
     "ab5650b6e36844e7a93fa1c7e16d5230": {
      "model_module": "@jupyter-widgets/controls",
      "model_module_version": "1.5.0",
      "model_name": "TextModel",
      "state": {
       "description": "$s_{_1}$",
       "layout": "IPY_MODEL_4ad5486e0f0d468eb7195e8769450c1f",
       "style": "IPY_MODEL_f0265f7384e746a7a6650e34fc42254f",
       "value": "1"
      }
     },
     "b1298eba0efe4c838a01b242c381e56f": {
      "model_module": "@jupyter-widgets/base",
      "model_module_version": "1.2.0",
      "model_name": "LayoutModel",
      "state": {}
     },
     "b1f2cf7305ea4fa3aec89ca9cd30bdb2": {
      "model_module": "@jupyter-widgets/base",
      "model_module_version": "1.2.0",
      "model_name": "LayoutModel",
      "state": {}
     },
     "b2176f7ccb1a4c9186c5fb9ee54ae77c": {
      "model_module": "@jupyter-widgets/base",
      "model_module_version": "1.2.0",
      "model_name": "LayoutModel",
      "state": {}
     },
     "b4bbd821d09d415e83743d5c66ce6499": {
      "model_module": "@jupyter-widgets/output",
      "model_module_version": "1.0.0",
      "model_name": "OutputModel",
      "state": {
       "layout": "IPY_MODEL_a52e7851e7f44b1cb3626dab82c27096",
       "outputs": [
        {
         "name": "stdout",
         "output_type": "stream",
         "text": "Pulsa para actualizar los campos de texto\n"
        }
       ]
      }
     },
     "b5b9b0aed8314e04898db6f971f6ebff": {
      "model_module": "@jupyter-widgets/controls",
      "model_module_version": "1.5.0",
      "model_name": "DescriptionStyleModel",
      "state": {
       "description_width": ""
      }
     },
     "b86ddb88fbda40e9a9461baec0988941": {
      "model_module": "@jupyter-widgets/controls",
      "model_module_version": "1.5.0",
      "model_name": "TextModel",
      "state": {
       "description": "$W$ (Kgf)",
       "layout": "IPY_MODEL_faf93120693947cdbc9c23c3a60545c2",
       "style": "IPY_MODEL_ecb39a6d4c854f9fb5e37d9b43f8aeec",
       "value": "562.5"
      }
     },
     "bb14108bcb0d49838ea5a67239973874": {
      "model_module": "@jupyter-widgets/output",
      "model_module_version": "1.0.0",
      "model_name": "OutputModel",
      "state": {
       "layout": "IPY_MODEL_f5910bf7910e4ff3874de6192f13bc06",
       "outputs": [
        {
         "name": "stdout",
         "output_type": "stream",
         "text": "Pulsa para actualizar los campos de texto\n"
        }
       ]
      }
     },
     "bc203bd07bea4394845c53ff558a7a86": {
      "model_module": "@jupyter-widgets/controls",
      "model_module_version": "1.5.0",
      "model_name": "TextModel",
      "state": {
       "description": "$h$ (m)",
       "layout": "IPY_MODEL_679d4241032246c1a9371b4cc9ad7337",
       "style": "IPY_MODEL_c37b005c831a4cd1917882b59bff6b16",
       "value": "2"
      }
     },
     "bd166978d6124fad8d9640544102b185": {
      "model_module": "@jupyter-widgets/controls",
      "model_module_version": "1.5.0",
      "model_name": "DescriptionStyleModel",
      "state": {
       "description_width": ""
      }
     },
     "c37b005c831a4cd1917882b59bff6b16": {
      "model_module": "@jupyter-widgets/controls",
      "model_module_version": "1.5.0",
      "model_name": "DescriptionStyleModel",
      "state": {
       "description_width": ""
      }
     },
     "cce1e2a353e144af9068579ed03857e5": {
      "model_module": "@jupyter-widgets/base",
      "model_module_version": "1.2.0",
      "model_name": "LayoutModel",
      "state": {}
     },
     "ce44e1e4821d49d3979ba12f229f8398": {
      "model_module": "@jupyter-widgets/controls",
      "model_module_version": "1.5.0",
      "model_name": "DescriptionStyleModel",
      "state": {
       "description_width": ""
      }
     },
     "cec31c44b398405b8e2b788286409b75": {
      "model_module": "@jupyter-widgets/controls",
      "model_module_version": "1.5.0",
      "model_name": "VBoxModel",
      "state": {
       "_dom_classes": [
        "widget-interact"
       ],
       "children": [
        "IPY_MODEL_4948d10690eb49b09064c4c22b4ef95f",
        "IPY_MODEL_ef7d2d700a1a40e79b061b517c532911",
        "IPY_MODEL_9e3f6c7e14a243b9b9d37a9e4b178a98"
       ],
       "layout": "IPY_MODEL_336855a207db4f51a68be3090c4de253"
      }
     },
     "d1039efb1c7745778bad05730367a034": {
      "model_module": "@jupyter-widgets/controls",
      "model_module_version": "1.5.0",
      "model_name": "DescriptionStyleModel",
      "state": {
       "description_width": ""
      }
     },
     "d26e0b3c3d5447b99a72d3df4a962c8f": {
      "model_module": "@jupyter-widgets/controls",
      "model_module_version": "1.5.0",
      "model_name": "TextModel",
      "state": {
       "description": "$W$ (Kgf)",
       "layout": "IPY_MODEL_dfcd63cd272c4693bc3d4bc809bcfd57",
       "style": "IPY_MODEL_df126470e8e4424aa6a827f72c51e8a0",
       "value": "562.5"
      }
     },
     "d29cab37f88d46f688be68538b4b6c0a": {
      "model_module": "@jupyter-widgets/controls",
      "model_module_version": "1.5.0",
      "model_name": "VBoxModel",
      "state": {
       "_dom_classes": [
        "widget-interact"
       ],
       "children": [
        "IPY_MODEL_6ad09ca03ad047f185d05cddea7ebab8",
        "IPY_MODEL_51d2c99111af44a99fdd6e2e56a2f318",
        "IPY_MODEL_df70eab507fa43099584b7331edce519"
       ],
       "layout": "IPY_MODEL_8c76f36bb76f4e6f82f5debcf7a38372"
      }
     },
     "d3f5a9a3a72349c9b9810fe09211f854": {
      "model_module": "@jupyter-widgets/base",
      "model_module_version": "1.2.0",
      "model_name": "LayoutModel",
      "state": {}
     },
     "d557136cd5644103b92a53cb991a6cab": {
      "model_module": "@jupyter-widgets/controls",
      "model_module_version": "1.5.0",
      "model_name": "TextModel",
      "state": {
       "description": "$W$ (Kgf)",
       "layout": "IPY_MODEL_0d841015720c4d07adc07e14dfde496f",
       "style": "IPY_MODEL_bd166978d6124fad8d9640544102b185",
       "value": "562.5"
      }
     },
     "d6ada58e1803446784d1e33002a7f3e6": {
      "model_module": "@jupyter-widgets/controls",
      "model_module_version": "1.5.0",
      "model_name": "TextModel",
      "state": {
       "description": "$x$ (m)",
       "layout": "IPY_MODEL_4c2e45627a0d47149724307c2b1fc110",
       "style": "IPY_MODEL_eaafde57062a476b8b1fc0e3dafb3920",
       "value": "0.5"
      }
     },
     "d90f87161aa940e4bad194f92f2b151a": {
      "model_module": "@jupyter-widgets/controls",
      "model_module_version": "1.5.0",
      "model_name": "TextModel",
      "state": {
       "description": "$x$ (m)",
       "layout": "IPY_MODEL_e13d0e40916e4c168a14f7b7cfab9432",
       "style": "IPY_MODEL_d1039efb1c7745778bad05730367a034",
       "value": "0.5"
      }
     },
     "df126470e8e4424aa6a827f72c51e8a0": {
      "model_module": "@jupyter-widgets/controls",
      "model_module_version": "1.5.0",
      "model_name": "DescriptionStyleModel",
      "state": {
       "description_width": ""
      }
     },
     "df70eab507fa43099584b7331edce519": {
      "model_module": "@jupyter-widgets/output",
      "model_module_version": "1.0.0",
      "model_name": "OutputModel",
      "state": {
       "layout": "IPY_MODEL_13e890977cfc41a19c6d1a8612cf1b97",
       "outputs": [
        {
         "name": "stdout",
         "output_type": "stream",
         "text": "Pulsa para actualizar los campos de texto\n"
        }
       ]
      }
     },
     "dfcd63cd272c4693bc3d4bc809bcfd57": {
      "model_module": "@jupyter-widgets/base",
      "model_module_version": "1.2.0",
      "model_name": "LayoutModel",
      "state": {}
     },
     "e0ae2bc0e70f44778288a7b25402a8e3": {
      "model_module": "@jupyter-widgets/controls",
      "model_module_version": "1.5.0",
      "model_name": "VBoxModel",
      "state": {
       "_dom_classes": [
        "widget-interact"
       ],
       "children": [
        "IPY_MODEL_d26e0b3c3d5447b99a72d3df4a962c8f",
        "IPY_MODEL_d6ada58e1803446784d1e33002a7f3e6",
        "IPY_MODEL_b4bbd821d09d415e83743d5c66ce6499"
       ],
       "layout": "IPY_MODEL_e8f6e8db008346be9b8ffba4ad710a83"
      }
     },
     "e13d0e40916e4c168a14f7b7cfab9432": {
      "model_module": "@jupyter-widgets/base",
      "model_module_version": "1.2.0",
      "model_name": "LayoutModel",
      "state": {}
     },
     "e1b8405d6b1b480bae2f624b9e322207": {
      "model_module": "@jupyter-widgets/base",
      "model_module_version": "1.2.0",
      "model_name": "LayoutModel",
      "state": {}
     },
     "e235a1412a7e46f884acc79f31c4e3c9": {
      "model_module": "@jupyter-widgets/base",
      "model_module_version": "1.2.0",
      "model_name": "LayoutModel",
      "state": {}
     },
     "e2c46a169f1f4f3689cb16a54b542db9": {
      "model_module": "@jupyter-widgets/output",
      "model_module_version": "1.0.0",
      "model_name": "OutputModel",
      "state": {
       "layout": "IPY_MODEL_cce1e2a353e144af9068579ed03857e5",
       "outputs": [
        {
         "name": "stdout",
         "output_type": "stream",
         "text": "Pulsa para actualizar los campos de texto\n"
        }
       ]
      }
     },
     "e67cb3935b524ef08589ddf8466034d4": {
      "model_module": "@jupyter-widgets/controls",
      "model_module_version": "1.5.0",
      "model_name": "DescriptionStyleModel",
      "state": {
       "description_width": ""
      }
     },
     "e8d0aab9810445cda135d6555e87fbbc": {
      "model_module": "@jupyter-widgets/base",
      "model_module_version": "1.2.0",
      "model_name": "LayoutModel",
      "state": {}
     },
     "e8f6e8db008346be9b8ffba4ad710a83": {
      "model_module": "@jupyter-widgets/base",
      "model_module_version": "1.2.0",
      "model_name": "LayoutModel",
      "state": {}
     },
     "e96fc60871f5428cbb8fa9811c99bd59": {
      "model_module": "@jupyter-widgets/controls",
      "model_module_version": "1.5.0",
      "model_name": "DescriptionStyleModel",
      "state": {
       "description_width": ""
      }
     },
     "eaafde57062a476b8b1fc0e3dafb3920": {
      "model_module": "@jupyter-widgets/controls",
      "model_module_version": "1.5.0",
      "model_name": "DescriptionStyleModel",
      "state": {
       "description_width": ""
      }
     },
     "ecb39a6d4c854f9fb5e37d9b43f8aeec": {
      "model_module": "@jupyter-widgets/controls",
      "model_module_version": "1.5.0",
      "model_name": "DescriptionStyleModel",
      "state": {
       "description_width": ""
      }
     },
     "ef7d2d700a1a40e79b061b517c532911": {
      "model_module": "@jupyter-widgets/controls",
      "model_module_version": "1.5.0",
      "model_name": "TextModel",
      "state": {
       "description": "$x$ (m)",
       "layout": "IPY_MODEL_7fbd841869684c41a80d08242489c0c7",
       "style": "IPY_MODEL_17c32081f4de424291f1f429986a0c46",
       "value": "0.5"
      }
     },
     "f0265f7384e746a7a6650e34fc42254f": {
      "model_module": "@jupyter-widgets/controls",
      "model_module_version": "1.5.0",
      "model_name": "DescriptionStyleModel",
      "state": {
       "description_width": ""
      }
     },
     "f4ef025142e64ec4a895b17091a4c7e1": {
      "model_module": "@jupyter-widgets/base",
      "model_module_version": "1.2.0",
      "model_name": "LayoutModel",
      "state": {}
     },
     "f56e3bf4caae4a8dbd58f59de1a1ff86": {
      "model_module": "@jupyter-widgets/controls",
      "model_module_version": "1.5.0",
      "model_name": "TextModel",
      "state": {
       "description": "$x$ (m)",
       "layout": "IPY_MODEL_21f16b97da404cee8b3f7b0aa313837e",
       "style": "IPY_MODEL_61d46497eff04b09a7290077c4f27659",
       "value": "0.5"
      }
     },
     "f5910bf7910e4ff3874de6192f13bc06": {
      "model_module": "@jupyter-widgets/base",
      "model_module_version": "1.2.0",
      "model_name": "LayoutModel",
      "state": {}
     },
     "f8c495c82e504aeebce5280c15adf349": {
      "model_module": "@jupyter-widgets/controls",
      "model_module_version": "1.5.0",
      "model_name": "TextModel",
      "state": {
       "description": "$h$ (m)",
       "layout": "IPY_MODEL_b2176f7ccb1a4c9186c5fb9ee54ae77c",
       "style": "IPY_MODEL_e67cb3935b524ef08589ddf8466034d4",
       "value": "2"
      }
     },
     "faf93120693947cdbc9c23c3a60545c2": {
      "model_module": "@jupyter-widgets/base",
      "model_module_version": "1.2.0",
      "model_name": "LayoutModel",
      "state": {}
     },
     "fcf3ec54e024440192c63071b2a35462": {
      "model_module": "@jupyter-widgets/base",
      "model_module_version": "1.2.0",
      "model_name": "LayoutModel",
      "state": {}
     }
    },
    "version_major": 2,
    "version_minor": 0
   }
  }
 },
 "nbformat": 4,
 "nbformat_minor": 5
}
