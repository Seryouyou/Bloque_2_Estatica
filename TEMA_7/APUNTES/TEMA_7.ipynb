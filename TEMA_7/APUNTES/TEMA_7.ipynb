{
 "cells": [
  {
   "cell_type": "markdown",
   "id": "5bb75fda",
   "metadata": {},
   "source": [
    "<div style=\"background-color:white;border-style:solid;padding:5px\">\n",
    "    <div style=\"background-color:white;border-style:solid\">\n",
    "        <div style=\"padding:10px;\">\n",
    "                        <div><h1><center><strong>TEMA 7:</strong></center></h1></div>\n",
    "                        <div><h1><center><strong>FUERZAS SOBRE SUPERFICIES.</strong></center></h1></div>\n",
    "        </div>\n",
    "    </div>   \n",
    "</div>"
   ]
  },
  {
   "cell_type": "markdown",
   "id": "af09aca3",
   "metadata": {},
   "source": [
    "<h2>FUERZAS SOBRE SUPERFICIES PLANAS HORIZONTALES.</h2>"
   ]
  },
  {
   "cell_type": "markdown",
   "id": "e66eb7dc",
   "metadata": {},
   "source": [
    "<div> <img src=\"../MEDIA/7.1.png\" style=\"width:70%\"> </div>"
   ]
  },
  {
   "cell_type": "markdown",
   "id": "b8ad8a18",
   "metadata": {},
   "source": [
    "<div class=\"texto\">\n",
    "    <p><strong>Módulo</strong> de la fuerza:</p>\n",
    "</div>"
   ]
  },
  {
   "cell_type": "markdown",
   "id": "3700e4d8",
   "metadata": {},
   "source": [
    "<div class=\"formulas\"> \n",
    "$$\n",
    "dF=P\\cdot dA\\rightarrow  F=\\int P\\cdot dA=P\\cdot\\int  dA= P\\cdot A\n",
    "$$\n",
    "</div> "
   ]
  },
  {
   "cell_type": "markdown",
   "id": "c08f91e0",
   "metadata": {},
   "source": [
    "<div class=\"texto\">\n",
    "    <p><strong>Centro de presiones C.P. (</strong><strong>X</strong>$_{_p}$<strong>, Y</strong>$_{_p}$<strong>)</strong></p>\n",
    "</div>"
   ]
  },
  {
   "cell_type": "markdown",
   "id": "6f51c798",
   "metadata": {},
   "source": [
    "<div class=\"texto\">\n",
    "    <p>Se consideran momentos respecto de los ejes <strong>x</strong> e <strong>y</strong>.</p>\n",
    "</div>"
   ]
  },
  {
   "cell_type": "markdown",
   "id": "f42c7d13",
   "metadata": {},
   "source": [
    "<div class=\"formulas\"> \n",
    "$$\n",
    "F\\cdot X_{_P} =\\int_{{_A}} x\\cdot dF\\rightarrow  P\\cdot A \\cdot X_{_P}= \\int_{{_A}}x\\cdot P\\cdot dA \\rightarrow\n",
    "$$\n",
    "</div>"
   ]
  },
  {
   "cell_type": "markdown",
   "id": "c06147b2",
   "metadata": {},
   "source": [
    "<div class=\"formulas\"> \n",
    "$$\n",
    " X_{_P} =\\frac{1}{A}\\cdot\\int_{{_A}} x\\cdot dA=X_{_G}\n",
    "$$\n",
    "</div>"
   ]
  },
  {
   "cell_type": "markdown",
   "id": "39c74bd9",
   "metadata": {},
   "source": [
    "<div class=\"formulas\"> \n",
    "$$\n",
    "P\\cdot A \\cdot Y_{_P} =\\int_{{_A}}y\\cdot P\\cdot dA \\rightarrow Y_{_P}=\\frac{1}{A}\\cdot\\int_{{_A}} y\\cdot dA=Y_{_G}\n",
    "$$\n",
    "</div>"
   ]
  },
  {
   "cell_type": "markdown",
   "id": "9f212d1b",
   "metadata": {},
   "source": [
    "<div class=\"texto\">\n",
    "    <p><strong>Centro de presiones C.P. (</strong><strong>X</strong>$_{_p}$<strong>, Y</strong>$_{_p}$<strong>)</strong>=<strong> Centroide G (</strong><strong>X</strong>$_{_G}$<strong>, Y</strong>$_{_G}$<strong>)</strong></p>\n",
    "</div>"
   ]
  },
  {
   "cell_type": "markdown",
   "id": "7b9bb8b2",
   "metadata": {},
   "source": [
    "<div><img src=\"../../MEDIA/hr_2.png\"style=\"float:left;width:87%\"></div>"
   ]
  },
  {
   "cell_type": "markdown",
   "id": "18ccf6ce",
   "metadata": {},
   "source": [
    "<h2>FUERZAS SOBRE SUPERFICIES PLANAS INCLINADAS.</h2>\n",
    "\n"
   ]
  },
  {
   "cell_type": "markdown",
   "id": "81a0a56b",
   "metadata": {},
   "source": [
    "<div> <img src=\"../MEDIA/7.2.png\" style=\"width:70%\"> </div>"
   ]
  },
  {
   "cell_type": "markdown",
   "id": "f066e327",
   "metadata": {},
   "source": [
    "<div class=\"texto\">\n",
    "    <p><strong>Módulo</strong> de la fuerza:</p>\n",
    "</div>"
   ]
  },
  {
   "cell_type": "markdown",
   "id": "437dbb43",
   "metadata": {},
   "source": [
    "<div class=\"formulas\"> \n",
    "$$\n",
    "dF=P\\cdot dA =\\gamma\\cdot h \\cdot dA=\\gamma\\cdot y \\cdot sin\\theta\\cdot dA\n",
    "$$\n",
    "</div>"
   ]
  },
  {
   "cell_type": "markdown",
   "id": "e5859f76",
   "metadata": {},
   "source": [
    "<div class=\"formulas\"> \n",
    "$$\n",
    "F=\\int P\\cdot dA=\\gamma\\cdot sin\\theta\\cdot\\int y\\cdot dA\n",
    "$$\n",
    "</div> "
   ]
  },
  {
   "cell_type": "markdown",
   "id": "287287cc",
   "metadata": {},
   "source": [
    "<div class=\"formulas\"> \n",
    "$$\n",
    "F=\\gamma\\cdot sin\\theta\\cdot Y_{_G} \\cdot A=\\gamma\\cdot H_{_G} \\cdot A=P_{_G}\\cdot A\n",
    "$$\n",
    "</div> "
   ]
  },
  {
   "cell_type": "markdown",
   "id": "164be0ed",
   "metadata": {},
   "source": [
    "<div class=\"texto\">\n",
    "    <p><strong>P</strong>$_{_G}$ es la presión en el centroide de la superficie A\n",
    "Centro de presiones C.P. $(X_{_P},\\ Y_{_P})$</p>\n",
    "</div>\n",
    "<div class=\"texto\">\n",
    "    <p>Se consideran momentos respecto de los ejes <strong>x</strong> e <strong>y</strong></p>\n",
    "</div>"
   ]
  },
  {
   "cell_type": "markdown",
   "id": "2a77c253",
   "metadata": {},
   "source": [
    "<div class=\"formulas\">\n",
    "$$\n",
    "X_{_P}\\cdot F=\\int_{_A}x\\cdot P\\cdot dA\\rightarrow X_{_P}=\\frac{1}{F}\\cdot\\int_{_A}x\\cdot P\\cdot dA\n",
    "$$\n",
    "</div> "
   ]
  },
  {
   "cell_type": "markdown",
   "id": "5465a027",
   "metadata": {},
   "source": [
    "<div class=\"formulas\">\n",
    "$$\n",
    "Y_{_P}\\cdot F=\\int_{_A}y\\cdot P\\cdot dA\\rightarrow Y_{_P}=\\frac{1}{F}\\cdot\\int_{_A}y\\cdot P\\cdot dA\n",
    "$$\n",
    "</div> "
   ]
  },
  {
   "cell_type": "markdown",
   "id": "6ff36782",
   "metadata": {},
   "source": [
    "<div class=\"formulas\"> \n",
    "$$\n",
    "X{_P}=\\frac{1}{\\gamma\\cdot Y_{_G}\\cdot A\\cdot sen\\theta}\\cdot\\int_{_A}x\\cdot\\gamma\\cdot y\\cdot sen\\theta\\cdot dA=\n",
    "\\frac{1}{ Y_{_G}\\cdot A}\n",
    "\\cdot\\int_{A}x\\cdot y\\cdot dA=\\frac{I{_{xy}}}{ Y_{_G}\\cdot A}\n",
    "$$\n",
    "</div> "
   ]
  },
  {
   "cell_type": "markdown",
   "id": "a1b2d6a2",
   "metadata": {},
   "source": [
    "<div class=\"formulas\"> \n",
    "$$\n",
    "Y_{_P}=\\frac{1}{\\gamma\\cdot Y_{_G}\\cdot A\\cdot sen\\theta}\\cdot\\int_{_A}y\\cdot\\gamma\\cdot y\\cdot sen\\theta\\cdot dA=\n",
    "\\frac{1}{ Y_{_G}\\cdot A}\n",
    "\\cdot\\int_{_A} y^{^2}\\cdot dA=\\frac{I_{_x}}{ Y_{_G}\\cdot A}\n",
    "$$\n",
    "</div> "
   ]
  },
  {
   "cell_type": "markdown",
   "id": "3d0bef4f",
   "metadata": {},
   "source": [
    "<div class=\"formulas\"> \n",
    "$$\n",
    "I_{_{xy}}=X_{_G}\\cdot Y_{_G}\\cdot A+\\overline{I}_{_{xy}}\n",
    "$$\n",
    "</div> "
   ]
  },
  {
   "cell_type": "markdown",
   "id": "04f2db74",
   "metadata": {},
   "source": [
    "<div class=\"formulas\"> \n",
    "$$\n",
    "I_{_{xy}}=I_{_G}+ Y_{_G}^{^2}\\cdot A\n",
    "$$\n",
    "</div>"
   ]
  },
  {
   "cell_type": "markdown",
   "id": "a4a4e466",
   "metadata": {},
   "source": [
    "<div class=\"resultado\"style=\"width:300px\">\n",
    "    <div> \n",
    "    $$\n",
    "    X_{_P}=\\frac{\\overline{I}_{_{xy}}}{ Y_{_G}\\cdot A}+X_{_G}\n",
    "    $$\n",
    "    </div>\n",
    "    <div> \n",
    "    $$\n",
    "    Y_{_P}=\\frac{\\overline{I}_{{_G}}}{ Y_{_G}\\cdot A}+Y_{_G}\n",
    "    $$\n",
    "    </div>\n",
    "</div> "
   ]
  },
  {
   "cell_type": "markdown",
   "id": "609f27f4",
   "metadata": {},
   "source": [
    "<div><img src=\"../../MEDIA/hr_2.png\"style=\"float:left;width:87%\"></div>"
   ]
  },
  {
   "cell_type": "markdown",
   "id": "6f29f285",
   "metadata": {},
   "source": [
    "<h2>CALCULO DE FUERZAS MEDIANTE EL PRISMA DE PRESIONES.</h2>\n",
    "            \n"
   ]
  },
  {
   "cell_type": "markdown",
   "id": "69d9c23e",
   "metadata": {},
   "source": [
    "<div class=\"split\">\n",
    "    <div class=\"izq\"><img src=\"../MEDIA/7.3.png\">\n",
    "    </div>\n",
    "    <div class=\"derecha\">\n",
    "        <div class=\"texto\">\n",
    "            <p>El prisma de presiones se construye de la siguiente manera:</p>\n",
    "        </div>\n",
    "        <div class=\"texto\">\n",
    "            <ul>\n",
    "                <li> la base del prisma es la superficie A.\n",
    "                <li> la altura del prisma en cada punto es la presión P del fluido en ese punto $(P=h\\cdot\\gamma)$\n",
    "            </ul>\n",
    "        </div>\n",
    "        <div class=\"texto\">\n",
    "            <p>Módulo de la fuerza:</p>\n",
    "        </div>\n",
    "        <div class=\"formulas\"> \n",
    "        $$\n",
    "        dF=\\gamma\\cdot h \\cdot dA=d\\forall\n",
    "        $$\n",
    "        </div>          \n",
    "        <div class=\"formulas\"> \n",
    "        $$\n",
    "        F=\\forall_{_{prisma\\ de\\ presiones}}\n",
    "        $$\n",
    "        </div>\n",
    "        <div class=\"texto\">\n",
    "            <p>Centro de presiones C.P.$(X_{_P},\\ Y_{_P})$:\n",
    "        Es el centroide del prisma de presiones.</p>\n",
    "        </div>\n",
    "        <div class=\"formulas\">\n",
    "        $$\n",
    "        X_{_P}=\\frac{1}{\\forall}\\cdot\\int x\\cdot d\\forall\n",
    "        $$\n",
    "        </div>\n",
    "        <div class=\"formulas\"> \n",
    "        $$\n",
    "        Y_{_P}=\\frac{1}{\\forall}\\cdot\\int y\\cdot d\\forall\n",
    "        $$\n",
    "        </div>\n",
    "    </div>\n",
    "</div>       "
   ]
  },
  {
   "cell_type": "markdown",
   "id": "b6e8fc63",
   "metadata": {},
   "source": [
    "<div><img src=\"../../MEDIA/hr_2.png\"style=\"float:left;width:87%\"></div>"
   ]
  },
  {
   "cell_type": "markdown",
   "id": "ff1a08e4",
   "metadata": {},
   "source": [
    "<h2>EFECTO DE LA PRESIÓN ATMOSFÉRICA EN EL CALCULO DE LAS FUERZAS</h2>"
   ]
  },
  {
   "cell_type": "markdown",
   "id": "adbb5550",
   "metadata": {},
   "source": [
    "<div class=\"texto\">\n",
    "    <p>Para el cálculo de las fuerzas hidrostáticas hemos considerado las presiones manométricas o relativas, ya que el efecto de la presión atmosférica es similar en todos los puntos.</p>\n",
    "</div>\n",
    "\n",
    "\n"
   ]
  },
  {
   "cell_type": "markdown",
   "id": "a676d48e",
   "metadata": {},
   "source": [
    "<div class=\"texto\">\n",
    "    <p>Cuando el lado opuesto de la superficie A esta en contacto con la atmósfera, la presión atmosférica ejerce una fuerza sobre la superficie igual al producto de la presión atmosférica $p_{_{atm}}$ Es el área A.</p>\n",
    "</div>\n"
   ]
  },
  {
   "cell_type": "markdown",
   "id": "662f5442",
   "metadata": {},
   "source": [
    "<div class=\"texto\">\n",
    "    <p>En el lado del líquido también actúa esa fuerza debida a la presión atmosférica.</p>\n",
    "</div>\n"
   ]
  },
  {
   "cell_type": "markdown",
   "id": "5338e2cf",
   "metadata": {},
   "source": [
    "<div><img src=\"../MEDIA/7.4.png\">\n",
    "    </div>"
   ]
  },
  {
   "cell_type": "markdown",
   "id": "9d30d030",
   "metadata": {},
   "source": [
    "<div class=\"texto\">\n",
    "    <p><strong>Por tanto, en el cálculo de las fuerzas hidrostáticas se trabajara con presiones manométricas o relativas.</strong></p>\n",
    "</div>"
   ]
  },
  {
   "cell_type": "markdown",
   "id": "0effb03d",
   "metadata": {},
   "source": [
    "<div><img src=\"../../MEDIA/hr_2.png\"style=\"float:left;width:87%\"></div>"
   ]
  },
  {
   "cell_type": "markdown",
   "id": "772124cc",
   "metadata": {},
   "source": [
    "<h2>FUERZAS SOBRE SUPERFICIES CURVAS. COMPONENTE HORIZONTAL.</h2>\n"
   ]
  },
  {
   "cell_type": "markdown",
   "id": "dfa0026d",
   "metadata": {},
   "source": [
    "<div class=\"texto\">\n",
    "    <p><strong><i>Componente horizontal</i>:</strong> La componente horizontal de la fuerza de presión sobre una superficie curva es igual a la fuerza de presión ejercida sobre la proyección vertical de la superficie curva.</p>\n",
    "</div>\n"
   ]
  },
  {
   "cell_type": "markdown",
   "id": "c92496e6",
   "metadata": {},
   "source": [
    "<div class=\"split\">\n",
    "    <div class=\"izq\"><img src=\"../MEDIA/7.5.png\">\n",
    "    </div>\n",
    "    <div class=\"derecha\">\n",
    "        <div> \n",
    "        <img src=\"../MEDIA/7.5b.png\" style=\"width:70%\">\n",
    "        </div>\n",
    "        <div class=\"formulas\">\n",
    "        $$\n",
    "        dF_{_H}=P\\cdot dA \\cdot cos\\theta\n",
    "        $$\n",
    "        </div>\n",
    "        <div class=\"formulas\"> \n",
    "        $$\n",
    "        dF_{_H}=P\\cdot dA^{^{\\prime}}\n",
    "        $$\n",
    "        </div>\n",
    "    </div>     \n",
    "    </div>      \n",
    "</div>      "
   ]
  },
  {
   "cell_type": "markdown",
   "id": "ac77aba8",
   "metadata": {},
   "source": [
    "<div class=\"texto\">\n",
    "    <p>El módulo de la resultante de la componente horizontal $(F_{_h})$ se puede calcular mediante el prisma de presiones, construido sobre la superficie vertical proyectada $(A^{\\prime})$.</p>\n",
    "</div>\n"
   ]
  },
  {
   "cell_type": "markdown",
   "id": "22a0c621",
   "metadata": {},
   "source": [
    "<div class=\"texto\">\n",
    "    <p>También se puede calcular mediante la siguiente expresión: $F_{_H}=P_{_G}\\cdot A^{^{\\prime}}$ siendo $P_{_G}$ la presión en el centroide de la superficie proyectada $A^{^{\\prime}}$.</p>\n",
    "</div>"
   ]
  },
  {
   "cell_type": "markdown",
   "id": "65a9e14e",
   "metadata": {},
   "source": [
    "<div class=\"texto\">\n",
    "    <p>Centro de presiones C.P. $(X_{_P},\\ Y_{_P})$: centroide del prisma de presiones</p>\n",
    "</div>"
   ]
  },
  {
   "cell_type": "markdown",
   "id": "84bec7b7",
   "metadata": {},
   "source": [
    "<div><img src=\"../../MEDIA/hr_2.png\"style=\"float:left;width:87%\"></div>"
   ]
  },
  {
   "cell_type": "markdown",
   "id": "c2c68a36",
   "metadata": {},
   "source": [
    "<h2>FUERZAS SOBRE SUPERFICIES CURVAS. COMPONENTE VERTICAL.</h2>"
   ]
  },
  {
   "cell_type": "markdown",
   "id": "b0fb8620",
   "metadata": {},
   "source": [
    "<div class=\"texto\">\n",
    "    <p><strong><i>Componente Vertical</i>:</strong> el módulo de la componente vertical de la fuerza de presión sobre una superficie curva es igual al peso del volumen de líquido $\\forall$ (real o imaginario) comprendido entre la superficie curva y la superficie horizontal de presión cero del líquido.</p>\n",
    "</div>"
   ]
  },
  {
   "cell_type": "markdown",
   "id": "6f50fe91",
   "metadata": {},
   "source": [
    "<div class=\"split\">\n",
    "    <div class=\"izq\"><img src=\"../MEDIA/7.6.png\">\n",
    "    </div>\n",
    "    <div class=\"derecha\">\n",
    "        <div> \n",
    "        <img src=\"../MEDIA/7.6b.png\" style=\"width:70%\">\n",
    "        </div>\n",
    "        <div class=\"formulas\"> \n",
    "        $$\n",
    "        dF_{_V}=P\\cdot dA \\cdot sen\\theta\n",
    "        $$\n",
    "        </div>\n",
    "        <div class=\"formulas\"> \n",
    "        $$\n",
    "        dF_{_V}=h\\cdot \\gamma \\cdot dA^{^{\\prime\\prime}}\n",
    "        $$\n",
    "        </div>\n",
    "        <div class=\"formulas\"> \n",
    "        $$\n",
    "        dF_{_V}= \\gamma \\cdot dA\n",
    "        $$\n",
    "        </div>\n",
    "        <div class=\"formulas\"> \n",
    "        $$\n",
    "        F_{_V}= \\gamma \\cdot \\forall\n",
    "        $$\n",
    "        </div>\n",
    "    </div>      \n",
    "</div>   "
   ]
  },
  {
   "cell_type": "markdown",
   "id": "1d53fc4b",
   "metadata": {},
   "source": [
    "<div class=\"texto\">\n",
    "    <p>Centro de presiones C.P. $(X_{_P},\\ Y_{_P})$: centroide del volumen $\\forall$ acotado.</p>\n",
    "</div>"
   ]
  },
  {
   "cell_type": "markdown",
   "id": "51ba4a21",
   "metadata": {},
   "source": [
    "<div class=\"formulas\"> \n",
    "$$\n",
    "F_{_P}\\cdot X_{_P}=\\int x\\cdot dF_{_V}\\rightarrow X_{_P}=\\frac{1}{\\forall}\\int x \\cdot d\\forall\n",
    "$$\n",
    "</div>"
   ]
  },
  {
   "cell_type": "markdown",
   "id": "3c49a0de",
   "metadata": {},
   "source": [
    "<div class=\"formulas\"> \n",
    "$$\n",
    "F_{_V}\\cdot Y_{_P}=\\int y\\cdot dF_{_V}\\rightarrow Y_{_P}=\\frac{1}{\\forall}\\int y \\cdot d\\forall\n",
    "$$\n",
    "</div>"
   ]
  },
  {
   "cell_type": "markdown",
   "id": "3979ac97",
   "metadata": {},
   "source": [
    "<div><img src=\"../../MEDIA/hr_2.png\"style=\"float:left;width:87%\"></div>"
   ]
  },
  {
   "cell_type": "markdown",
   "id": "3cd6cadc",
   "metadata": {},
   "source": [
    "<h2>FENÓMENO DE LA SUPRESIÓN</h2>"
   ]
  },
  {
   "cell_type": "markdown",
   "id": "7fb9cbaf",
   "metadata": {},
   "source": [
    "<div class=\"texto\">\n",
    "    <p>Si un cuerpo es más denso que el líquido, este se apoya sobre el fondo pudiéndose considerar dos casos:</p>\n",
    "</div>"
   ]
  },
  {
   "cell_type": "markdown",
   "id": "7cc0ae23",
   "metadata": {},
   "source": [
    "<div class=\"split\">\n",
    "    <div class=\"izq\"><img src=\"../MEDIA/7.7.png\">\n",
    "    </div>\n",
    "    <div class=\"derecha\">\n",
    "        <div class=\"texto\">\n",
    "            <ol>\n",
    "                <li> El cuerpo se apoya directamente sobre el fondo en toda la extensión sin que exista liquido intermedio. No es aplicable en este caso el Principio de Arquímedes por no estar el sólido totalmente sumergido. La fuerza que actúa sobre el sólido es la misma que actúa sobre la superficie de apoyo, es decir, el peso del cuerpo y el de la columna de agua que actúa sobre él.</li>\n",
    "                <li> El cuerpo se apoya sobre el fondo por varios puntos, sin extensión geométrica quedando interpuesta entre ambos una lámina liquida. Entonces sí es aplicable el Principio de Arquímedes, existiendo el empuje $\\gamma \\cdot \\forall$, siendo $\\forall$ el volumen del sólido $(F_{_{s.p.}})$.</li>\n",
    "            </ol>\n",
    "        </div>\n",
    "    </div>      \n",
    "</div>   \n"
   ]
  },
  {
   "cell_type": "markdown",
   "id": "ad981ff0",
   "metadata": {},
   "source": [
    "<div class=\"texto\">\n",
    "<p>En el caso de las presas también hay que tener en cuenta el efecto de la supresión en la base de la presa, debido al agua que filtra en la base.</p>\n",
    "</div>"
   ]
  },
  {
   "cell_type": "markdown",
   "id": "d68b3b84",
   "metadata": {},
   "source": [
    "\n",
    "\n",
    "\n",
    "<div class=\"texto\">\n",
    "<p>En las estructuras que van enterradas sobre subsuelos permeables (tuberías, depósitos) también se da el fenómeno de la supresión.</p>\n",
    "</div>\n"
   ]
  },
  {
   "cell_type": "markdown",
   "id": "686b1d6f",
   "metadata": {},
   "source": [
    "<div><img src=\"../../MEDIA/hr_2.png\"style=\"float:left;width:87%\"></div>"
   ]
  }
 ],
 "metadata": {
  "finalized": {
   "timestamp": 1625734356550,
   "trusted": true
  },
  "kernelspec": {
   "display_name": "Python 3",
   "language": "python",
   "name": "python3"
  },
  "language_info": {
   "codemirror_mode": {
    "name": "ipython",
    "version": 3
   },
   "file_extension": ".py",
   "mimetype": "text/x-python",
   "name": "python",
   "nbconvert_exporter": "python",
   "pygments_lexer": "ipython3",
   "version": "3.8.8"
  }
 },
 "nbformat": 4,
 "nbformat_minor": 5
}
